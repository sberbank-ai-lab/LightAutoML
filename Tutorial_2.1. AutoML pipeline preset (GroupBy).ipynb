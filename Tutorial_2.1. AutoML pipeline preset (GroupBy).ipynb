{
 "cells": [
  {
   "cell_type": "markdown",
   "metadata": {},
   "source": [
    "## Verification of new GroupBy transformer\n",
    "* based on \"Tutorial_2. AutoML pipeline preset\"\n",
    "* added \"Step 3.0 Modify classes for GroupBy\" \n",
    "* changed \"Step 3.1. Create AutoML from preset\" to use pipeline with GroupBy transformer"
   ]
  },
  {
   "cell_type": "markdown",
   "metadata": {},
   "source": [
    "### before\n",
    "* TIMEOUT = 1200\n",
    "    * [2021-08-29 09:58:14,770] (INFO): OOF score: 0.75402721996973\n",
    "    * [2021-08-29 09:58:14,773] (INFO): TEST score: 0.7332982336956523\n",
    "* TIMEOUT = 180\n",
    "    * [2021-08-29 10:13:22,973] (INFO): OOF score: 0.7529039502908255\n",
    "    * [2021-08-29 10:13:22,975] (INFO): TEST score: 0.7309205163043477\n",
    "    \n",
    "### after\n",
    "* TIMEOUT = 1200\n",
    "    * [2021-08-30 11:03:54,557] (INFO): OOF score: 0.7539002980432976\n",
    "    * [2021-08-30 11:03:54,558] (INFO): TEST score: 0.7339538043478261\n",
    "* TIMEOUT = 180\n",
    "    * [2021-08-30 10:29:37,991] (INFO): OOF score: 0.7528966156066348\n",
    "    * [2021-08-30 10:29:37,993] (INFO): TEST score: 0.7309918478260871\n",
    "\n",
    "### configuration - default:\n",
    "* 5 categorial\n",
    "* 5 numeric"
   ]
  },
  {
   "cell_type": "markdown",
   "metadata": {},
   "source": [
    "# Step 0.0. Install LightAutoML"
   ]
  },
  {
   "cell_type": "markdown",
   "metadata": {},
   "source": [
    "Uncomment if doesn't clone repository by git. (ex.: colab, kaggle version)"
   ]
  },
  {
   "cell_type": "code",
   "execution_count": 33,
   "metadata": {},
   "outputs": [],
   "source": [
    "#! pip install -U lightautoml"
   ]
  },
  {
   "cell_type": "markdown",
   "metadata": {},
   "source": [
    "# Step 0.1. Import necessary libraries "
   ]
  },
  {
   "cell_type": "code",
   "execution_count": 34,
   "metadata": {},
   "outputs": [],
   "source": [
    "# Standard python libraries\n",
    "import logging\n",
    "import os\n",
    "import time\n",
    "import requests\n",
    "logging.basicConfig(format='[%(asctime)s] (%(levelname)s): %(message)s', level=logging.INFO)\n",
    "\n",
    "# Installed libraries\n",
    "import numpy as np\n",
    "import pandas as pd\n",
    "from sklearn.metrics import roc_auc_score\n",
    "from sklearn.model_selection import train_test_split\n",
    "import torch\n",
    "\n",
    "# Imports from our package\n",
    "from lightautoml.automl.presets.tabular_presets import TabularAutoML, TabularUtilizedAutoML\n",
    "from lightautoml.dataset.roles import DatetimeRole\n",
    "from lightautoml.tasks import Task"
   ]
  },
  {
   "cell_type": "markdown",
   "metadata": {},
   "source": [
    "# Step 0.2. Parameters "
   ]
  },
  {
   "cell_type": "code",
   "execution_count": 35,
   "metadata": {},
   "outputs": [],
   "source": [
    "N_THREADS = 8 # threads cnt for lgbm and linear models\n",
    "N_FOLDS = 5 # folds cnt for AutoML\n",
    "RANDOM_STATE = 42 # fixed random state for various reasons\n",
    "TEST_SIZE = 0.2 # Test size for metric check\n",
    "TIMEOUT = 180 # Time in seconds for automl run\n",
    "TARGET_NAME = 'TARGET' # Target column name"
   ]
  },
  {
   "cell_type": "markdown",
   "metadata": {},
   "source": [
    "# Step 0.3. Fix torch number of threads and numpy seed "
   ]
  },
  {
   "cell_type": "code",
   "execution_count": 36,
   "metadata": {},
   "outputs": [],
   "source": [
    "np.random.seed(RANDOM_STATE)\n",
    "torch.set_num_threads(N_THREADS)"
   ]
  },
  {
   "cell_type": "markdown",
   "metadata": {},
   "source": [
    "# Step 0.4. Example data load "
   ]
  },
  {
   "cell_type": "markdown",
   "metadata": {},
   "source": [
    "Load a dataset from the repository if doesn't clone repository by git."
   ]
  },
  {
   "cell_type": "code",
   "execution_count": 37,
   "metadata": {},
   "outputs": [],
   "source": [
    "DATASET_DIR = './example_data/test_data_files'\n",
    "DATASET_NAME = 'sampled_app_train.csv'\n",
    "DATASET_FULLNAME = os.path.join(DATASET_DIR, DATASET_NAME)\n",
    "DATASET_URL = 'https://raw.githubusercontent.com/sberbank-ai-lab/LightAutoML/master/example_data/test_data_files/sampled_app_train.csv'"
   ]
  },
  {
   "cell_type": "code",
   "execution_count": 38,
   "metadata": {},
   "outputs": [
    {
     "name": "stdout",
     "output_type": "stream",
     "text": [
      "Wall time: 999 µs\n"
     ]
    }
   ],
   "source": [
    "%%time\n",
    "\n",
    "if not os.path.exists(DATASET_FULLNAME):\n",
    "    os.makedirs(DATASET_DIR, exist_ok=True)\n",
    "\n",
    "    dataset = requests.get(DATASET_URL).text\n",
    "    with open(DATASET_FULLNAME, 'w') as output:\n",
    "        output.write(dataset)"
   ]
  },
  {
   "cell_type": "code",
   "execution_count": 39,
   "metadata": {},
   "outputs": [
    {
     "name": "stdout",
     "output_type": "stream",
     "text": [
      "Wall time: 150 ms\n"
     ]
    },
    {
     "data": {
      "text/html": [
       "<div>\n",
       "<style scoped>\n",
       "    .dataframe tbody tr th:only-of-type {\n",
       "        vertical-align: middle;\n",
       "    }\n",
       "\n",
       "    .dataframe tbody tr th {\n",
       "        vertical-align: top;\n",
       "    }\n",
       "\n",
       "    .dataframe thead th {\n",
       "        text-align: right;\n",
       "    }\n",
       "</style>\n",
       "<table border=\"1\" class=\"dataframe\">\n",
       "  <thead>\n",
       "    <tr style=\"text-align: right;\">\n",
       "      <th></th>\n",
       "      <th>SK_ID_CURR</th>\n",
       "      <th>TARGET</th>\n",
       "      <th>NAME_CONTRACT_TYPE</th>\n",
       "      <th>CODE_GENDER</th>\n",
       "      <th>FLAG_OWN_CAR</th>\n",
       "      <th>FLAG_OWN_REALTY</th>\n",
       "      <th>CNT_CHILDREN</th>\n",
       "      <th>AMT_INCOME_TOTAL</th>\n",
       "      <th>AMT_CREDIT</th>\n",
       "      <th>AMT_ANNUITY</th>\n",
       "      <th>...</th>\n",
       "      <th>FLAG_DOCUMENT_18</th>\n",
       "      <th>FLAG_DOCUMENT_19</th>\n",
       "      <th>FLAG_DOCUMENT_20</th>\n",
       "      <th>FLAG_DOCUMENT_21</th>\n",
       "      <th>AMT_REQ_CREDIT_BUREAU_HOUR</th>\n",
       "      <th>AMT_REQ_CREDIT_BUREAU_DAY</th>\n",
       "      <th>AMT_REQ_CREDIT_BUREAU_WEEK</th>\n",
       "      <th>AMT_REQ_CREDIT_BUREAU_MON</th>\n",
       "      <th>AMT_REQ_CREDIT_BUREAU_QRT</th>\n",
       "      <th>AMT_REQ_CREDIT_BUREAU_YEAR</th>\n",
       "    </tr>\n",
       "  </thead>\n",
       "  <tbody>\n",
       "    <tr>\n",
       "      <th>0</th>\n",
       "      <td>313802</td>\n",
       "      <td>0</td>\n",
       "      <td>Cash loans</td>\n",
       "      <td>M</td>\n",
       "      <td>N</td>\n",
       "      <td>Y</td>\n",
       "      <td>0</td>\n",
       "      <td>270000.0</td>\n",
       "      <td>327024.0</td>\n",
       "      <td>15372.0</td>\n",
       "      <td>...</td>\n",
       "      <td>0</td>\n",
       "      <td>0</td>\n",
       "      <td>0</td>\n",
       "      <td>0</td>\n",
       "      <td>0.0</td>\n",
       "      <td>0.0</td>\n",
       "      <td>0.0</td>\n",
       "      <td>0.0</td>\n",
       "      <td>0.0</td>\n",
       "      <td>1.0</td>\n",
       "    </tr>\n",
       "    <tr>\n",
       "      <th>1</th>\n",
       "      <td>319656</td>\n",
       "      <td>0</td>\n",
       "      <td>Cash loans</td>\n",
       "      <td>F</td>\n",
       "      <td>N</td>\n",
       "      <td>N</td>\n",
       "      <td>0</td>\n",
       "      <td>108000.0</td>\n",
       "      <td>675000.0</td>\n",
       "      <td>19737.0</td>\n",
       "      <td>...</td>\n",
       "      <td>0</td>\n",
       "      <td>0</td>\n",
       "      <td>0</td>\n",
       "      <td>0</td>\n",
       "      <td>0.0</td>\n",
       "      <td>0.0</td>\n",
       "      <td>0.0</td>\n",
       "      <td>0.0</td>\n",
       "      <td>0.0</td>\n",
       "      <td>0.0</td>\n",
       "    </tr>\n",
       "    <tr>\n",
       "      <th>2</th>\n",
       "      <td>207678</td>\n",
       "      <td>0</td>\n",
       "      <td>Revolving loans</td>\n",
       "      <td>F</td>\n",
       "      <td>Y</td>\n",
       "      <td>Y</td>\n",
       "      <td>2</td>\n",
       "      <td>112500.0</td>\n",
       "      <td>270000.0</td>\n",
       "      <td>13500.0</td>\n",
       "      <td>...</td>\n",
       "      <td>0</td>\n",
       "      <td>0</td>\n",
       "      <td>0</td>\n",
       "      <td>0</td>\n",
       "      <td>0.0</td>\n",
       "      <td>0.0</td>\n",
       "      <td>0.0</td>\n",
       "      <td>0.0</td>\n",
       "      <td>0.0</td>\n",
       "      <td>1.0</td>\n",
       "    </tr>\n",
       "    <tr>\n",
       "      <th>3</th>\n",
       "      <td>381593</td>\n",
       "      <td>0</td>\n",
       "      <td>Cash loans</td>\n",
       "      <td>F</td>\n",
       "      <td>N</td>\n",
       "      <td>N</td>\n",
       "      <td>1</td>\n",
       "      <td>67500.0</td>\n",
       "      <td>142200.0</td>\n",
       "      <td>9630.0</td>\n",
       "      <td>...</td>\n",
       "      <td>0</td>\n",
       "      <td>0</td>\n",
       "      <td>0</td>\n",
       "      <td>0</td>\n",
       "      <td>0.0</td>\n",
       "      <td>0.0</td>\n",
       "      <td>0.0</td>\n",
       "      <td>0.0</td>\n",
       "      <td>0.0</td>\n",
       "      <td>4.0</td>\n",
       "    </tr>\n",
       "    <tr>\n",
       "      <th>4</th>\n",
       "      <td>258153</td>\n",
       "      <td>0</td>\n",
       "      <td>Cash loans</td>\n",
       "      <td>F</td>\n",
       "      <td>Y</td>\n",
       "      <td>Y</td>\n",
       "      <td>0</td>\n",
       "      <td>337500.0</td>\n",
       "      <td>1483231.5</td>\n",
       "      <td>46570.5</td>\n",
       "      <td>...</td>\n",
       "      <td>0</td>\n",
       "      <td>0</td>\n",
       "      <td>0</td>\n",
       "      <td>0</td>\n",
       "      <td>0.0</td>\n",
       "      <td>0.0</td>\n",
       "      <td>0.0</td>\n",
       "      <td>2.0</td>\n",
       "      <td>0.0</td>\n",
       "      <td>0.0</td>\n",
       "    </tr>\n",
       "  </tbody>\n",
       "</table>\n",
       "<p>5 rows × 122 columns</p>\n",
       "</div>"
      ],
      "text/plain": [
       "   SK_ID_CURR  TARGET NAME_CONTRACT_TYPE CODE_GENDER FLAG_OWN_CAR  \\\n",
       "0      313802       0         Cash loans           M            N   \n",
       "1      319656       0         Cash loans           F            N   \n",
       "2      207678       0    Revolving loans           F            Y   \n",
       "3      381593       0         Cash loans           F            N   \n",
       "4      258153       0         Cash loans           F            Y   \n",
       "\n",
       "  FLAG_OWN_REALTY  CNT_CHILDREN  AMT_INCOME_TOTAL  AMT_CREDIT  AMT_ANNUITY  \\\n",
       "0               Y             0          270000.0    327024.0      15372.0   \n",
       "1               N             0          108000.0    675000.0      19737.0   \n",
       "2               Y             2          112500.0    270000.0      13500.0   \n",
       "3               N             1           67500.0    142200.0       9630.0   \n",
       "4               Y             0          337500.0   1483231.5      46570.5   \n",
       "\n",
       "   ...  FLAG_DOCUMENT_18 FLAG_DOCUMENT_19 FLAG_DOCUMENT_20 FLAG_DOCUMENT_21  \\\n",
       "0  ...                 0                0                0                0   \n",
       "1  ...                 0                0                0                0   \n",
       "2  ...                 0                0                0                0   \n",
       "3  ...                 0                0                0                0   \n",
       "4  ...                 0                0                0                0   \n",
       "\n",
       "  AMT_REQ_CREDIT_BUREAU_HOUR AMT_REQ_CREDIT_BUREAU_DAY  \\\n",
       "0                        0.0                       0.0   \n",
       "1                        0.0                       0.0   \n",
       "2                        0.0                       0.0   \n",
       "3                        0.0                       0.0   \n",
       "4                        0.0                       0.0   \n",
       "\n",
       "   AMT_REQ_CREDIT_BUREAU_WEEK  AMT_REQ_CREDIT_BUREAU_MON  \\\n",
       "0                         0.0                        0.0   \n",
       "1                         0.0                        0.0   \n",
       "2                         0.0                        0.0   \n",
       "3                         0.0                        0.0   \n",
       "4                         0.0                        2.0   \n",
       "\n",
       "   AMT_REQ_CREDIT_BUREAU_QRT  AMT_REQ_CREDIT_BUREAU_YEAR  \n",
       "0                        0.0                         1.0  \n",
       "1                        0.0                         0.0  \n",
       "2                        0.0                         1.0  \n",
       "3                        0.0                         4.0  \n",
       "4                        0.0                         0.0  \n",
       "\n",
       "[5 rows x 122 columns]"
      ]
     },
     "execution_count": 39,
     "metadata": {},
     "output_type": "execute_result"
    }
   ],
   "source": [
    "%%time\n",
    "\n",
    "data = pd.read_csv(DATASET_FULLNAME)\n",
    "data.head()"
   ]
  },
  {
   "cell_type": "markdown",
   "metadata": {},
   "source": [
    "# Step 0.5. (Optional) Some user feature preparation "
   ]
  },
  {
   "cell_type": "markdown",
   "metadata": {},
   "source": [
    "Cell below shows some user feature preparations to create task more difficult (this block can be omitted if you don't want to change the initial data):"
   ]
  },
  {
   "cell_type": "code",
   "execution_count": 40,
   "metadata": {},
   "outputs": [
    {
     "name": "stdout",
     "output_type": "stream",
     "text": [
      "Wall time: 170 ms\n"
     ]
    }
   ],
   "source": [
    "%%time\n",
    "\n",
    "data['BIRTH_DATE'] = (np.datetime64('2018-01-01') + data['DAYS_BIRTH'].astype(np.dtype('timedelta64[D]'))).astype(str)\n",
    "data['EMP_DATE'] = (np.datetime64('2018-01-01') + np.clip(data['DAYS_EMPLOYED'], None, 0).astype(np.dtype('timedelta64[D]'))\n",
    "                    ).astype(str)\n",
    "\n",
    "data['constant'] = 1\n",
    "data['allnan'] = np.nan\n",
    "\n",
    "data['report_dt'] = np.datetime64('2018-01-01')\n",
    "\n",
    "data.drop(['DAYS_BIRTH', 'DAYS_EMPLOYED'], axis=1, inplace=True)"
   ]
  },
  {
   "cell_type": "markdown",
   "metadata": {},
   "source": [
    "# Step 0.6. (Optional) Data splitting for train-test "
   ]
  },
  {
   "cell_type": "markdown",
   "metadata": {},
   "source": [
    "Block below can be omitted if you are going to train model only or you have specific train and test files:"
   ]
  },
  {
   "cell_type": "code",
   "execution_count": 41,
   "metadata": {},
   "outputs": [
    {
     "name": "stderr",
     "output_type": "stream",
     "text": [
      "[2021-08-30 11:13:12,512] (INFO): Data splitted. Parts sizes: train_data = (8000, 125), test_data = (2000, 125)\n"
     ]
    },
    {
     "name": "stdout",
     "output_type": "stream",
     "text": [
      "Wall time: 21 ms\n"
     ]
    }
   ],
   "source": [
    "%%time\n",
    "\n",
    "train_data, test_data = train_test_split(data, \n",
    "                                         test_size=TEST_SIZE, \n",
    "                                         stratify=data[TARGET_NAME], \n",
    "                                         random_state=RANDOM_STATE)\n",
    "logging.info('Data splitted. Parts sizes: train_data = {}, test_data = {}'\n",
    "              .format(train_data.shape, test_data.shape))"
   ]
  },
  {
   "cell_type": "code",
   "execution_count": 42,
   "metadata": {},
   "outputs": [
    {
     "data": {
      "text/html": [
       "<div>\n",
       "<style scoped>\n",
       "    .dataframe tbody tr th:only-of-type {\n",
       "        vertical-align: middle;\n",
       "    }\n",
       "\n",
       "    .dataframe tbody tr th {\n",
       "        vertical-align: top;\n",
       "    }\n",
       "\n",
       "    .dataframe thead th {\n",
       "        text-align: right;\n",
       "    }\n",
       "</style>\n",
       "<table border=\"1\" class=\"dataframe\">\n",
       "  <thead>\n",
       "    <tr style=\"text-align: right;\">\n",
       "      <th></th>\n",
       "      <th>SK_ID_CURR</th>\n",
       "      <th>TARGET</th>\n",
       "      <th>NAME_CONTRACT_TYPE</th>\n",
       "      <th>CODE_GENDER</th>\n",
       "      <th>FLAG_OWN_CAR</th>\n",
       "      <th>FLAG_OWN_REALTY</th>\n",
       "      <th>CNT_CHILDREN</th>\n",
       "      <th>AMT_INCOME_TOTAL</th>\n",
       "      <th>AMT_CREDIT</th>\n",
       "      <th>AMT_ANNUITY</th>\n",
       "      <th>...</th>\n",
       "      <th>AMT_REQ_CREDIT_BUREAU_DAY</th>\n",
       "      <th>AMT_REQ_CREDIT_BUREAU_WEEK</th>\n",
       "      <th>AMT_REQ_CREDIT_BUREAU_MON</th>\n",
       "      <th>AMT_REQ_CREDIT_BUREAU_QRT</th>\n",
       "      <th>AMT_REQ_CREDIT_BUREAU_YEAR</th>\n",
       "      <th>BIRTH_DATE</th>\n",
       "      <th>EMP_DATE</th>\n",
       "      <th>constant</th>\n",
       "      <th>allnan</th>\n",
       "      <th>report_dt</th>\n",
       "    </tr>\n",
       "  </thead>\n",
       "  <tbody>\n",
       "    <tr>\n",
       "      <th>6444</th>\n",
       "      <td>112261</td>\n",
       "      <td>0</td>\n",
       "      <td>Cash loans</td>\n",
       "      <td>F</td>\n",
       "      <td>N</td>\n",
       "      <td>N</td>\n",
       "      <td>1</td>\n",
       "      <td>90000.0</td>\n",
       "      <td>640080.0</td>\n",
       "      <td>31261.5</td>\n",
       "      <td>...</td>\n",
       "      <td>0.0</td>\n",
       "      <td>0.0</td>\n",
       "      <td>0.0</td>\n",
       "      <td>1.0</td>\n",
       "      <td>0.0</td>\n",
       "      <td>1985-06-28</td>\n",
       "      <td>2012-06-21</td>\n",
       "      <td>1</td>\n",
       "      <td>NaN</td>\n",
       "      <td>2018-01-01</td>\n",
       "    </tr>\n",
       "    <tr>\n",
       "      <th>3586</th>\n",
       "      <td>115058</td>\n",
       "      <td>0</td>\n",
       "      <td>Cash loans</td>\n",
       "      <td>F</td>\n",
       "      <td>N</td>\n",
       "      <td>Y</td>\n",
       "      <td>0</td>\n",
       "      <td>180000.0</td>\n",
       "      <td>239850.0</td>\n",
       "      <td>23850.0</td>\n",
       "      <td>...</td>\n",
       "      <td>0.0</td>\n",
       "      <td>0.0</td>\n",
       "      <td>0.0</td>\n",
       "      <td>0.0</td>\n",
       "      <td>3.0</td>\n",
       "      <td>1953-12-27</td>\n",
       "      <td>2018-01-01</td>\n",
       "      <td>1</td>\n",
       "      <td>NaN</td>\n",
       "      <td>2018-01-01</td>\n",
       "    </tr>\n",
       "    <tr>\n",
       "      <th>9349</th>\n",
       "      <td>326623</td>\n",
       "      <td>0</td>\n",
       "      <td>Cash loans</td>\n",
       "      <td>F</td>\n",
       "      <td>N</td>\n",
       "      <td>Y</td>\n",
       "      <td>0</td>\n",
       "      <td>112500.0</td>\n",
       "      <td>337500.0</td>\n",
       "      <td>31086.0</td>\n",
       "      <td>...</td>\n",
       "      <td>0.0</td>\n",
       "      <td>0.0</td>\n",
       "      <td>0.0</td>\n",
       "      <td>0.0</td>\n",
       "      <td>2.0</td>\n",
       "      <td>1975-06-21</td>\n",
       "      <td>2016-06-17</td>\n",
       "      <td>1</td>\n",
       "      <td>NaN</td>\n",
       "      <td>2018-01-01</td>\n",
       "    </tr>\n",
       "    <tr>\n",
       "      <th>7734</th>\n",
       "      <td>191976</td>\n",
       "      <td>0</td>\n",
       "      <td>Cash loans</td>\n",
       "      <td>M</td>\n",
       "      <td>Y</td>\n",
       "      <td>Y</td>\n",
       "      <td>1</td>\n",
       "      <td>67500.0</td>\n",
       "      <td>135000.0</td>\n",
       "      <td>9018.0</td>\n",
       "      <td>...</td>\n",
       "      <td>NaN</td>\n",
       "      <td>NaN</td>\n",
       "      <td>NaN</td>\n",
       "      <td>NaN</td>\n",
       "      <td>NaN</td>\n",
       "      <td>1988-04-27</td>\n",
       "      <td>2009-06-05</td>\n",
       "      <td>1</td>\n",
       "      <td>NaN</td>\n",
       "      <td>2018-01-01</td>\n",
       "    </tr>\n",
       "    <tr>\n",
       "      <th>2174</th>\n",
       "      <td>281519</td>\n",
       "      <td>0</td>\n",
       "      <td>Revolving loans</td>\n",
       "      <td>F</td>\n",
       "      <td>N</td>\n",
       "      <td>Y</td>\n",
       "      <td>0</td>\n",
       "      <td>67500.0</td>\n",
       "      <td>202500.0</td>\n",
       "      <td>10125.0</td>\n",
       "      <td>...</td>\n",
       "      <td>0.0</td>\n",
       "      <td>0.0</td>\n",
       "      <td>0.0</td>\n",
       "      <td>0.0</td>\n",
       "      <td>2.0</td>\n",
       "      <td>1975-06-13</td>\n",
       "      <td>1997-01-22</td>\n",
       "      <td>1</td>\n",
       "      <td>NaN</td>\n",
       "      <td>2018-01-01</td>\n",
       "    </tr>\n",
       "  </tbody>\n",
       "</table>\n",
       "<p>5 rows × 125 columns</p>\n",
       "</div>"
      ],
      "text/plain": [
       "      SK_ID_CURR  TARGET NAME_CONTRACT_TYPE CODE_GENDER FLAG_OWN_CAR  \\\n",
       "6444      112261       0         Cash loans           F            N   \n",
       "3586      115058       0         Cash loans           F            N   \n",
       "9349      326623       0         Cash loans           F            N   \n",
       "7734      191976       0         Cash loans           M            Y   \n",
       "2174      281519       0    Revolving loans           F            N   \n",
       "\n",
       "     FLAG_OWN_REALTY  CNT_CHILDREN  AMT_INCOME_TOTAL  AMT_CREDIT  AMT_ANNUITY  \\\n",
       "6444               N             1           90000.0    640080.0      31261.5   \n",
       "3586               Y             0          180000.0    239850.0      23850.0   \n",
       "9349               Y             0          112500.0    337500.0      31086.0   \n",
       "7734               Y             1           67500.0    135000.0       9018.0   \n",
       "2174               Y             0           67500.0    202500.0      10125.0   \n",
       "\n",
       "      ...  AMT_REQ_CREDIT_BUREAU_DAY AMT_REQ_CREDIT_BUREAU_WEEK  \\\n",
       "6444  ...                        0.0                        0.0   \n",
       "3586  ...                        0.0                        0.0   \n",
       "9349  ...                        0.0                        0.0   \n",
       "7734  ...                        NaN                        NaN   \n",
       "2174  ...                        0.0                        0.0   \n",
       "\n",
       "     AMT_REQ_CREDIT_BUREAU_MON AMT_REQ_CREDIT_BUREAU_QRT  \\\n",
       "6444                       0.0                       1.0   \n",
       "3586                       0.0                       0.0   \n",
       "9349                       0.0                       0.0   \n",
       "7734                       NaN                       NaN   \n",
       "2174                       0.0                       0.0   \n",
       "\n",
       "     AMT_REQ_CREDIT_BUREAU_YEAR  BIRTH_DATE    EMP_DATE  constant  allnan  \\\n",
       "6444                        0.0  1985-06-28  2012-06-21         1     NaN   \n",
       "3586                        3.0  1953-12-27  2018-01-01         1     NaN   \n",
       "9349                        2.0  1975-06-21  2016-06-17         1     NaN   \n",
       "7734                        NaN  1988-04-27  2009-06-05         1     NaN   \n",
       "2174                        2.0  1975-06-13  1997-01-22         1     NaN   \n",
       "\n",
       "      report_dt  \n",
       "6444 2018-01-01  \n",
       "3586 2018-01-01  \n",
       "9349 2018-01-01  \n",
       "7734 2018-01-01  \n",
       "2174 2018-01-01  \n",
       "\n",
       "[5 rows x 125 columns]"
      ]
     },
     "execution_count": 42,
     "metadata": {},
     "output_type": "execute_result"
    }
   ],
   "source": [
    "train_data.head()"
   ]
  },
  {
   "cell_type": "markdown",
   "metadata": {},
   "source": [
    "# ========= AutoML preset usage =========\n",
    "\n",
    "\n",
    "## Step 1. Create Task"
   ]
  },
  {
   "cell_type": "code",
   "execution_count": 43,
   "metadata": {},
   "outputs": [
    {
     "name": "stdout",
     "output_type": "stream",
     "text": [
      "Wall time: 6 ms\n"
     ]
    }
   ],
   "source": [
    "%%time\n",
    "\n",
    "task = Task('binary', )"
   ]
  },
  {
   "cell_type": "markdown",
   "metadata": {},
   "source": [
    "## Step 2. Setup columns roles"
   ]
  },
  {
   "cell_type": "markdown",
   "metadata": {},
   "source": [
    "Roles setup here set target column and base date, which is used to calculate date differences:"
   ]
  },
  {
   "cell_type": "code",
   "execution_count": 44,
   "metadata": {},
   "outputs": [
    {
     "name": "stdout",
     "output_type": "stream",
     "text": [
      "Wall time: 0 ns\n"
     ]
    }
   ],
   "source": [
    "%%time\n",
    "\n",
    "roles = {'target': TARGET_NAME,\n",
    "         DatetimeRole(base_date=True, seasonality=(), base_feats=False): 'report_dt',\n",
    "         }"
   ]
  },
  {
   "cell_type": "markdown",
   "metadata": {},
   "source": [
    "## Step 3.0 Modify classes for GroupBy"
   ]
  },
  {
   "cell_type": "code",
   "execution_count": 45,
   "metadata": {
    "tags": []
   },
   "outputs": [],
   "source": [
    "# helper classes with group_by features\n",
    "\n",
    "from typing import Optional, Sequence\n",
    "from lightautoml.automl.presets.base import AutoMLPreset\n",
    "from lightautoml.ml_algo.linear_sklearn import LinearLBFGS\n",
    "from lightautoml.pipelines.features.linear_pipeline import LinearFeatures\n",
    "from lightautoml.pipelines.ml.nested_ml_pipe import NestedTabularMLPipeline\n",
    "from lightautoml.pipelines.features.lgb_pipeline import LGBAdvancedPipeline\n",
    "from lightautoml.ml_algo.boost_lgbm import BoostLGBM\n",
    "from lightautoml.ml_algo.boost_cb import BoostCB\n",
    "from lightautoml.ml_algo.tuning.optuna import OptunaTuner\n",
    "from lightautoml.pipelines.features.base import FeaturesPipeline, TabularDataFeatures\n",
    "from lightautoml.pipelines.features.linear_pipeline import NumpyOrPandas\n",
    "from lightautoml.transformers.base import LAMLTransformer\n",
    "from lightautoml.pipelines.selection.base import SelectionPipeline\n",
    "from lightautoml.transformers.base import UnionTransformer\n",
    "\n",
    "class LinearFeaturesWithGroupBy(LinearFeatures, FeaturesPipeline, TabularDataFeatures):\n",
    "    def create_pipeline(self, train: NumpyOrPandas) -> LAMLTransformer:\n",
    "        original = super().create_pipeline(train)\n",
    "        group_by =  self.get_group_by(train)\n",
    "        return UnionTransformer([original, group_by, ])\n",
    "\n",
    "class LGBAdvancedPipelineWithGroupBy(LGBAdvancedPipeline, FeaturesPipeline, TabularDataFeatures):\n",
    "    def create_pipeline(self, train: NumpyOrPandas) -> LAMLTransformer:\n",
    "        original = super().create_pipeline(train)\n",
    "        group_by =  self.get_group_by(train)\n",
    "        return UnionTransformer([original, group_by])\n",
    "\n",
    "class TabularAutoMLWithGroupBy(TabularAutoML, AutoMLPreset):\n",
    "    def get_linear(self, n_level: int = 1, pre_selector: Optional[SelectionPipeline] = None) -> NestedTabularMLPipeline:\n",
    "\n",
    "        # linear model with l2\n",
    "        time_score = self.get_time_score(n_level, 'linear_l2')\n",
    "        linear_l2_timer = self.timer.get_task_timer('reg_l2', time_score)\n",
    "        linear_l2_model = LinearLBFGS(timer=linear_l2_timer, **self.linear_l2_params)\n",
    "\n",
    "        # linear_l2_feats = LinearFeatures(output_categories=True, **self.linear_pipeline_params)\n",
    "        linear_l2_feats = LinearFeaturesWithGroupBy(output_categories=True, **self.linear_pipeline_params)\n",
    "\n",
    "        linear_l2_pipe = NestedTabularMLPipeline([linear_l2_model], force_calc=True, pre_selection=pre_selector,\n",
    "                                                 features_pipeline=linear_l2_feats, **self.nested_cv_params)\n",
    "        return linear_l2_pipe\n",
    "\n",
    "    def get_gbms(self, keys: Sequence[str], n_level: int = 1, pre_selector: Optional[SelectionPipeline] = None,\n",
    "                 ):\n",
    "\n",
    "        # gbm_feats = LGBAdvancedPipeline(**self.gbm_pipeline_params)\n",
    "        gbm_feats = LGBAdvancedPipelineWithGroupBy(**self.gbm_pipeline_params)\n",
    "\n",
    "        ml_algos = []\n",
    "        force_calc = []\n",
    "        for key, force in zip(keys, [True, False, False, False]):\n",
    "            tuned = '_tuned' in key\n",
    "            algo_key = key.split('_')[0]\n",
    "            time_score = self.get_time_score(n_level, key)\n",
    "            gbm_timer = self.timer.get_task_timer(algo_key, time_score)\n",
    "            if algo_key == 'lgb':\n",
    "                gbm_model = BoostLGBM(timer=gbm_timer, **self.lgb_params)\n",
    "            elif algo_key == 'cb':\n",
    "                gbm_model = BoostCB(timer=gbm_timer, **self.cb_params)\n",
    "            else:\n",
    "                raise ValueError('Wrong algo key')\n",
    "\n",
    "            if tuned:\n",
    "                gbm_tuner = OptunaTuner(n_trials=self.tuning_params['max_tuning_iter'],\n",
    "                                        timeout=self.tuning_params['max_tuning_time'],\n",
    "                                        fit_on_holdout=self.tuning_params['fit_on_holdout'])\n",
    "                gbm_model = (gbm_model, gbm_tuner)\n",
    "            ml_algos.append(gbm_model)\n",
    "            force_calc.append(force)\n",
    "\n",
    "        gbm_pipe = NestedTabularMLPipeline(ml_algos, force_calc, pre_selection=pre_selector,\n",
    "                                           features_pipeline=gbm_feats, **self.nested_cv_params)\n",
    "\n",
    "        return gbm_pipe\n"
   ]
  },
  {
   "cell_type": "markdown",
   "metadata": {},
   "source": [
    "## Step 3.1. Create AutoML from preset"
   ]
  },
  {
   "cell_type": "markdown",
   "metadata": {},
   "source": [
    "To create AutoML model here we use `TabularAutoML` preset, which looks like:\n",
    "\n",
    "![TabularAutoML preset pipeline](imgs/tutorial_blackbox_pipeline.png)\n",
    "\n",
    "All params we set above can be send inside preset to change its configuration:"
   ]
  },
  {
   "cell_type": "code",
   "execution_count": 46,
   "metadata": {
    "scrolled": true
   },
   "outputs": [
    {
     "name": "stdout",
     "output_type": "stream",
     "text": [
      "Start automl preset with listed constraints:\n",
      "- time: 180 seconds\n",
      "- cpus: 8 cores\n",
      "- memory: 16 gb\n",
      "\n",
      "Train data shape: (8000, 125)\n",
      "Feats was rejected during automatic roles guess: []\n",
      "\n",
      "\n",
      "Layer 1 ...\n",
      "Train process start. Time left 146.89319014549255 secs\n",
      "GroupByPipeline.create_pipeline.cat_feats_to_select:['CODE_GENDER', 'FLAG_OWN_CAR', 'FLAG_OWN_REALTY', 'NAME_CONTRACT_TYPE', 'EMERGENCYSTATE_MODE']\n",
      "GroupByPipeline.create_pipeline.num_feats_to_select:['SK_ID_CURR', 'EXT_SOURCE_2', 'DAYS_REGISTRATION', 'DAYS_ID_PUBLISH', 'EXT_SOURCE_1']\n",
      "GroupByTransformer.__fit.begin\n",
      "GroupByTransformer.__fit.type(dataset.data.to_numpy())=<class 'numpy.ndarray'>\n",
      "GroupByTransformer.__fit.cat_cols=['fillnamed__le__CODE_GENDER', 'fillnamed__le__EMERGENCYSTATE_MODE', 'fillnamed__le__FLAG_OWN_CAR', 'fillnamed__le__FLAG_OWN_REALTY', 'fillnamed__le__NAME_CONTRACT_TYPE']\n",
      "GroupByTransformer.__fit.num_cols:['DAYS_ID_PUBLISH', 'DAYS_REGISTRATION', 'EXT_SOURCE_1', 'EXT_SOURCE_2', 'SK_ID_CURR']\n",
      "GroupByTransformer.__fit.end\n",
      "GroupByTransformer.transform.begin\n",
      "GroupByTransformer.transform.end\n",
      "Start fitting Lvl_0_Pipe_0_Mod_0_LinearL2 ...\n",
      "\n",
      "===== Start working with fold 0 for Lvl_0_Pipe_0_Mod_0_LinearL2 =====\n",
      "\n"
     ]
    },
    {
     "name": "stderr",
     "output_type": "stream",
     "text": [
      "Model Lvl_0_Pipe_0_Mod_0_LinearL2 failed during ml_algo.fit_predict call.\n",
      "\n",
      "all elements of input should be between 0 and 1\n"
     ]
    },
    {
     "ename": "AssertionError",
     "evalue": "Pipeline finished with 0 models for some reason.\nProbably one or more models failed",
     "output_type": "error",
     "traceback": [
      "\u001b[1;31m---------------------------------------------------------------------------\u001b[0m",
      "\u001b[1;31mAssertionError\u001b[0m                            Traceback (most recent call last)",
      "\u001b[1;32m<timed exec>\u001b[0m in \u001b[0;36m<module>\u001b[1;34m\u001b[0m\n",
      "\u001b[1;32mc:\\_Work\\_info\\обучение\\11_sberbank-ai-lab\\LightAutoML\\git_hub\\LightAutoML\\lightautoml\\automl\\presets\\tabular_presets.py\u001b[0m in \u001b[0;36mfit_predict\u001b[1;34m(self, train_data, roles, train_features, cv_iter, valid_data, valid_features)\u001b[0m\n\u001b[0;32m    411\u001b[0m             \u001b[0mdata\u001b[0m\u001b[1;33m,\u001b[0m \u001b[0m_\u001b[0m \u001b[1;33m=\u001b[0m \u001b[0mread_data\u001b[0m\u001b[1;33m(\u001b[0m\u001b[0mvalid_data\u001b[0m\u001b[1;33m,\u001b[0m \u001b[0mvalid_features\u001b[0m\u001b[1;33m,\u001b[0m \u001b[0mself\u001b[0m\u001b[1;33m.\u001b[0m\u001b[0mcpu_limit\u001b[0m\u001b[1;33m,\u001b[0m \u001b[0mself\u001b[0m\u001b[1;33m.\u001b[0m\u001b[0mread_csv_params\u001b[0m\u001b[1;33m)\u001b[0m\u001b[1;33m\u001b[0m\u001b[1;33m\u001b[0m\u001b[0m\n\u001b[0;32m    412\u001b[0m \u001b[1;33m\u001b[0m\u001b[0m\n\u001b[1;32m--> 413\u001b[1;33m         \u001b[0moof_pred\u001b[0m \u001b[1;33m=\u001b[0m \u001b[0msuper\u001b[0m\u001b[1;33m(\u001b[0m\u001b[1;33m)\u001b[0m\u001b[1;33m.\u001b[0m\u001b[0mfit_predict\u001b[0m\u001b[1;33m(\u001b[0m\u001b[0mtrain\u001b[0m\u001b[1;33m,\u001b[0m \u001b[0mroles\u001b[0m\u001b[1;33m=\u001b[0m\u001b[0mroles\u001b[0m\u001b[1;33m,\u001b[0m \u001b[0mcv_iter\u001b[0m\u001b[1;33m=\u001b[0m\u001b[0mcv_iter\u001b[0m\u001b[1;33m,\u001b[0m \u001b[0mvalid_data\u001b[0m\u001b[1;33m=\u001b[0m\u001b[0mvalid_data\u001b[0m\u001b[1;33m)\u001b[0m\u001b[1;33m\u001b[0m\u001b[1;33m\u001b[0m\u001b[0m\n\u001b[0m\u001b[0;32m    414\u001b[0m \u001b[1;33m\u001b[0m\u001b[0m\n\u001b[0;32m    415\u001b[0m         \u001b[1;32mreturn\u001b[0m \u001b[0mcast\u001b[0m\u001b[1;33m(\u001b[0m\u001b[0mNumpyDataset\u001b[0m\u001b[1;33m,\u001b[0m \u001b[0moof_pred\u001b[0m\u001b[1;33m)\u001b[0m\u001b[1;33m\u001b[0m\u001b[1;33m\u001b[0m\u001b[0m\n",
      "\u001b[1;32mc:\\_Work\\_info\\обучение\\11_sberbank-ai-lab\\LightAutoML\\git_hub\\LightAutoML\\lightautoml\\automl\\presets\\base.py\u001b[0m in \u001b[0;36mfit_predict\u001b[1;34m(self, train_data, roles, train_features, cv_iter, valid_data, valid_features)\u001b[0m\n\u001b[0;32m    171\u001b[0m         \u001b[0mlogger\u001b[0m\u001b[1;33m.\u001b[0m\u001b[0minfo\u001b[0m\u001b[1;33m(\u001b[0m\u001b[1;34m'- memory: {} gb\\n'\u001b[0m\u001b[1;33m.\u001b[0m\u001b[0mformat\u001b[0m\u001b[1;33m(\u001b[0m\u001b[0mself\u001b[0m\u001b[1;33m.\u001b[0m\u001b[0mmemory_limit\u001b[0m\u001b[1;33m)\u001b[0m\u001b[1;33m)\u001b[0m\u001b[1;33m\u001b[0m\u001b[1;33m\u001b[0m\u001b[0m\n\u001b[0;32m    172\u001b[0m         \u001b[0mself\u001b[0m\u001b[1;33m.\u001b[0m\u001b[0mtimer\u001b[0m\u001b[1;33m.\u001b[0m\u001b[0mstart\u001b[0m\u001b[1;33m(\u001b[0m\u001b[1;33m)\u001b[0m\u001b[1;33m\u001b[0m\u001b[1;33m\u001b[0m\u001b[0m\n\u001b[1;32m--> 173\u001b[1;33m         \u001b[0mresult\u001b[0m \u001b[1;33m=\u001b[0m \u001b[0msuper\u001b[0m\u001b[1;33m(\u001b[0m\u001b[1;33m)\u001b[0m\u001b[1;33m.\u001b[0m\u001b[0mfit_predict\u001b[0m\u001b[1;33m(\u001b[0m\u001b[0mtrain_data\u001b[0m\u001b[1;33m,\u001b[0m \u001b[0mroles\u001b[0m\u001b[1;33m,\u001b[0m \u001b[0mtrain_features\u001b[0m\u001b[1;33m,\u001b[0m \u001b[0mcv_iter\u001b[0m\u001b[1;33m,\u001b[0m \u001b[0mvalid_data\u001b[0m\u001b[1;33m,\u001b[0m \u001b[0mvalid_features\u001b[0m\u001b[1;33m)\u001b[0m\u001b[1;33m\u001b[0m\u001b[1;33m\u001b[0m\u001b[0m\n\u001b[0m\u001b[0;32m    174\u001b[0m         \u001b[0mlogger\u001b[0m\u001b[1;33m.\u001b[0m\u001b[0minfo\u001b[0m\u001b[1;33m(\u001b[0m\u001b[1;34m'\\nAutoml preset training completed in {:.2f} seconds.'\u001b[0m\u001b[1;33m.\u001b[0m\u001b[0mformat\u001b[0m\u001b[1;33m(\u001b[0m\u001b[0mself\u001b[0m\u001b[1;33m.\u001b[0m\u001b[0mtimer\u001b[0m\u001b[1;33m.\u001b[0m\u001b[0mtime_spent\u001b[0m\u001b[1;33m)\u001b[0m\u001b[1;33m)\u001b[0m\u001b[1;33m\u001b[0m\u001b[1;33m\u001b[0m\u001b[0m\n\u001b[0;32m    175\u001b[0m \u001b[1;33m\u001b[0m\u001b[0m\n",
      "\u001b[1;32mc:\\_Work\\_info\\обучение\\11_sberbank-ai-lab\\LightAutoML\\git_hub\\LightAutoML\\lightautoml\\automl\\base.py\u001b[0m in \u001b[0;36mfit_predict\u001b[1;34m(self, train_data, roles, train_features, cv_iter, valid_data, valid_features)\u001b[0m\n\u001b[0;32m    187\u001b[0m             \u001b[1;32mfor\u001b[0m \u001b[0mk\u001b[0m\u001b[1;33m,\u001b[0m \u001b[0mml_pipe\u001b[0m \u001b[1;32min\u001b[0m \u001b[0menumerate\u001b[0m\u001b[1;33m(\u001b[0m\u001b[0mlevel\u001b[0m\u001b[1;33m)\u001b[0m\u001b[1;33m:\u001b[0m\u001b[1;33m\u001b[0m\u001b[1;33m\u001b[0m\u001b[0m\n\u001b[0;32m    188\u001b[0m \u001b[1;33m\u001b[0m\u001b[0m\n\u001b[1;32m--> 189\u001b[1;33m                 \u001b[0mpipe_pred\u001b[0m \u001b[1;33m=\u001b[0m \u001b[0mml_pipe\u001b[0m\u001b[1;33m.\u001b[0m\u001b[0mfit_predict\u001b[0m\u001b[1;33m(\u001b[0m\u001b[0mtrain_valid\u001b[0m\u001b[1;33m)\u001b[0m\u001b[1;33m\u001b[0m\u001b[1;33m\u001b[0m\u001b[0m\n\u001b[0m\u001b[0;32m    190\u001b[0m                 \u001b[0mlevel_predictions\u001b[0m\u001b[1;33m.\u001b[0m\u001b[0mappend\u001b[0m\u001b[1;33m(\u001b[0m\u001b[0mpipe_pred\u001b[0m\u001b[1;33m)\u001b[0m\u001b[1;33m\u001b[0m\u001b[1;33m\u001b[0m\u001b[0m\n\u001b[0;32m    191\u001b[0m                 \u001b[0mpipes\u001b[0m\u001b[1;33m.\u001b[0m\u001b[0mappend\u001b[0m\u001b[1;33m(\u001b[0m\u001b[0mml_pipe\u001b[0m\u001b[1;33m)\u001b[0m\u001b[1;33m\u001b[0m\u001b[1;33m\u001b[0m\u001b[0m\n",
      "\u001b[1;32mc:\\_Work\\_info\\обучение\\11_sberbank-ai-lab\\LightAutoML\\git_hub\\LightAutoML\\lightautoml\\pipelines\\ml\\base.py\u001b[0m in \u001b[0;36mfit_predict\u001b[1;34m(self, train_valid)\u001b[0m\n\u001b[0;32m    127\u001b[0m                 \u001b[0mpredictions\u001b[0m\u001b[1;33m.\u001b[0m\u001b[0mappend\u001b[0m\u001b[1;33m(\u001b[0m\u001b[0mpreds\u001b[0m\u001b[1;33m)\u001b[0m\u001b[1;33m\u001b[0m\u001b[1;33m\u001b[0m\u001b[0m\n\u001b[0;32m    128\u001b[0m \u001b[1;33m\u001b[0m\u001b[0m\n\u001b[1;32m--> 129\u001b[1;33m         \u001b[1;32massert\u001b[0m \u001b[0mlen\u001b[0m\u001b[1;33m(\u001b[0m\u001b[0mpredictions\u001b[0m\u001b[1;33m)\u001b[0m \u001b[1;33m>\u001b[0m \u001b[1;36m0\u001b[0m\u001b[1;33m,\u001b[0m \u001b[1;34m'Pipeline finished with 0 models for some reason.\\nProbably one or more models failed'\u001b[0m\u001b[1;33m\u001b[0m\u001b[1;33m\u001b[0m\u001b[0m\n\u001b[0m\u001b[0;32m    130\u001b[0m \u001b[1;33m\u001b[0m\u001b[0m\n\u001b[0;32m    131\u001b[0m         \u001b[0mpredictions\u001b[0m \u001b[1;33m=\u001b[0m \u001b[0mconcatenate\u001b[0m\u001b[1;33m(\u001b[0m\u001b[0mpredictions\u001b[0m\u001b[1;33m)\u001b[0m\u001b[1;33m\u001b[0m\u001b[1;33m\u001b[0m\u001b[0m\n",
      "\u001b[1;31mAssertionError\u001b[0m: Pipeline finished with 0 models for some reason.\nProbably one or more models failed"
     ]
    }
   ],
   "source": [
    "%%time \n",
    "\n",
    "# automl = TabularAutoML(\n",
    "automl=TabularAutoMLWithGroupBy(\n",
    "                       task = task, \n",
    "                       timeout = TIMEOUT,\n",
    "                       cpu_limit = N_THREADS,\n",
    "                       reader_params = {'n_jobs': N_THREADS, 'cv': N_FOLDS, 'random_state': RANDOM_STATE},\n",
    "                      )\n",
    "oof_pred = automl.fit_predict(train_data, roles = roles)\n",
    "logging.info('oof_pred:\\n{}\\nShape = {}'.format(oof_pred, oof_pred.shape))"
   ]
  },
  {
   "cell_type": "code",
   "execution_count": 53,
   "metadata": {},
   "outputs": [
    {
     "name": "stdout",
     "output_type": "stream",
     "text": [
      "LightAutoML used 111 feats\n",
      "1/111 Calculated score for OBS_30_CNT_SOCIAL_CIRCLE: 0.0008891\n",
      "2/111 Calculated score for AMT_REQ_CREDIT_BUREAU_YEAR: 0.0046576\n",
      "3/111 Calculated score for DAYS_REGISTRATION: 0.0069397\n",
      "4/111 Calculated score for AMT_REQ_CREDIT_BUREAU_WEEK: 0.0000680\n",
      "5/111 Calculated score for ENTRANCES_MEDI: 0.0001227\n",
      "6/111 Calculated score for TOTALAREA_MODE: 0.0012031\n",
      "7/111 Calculated score for FLOORSMAX_MODE: 0.0000355\n",
      "8/111 Calculated score for YEARS_BUILD_MEDI: 0.0001928\n",
      "9/111 Calculated score for CNT_CHILDREN: 0.0002128\n",
      "10/111 Calculated score for LIVINGAREA_AVG: 0.0006642\n",
      "11/111 Calculated score for ELEVATORS_MODE: 0.0001586\n",
      "12/111 Calculated score for YEARS_BUILD_MODE: 0.0001458\n",
      "13/111 Calculated score for LANDAREA_MODE: 0.0006678\n",
      "14/111 Calculated score for FLAG_DOCUMENT_3: 0.0001805\n",
      "15/111 Calculated score for EXT_SOURCE_3: 0.0459978\n",
      "16/111 Calculated score for FLAG_CONT_MOBILE: -0.0000017\n",
      "17/111 Calculated score for LANDAREA_AVG: 0.0006899\n",
      "18/111 Calculated score for LIVE_REGION_NOT_WORK_REGION: 0.0000453\n",
      "19/111 Calculated score for AMT_REQ_CREDIT_BUREAU_MON: 0.0003419\n",
      "20/111 Calculated score for OCCUPATION_TYPE: 0.0031388\n",
      "21/111 Calculated score for NAME_CONTRACT_TYPE: 0.0001048\n",
      "22/111 Calculated score for LIVINGAREA_MODE: 0.0005993\n",
      "23/111 Calculated score for DEF_60_CNT_SOCIAL_CIRCLE: 0.0001858\n",
      "24/111 Calculated score for FLAG_OWN_REALTY: 0.0001605\n",
      "25/111 Calculated score for BASEMENTAREA_MEDI: 0.0004562\n",
      "26/111 Calculated score for YEARS_BEGINEXPLUATATION_AVG: 0.0005039\n",
      "27/111 Calculated score for FLAG_DOCUMENT_14: 0.0000089\n",
      "28/111 Calculated score for ENTRANCES_AVG: 0.0002660\n",
      "29/111 Calculated score for APARTMENTS_AVG: 0.0005443\n",
      "30/111 Calculated score for NAME_FAMILY_STATUS: 0.0019459\n",
      "31/111 Calculated score for REG_REGION_NOT_WORK_REGION: 0.0000710\n",
      "32/111 Calculated score for FLOORSMAX_AVG: 0.0005872\n",
      "33/111 Calculated score for CNT_FAM_MEMBERS: 0.0009135\n",
      "34/111 Calculated score for AMT_INCOME_TOTAL: 0.0039225\n",
      "35/111 Calculated score for AMT_CREDIT: 0.0045926\n",
      "36/111 Calculated score for FLAG_EMP_PHONE: -0.0000784\n",
      "37/111 Calculated score for WEEKDAY_APPR_PROCESS_START: 0.0017590\n",
      "38/111 Calculated score for FONDKAPREMONT_MODE: 0.0001293\n",
      "39/111 Calculated score for NAME_HOUSING_TYPE: 0.0002317\n",
      "40/111 Calculated score for REGION_RATING_CLIENT: -0.0000210\n",
      "41/111 Calculated score for SK_ID_CURR: 0.0056135\n",
      "42/111 Calculated score for ENTRANCES_MODE: 0.0001388\n",
      "43/111 Calculated score for FLAG_DOCUMENT_13: -0.0000193\n",
      "44/111 Calculated score for CODE_GENDER: 0.0012932\n",
      "45/111 Calculated score for LIVINGAPARTMENTS_AVG: 0.0002755\n",
      "46/111 Calculated score for COMMONAREA_MEDI: 0.0003669\n",
      "47/111 Calculated score for REGION_POPULATION_RELATIVE: 0.0096752\n",
      "48/111 Calculated score for LIVE_CITY_NOT_WORK_CITY: 0.0002277\n",
      "49/111 Calculated score for BASEMENTAREA_AVG: 0.0008406\n",
      "50/111 Calculated score for NONLIVINGAREA_MODE: 0.0003595\n",
      "51/111 Calculated score for BIRTH_DATE: 0.0244037\n",
      "52/111 Calculated score for EXT_SOURCE_1: 0.0117102\n",
      "53/111 Calculated score for LIVINGAPARTMENTS_MODE: 0.0001707\n",
      "54/111 Calculated score for FLAG_DOCUMENT_16: -0.0000134\n",
      "55/111 Calculated score for NONLIVINGAPARTMENTS_AVG: 0.0001675\n",
      "56/111 Calculated score for DAYS_ID_PUBLISH: 0.0059419\n",
      "57/111 Calculated score for AMT_ANNUITY: 0.0017352\n",
      "58/111 Calculated score for HOUSETYPE_MODE: -0.0000002\n",
      "59/111 Calculated score for LIVINGAPARTMENTS_MEDI: 0.0001176\n",
      "60/111 Calculated score for LIVINGAREA_MEDI: 0.0002923\n",
      "61/111 Calculated score for FLAG_DOCUMENT_8: 0.0000113\n",
      "62/111 Calculated score for AMT_REQ_CREDIT_BUREAU_HOUR: -0.0000306\n",
      "63/111 Calculated score for FLAG_PHONE: 0.0003185\n",
      "64/111 Calculated score for REG_CITY_NOT_LIVE_CITY: 0.0000279\n",
      "65/111 Calculated score for COMMONAREA_AVG: 0.0026056\n",
      "66/111 Calculated score for YEARS_BUILD_AVG: 0.0004022\n",
      "67/111 Calculated score for AMT_REQ_CREDIT_BUREAU_QRT: 0.0002864\n",
      "68/111 Calculated score for FLAG_EMAIL: 0.0001973\n",
      "69/111 Calculated score for OBS_60_CNT_SOCIAL_CIRCLE: 0.0008695\n",
      "70/111 Calculated score for ELEVATORS_MEDI: 0.0001339\n",
      "71/111 Calculated score for EMERGENCYSTATE_MODE: 0.0001488\n",
      "72/111 Calculated score for OWN_CAR_AGE: 0.0019723\n",
      "73/111 Calculated score for DAYS_LAST_PHONE_CHANGE: 0.0051271\n",
      "74/111 Calculated score for FLAG_DOCUMENT_5: -0.0000100\n",
      "75/111 Calculated score for FLOORSMIN_MEDI: 0.0000015\n",
      "76/111 Calculated score for YEARS_BEGINEXPLUATATION_MEDI: 0.0002974\n",
      "77/111 Calculated score for FLAG_DOCUMENT_9: -0.0000047\n",
      "78/111 Calculated score for REG_CITY_NOT_WORK_CITY: 0.0002285\n",
      "79/111 Calculated score for FLAG_DOCUMENT_18: 0.0000021\n",
      "80/111 Calculated score for ORGANIZATION_TYPE: 0.0108347\n",
      "81/111 Calculated score for report_dt: 0.0000000\n",
      "82/111 Calculated score for AMT_GOODS_PRICE: 0.0032919\n",
      "83/111 Calculated score for EXT_SOURCE_2: 0.0480675\n",
      "84/111 Calculated score for REGION_RATING_CLIENT_W_CITY: 0.0003363\n",
      "85/111 Calculated score for EMP_DATE: 0.0118356\n",
      "86/111 Calculated score for NONLIVINGAREA_AVG: 0.0002876\n",
      "87/111 Calculated score for REG_REGION_NOT_LIVE_REGION: 0.0000017\n",
      "88/111 Calculated score for FLAG_DOCUMENT_6: 0.0001135\n",
      "89/111 Calculated score for FLOORSMAX_MEDI: 0.0000676\n",
      "90/111 Calculated score for DEF_30_CNT_SOCIAL_CIRCLE: 0.0003689\n",
      "91/111 Calculated score for AMT_REQ_CREDIT_BUREAU_DAY: -0.0000079\n",
      "92/111 Calculated score for YEARS_BEGINEXPLUATATION_MODE: 0.0005083\n",
      "93/111 Calculated score for WALLSMATERIAL_MODE: 0.0001675\n",
      "94/111 Calculated score for BASEMENTAREA_MODE: 0.0004086\n",
      "95/111 Calculated score for COMMONAREA_MODE: 0.0004195\n",
      "96/111 Calculated score for NAME_INCOME_TYPE: 0.0010277\n",
      "97/111 Calculated score for FLAG_DOCUMENT_11: 0.0000151\n",
      "98/111 Calculated score for FLOORSMIN_AVG: 0.0001114\n",
      "99/111 Calculated score for APARTMENTS_MODE: 0.0005649\n",
      "100/111 Calculated score for LANDAREA_MEDI: 0.0005043\n",
      "101/111 Calculated score for FLAG_OWN_CAR: 0.0001320\n",
      "102/111 Calculated score for FLAG_WORK_PHONE: 0.0002192\n",
      "103/111 Calculated score for NAME_TYPE_SUITE: 0.0006988\n",
      "104/111 Calculated score for HOUR_APPR_PROCESS_START: 0.0015541\n",
      "105/111 Calculated score for ELEVATORS_AVG: 0.0001622\n",
      "106/111 Calculated score for APARTMENTS_MEDI: 0.0003244\n",
      "107/111 Calculated score for NONLIVINGAPARTMENTS_MEDI: 0.0000487\n",
      "108/111 Calculated score for FLOORSMIN_MODE: -0.0000049\n",
      "109/111 Calculated score for NAME_EDUCATION_TYPE: 0.0011555\n",
      "110/111 Calculated score for NONLIVINGAPARTMENTS_MODE: 0.0001571\n",
      "111/111 Calculated score for NONLIVINGAREA_MEDI: 0.0003185\n",
      "Wall time: 4min 59s\n"
     ]
    },
    {
     "data": {
      "image/png": "[encoded data removed]",
      "text/plain": [
       "<Figure size 1440x720 with 1 Axes>"
      ]
     },
     "metadata": {
      "needs_background": "light"
     },
     "output_type": "display_data"
    }
   ],
   "source": [
    "%%time\n",
    "\n",
    "# Fast feature importances calculation\n",
    "fast_fi = automl.get_feature_scores('fast')\n",
    "if fast_fi is None:\n",
    "    fast_fi = automl.get_feature_scores('accurate', train_data, silent=False)\n",
    "if fast_fi is not None:\n",
    "    fast_fi.set_index('Feature')['Importance'].plot.bar(figsize = (20, 10), grid = True)"
   ]
  },
  {
   "cell_type": "code",
   "execution_count": 54,
   "metadata": {},
   "outputs": [
    {
     "name": "stdout",
     "output_type": "stream",
     "text": [
      "LightAutoML used 111 feats\n",
      "1/111 Calculated score for OBS_30_CNT_SOCIAL_CIRCLE: -0.0009579\n",
      "2/111 Calculated score for AMT_REQ_CREDIT_BUREAU_YEAR: 0.0014742\n",
      "3/111 Calculated score for DAYS_REGISTRATION: -0.0035802\n",
      "4/111 Calculated score for AMT_REQ_CREDIT_BUREAU_WEEK: 0.0001664\n",
      "5/111 Calculated score for ENTRANCES_MEDI: 0.0000204\n",
      "6/111 Calculated score for TOTALAREA_MODE: -0.0005978\n",
      "7/111 Calculated score for FLOORSMAX_MODE: 0.0007167\n",
      "8/111 Calculated score for YEARS_BUILD_MEDI: 0.0001325\n",
      "9/111 Calculated score for CNT_CHILDREN: -0.0000510\n",
      "10/111 Calculated score for LIVINGAREA_AVG: 0.0005876\n",
      "11/111 Calculated score for ELEVATORS_MODE: -0.0000034\n",
      "12/111 Calculated score for YEARS_BUILD_MODE: 0.0001902\n",
      "13/111 Calculated score for LANDAREA_MODE: 0.0007677\n",
      "14/111 Calculated score for FLAG_DOCUMENT_3: 0.0011277\n",
      "15/111 Calculated score for EXT_SOURCE_3: 0.0398743\n",
      "16/111 Calculated score for FLAG_CONT_MOBILE: -0.0005027\n",
      "17/111 Calculated score for LANDAREA_AVG: 0.0008594\n",
      "18/111 Calculated score for LIVE_REGION_NOT_WORK_REGION: 0.0000442\n",
      "19/111 Calculated score for AMT_REQ_CREDIT_BUREAU_MON: 0.0009817\n",
      "20/111 Calculated score for OCCUPATION_TYPE: -0.0015319\n",
      "21/111 Calculated score for NAME_CONTRACT_TYPE: 0.0008084\n",
      "22/111 Calculated score for LIVINGAREA_MODE: -0.0001019\n",
      "23/111 Calculated score for DEF_60_CNT_SOCIAL_CIRCLE: -0.0001053\n",
      "24/111 Calculated score for FLAG_OWN_REALTY: -0.0005163\n",
      "25/111 Calculated score for BASEMENTAREA_MEDI: 0.0000238\n",
      "26/111 Calculated score for YEARS_BEGINEXPLUATATION_AVG: 0.0000272\n",
      "27/111 Calculated score for FLAG_DOCUMENT_14: -0.0000068\n",
      "28/111 Calculated score for ENTRANCES_AVG: -0.0001868\n",
      "29/111 Calculated score for APARTMENTS_AVG: 0.0001121\n",
      "30/111 Calculated score for NAME_FAMILY_STATUS: -0.0012670\n",
      "31/111 Calculated score for REG_REGION_NOT_WORK_REGION: 0.0000170\n",
      "32/111 Calculated score for FLOORSMAX_AVG: -0.0010428\n",
      "33/111 Calculated score for CNT_FAM_MEMBERS: -0.0002004\n",
      "34/111 Calculated score for AMT_INCOME_TOTAL: 0.0012058\n",
      "35/111 Calculated score for AMT_CREDIT: 0.0024287\n",
      "36/111 Calculated score for FLAG_EMP_PHONE: 0.0003261\n",
      "37/111 Calculated score for WEEKDAY_APPR_PROCESS_START: 0.0020550\n",
      "38/111 Calculated score for FONDKAPREMONT_MODE: 0.0000747\n",
      "39/111 Calculated score for NAME_HOUSING_TYPE: 0.0011651\n",
      "40/111 Calculated score for REGION_RATING_CLIENT: -0.0005910\n",
      "41/111 Calculated score for SK_ID_CURR: -0.0009273\n",
      "42/111 Calculated score for ENTRANCES_MODE: -0.0002310\n",
      "43/111 Calculated score for FLAG_DOCUMENT_13: 0.0000068\n",
      "44/111 Calculated score for CODE_GENDER: 0.0026529\n",
      "45/111 Calculated score for LIVINGAPARTMENTS_AVG: 0.0002514\n",
      "46/111 Calculated score for COMMONAREA_MEDI: -0.0007948\n",
      "47/111 Calculated score for REGION_POPULATION_RELATIVE: -0.0015387\n",
      "48/111 Calculated score for LIVE_CITY_NOT_WORK_CITY: 0.0001019\n",
      "49/111 Calculated score for BASEMENTAREA_AVG: 0.0007609\n",
      "50/111 Calculated score for NONLIVINGAREA_MODE: -0.0003533\n",
      "51/111 Calculated score for BIRTH_DATE: 0.0111481\n",
      "52/111 Calculated score for EXT_SOURCE_1: 0.0125068\n",
      "53/111 Calculated score for LIVINGAPARTMENTS_MODE: 0.0000306\n",
      "54/111 Calculated score for FLAG_DOCUMENT_16: -0.0010666\n",
      "55/111 Calculated score for NONLIVINGAPARTMENTS_AVG: -0.0003533\n",
      "56/111 Calculated score for DAYS_ID_PUBLISH: -0.0024592\n",
      "57/111 Calculated score for AMT_ANNUITY: 0.0088893\n",
      "58/111 Calculated score for HOUSETYPE_MODE: -0.0000577\n",
      "59/111 Calculated score for LIVINGAPARTMENTS_MEDI: -0.0002004\n",
      "60/111 Calculated score for LIVINGAREA_MEDI: 0.0000747\n",
      "61/111 Calculated score for FLAG_DOCUMENT_8: -0.0003838\n",
      "62/111 Calculated score for AMT_REQ_CREDIT_BUREAU_HOUR: -0.0010462\n",
      "63/111 Calculated score for FLAG_PHONE: 0.0001698\n",
      "64/111 Calculated score for REG_CITY_NOT_LIVE_CITY: 0.0009239\n",
      "65/111 Calculated score for COMMONAREA_AVG: -0.0016168\n",
      "66/111 Calculated score for YEARS_BUILD_AVG: -0.0010598\n",
      "67/111 Calculated score for AMT_REQ_CREDIT_BUREAU_QRT: 0.0000340\n",
      "68/111 Calculated score for FLAG_EMAIL: -0.0005978\n",
      "69/111 Calculated score for OBS_60_CNT_SOCIAL_CIRCLE: 0.0017561\n",
      "70/111 Calculated score for ELEVATORS_MEDI: 0.0000577\n",
      "71/111 Calculated score for EMERGENCYSTATE_MODE: 0.0004416\n",
      "72/111 Calculated score for OWN_CAR_AGE: 0.0003329\n",
      "73/111 Calculated score for DAYS_LAST_PHONE_CHANGE: -0.0011107\n",
      "74/111 Calculated score for FLAG_DOCUMENT_5: -0.0001698\n",
      "75/111 Calculated score for FLOORSMIN_MEDI: -0.0001834\n",
      "76/111 Calculated score for YEARS_BEGINEXPLUATATION_MEDI: 0.0002887\n",
      "77/111 Calculated score for FLAG_DOCUMENT_9: 0.0000000\n",
      "78/111 Calculated score for REG_CITY_NOT_WORK_CITY: 0.0001393\n",
      "79/111 Calculated score for FLAG_DOCUMENT_18: -0.0001630\n",
      "80/111 Calculated score for ORGANIZATION_TYPE: -0.0060224\n",
      "81/111 Calculated score for report_dt: 0.0000000\n",
      "82/111 Calculated score for AMT_GOODS_PRICE: 0.0010530\n",
      "83/111 Calculated score for EXT_SOURCE_2: 0.0340591\n",
      "84/111 Calculated score for REGION_RATING_CLIENT_W_CITY: -0.0003872\n",
      "85/111 Calculated score for EMP_DATE: 0.0021603\n",
      "86/111 Calculated score for NONLIVINGAREA_AVG: 0.0000204\n",
      "87/111 Calculated score for REG_REGION_NOT_LIVE_REGION: -0.0000442\n",
      "88/111 Calculated score for FLAG_DOCUMENT_6: -0.0003635\n",
      "89/111 Calculated score for FLOORSMAX_MEDI: -0.0005503\n",
      "90/111 Calculated score for DEF_30_CNT_SOCIAL_CIRCLE: 0.0004076\n",
      "91/111 Calculated score for AMT_REQ_CREDIT_BUREAU_DAY: -0.0007167\n",
      "92/111 Calculated score for YEARS_BEGINEXPLUATATION_MODE: -0.0002310\n",
      "93/111 Calculated score for WALLSMATERIAL_MODE: 0.0001596\n",
      "94/111 Calculated score for BASEMENTAREA_MODE: -0.0000442\n",
      "95/111 Calculated score for COMMONAREA_MODE: -0.0007099\n",
      "96/111 Calculated score for NAME_INCOME_TYPE: 0.0018580\n",
      "97/111 Calculated score for FLAG_DOCUMENT_11: -0.0000645\n",
      "98/111 Calculated score for FLOORSMIN_AVG: -0.0000408\n",
      "99/111 Calculated score for APARTMENTS_MODE: -0.0003635\n",
      "100/111 Calculated score for LANDAREA_MEDI: 0.0004993\n",
      "101/111 Calculated score for FLAG_OWN_CAR: 0.0009715\n",
      "102/111 Calculated score for FLAG_WORK_PHONE: 0.0001087\n",
      "103/111 Calculated score for NAME_TYPE_SUITE: 0.0004755\n",
      "104/111 Calculated score for HOUR_APPR_PROCESS_START: 0.0000985\n",
      "105/111 Calculated score for ELEVATORS_AVG: -0.0000781\n",
      "106/111 Calculated score for APARTMENTS_MEDI: -0.0002683\n",
      "107/111 Calculated score for NONLIVINGAPARTMENTS_MEDI: -0.0002480\n",
      "108/111 Calculated score for FLOORSMIN_MODE: -0.0001529\n",
      "109/111 Calculated score for NAME_EDUCATION_TYPE: 0.0014912\n",
      "110/111 Calculated score for NONLIVINGAPARTMENTS_MODE: -0.0006114\n",
      "111/111 Calculated score for NONLIVINGAREA_MEDI: 0.0004654\n",
      "Wall time: 2min 11s\n"
     ]
    },
    {
     "data": {
      "text/plain": [
       "<AxesSubplot:xlabel='Feature'>"
      ]
     },
     "execution_count": 54,
     "metadata": {},
     "output_type": "execute_result"
    },
    {
     "data": {
      "image/png": "[encoded data removed]",
      "text/plain": [
       "<Figure size 1440x720 with 1 Axes>"
      ]
     },
     "metadata": {
      "needs_background": "light"
     },
     "output_type": "display_data"
    }
   ],
   "source": [
    "%%time\n",
    "\n",
    "# Accurate feature importances calculation (Permutation importances) -  can take long time to calculate\n",
    "accurate_fi = automl.get_feature_scores('accurate', test_data, silent = False)\n",
    "accurate_fi.set_index('Feature')['Importance'].plot.bar(figsize = (20, 10), grid = True)"
   ]
  },
  {
   "cell_type": "markdown",
   "metadata": {},
   "source": [
    "## Step 4. Predict to test data and check scores"
   ]
  },
  {
   "cell_type": "code",
   "execution_count": 55,
   "metadata": {},
   "outputs": [
    {
     "name": "stderr",
     "output_type": "stream",
     "text": [
      "[2021-08-30 11:26:20,370] (INFO): Prediction for test data:\n",
      "array([[0.03973391],\n",
      "       [0.04812851],\n",
      "       [0.02111761],\n",
      "       ...,\n",
      "       [0.0412482 ],\n",
      "       [0.03729474],\n",
      "       [0.16197851]], dtype=float32)\n",
      "Shape = (2000, 1)\n",
      "[2021-08-30 11:26:20,371] (INFO): Check scores...\n",
      "[2021-08-30 11:26:20,375] (INFO): OOF score: 0.7528774816478762\n",
      "[2021-08-30 11:26:20,378] (INFO): TEST score: 0.7312228260869565\n"
     ]
    },
    {
     "name": "stdout",
     "output_type": "stream",
     "text": [
      "Wall time: 1.13 s\n"
     ]
    }
   ],
   "source": [
    "%%time\n",
    "\n",
    "test_pred = automl.predict(test_data)\n",
    "logging.info('Prediction for test data:\\n{}\\nShape = {}'\n",
    "              .format(test_pred, test_pred.shape))\n",
    "\n",
    "logging.info('Check scores...')\n",
    "logging.info('OOF score: {}'.format(roc_auc_score(train_data[TARGET_NAME].values, oof_pred.data[:, 0])))\n",
    "logging.info('TEST score: {}'.format(roc_auc_score(test_data[TARGET_NAME].values, test_pred.data[:, 0])))"
   ]
  },
  {
   "cell_type": "markdown",
   "metadata": {},
   "source": [
    "## Step 5. Create AutoML with time utilization "
   ]
  },
  {
   "cell_type": "markdown",
   "metadata": {},
   "source": [
    "Below we are going to create specific AutoML preset for TIMEOUT utilization (try to spend it as much as possible):"
   ]
  },
  {
   "cell_type": "code",
   "execution_count": 56,
   "metadata": {
    "scrolled": true
   },
   "outputs": [
    {
     "name": "stdout",
     "output_type": "stream",
     "text": [
      "Current random state: {'reader_params': {'random_state': 42}, 'general_params': {'return_all_predictions': False}}\n",
      "Found reader_params in kwargs, need to combine\n",
      "Merged variant for reader_params = {'n_jobs': 8, 'cv': 5, 'random_state': 42}\n",
      "Start automl preset with listed constraints:\n",
      "- time: 179.99799871444702 seconds\n",
      "- cpus: 8 cores\n",
      "- memory: 16 gb\n",
      "\n",
      "Train data shape: (8000, 125)\n",
      "Feats was rejected during automatic roles guess: []\n",
      "\n",
      "\n",
      "Layer 1 ...\n",
      "Train process start. Time left 166.3980827331543 secs\n",
      "Start fitting Lvl_0_Pipe_0_Mod_0_LinearL2 ...\n",
      "\n",
      "===== Start working with fold 0 for Lvl_0_Pipe_0_Mod_0_LinearL2 =====\n",
      "\n",
      "Linear model: C = 1e-05 score = 0.6866430392738585\n",
      "Linear model: C = 5e-05 score = 0.7052562930651998\n",
      "Linear model: C = 0.0001 score = 0.7205499516226459\n",
      "Linear model: C = 0.0005 score = 0.7546706865307824\n",
      "Linear model: C = 0.001 score = 0.7616947576054012\n",
      "Linear model: C = 0.005 score = 0.7632984268005196\n",
      "Linear model: C = 0.01 score = 0.7604064766853227\n",
      "Linear model: C = 0.05 score = 0.748154444034618\n",
      "\n",
      "===== Start working with fold 1 for Lvl_0_Pipe_0_Mod_0_LinearL2 =====\n",
      "\n",
      "Linear model: C = 1e-05 score = 0.7094434655230978\n",
      "Linear model: C = 5e-05 score = 0.720910113790761\n",
      "Linear model: C = 0.0001 score = 0.7264616593070653\n",
      "Linear model: C = 0.0005 score = 0.7402980638586957\n",
      "Linear model: C = 0.001 score = 0.742362644361413\n",
      "Linear model: C = 0.005 score = 0.7422777258831521\n",
      "Linear model: C = 0.01 score = 0.7410623301630435\n",
      "\n",
      "===== Start working with fold 2 for Lvl_0_Pipe_0_Mod_0_LinearL2 =====\n",
      "\n",
      "Linear model: C = 1e-05 score = 0.6364480723505435\n",
      "Linear model: C = 5e-05 score = 0.6513671875\n",
      "Linear model: C = 0.0001 score = 0.6633964206861412\n",
      "Linear model: C = 0.0005 score = 0.6924730383831522\n",
      "Linear model: C = 0.001 score = 0.7013576341711957\n",
      "Linear model: C = 0.005 score = 0.7106774371603262\n",
      "Linear model: C = 0.01 score = 0.7091966711956522\n",
      "Linear model: C = 0.05 score = 0.7000148607336957\n",
      "\n",
      "===== Start working with fold 3 for Lvl_0_Pipe_0_Mod_0_LinearL2 =====\n",
      "\n",
      "Linear model: C = 1e-05 score = 0.6700465990149456\n",
      "Linear model: C = 5e-05 score = 0.6785862134850544\n",
      "Linear model: C = 0.0001 score = 0.6854460343070652\n",
      "Linear model: C = 0.0005 score = 0.7096318783967391\n",
      "Linear model: C = 0.001 score = 0.7176725968070651\n",
      "Linear model: C = 0.005 score = 0.7226987092391305\n",
      "Linear model: C = 0.01 score = 0.7183837890625\n",
      "Linear model: C = 0.05 score = 0.701134723165761\n",
      "\n",
      "===== Start working with fold 4 for Lvl_0_Pipe_0_Mod_0_LinearL2 =====\n",
      "\n",
      "Linear model: C = 1e-05 score = 0.6843261718749999\n",
      "Linear model: C = 5e-05 score = 0.7049507472826086\n",
      "Linear model: C = 0.0001 score = 0.7158309273097827\n",
      "Linear model: C = 0.0005 score = 0.7460831351902174\n",
      "Linear model: C = 0.001 score = 0.7526483950407609\n",
      "Linear model: C = 0.005 score = 0.7510508661684783\n",
      "Linear model: C = 0.01 score = 0.7469482421875\n",
      "Lvl_0_Pipe_0_Mod_0_LinearL2 fitting and predicting completed\n",
      "Time left 158.41884779930115\n",
      "Start fitting Lvl_0_Pipe_1_Mod_0_LightGBM ...\n",
      "\n",
      "===== Start working with fold 0 for Lvl_0_Pipe_1_Mod_0_LightGBM =====\n",
      "\n",
      "Training until validation scores don't improve for 200 rounds\n",
      "[100]\tvalid's auc: 0.762005\n",
      "[200]\tvalid's auc: 0.76425\n",
      "[300]\tvalid's auc: 0.764539\n",
      "[400]\tvalid's auc: 0.763555\n",
      "Early stopping, best iteration is:\n",
      "[264]\tvalid's auc: 0.767377\n",
      "\n",
      "===== Start working with fold 1 for Lvl_0_Pipe_1_Mod_0_LightGBM =====\n",
      "\n",
      "Training until validation scores don't improve for 200 rounds\n",
      "[100]\tvalid's auc: 0.724153\n",
      "[200]\tvalid's auc: 0.732109\n",
      "[300]\tvalid's auc: 0.738435\n",
      "[400]\tvalid's auc: 0.73912\n",
      "[500]\tvalid's auc: 0.74102\n",
      "Early stopping, best iteration is:\n",
      "[340]\tvalid's auc: 0.742389\n",
      "\n",
      "===== Start working with fold 2 for Lvl_0_Pipe_1_Mod_0_LightGBM =====\n",
      "\n",
      "Training until validation scores don't improve for 200 rounds\n",
      "[100]\tvalid's auc: 0.721006\n",
      "[200]\tvalid's auc: 0.722205\n",
      "[300]\tvalid's auc: 0.725782\n",
      "[400]\tvalid's auc: 0.72972\n",
      "[500]\tvalid's auc: 0.726732\n"
     ]
    },
    {
     "name": "stderr",
     "output_type": "stream",
     "text": [
      "Time limit exceeded after calculating fold 2\n"
     ]
    },
    {
     "name": "stdout",
     "output_type": "stream",
     "text": [
      "[600]\tvalid's auc: 0.728792\n",
      "Early stopping, best iteration is:\n",
      "[400]\tvalid's auc: 0.72972\n",
      "Lvl_0_Pipe_1_Mod_0_LightGBM fitting and predicting completed\n",
      "Optuna may run 1 secs\n"
     ]
    },
    {
     "name": "stderr",
     "output_type": "stream",
     "text": [
      "[2021-08-30 11:26:57,627] (INFO): A new study created in memory with name: no-name-7776648c-6c9e-4c84-aea9-a4c03ca08f98\n"
     ]
    },
    {
     "name": "stdout",
     "output_type": "stream",
     "text": [
      "Start fitting Lvl_0_Pipe_1_Mod_1_LightGBM ...\n",
      "\n",
      "===== Start working with fold 0 for Lvl_0_Pipe_1_Mod_1_LightGBM =====\n",
      "\n",
      "Training until validation scores don't improve for 200 rounds\n",
      "[100]\tvalid's auc: 0.746711\n",
      "[200]\tvalid's auc: 0.747107\n",
      "[300]\tvalid's auc: 0.747716\n",
      "[400]\tvalid's auc: 0.74932\n",
      "[500]\tvalid's auc: 0.753067\n",
      "[600]\tvalid's auc: 0.752928\n",
      "[700]\tvalid's auc: 0.754671\n",
      "[800]\tvalid's auc: 0.753719\n",
      "Early stopping, best iteration is:\n",
      "[694]\tvalid's auc: 0.754767\n",
      "Lvl_0_Pipe_1_Mod_1_LightGBM fitting and predicting completed\n"
     ]
    },
    {
     "name": "stderr",
     "output_type": "stream",
     "text": [
      "[2021-08-30 11:27:24,998] (INFO): Trial 0 finished with value: 0.7547669066824895 and parameters: {'feature_fraction': 0.6872700594236812, 'num_leaves': 244, 'bagging_fraction': 0.8659969709057025, 'min_sum_hessian_in_leaf': 0.24810409748678125, 'reg_alpha': 2.5361081166471375e-07, 'reg_lambda': 2.5348407664333426e-07}. Best is trial 0 with value: 0.7547669066824895.\n"
     ]
    },
    {
     "name": "stdout",
     "output_type": "stream",
     "text": [
      "Start fitting Lvl_0_Pipe_1_Mod_2_CatBoost ...\n",
      "\n",
      "===== Start working with fold 0 for Lvl_0_Pipe_1_Mod_2_CatBoost =====\n",
      "\n",
      "0:\ttest: 0.4944593\tbest: 0.4944593 (0)\ttotal: 5.77ms\tremaining: 28.8s\n",
      "100:\ttest: 0.7482720\tbest: 0.7498436 (92)\ttotal: 512ms\tremaining: 24.8s\n",
      "Stopped by overfitting detector  (100 iterations wait)\n",
      "\n",
      "bestTest = 0.7498436423\n",
      "bestIteration = 92\n",
      "\n",
      "Shrink model to first 93 iterations.\n",
      "\n",
      "===== Start working with fold 1 for Lvl_0_Pipe_1_Mod_2_CatBoost =====\n",
      "\n",
      "0:\ttest: 0.5681630\tbest: 0.5681630 (0)\ttotal: 4.69ms\tremaining: 23.5s\n",
      "100:\ttest: 0.7228739\tbest: 0.7228739 (100)\ttotal: 481ms\tremaining: 23.3s\n",
      "200:\ttest: 0.7283829\tbest: 0.7294073 (187)\ttotal: 967ms\tremaining: 23.1s\n",
      "300:\ttest: 0.7344015\tbest: 0.7344015 (300)\ttotal: 1.51s\tremaining: 23.7s\n",
      "400:\ttest: 0.7317478\tbest: 0.7353569 (320)\ttotal: 2s\tremaining: 22.9s\n",
      "Stopped by overfitting detector  (100 iterations wait)\n",
      "\n",
      "bestTest = 0.7353568699\n",
      "bestIteration = 320\n",
      "\n",
      "Shrink model to first 321 iterations.\n",
      "\n",
      "===== Start working with fold 2 for Lvl_0_Pipe_1_Mod_2_CatBoost =====\n",
      "\n",
      "0:\ttest: 0.5309528\tbest: 0.5309528 (0)\ttotal: 5.77ms\tremaining: 28.8s\n",
      "100:\ttest: 0.6820918\tbest: 0.6820918 (100)\ttotal: 494ms\tremaining: 23.9s\n",
      "200:\ttest: 0.6777662\tbest: 0.6838910 (145)\ttotal: 1000ms\tremaining: 23.9s\n",
      "Stopped by overfitting detector  (100 iterations wait)\n",
      "\n",
      "bestTest = 0.6838909647\n",
      "bestIteration = 145\n",
      "\n",
      "Shrink model to first 146 iterations.\n",
      "\n",
      "===== Start working with fold 3 for Lvl_0_Pipe_1_Mod_2_CatBoost =====\n",
      "\n",
      "0:\ttest: 0.5585327\tbest: 0.5585327 (0)\ttotal: 8.61ms\tremaining: 43s\n",
      "100:\ttest: 0.7084430\tbest: 0.7137080 (77)\ttotal: 538ms\tremaining: 26.1s\n",
      "Stopped by overfitting detector  (100 iterations wait)\n",
      "\n",
      "bestTest = 0.7137079654\n",
      "bestIteration = 77\n",
      "\n",
      "Shrink model to first 78 iterations.\n",
      "\n",
      "===== Start working with fold 4 for Lvl_0_Pipe_1_Mod_2_CatBoost =====\n",
      "\n",
      "0:\ttest: 0.5121778\tbest: 0.5121778 (0)\ttotal: 4.9ms\tremaining: 24.5s\n",
      "100:\ttest: 0.7375011\tbest: 0.7394648 (92)\ttotal: 522ms\tremaining: 25.3s\n",
      "200:\ttest: 0.7449580\tbest: 0.7469589 (180)\ttotal: 1.01s\tremaining: 24.1s\n",
      "Stopped by overfitting detector  (100 iterations wait)\n",
      "\n",
      "bestTest = 0.746958857\n",
      "bestIteration = 180\n",
      "\n",
      "Shrink model to first 181 iterations.\n",
      "Lvl_0_Pipe_1_Mod_2_CatBoost fitting and predicting completed\n",
      "Optuna may run 52.94686350822448 secs\n"
     ]
    },
    {
     "name": "stderr",
     "output_type": "stream",
     "text": [
      "[2021-08-30 11:27:33,440] (INFO): A new study created in memory with name: no-name-4a00bb0e-c737-4990-9846-f885c51f1e7e\n"
     ]
    },
    {
     "name": "stdout",
     "output_type": "stream",
     "text": [
      "Start fitting Lvl_0_Pipe_1_Mod_3_CatBoost ...\n",
      "\n",
      "===== Start working with fold 0 for Lvl_0_Pipe_1_Mod_3_CatBoost =====\n",
      "\n",
      "0:\ttest: 0.5449214\tbest: 0.5449214 (0)\ttotal: 12.5ms\tremaining: 1m 2s\n",
      "100:\ttest: 0.7506882\tbest: 0.7518643 (99)\ttotal: 435ms\tremaining: 21.1s\n",
      "200:\ttest: 0.7622347\tbest: 0.7625180 (180)\ttotal: 862ms\tremaining: 20.6s\n",
      "300:\ttest: 0.7545370\tbest: 0.7628654 (204)\ttotal: 1.31s\tremaining: 20.4s\n",
      "Stopped by overfitting detector  (100 iterations wait)\n",
      "\n",
      "bestTest = 0.7628654361\n",
      "bestIteration = 204\n",
      "\n",
      "Shrink model to first 205 iterations.\n",
      "Lvl_0_Pipe_1_Mod_3_CatBoost fitting and predicting completed\n"
     ]
    },
    {
     "name": "stderr",
     "output_type": "stream",
     "text": [
      "[2021-08-30 11:27:35,153] (INFO): Trial 0 finished with value: 0.7628654361178375 and parameters: {'max_depth': 4, 'nan_mode': 'Max', 'l2_leaf_reg': 0.0024430162614261413, 'min_data_in_leaf': 4}. Best is trial 0 with value: 0.7628654361178375.\n"
     ]
    },
    {
     "name": "stdout",
     "output_type": "stream",
     "text": [
      "Start fitting Lvl_0_Pipe_1_Mod_3_CatBoost ...\n",
      "\n",
      "===== Start working with fold 0 for Lvl_0_Pipe_1_Mod_3_CatBoost =====\n",
      "\n",
      "0:\ttest: 0.5367561\tbest: 0.5367561 (0)\ttotal: 5.04ms\tremaining: 25.2s\n",
      "100:\ttest: 0.7348761\tbest: 0.7362071 (93)\ttotal: 433ms\tremaining: 21s\n",
      "200:\ttest: 0.7449952\tbest: 0.7450166 (199)\ttotal: 890ms\tremaining: 21.2s\n",
      "300:\ttest: 0.7501751\tbest: 0.7506348 (292)\ttotal: 1.27s\tremaining: 19.8s\n",
      "400:\ttest: 0.7532755\tbest: 0.7561300 (328)\ttotal: 1.63s\tremaining: 18.6s\n",
      "500:\ttest: 0.7540132\tbest: 0.7581774 (444)\ttotal: 2.15s\tremaining: 19.3s\n",
      "Stopped by overfitting detector  (100 iterations wait)\n",
      "\n",
      "bestTest = 0.7581773765\n",
      "bestIteration = 444\n",
      "\n",
      "Shrink model to first 445 iterations.\n",
      "Lvl_0_Pipe_1_Mod_3_CatBoost fitting and predicting completed\n"
     ]
    },
    {
     "name": "stderr",
     "output_type": "stream",
     "text": [
      "[2021-08-30 11:27:37,854] (INFO): Trial 1 finished with value: 0.7581773765041081 and parameters: {'max_depth': 3, 'nan_mode': 'Min', 'l2_leaf_reg': 0.002570603566117598, 'min_data_in_leaf': 15}. Best is trial 0 with value: 0.7628654361178375.\n"
     ]
    },
    {
     "name": "stdout",
     "output_type": "stream",
     "text": [
      "Start fitting Lvl_0_Pipe_1_Mod_3_CatBoost ...\n",
      "\n",
      "===== Start working with fold 0 for Lvl_0_Pipe_1_Mod_3_CatBoost =====\n",
      "\n",
      "0:\ttest: 0.5312101\tbest: 0.5312101 (0)\ttotal: 31ms\tremaining: 2m 34s\n",
      "100:\ttest: 0.7414244\tbest: 0.7414244 (100)\ttotal: 386ms\tremaining: 18.7s\n",
      "200:\ttest: 0.7491915\tbest: 0.7494107 (199)\ttotal: 766ms\tremaining: 18.3s\n",
      "300:\ttest: 0.7562957\tbest: 0.7584179 (273)\ttotal: 1.13s\tremaining: 17.7s\n",
      "400:\ttest: 0.7575252\tbest: 0.7585943 (362)\ttotal: 1.49s\tremaining: 17.1s\n",
      "500:\ttest: 0.7573007\tbest: 0.7605722 (419)\ttotal: 1.9s\tremaining: 17s\n",
      "Stopped by overfitting detector  (100 iterations wait)\n",
      "\n",
      "bestTest = 0.7605721892\n",
      "bestIteration = 419\n",
      "\n",
      "Shrink model to first 420 iterations.\n",
      "Lvl_0_Pipe_1_Mod_3_CatBoost fitting and predicting completed\n"
     ]
    },
    {
     "name": "stderr",
     "output_type": "stream",
     "text": [
      "[2021-08-30 11:27:40,180] (INFO): Trial 2 finished with value: 0.7605721891688183 and parameters: {'max_depth': 3, 'nan_mode': 'Max', 'l2_leaf_reg': 8.148018307012941e-07, 'min_data_in_leaf': 4}. Best is trial 0 with value: 0.7628654361178375.\n"
     ]
    },
    {
     "name": "stdout",
     "output_type": "stream",
     "text": [
      "Start fitting Lvl_0_Pipe_1_Mod_3_CatBoost ...\n",
      "\n",
      "===== Start working with fold 0 for Lvl_0_Pipe_1_Mod_3_CatBoost =====\n",
      "\n",
      "0:\ttest: 0.5367561\tbest: 0.5367561 (0)\ttotal: 3.57ms\tremaining: 17.8s\n",
      "100:\ttest: 0.7399009\tbest: 0.7399009 (100)\ttotal: 403ms\tremaining: 19.6s\n",
      "200:\ttest: 0.7453748\tbest: 0.7462247 (174)\ttotal: 832ms\tremaining: 19.9s\n",
      "300:\ttest: 0.7528906\tbest: 0.7534679 (294)\ttotal: 1.34s\tremaining: 20.9s\n",
      "Stopped by overfitting detector  (100 iterations wait)\n",
      "\n",
      "bestTest = 0.7534679346\n",
      "bestIteration = 294\n",
      "\n",
      "Shrink model to first 295 iterations.\n",
      "Lvl_0_Pipe_1_Mod_3_CatBoost fitting and predicting completed\n"
     ]
    },
    {
     "name": "stderr",
     "output_type": "stream",
     "text": [
      "[2021-08-30 11:27:42,304] (INFO): Trial 3 finished with value: 0.7534679346344435 and parameters: {'max_depth': 3, 'nan_mode': 'Min', 'l2_leaf_reg': 7.71800699380605e-05, 'min_data_in_leaf': 6}. Best is trial 0 with value: 0.7628654361178375.\n"
     ]
    },
    {
     "name": "stdout",
     "output_type": "stream",
     "text": [
      "Start fitting Lvl_0_Pipe_1_Mod_3_CatBoost ...\n",
      "\n",
      "===== Start working with fold 0 for Lvl_0_Pipe_1_Mod_3_CatBoost =====\n",
      "\n",
      "0:\ttest: 0.5063532\tbest: 0.5063532 (0)\ttotal: 5.26ms\tremaining: 26.3s\n",
      "100:\ttest: 0.6909302\tbest: 0.6940948 (81)\ttotal: 552ms\tremaining: 26.8s\n",
      "200:\ttest: 0.6886209\tbest: 0.7028027 (138)\ttotal: 1.11s\tremaining: 26.5s\n",
      "Stopped by overfitting detector  (100 iterations wait)\n",
      "\n",
      "bestTest = 0.7028026792\n",
      "bestIteration = 138\n",
      "\n",
      "Shrink model to first 139 iterations.\n",
      "Lvl_0_Pipe_1_Mod_3_CatBoost fitting and predicting completed\n"
     ]
    },
    {
     "name": "stderr",
     "output_type": "stream",
     "text": [
      "[2021-08-30 11:27:43,988] (INFO): Trial 4 finished with value: 0.7028026791966686 and parameters: {'max_depth': 6, 'nan_mode': 'Min', 'l2_leaf_reg': 1.9826980964985924e-05, 'min_data_in_leaf': 10}. Best is trial 0 with value: 0.7628654361178375.\n"
     ]
    },
    {
     "name": "stdout",
     "output_type": "stream",
     "text": [
      "Start fitting Lvl_0_Pipe_1_Mod_3_CatBoost ...\n",
      "\n",
      "===== Start working with fold 0 for Lvl_0_Pipe_1_Mod_3_CatBoost =====\n",
      "\n",
      "0:\ttest: 0.5063532\tbest: 0.5063532 (0)\ttotal: 7.04ms\tremaining: 35.2s\n",
      "100:\ttest: 0.7083140\tbest: 0.7142422 (86)\ttotal: 660ms\tremaining: 32s\n",
      "Stopped by overfitting detector  (100 iterations wait)\n",
      "\n",
      "bestTest = 0.7142421861\n",
      "bestIteration = 86\n",
      "\n",
      "Shrink model to first 87 iterations.\n",
      "Lvl_0_Pipe_1_Mod_3_CatBoost fitting and predicting completed\n"
     ]
    },
    {
     "name": "stderr",
     "output_type": "stream",
     "text": [
      "[2021-08-30 11:27:45,586] (INFO): Trial 5 finished with value: 0.7142421861218468 and parameters: {'max_depth': 6, 'nan_mode': 'Min', 'l2_leaf_reg': 0.0021465011216654484, 'min_data_in_leaf': 1}. Best is trial 0 with value: 0.7628654361178375.\n"
     ]
    },
    {
     "name": "stdout",
     "output_type": "stream",
     "text": [
      "Start fitting Lvl_0_Pipe_1_Mod_3_CatBoost ...\n",
      "\n",
      "===== Start working with fold 0 for Lvl_0_Pipe_1_Mod_3_CatBoost =====\n",
      "\n",
      "0:\ttest: 0.5412223\tbest: 0.5412223 (0)\ttotal: 5.73ms\tremaining: 28.6s\n",
      "100:\ttest: 0.7519551\tbest: 0.7531258 (98)\ttotal: 598ms\tremaining: 29s\n",
      "200:\ttest: 0.7638811\tbest: 0.7643622 (187)\ttotal: 1.21s\tremaining: 29s\n",
      "300:\ttest: 0.7646669\tbest: 0.7660140 (295)\ttotal: 1.82s\tremaining: 28.4s\n",
      "400:\ttest: 0.7613794\tbest: 0.7664202 (326)\ttotal: 2.43s\tremaining: 27.9s\n",
      "Stopped by overfitting detector  (100 iterations wait)\n",
      "\n",
      "bestTest = 0.7664202362\n",
      "bestIteration = 326\n",
      "\n",
      "Shrink model to first 327 iterations.\n",
      "Lvl_0_Pipe_1_Mod_3_CatBoost fitting and predicting completed\n"
     ]
    },
    {
     "name": "stderr",
     "output_type": "stream",
     "text": [
      "[2021-08-30 11:27:48,686] (INFO): Trial 6 finished with value: 0.7664202361670167 and parameters: {'max_depth': 6, 'nan_mode': 'Max', 'l2_leaf_reg': 3.4671276804481113, 'min_data_in_leaf': 20}. Best is trial 6 with value: 0.7664202361670167.\n"
     ]
    },
    {
     "name": "stdout",
     "output_type": "stream",
     "text": [
      "Start fitting Lvl_0_Pipe_1_Mod_3_CatBoost ...\n",
      "\n",
      "===== Start working with fold 0 for Lvl_0_Pipe_1_Mod_3_CatBoost =====\n",
      "\n",
      "0:\ttest: 0.5244372\tbest: 0.5244372 (0)\ttotal: 7.94ms\tremaining: 39.7s\n",
      "100:\ttest: 0.7218917\tbest: 0.7218917 (100)\ttotal: 724ms\tremaining: 35.1s\n",
      "200:\ttest: 0.7149157\tbest: 0.7228699 (101)\ttotal: 1.62s\tremaining: 38.7s\n",
      "Stopped by overfitting detector  (100 iterations wait)\n",
      "\n",
      "bestTest = 0.7228699264\n",
      "bestIteration = 101\n",
      "\n",
      "Shrink model to first 102 iterations.\n",
      "Lvl_0_Pipe_1_Mod_3_CatBoost fitting and predicting completed\n"
     ]
    },
    {
     "name": "stderr",
     "output_type": "stream",
     "text": [
      "[2021-08-30 11:27:50,697] (INFO): Trial 7 finished with value: 0.722869926391584 and parameters: {'max_depth': 7, 'nan_mode': 'Max', 'l2_leaf_reg': 0.014391207615728067, 'min_data_in_leaf': 9}. Best is trial 6 with value: 0.7664202361670167.\n"
     ]
    },
    {
     "name": "stdout",
     "output_type": "stream",
     "text": [
      "Start fitting Lvl_0_Pipe_1_Mod_3_CatBoost ...\n",
      "\n",
      "===== Start working with fold 0 for Lvl_0_Pipe_1_Mod_3_CatBoost =====\n",
      "\n",
      "0:\ttest: 0.5312101\tbest: 0.5312101 (0)\ttotal: 3.34ms\tremaining: 16.7s\n",
      "100:\ttest: 0.7486195\tbest: 0.7486195 (100)\ttotal: 377ms\tremaining: 18.3s\n",
      "200:\ttest: 0.7603797\tbest: 0.7605562 (193)\ttotal: 752ms\tremaining: 18s\n",
      "300:\ttest: 0.7620369\tbest: 0.7621919 (297)\ttotal: 1.13s\tremaining: 17.7s\n",
      "400:\ttest: 0.7661048\tbest: 0.7661423 (398)\ttotal: 1.92s\tremaining: 22s\n",
      "500:\ttest: 0.7681575\tbest: 0.7682751 (495)\ttotal: 2.32s\tremaining: 20.9s\n",
      "Stopped by overfitting detector  (100 iterations wait)\n",
      "\n",
      "bestTest = 0.7682751469\n",
      "bestIteration = 495\n",
      "\n",
      "Shrink model to first 496 iterations.\n",
      "Lvl_0_Pipe_1_Mod_3_CatBoost fitting and predicting completed\n"
     ]
    },
    {
     "name": "stderr",
     "output_type": "stream",
     "text": [
      "[2021-08-30 11:27:53,860] (INFO): Trial 8 finished with value: 0.7682751468693705 and parameters: {'max_depth': 3, 'nan_mode': 'Max', 'l2_leaf_reg': 1.527156759251193, 'min_data_in_leaf': 6}. Best is trial 8 with value: 0.7682751468693705.\n"
     ]
    },
    {
     "name": "stdout",
     "output_type": "stream",
     "text": [
      "Start fitting Lvl_0_Pipe_1_Mod_3_CatBoost ...\n",
      "\n",
      "===== Start working with fold 0 for Lvl_0_Pipe_1_Mod_3_CatBoost =====\n",
      "\n",
      "0:\ttest: 0.5063532\tbest: 0.5063532 (0)\ttotal: 6.74ms\tremaining: 33.7s\n",
      "100:\ttest: 0.6990341\tbest: 0.7069615 (81)\ttotal: 748ms\tremaining: 36.3s\n",
      "Stopped by overfitting detector  (100 iterations wait)\n",
      "\n",
      "bestTest = 0.706961528\n",
      "bestIteration = 81\n",
      "\n",
      "Shrink model to first 82 iterations.\n",
      "Lvl_0_Pipe_1_Mod_3_CatBoost fitting and predicting completed\n"
     ]
    },
    {
     "name": "stderr",
     "output_type": "stream",
     "text": [
      "[2021-08-30 11:27:55,463] (INFO): Trial 9 finished with value: 0.7069615279760091 and parameters: {'max_depth': 6, 'nan_mode': 'Min', 'l2_leaf_reg': 0.0008325158565947976, 'min_data_in_leaf': 4}. Best is trial 8 with value: 0.7682751468693705.\n"
     ]
    },
    {
     "name": "stdout",
     "output_type": "stream",
     "text": [
      "Start fitting Lvl_0_Pipe_1_Mod_3_CatBoost ...\n",
      "\n",
      "===== Start working with fold 0 for Lvl_0_Pipe_1_Mod_3_CatBoost =====\n",
      "\n",
      "0:\ttest: 0.5449214\tbest: 0.5449214 (0)\ttotal: 4.46ms\tremaining: 22.3s\n",
      "100:\ttest: 0.7496779\tbest: 0.7499452 (97)\ttotal: 456ms\tremaining: 22.1s\n",
      "200:\ttest: 0.7573221\tbest: 0.7575787 (179)\ttotal: 904ms\tremaining: 21.6s\n",
      "300:\ttest: 0.7628922\tbest: 0.7628922 (300)\ttotal: 1.35s\tremaining: 21.1s\n",
      "400:\ttest: 0.7631915\tbest: 0.7651587 (350)\ttotal: 1.94s\tremaining: 22.3s\n",
      "Stopped by overfitting detector  (100 iterations wait)\n",
      "\n",
      "bestTest = 0.7651586831\n",
      "bestIteration = 350\n",
      "\n",
      "Shrink model to first 351 iterations.\n",
      "Lvl_0_Pipe_1_Mod_3_CatBoost fitting and predicting completed\n"
     ]
    },
    {
     "name": "stderr",
     "output_type": "stream",
     "text": [
      "[2021-08-30 11:27:58,060] (INFO): Trial 10 finished with value: 0.765158683066857 and parameters: {'max_depth': 4, 'nan_mode': 'Max', 'l2_leaf_reg': 5.319049072944658, 'min_data_in_leaf': 14}. Best is trial 8 with value: 0.7682751468693705.\n"
     ]
    },
    {
     "name": "stdout",
     "output_type": "stream",
     "text": [
      "Start fitting Lvl_0_Pipe_1_Mod_3_CatBoost ...\n",
      "\n",
      "===== Start working with fold 0 for Lvl_0_Pipe_1_Mod_3_CatBoost =====\n",
      "\n",
      "0:\ttest: 0.5353689\tbest: 0.5353689 (0)\ttotal: 4.75ms\tremaining: 23.7s\n",
      "100:\ttest: 0.7551251\tbest: 0.7558895 (95)\ttotal: 664ms\tremaining: 32.2s\n",
      "200:\ttest: 0.7579796\tbest: 0.7581346 (177)\ttotal: 1.18s\tremaining: 28.2s\n",
      "300:\ttest: 0.7608288\tbest: 0.7608715 (299)\ttotal: 1.69s\tremaining: 26.4s\n",
      "400:\ttest: 0.7630686\tbest: 0.7636512 (336)\ttotal: 2.19s\tremaining: 25.1s\n",
      "Stopped by overfitting detector  (100 iterations wait)\n",
      "\n",
      "bestTest = 0.763651234\n",
      "bestIteration = 336\n",
      "\n",
      "Shrink model to first 337 iterations.\n",
      "Lvl_0_Pipe_1_Mod_3_CatBoost fitting and predicting completed\n"
     ]
    },
    {
     "name": "stderr",
     "output_type": "stream",
     "text": [
      "[2021-08-30 11:28:00,829] (INFO): Trial 11 finished with value: 0.7636512340234456 and parameters: {'max_depth': 5, 'nan_mode': 'Max', 'l2_leaf_reg': 7.078048989047283, 'min_data_in_leaf': 20}. Best is trial 8 with value: 0.7682751468693705.\n"
     ]
    },
    {
     "name": "stdout",
     "output_type": "stream",
     "text": [
      "Start fitting Lvl_0_Pipe_1_Mod_3_CatBoost ...\n",
      "\n",
      "===== Start working with fold 0 for Lvl_0_Pipe_1_Mod_3_CatBoost =====\n",
      "\n",
      "0:\ttest: 0.5367748\tbest: 0.5367748 (0)\ttotal: 14.4ms\tremaining: 1m 11s\n",
      "100:\ttest: 0.7521957\tbest: 0.7522331 (99)\ttotal: 497ms\tremaining: 24.1s\n",
      "200:\ttest: 0.7579849\tbest: 0.7593587 (192)\ttotal: 1.09s\tremaining: 25.9s\n",
      "300:\ttest: 0.7624218\tbest: 0.7630205 (262)\ttotal: 1.6s\tremaining: 25s\n",
      "400:\ttest: 0.7587547\tbest: 0.7645119 (346)\ttotal: 2.25s\tremaining: 25.8s\n",
      "Stopped by overfitting detector  (100 iterations wait)\n",
      "\n",
      "bestTest = 0.7645118698\n",
      "bestIteration = 346\n",
      "\n",
      "Shrink model to first 347 iterations.\n",
      "Lvl_0_Pipe_1_Mod_3_CatBoost fitting and predicting completed\n"
     ]
    },
    {
     "name": "stderr",
     "output_type": "stream",
     "text": [
      "[2021-08-30 11:28:03,707] (INFO): Trial 12 finished with value: 0.764511869824826 and parameters: {'max_depth': 5, 'nan_mode': 'Max', 'l2_leaf_reg': 0.20549655637494021, 'min_data_in_leaf': 19}. Best is trial 8 with value: 0.7682751468693705.\n"
     ]
    },
    {
     "name": "stdout",
     "output_type": "stream",
     "text": [
      "Start fitting Lvl_0_Pipe_1_Mod_3_CatBoost ...\n",
      "\n",
      "===== Start working with fold 0 for Lvl_0_Pipe_1_Mod_3_CatBoost =====\n",
      "\n",
      "0:\ttest: 0.5242395\tbest: 0.5242395 (0)\ttotal: 7.02ms\tremaining: 35.1s\n",
      "100:\ttest: 0.7390616\tbest: 0.7412106 (96)\ttotal: 726ms\tremaining: 35.2s\n",
      "200:\ttest: 0.7229608\tbest: 0.7430441 (108)\ttotal: 1.48s\tremaining: 35.3s\n",
      "Stopped by overfitting detector  (100 iterations wait)\n",
      "\n",
      "bestTest = 0.7430440849\n",
      "bestIteration = 108\n",
      "\n",
      "Shrink model to first 109 iterations.\n",
      "Lvl_0_Pipe_1_Mod_3_CatBoost fitting and predicting completed\n"
     ]
    },
    {
     "name": "stderr",
     "output_type": "stream",
     "text": [
      "[2021-08-30 11:28:05,631] (INFO): Trial 13 finished with value: 0.7430440848661739 and parameters: {'max_depth': 7, 'nan_mode': 'Max', 'l2_leaf_reg': 0.19732487971596221, 'min_data_in_leaf': 15}. Best is trial 8 with value: 0.7682751468693705.\n"
     ]
    },
    {
     "name": "stdout",
     "output_type": "stream",
     "text": [
      "Start fitting Lvl_0_Pipe_1_Mod_3_CatBoost ...\n",
      "\n",
      "===== Start working with fold 0 for Lvl_0_Pipe_1_Mod_3_CatBoost =====\n",
      "\n",
      "0:\ttest: 0.5449214\tbest: 0.5449214 (0)\ttotal: 4.24ms\tremaining: 21.2s\n",
      "100:\ttest: 0.7473633\tbest: 0.7485500 (95)\ttotal: 464ms\tremaining: 22.5s\n",
      "200:\ttest: 0.7554618\tbest: 0.7554618 (200)\ttotal: 885ms\tremaining: 21.1s\n",
      "300:\ttest: 0.7598345\tbest: 0.7604653 (299)\ttotal: 1.36s\tremaining: 21.3s\n",
      "400:\ttest: 0.7603423\tbest: 0.7613473 (334)\ttotal: 1.91s\tremaining: 21.9s\n",
      "500:\ttest: 0.7570334\tbest: 0.7631274 (445)\ttotal: 2.37s\tremaining: 21.3s\n",
      "Stopped by overfitting detector  (100 iterations wait)\n",
      "\n",
      "bestTest = 0.7631273688\n",
      "bestIteration = 445\n",
      "\n",
      "Shrink model to first 446 iterations.\n",
      "Lvl_0_Pipe_1_Mod_3_CatBoost fitting and predicting completed\n"
     ]
    },
    {
     "name": "stderr",
     "output_type": "stream",
     "text": [
      "[2021-08-30 11:28:08,552] (INFO): Trial 14 finished with value: 0.7631273687530404 and parameters: {'max_depth': 4, 'nan_mode': 'Max', 'l2_leaf_reg': 0.252450628010636, 'min_data_in_leaf': 8}. Best is trial 8 with value: 0.7682751468693705.\n"
     ]
    },
    {
     "name": "stdout",
     "output_type": "stream",
     "text": [
      "Start fitting Lvl_0_Pipe_1_Mod_3_CatBoost ...\n",
      "\n",
      "===== Start working with fold 0 for Lvl_0_Pipe_1_Mod_3_CatBoost =====\n",
      "\n",
      "0:\ttest: 0.5468619\tbest: 0.5468619 (0)\ttotal: 5.59ms\tremaining: 28s\n",
      "100:\ttest: 0.7597917\tbest: 0.7632557 (97)\ttotal: 692ms\tremaining: 33.5s\n",
      "200:\ttest: 0.7594443\tbest: 0.7644477 (137)\ttotal: 1.3s\tremaining: 31s\n",
      "Stopped by overfitting detector  (100 iterations wait)\n",
      "\n",
      "bestTest = 0.7644477231\n",
      "bestIteration = 137\n",
      "\n",
      "Shrink model to first 138 iterations.\n",
      "Lvl_0_Pipe_1_Mod_3_CatBoost fitting and predicting completed\n"
     ]
    },
    {
     "name": "stderr",
     "output_type": "stream",
     "text": [
      "[2021-08-30 11:28:10,440] (INFO): Trial 15 finished with value: 0.7644477230570212 and parameters: {'max_depth': 6, 'nan_mode': 'Max', 'l2_leaf_reg': 0.6881505497397684, 'min_data_in_leaf': 12}. Best is trial 8 with value: 0.7682751468693705.\n"
     ]
    },
    {
     "name": "stdout",
     "output_type": "stream",
     "text": [
      "Start fitting Lvl_0_Pipe_1_Mod_3_CatBoost ...\n",
      "\n",
      "===== Start working with fold 0 for Lvl_0_Pipe_1_Mod_3_CatBoost =====\n",
      "\n",
      "0:\ttest: 0.5367748\tbest: 0.5367748 (0)\ttotal: 31.4ms\tremaining: 2m 36s\n",
      "100:\ttest: 0.7255587\tbest: 0.7291456 (87)\ttotal: 518ms\tremaining: 25.1s\n",
      "Stopped by overfitting detector  (100 iterations wait)\n",
      "\n",
      "bestTest = 0.7291456185\n",
      "bestIteration = 87\n",
      "\n",
      "Shrink model to first 88 iterations.\n",
      "Lvl_0_Pipe_1_Mod_3_CatBoost fitting and predicting completed\n"
     ]
    },
    {
     "name": "stderr",
     "output_type": "stream",
     "text": [
      "[2021-08-30 11:28:11,928] (INFO): Trial 16 finished with value: 0.7291456185084808 and parameters: {'max_depth': 5, 'nan_mode': 'Max', 'l2_leaf_reg': 3.3269316960334264e-08, 'min_data_in_leaf': 17}. Best is trial 8 with value: 0.7682751468693705.\n"
     ]
    },
    {
     "name": "stdout",
     "output_type": "stream",
     "text": [
      "Start fitting Lvl_0_Pipe_1_Mod_3_CatBoost ...\n",
      "\n",
      "===== Start working with fold 0 for Lvl_0_Pipe_1_Mod_3_CatBoost =====\n",
      "\n",
      "0:\ttest: 0.5449214\tbest: 0.5449214 (0)\ttotal: 4.25ms\tremaining: 21.2s\n",
      "100:\ttest: 0.7496886\tbest: 0.7499238 (95)\ttotal: 447ms\tremaining: 21.7s\n",
      "200:\ttest: 0.7559002\tbest: 0.7583805 (157)\ttotal: 910ms\tremaining: 21.7s\n",
      "300:\ttest: 0.7669762\tbest: 0.7677566 (295)\ttotal: 1.34s\tremaining: 21s\n",
      "400:\ttest: 0.7659766\tbest: 0.7693282 (321)\ttotal: 1.8s\tremaining: 20.6s\n",
      "Stopped by overfitting detector  (100 iterations wait)\n",
      "\n",
      "bestTest = 0.769328223\n",
      "bestIteration = 321\n",
      "\n",
      "Shrink model to first 322 iterations.\n",
      "Lvl_0_Pipe_1_Mod_3_CatBoost fitting and predicting completed\n"
     ]
    },
    {
     "name": "stderr",
     "output_type": "stream",
     "text": [
      "[2021-08-30 11:28:14,167] (INFO): Trial 17 finished with value: 0.7693282229741648 and parameters: {'max_depth': 4, 'nan_mode': 'Max', 'l2_leaf_reg': 0.03786184042353313, 'min_data_in_leaf': 1}. Best is trial 17 with value: 0.7693282229741648.\n"
     ]
    },
    {
     "name": "stdout",
     "output_type": "stream",
     "text": [
      "Start fitting Lvl_0_Pipe_1_Mod_3_CatBoost ...\n",
      "\n",
      "===== Start working with fold 0 for Lvl_0_Pipe_1_Mod_3_CatBoost =====\n",
      "\n",
      "0:\ttest: 0.5449214\tbest: 0.5449214 (0)\ttotal: 4.15ms\tremaining: 20.8s\n",
      "100:\ttest: 0.7440918\tbest: 0.7464118 (95)\ttotal: 590ms\tremaining: 28.6s\n",
      "200:\ttest: 0.7485019\tbest: 0.7519177 (129)\ttotal: 1.06s\tremaining: 25.3s\n",
      "Stopped by overfitting detector  (100 iterations wait)\n",
      "\n",
      "bestTest = 0.7519177211\n",
      "bestIteration = 129\n",
      "\n",
      "Shrink model to first 130 iterations.\n",
      "Lvl_0_Pipe_1_Mod_3_CatBoost fitting and predicting completed\n"
     ]
    },
    {
     "name": "stderr",
     "output_type": "stream",
     "text": [
      "[2021-08-30 11:28:15,682] (INFO): Trial 18 finished with value: 0.7519177210791624 and parameters: {'max_depth': 4, 'nan_mode': 'Max', 'l2_leaf_reg': 0.02791778392651184, 'min_data_in_leaf': 1}. Best is trial 17 with value: 0.7693282229741648.\n"
     ]
    },
    {
     "name": "stdout",
     "output_type": "stream",
     "text": [
      "Start fitting Lvl_0_Pipe_1_Mod_3_CatBoost ...\n",
      "\n",
      "===== Start working with fold 0 for Lvl_0_Pipe_1_Mod_3_CatBoost =====\n",
      "\n",
      "0:\ttest: 0.5312101\tbest: 0.5312101 (0)\ttotal: 18.5ms\tremaining: 1m 32s\n",
      "100:\ttest: 0.7447172\tbest: 0.7447172 (100)\ttotal: 406ms\tremaining: 19.7s\n",
      "200:\ttest: 0.7531312\tbest: 0.7539437 (187)\ttotal: 815ms\tremaining: 19.4s\n",
      "300:\ttest: 0.7641430\tbest: 0.7641430 (300)\ttotal: 1.21s\tremaining: 18.9s\n",
      "400:\ttest: 0.7687616\tbest: 0.7699750 (388)\ttotal: 1.63s\tremaining: 18.6s\n",
      "500:\ttest: 0.7718674\tbest: 0.7727654 (470)\ttotal: 2.02s\tremaining: 18.1s\n",
      "600:\ttest: 0.7693336\tbest: 0.7730006 (523)\ttotal: 2.41s\tremaining: 17.6s\n",
      "Stopped by overfitting detector  (100 iterations wait)\n",
      "\n",
      "bestTest = 0.7730006254\n",
      "bestIteration = 523\n",
      "\n",
      "Shrink model to first 524 iterations.\n",
      "Lvl_0_Pipe_1_Mod_3_CatBoost fitting and predicting completed\n"
     ]
    },
    {
     "name": "stderr",
     "output_type": "stream",
     "text": [
      "[2021-08-30 11:28:18,741] (INFO): Trial 19 finished with value: 0.7730006254309861 and parameters: {'max_depth': 3, 'nan_mode': 'Max', 'l2_leaf_reg': 0.014270221067775379, 'min_data_in_leaf': 7}. Best is trial 19 with value: 0.7730006254309861.\n"
     ]
    },
    {
     "name": "stdout",
     "output_type": "stream",
     "text": [
      "Start fitting Lvl_0_Pipe_1_Mod_3_CatBoost ...\n",
      "\n",
      "===== Start working with fold 0 for Lvl_0_Pipe_1_Mod_3_CatBoost =====\n",
      "\n",
      "0:\ttest: 0.5449214\tbest: 0.5449214 (0)\ttotal: 5.19ms\tremaining: 26s\n",
      "100:\ttest: 0.7452571\tbest: 0.7459895 (98)\ttotal: 457ms\tremaining: 22.2s\n",
      "200:\ttest: 0.7612992\tbest: 0.7612992 (200)\ttotal: 912ms\tremaining: 21.8s\n",
      "300:\ttest: 0.7545958\tbest: 0.7616360 (202)\ttotal: 1.53s\tremaining: 23.9s\n",
      "Stopped by overfitting detector  (100 iterations wait)\n",
      "\n",
      "bestTest = 0.7616359564\n",
      "bestIteration = 202\n",
      "\n",
      "Shrink model to first 203 iterations.\n",
      "Lvl_0_Pipe_1_Mod_3_CatBoost fitting and predicting completed\n"
     ]
    },
    {
     "name": "stderr",
     "output_type": "stream",
     "text": [
      "[2021-08-30 11:28:20,680] (INFO): Trial 20 finished with value: 0.7616359564015802 and parameters: {'max_depth': 4, 'nan_mode': 'Max', 'l2_leaf_reg': 0.01986915922247935, 'min_data_in_leaf': 12}. Best is trial 19 with value: 0.7730006254309861.\n"
     ]
    },
    {
     "name": "stdout",
     "output_type": "stream",
     "text": [
      "Start fitting Lvl_0_Pipe_1_Mod_3_CatBoost ...\n",
      "\n",
      "===== Start working with fold 0 for Lvl_0_Pipe_1_Mod_3_CatBoost =====\n",
      "\n",
      "0:\ttest: 0.5312101\tbest: 0.5312101 (0)\ttotal: 3.47ms\tremaining: 17.4s\n",
      "100:\ttest: 0.7438673\tbest: 0.7438673 (91)\ttotal: 365ms\tremaining: 17.7s\n",
      "200:\ttest: 0.7559269\tbest: 0.7560712 (193)\ttotal: 745ms\tremaining: 17.8s\n",
      "300:\ttest: 0.7600002\tbest: 0.7601659 (298)\ttotal: 1.11s\tremaining: 17.4s\n",
      "400:\ttest: 0.7633358\tbest: 0.7633358 (400)\ttotal: 1.49s\tremaining: 17.1s\n",
      "500:\ttest: 0.7621652\tbest: 0.7655275 (426)\ttotal: 1.89s\tremaining: 17s\n",
      "Stopped by overfitting detector  (100 iterations wait)\n",
      "\n",
      "bestTest = 0.765527527\n",
      "bestIteration = 426\n",
      "\n",
      "Shrink model to first 427 iterations.\n",
      "Lvl_0_Pipe_1_Mod_3_CatBoost fitting and predicting completed\n"
     ]
    },
    {
     "name": "stderr",
     "output_type": "stream",
     "text": [
      "[2021-08-30 11:28:23,015] (INFO): Trial 21 finished with value: 0.7655275269817342 and parameters: {'max_depth': 3, 'nan_mode': 'Max', 'l2_leaf_reg': 0.7320073909222394, 'min_data_in_leaf': 7}. Best is trial 19 with value: 0.7730006254309861.\n"
     ]
    },
    {
     "name": "stdout",
     "output_type": "stream",
     "text": [
      "Start fitting Lvl_0_Pipe_1_Mod_3_CatBoost ...\n",
      "\n",
      "===== Start working with fold 0 for Lvl_0_Pipe_1_Mod_3_CatBoost =====\n",
      "\n",
      "0:\ttest: 0.5312101\tbest: 0.5312101 (0)\ttotal: 4.66ms\tremaining: 23.3s\n",
      "100:\ttest: 0.7482720\tbest: 0.7488173 (97)\ttotal: 380ms\tremaining: 18.4s\n",
      "200:\ttest: 0.7561728\tbest: 0.7562530 (195)\ttotal: 785ms\tremaining: 18.7s\n",
      "300:\ttest: 0.7623202\tbest: 0.7623202 (299)\ttotal: 1.29s\tremaining: 20.1s\n",
      "400:\ttest: 0.7619941\tbest: 0.7643568 (338)\ttotal: 1.66s\tremaining: 19.1s\n",
      "Stopped by overfitting detector  (100 iterations wait)\n",
      "\n",
      "bestTest = 0.7643568485\n",
      "bestIteration = 338\n",
      "\n",
      "Shrink model to first 339 iterations.\n",
      "Lvl_0_Pipe_1_Mod_3_CatBoost fitting and predicting completed\n"
     ]
    },
    {
     "name": "stderr",
     "output_type": "stream",
     "text": [
      "[2021-08-30 11:28:25,225] (INFO): Trial 22 finished with value: 0.7643568484692979 and parameters: {'max_depth': 3, 'nan_mode': 'Max', 'l2_leaf_reg': 0.03961434034619848, 'min_data_in_leaf': 6}. Best is trial 19 with value: 0.7730006254309861.\n"
     ]
    },
    {
     "name": "stdout",
     "output_type": "stream",
     "text": [
      "Start fitting Lvl_0_Pipe_1_Mod_3_CatBoost ...\n",
      "\n",
      "===== Start working with fold 0 for Lvl_0_Pipe_1_Mod_3_CatBoost =====\n",
      "\n",
      "0:\ttest: 0.5312101\tbest: 0.5312101 (0)\ttotal: 4.14ms\tremaining: 20.7s\n",
      "100:\ttest: 0.7234633\tbest: 0.7234633 (100)\ttotal: 407ms\tremaining: 19.7s\n",
      "200:\ttest: 0.7340315\tbest: 0.7377359 (180)\ttotal: 797ms\tremaining: 19s\n",
      "Stopped by overfitting detector  (100 iterations wait)\n",
      "\n",
      "bestTest = 0.7377359398\n",
      "bestIteration = 180\n",
      "\n",
      "Shrink model to first 181 iterations.\n",
      "Lvl_0_Pipe_1_Mod_3_CatBoost fitting and predicting completed\n"
     ]
    },
    {
     "name": "stderr",
     "output_type": "stream",
     "text": [
      "[2021-08-30 11:28:26,686] (INFO): Trial 23 finished with value: 0.7377359398303318 and parameters: {'max_depth': 3, 'nan_mode': 'Max', 'l2_leaf_reg': 4.7703879402588544e-05, 'min_data_in_leaf': 3}. Best is trial 19 with value: 0.7730006254309861.\n"
     ]
    },
    {
     "name": "stdout",
     "output_type": "stream",
     "text": [
      "Start fitting Lvl_0_Pipe_1_Mod_3_CatBoost ...\n",
      "\n",
      "===== Start working with fold 0 for Lvl_0_Pipe_1_Mod_3_CatBoost =====\n",
      "\n",
      "0:\ttest: 0.5312101\tbest: 0.5312101 (0)\ttotal: 4.79ms\tremaining: 14.4s\n",
      "100:\ttest: 0.7383881\tbest: 0.7383881 (100)\ttotal: 394ms\tremaining: 11.3s\n",
      "200:\ttest: 0.7485019\tbest: 0.7488440 (195)\ttotal: 809ms\tremaining: 11.3s\n",
      "300:\ttest: 0.7512656\tbest: 0.7518055 (292)\ttotal: 1.3s\tremaining: 11.7s\n",
      "400:\ttest: 0.7556382\tbest: 0.7558841 (373)\ttotal: 2.04s\tremaining: 13.2s\n",
      "500:\ttest: 0.7582843\tbest: 0.7594229 (484)\ttotal: 2.46s\tremaining: 12.3s\n",
      "Stopped by overfitting detector  (100 iterations wait)\n",
      "\n",
      "bestTest = 0.7594228929\n",
      "bestIteration = 484\n",
      "\n",
      "Shrink model to first 485 iterations.\n",
      "\n",
      "===== Start working with fold 1 for Lvl_0_Pipe_1_Mod_3_CatBoost =====\n",
      "\n",
      "0:\ttest: 0.5576543\tbest: 0.5576543 (0)\ttotal: 6.8ms\tremaining: 20.4s\n",
      "100:\ttest: 0.7113409\tbest: 0.7155549 (83)\ttotal: 384ms\tremaining: 11s\n",
      "200:\ttest: 0.7178477\tbest: 0.7188137 (165)\ttotal: 751ms\tremaining: 10.5s\n",
      "300:\ttest: 0.7245138\tbest: 0.7248694 (298)\ttotal: 1.16s\tremaining: 10.4s\n",
      "400:\ttest: 0.7255859\tbest: 0.7257982 (397)\ttotal: 1.59s\tremaining: 10.3s\n",
      "500:\ttest: 0.7240415\tbest: 0.7264829 (472)\ttotal: 2.07s\tremaining: 10.3s\n",
      "Stopped by overfitting detector  (100 iterations wait)\n",
      "\n",
      "bestTest = 0.7264828889\n",
      "bestIteration = 472\n",
      "\n",
      "Shrink model to first 473 iterations.\n",
      "\n",
      "===== Start working with fold 2 for Lvl_0_Pipe_1_Mod_3_CatBoost =====\n",
      "\n",
      "0:\ttest: 0.5321416\tbest: 0.5321416 (0)\ttotal: 32ms\tremaining: 1m 36s\n",
      "100:\ttest: 0.7087402\tbest: 0.7132462 (84)\ttotal: 542ms\tremaining: 15.6s\n",
      "200:\ttest: 0.7120627\tbest: 0.7146049 (187)\ttotal: 991ms\tremaining: 13.8s\n",
      "300:\ttest: 0.7173913\tbest: 0.7173913 (300)\ttotal: 1.44s\tremaining: 12.9s\n",
      "400:\ttest: 0.7210481\tbest: 0.7210746 (398)\ttotal: 1.86s\tremaining: 12.1s\n",
      "500:\ttest: 0.7274170\tbest: 0.7274541 (484)\ttotal: 2.26s\tremaining: 11.3s\n",
      "600:\ttest: 0.7313392\tbest: 0.7313392 (600)\ttotal: 2.68s\tremaining: 10.7s\n",
      "700:\ttest: 0.7255063\tbest: 0.7321777 (611)\ttotal: 3.08s\tremaining: 10.1s\n",
      "Stopped by overfitting detector  (100 iterations wait)\n",
      "\n",
      "bestTest = 0.7321777344\n",
      "bestIteration = 611\n",
      "\n",
      "Shrink model to first 612 iterations.\n",
      "\n",
      "===== Start working with fold 3 for Lvl_0_Pipe_1_Mod_3_CatBoost =====\n",
      "\n",
      "0:\ttest: 0.5771484\tbest: 0.5771484 (0)\ttotal: 4.58ms\tremaining: 13.7s\n",
      "100:\ttest: 0.7222370\tbest: 0.7268279 (70)\ttotal: 425ms\tremaining: 12.2s\n",
      "200:\ttest: 0.7247633\tbest: 0.7272578 (137)\ttotal: 881ms\tremaining: 12.3s\n",
      "Stopped by overfitting detector  (100 iterations wait)\n",
      "\n",
      "bestTest = 0.72725777\n",
      "bestIteration = 137\n",
      "\n",
      "Shrink model to first 138 iterations.\n",
      "\n",
      "===== Start working with fold 4 for Lvl_0_Pipe_1_Mod_3_CatBoost =====\n",
      "\n",
      "0:\ttest: 0.5311571\tbest: 0.5311571 (0)\ttotal: 8.2ms\tremaining: 24.6s\n",
      "100:\ttest: 0.7487050\tbest: 0.7518735 (86)\ttotal: 484ms\tremaining: 13.9s\n",
      "200:\ttest: 0.7553499\tbest: 0.7557957 (192)\ttotal: 871ms\tremaining: 12.1s\n",
      "300:\ttest: 0.7599408\tbest: 0.7602964 (297)\ttotal: 1.27s\tremaining: 11.4s\n",
      "400:\ttest: 0.7587360\tbest: 0.7605352 (335)\ttotal: 1.7s\tremaining: 11s\n",
      "Stopped by overfitting detector  (100 iterations wait)\n",
      "\n",
      "bestTest = 0.7605351987\n",
      "bestIteration = 335\n",
      "\n",
      "Shrink model to first 336 iterations.\n",
      "Lvl_0_Pipe_1_Mod_3_CatBoost fitting and predicting completed\n",
      "Time left 41.06716322898865\n"
     ]
    },
    {
     "name": "stderr",
     "output_type": "stream",
     "text": [
      "Time limit exceeded in one of the tasks. AutoML will blend level 1 models.\n"
     ]
    },
    {
     "name": "stdout",
     "output_type": "stream",
     "text": [
      "Blending: Optimization starts with equal weights and score 0.7476883520325261\n",
      "Blending, iter 0: score = 0.7487511371417991, weights = [0.25338995 0.3767434  0.08372986 0.2861368 ]\n",
      "Blending, iter 1: score = 0.748809495716013, weights = [0.2837248  0.34256506 0.08196529 0.29174483]\n",
      "Blending, iter 2: score = 0.7488229957869148, weights = [0.28036314 0.34881866 0.08099414 0.2898241 ]\n",
      "Blending, iter 3: score = 0.7488206571919556, weights = [0.28139296 0.3464268  0.08129164 0.29088867]\n",
      "Blending, iter 4: score = 0.7488206571919556, weights = [0.28139296 0.3464268  0.08129164 0.29088867]\n",
      "No score update. Terminated\n",
      "\n",
      "Automl preset training completed in 139.43 seconds.\n"
     ]
    },
    {
     "name": "stderr",
     "output_type": "stream",
     "text": [
      "[2021-08-30 11:28:39,871] (INFO): oof_pred:\n",
      "array([[0.03614821],\n",
      "       [0.02808275],\n",
      "       [0.03322194],\n",
      "       ...,\n",
      "       [0.04343984],\n",
      "       [0.14741312],\n",
      "       [0.11605245]], dtype=float32)\n",
      "Shape = (8000, 1)\n"
     ]
    },
    {
     "name": "stdout",
     "output_type": "stream",
     "text": [
      "Wall time: 2min 19s\n"
     ]
    }
   ],
   "source": [
    "%%time \n",
    "\n",
    "automl = TabularUtilizedAutoML(task = task, \n",
    "                       timeout = TIMEOUT,\n",
    "                       cpu_limit = N_THREADS,\n",
    "                       reader_params = {'n_jobs': N_THREADS, 'cv': N_FOLDS, 'random_state': RANDOM_STATE},\n",
    "                      )\n",
    "oof_pred = automl.fit_predict(train_data, roles = roles)\n",
    "logging.info('oof_pred:\\n{}\\nShape = {}'.format(oof_pred, oof_pred.shape))"
   ]
  },
  {
   "cell_type": "code",
   "execution_count": 61,
   "metadata": {},
   "outputs": [
    {
     "name": "stderr",
     "output_type": "stream",
     "text": [
      "No feature importances to show. Please use another calculation method\n"
     ]
    },
    {
     "name": "stdout",
     "output_type": "stream",
     "text": [
      "LightAutoML used 111 feats\n",
      "1/111 Calculated score for OBS_30_CNT_SOCIAL_CIRCLE: 0.0017916\n",
      "2/111 Calculated score for AMT_REQ_CREDIT_BUREAU_YEAR: 0.0064926\n",
      "3/111 Calculated score for DAYS_REGISTRATION: 0.0065534\n",
      "4/111 Calculated score for AMT_REQ_CREDIT_BUREAU_WEEK: 0.0000876\n",
      "5/111 Calculated score for ENTRANCES_MEDI: 0.0002638\n",
      "6/111 Calculated score for TOTALAREA_MODE: 0.0021641\n",
      "7/111 Calculated score for FLOORSMAX_MODE: -0.0001580\n",
      "8/111 Calculated score for YEARS_BUILD_MEDI: 0.0001792\n",
      "9/111 Calculated score for CNT_CHILDREN: 0.0003504\n",
      "10/111 Calculated score for LIVINGAREA_AVG: 0.0017295\n",
      "11/111 Calculated score for ELEVATORS_MODE: 0.0001388\n",
      "12/111 Calculated score for YEARS_BUILD_MODE: 0.0005194\n",
      "13/111 Calculated score for LANDAREA_MODE: 0.0017221\n",
      "14/111 Calculated score for FLAG_DOCUMENT_3: 0.0002689\n",
      "15/111 Calculated score for EXT_SOURCE_3: 0.0512605\n",
      "16/111 Calculated score for FLAG_CONT_MOBILE: 0.0000040\n",
      "17/111 Calculated score for LANDAREA_AVG: 0.0020269\n",
      "18/111 Calculated score for LIVE_REGION_NOT_WORK_REGION: 0.0001140\n",
      "19/111 Calculated score for AMT_REQ_CREDIT_BUREAU_MON: 0.0002783\n",
      "20/111 Calculated score for OCCUPATION_TYPE: 0.0044117\n",
      "21/111 Calculated score for NAME_CONTRACT_TYPE: 0.0000999\n",
      "22/111 Calculated score for LIVINGAREA_MODE: 0.0016757\n",
      "23/111 Calculated score for DEF_60_CNT_SOCIAL_CIRCLE: 0.0002250\n",
      "24/111 Calculated score for FLAG_OWN_REALTY: 0.0003051\n",
      "25/111 Calculated score for BASEMENTAREA_MEDI: 0.0009008\n",
      "26/111 Calculated score for YEARS_BEGINEXPLUATATION_AVG: 0.0012932\n",
      "27/111 Calculated score for FLAG_DOCUMENT_14: 0.0002134\n",
      "28/111 Calculated score for ENTRANCES_AVG: 0.0007909\n",
      "29/111 Calculated score for APARTMENTS_AVG: 0.0009756\n",
      "30/111 Calculated score for NAME_FAMILY_STATUS: 0.0043436\n",
      "31/111 Calculated score for REG_REGION_NOT_WORK_REGION: 0.0001450\n",
      "32/111 Calculated score for FLOORSMAX_AVG: 0.0004335\n",
      "33/111 Calculated score for CNT_FAM_MEMBERS: 0.0015277\n",
      "34/111 Calculated score for AMT_INCOME_TOTAL: 0.0045368\n",
      "35/111 Calculated score for AMT_CREDIT: 0.0066212\n",
      "36/111 Calculated score for FLAG_EMP_PHONE: -0.0004866\n",
      "37/111 Calculated score for WEEKDAY_APPR_PROCESS_START: 0.0023760\n",
      "38/111 Calculated score for FONDKAPREMONT_MODE: 0.0000166\n",
      "39/111 Calculated score for NAME_HOUSING_TYPE: 0.0002064\n",
      "40/111 Calculated score for REGION_RATING_CLIENT: -0.0001852\n",
      "41/111 Calculated score for SK_ID_CURR: 0.0068638\n",
      "42/111 Calculated score for ENTRANCES_MODE: 0.0005570\n",
      "43/111 Calculated score for FLAG_DOCUMENT_13: 0.0000359\n",
      "44/111 Calculated score for CODE_GENDER: 0.0015959\n",
      "45/111 Calculated score for LIVINGAPARTMENTS_AVG: 0.0007009\n",
      "46/111 Calculated score for COMMONAREA_MEDI: 0.0004344\n",
      "47/111 Calculated score for REGION_POPULATION_RELATIVE: 0.0098574\n",
      "48/111 Calculated score for LIVE_CITY_NOT_WORK_CITY: 0.0000134\n",
      "49/111 Calculated score for BASEMENTAREA_AVG: 0.0018207\n",
      "50/111 Calculated score for NONLIVINGAREA_MODE: 0.0011446\n",
      "51/111 Calculated score for BIRTH_DATE: 0.0173598\n",
      "52/111 Calculated score for EXT_SOURCE_1: 0.0111724\n",
      "53/111 Calculated score for LIVINGAPARTMENTS_MODE: 0.0004433\n",
      "54/111 Calculated score for FLAG_DOCUMENT_16: 0.0000347\n",
      "55/111 Calculated score for NONLIVINGAPARTMENTS_AVG: 0.0005462\n",
      "56/111 Calculated score for DAYS_ID_PUBLISH: 0.0062085\n",
      "57/111 Calculated score for AMT_ANNUITY: 0.0221369\n",
      "58/111 Calculated score for HOUSETYPE_MODE: -0.0000408\n",
      "59/111 Calculated score for LIVINGAPARTMENTS_MEDI: 0.0002887\n",
      "60/111 Calculated score for LIVINGAREA_MEDI: 0.0009877\n",
      "61/111 Calculated score for FLAG_DOCUMENT_8: 0.0000461\n",
      "62/111 Calculated score for AMT_REQ_CREDIT_BUREAU_HOUR: -0.0000696\n",
      "63/111 Calculated score for FLAG_PHONE: 0.0006031\n",
      "64/111 Calculated score for REG_CITY_NOT_LIVE_CITY: 0.0001433\n",
      "65/111 Calculated score for COMMONAREA_AVG: 0.0133919\n",
      "66/111 Calculated score for YEARS_BUILD_AVG: 0.0010062\n",
      "67/111 Calculated score for AMT_REQ_CREDIT_BUREAU_QRT: 0.0005519\n",
      "68/111 Calculated score for FLAG_EMAIL: 0.0003888\n",
      "69/111 Calculated score for OBS_60_CNT_SOCIAL_CIRCLE: 0.0012903\n",
      "70/111 Calculated score for ELEVATORS_MEDI: 0.0001307\n",
      "71/111 Calculated score for EMERGENCYSTATE_MODE: 0.0003542\n",
      "72/111 Calculated score for OWN_CAR_AGE: 0.0032092\n",
      "73/111 Calculated score for DAYS_LAST_PHONE_CHANGE: 0.0056254\n",
      "74/111 Calculated score for FLAG_DOCUMENT_5: 0.0000225\n",
      "75/111 Calculated score for FLOORSMIN_MEDI: 0.0000725\n",
      "76/111 Calculated score for YEARS_BEGINEXPLUATATION_MEDI: 0.0008874\n",
      "77/111 Calculated score for FLAG_DOCUMENT_9: -0.0000055\n",
      "78/111 Calculated score for REG_CITY_NOT_WORK_CITY: 0.0002743\n",
      "79/111 Calculated score for FLAG_DOCUMENT_18: -0.0000281\n",
      "80/111 Calculated score for ORGANIZATION_TYPE: 0.0155608\n",
      "81/111 Calculated score for report_dt: 0.0000000\n",
      "82/111 Calculated score for AMT_GOODS_PRICE: 0.0033040\n",
      "83/111 Calculated score for EXT_SOURCE_2: 0.0596516\n",
      "84/111 Calculated score for REGION_RATING_CLIENT_W_CITY: -0.0005600\n",
      "85/111 Calculated score for EMP_DATE: 0.0106621\n",
      "86/111 Calculated score for NONLIVINGAREA_AVG: 0.0009178\n",
      "87/111 Calculated score for REG_REGION_NOT_LIVE_REGION: 0.0000040\n",
      "88/111 Calculated score for FLAG_DOCUMENT_6: -0.0000884\n",
      "89/111 Calculated score for FLOORSMAX_MEDI: -0.0000893\n",
      "90/111 Calculated score for DEF_30_CNT_SOCIAL_CIRCLE: 0.0004033\n",
      "91/111 Calculated score for AMT_REQ_CREDIT_BUREAU_DAY: -0.0001594\n",
      "92/111 Calculated score for YEARS_BEGINEXPLUATATION_MODE: 0.0010560\n",
      "93/111 Calculated score for WALLSMATERIAL_MODE: 0.0001735\n",
      "94/111 Calculated score for BASEMENTAREA_MODE: 0.0015407\n",
      "95/111 Calculated score for COMMONAREA_MODE: 0.0008989\n",
      "96/111 Calculated score for NAME_INCOME_TYPE: 0.0013989\n",
      "97/111 Calculated score for FLAG_DOCUMENT_11: 0.0001393\n",
      "98/111 Calculated score for FLOORSMIN_AVG: 0.0000183\n",
      "99/111 Calculated score for APARTMENTS_MODE: 0.0014561\n",
      "100/111 Calculated score for LANDAREA_MEDI: 0.0013245\n",
      "101/111 Calculated score for FLAG_OWN_CAR: 0.0002970\n",
      "102/111 Calculated score for FLAG_WORK_PHONE: 0.0002764\n",
      "103/111 Calculated score for NAME_TYPE_SUITE: 0.0008058\n",
      "104/111 Calculated score for HOUR_APPR_PROCESS_START: 0.0028748\n",
      "105/111 Calculated score for ELEVATORS_AVG: -0.0000589\n",
      "106/111 Calculated score for APARTMENTS_MEDI: 0.0007794\n",
      "107/111 Calculated score for NONLIVINGAPARTMENTS_MEDI: 0.0003351\n",
      "108/111 Calculated score for FLOORSMIN_MODE: 0.0000017\n",
      "109/111 Calculated score for NAME_EDUCATION_TYPE: 0.0019846\n",
      "110/111 Calculated score for NONLIVINGAPARTMENTS_MODE: 0.0002120\n",
      "111/111 Calculated score for NONLIVINGAREA_MEDI: 0.0006486\n",
      "Wall time: 3min 7s\n"
     ]
    },
    {
     "data": {
      "image/png": "[encoded data removed]",
      "text/plain": [
       "<Figure size 1440x720 with 1 Axes>"
      ]
     },
     "metadata": {
      "needs_background": "light"
     },
     "output_type": "display_data"
    }
   ],
   "source": [
    "%%time\n",
    "\n",
    "# Fast feature importances calculation\n",
    "fast_fi = automl.get_feature_scores('fast', silent = False)\n",
    "if fast_fi is None:\n",
    "    fast_fi = automl.get_feature_scores('accurate', train_data, silent=False)\n",
    "if fast_fi is not None:\n",
    "    fast_fi.set_index('Feature')['Importance'].plot.bar(figsize = (20, 10), grid = True)"
   ]
  },
  {
   "cell_type": "markdown",
   "metadata": {},
   "source": [
    "## Step 6. Predict to test data and check scores for utilized automl"
   ]
  },
  {
   "cell_type": "code",
   "execution_count": 62,
   "metadata": {},
   "outputs": [
    {
     "name": "stderr",
     "output_type": "stream",
     "text": [
      "[2021-08-30 11:34:11,106] (INFO): Prediction for test data:\n",
      "array([[0.06294385],\n",
      "       [0.07479264],\n",
      "       [0.0314509 ],\n",
      "       ...,\n",
      "       [0.06349283],\n",
      "       [0.05273468],\n",
      "       [0.21380168]], dtype=float32)\n",
      "Shape = (2000, 1)\n",
      "[2021-08-30 11:34:11,107] (INFO): Check scores...\n",
      "[2021-08-30 11:34:11,111] (INFO): OOF score: 0.7488234209859984\n",
      "[2021-08-30 11:34:11,114] (INFO): TEST score: 0.7309374999999999\n"
     ]
    },
    {
     "name": "stdout",
     "output_type": "stream",
     "text": [
      "Wall time: 824 ms\n"
     ]
    }
   ],
   "source": [
    "%%time\n",
    "\n",
    "test_pred = automl.predict(test_data)\n",
    "logging.info('Prediction for test data:\\n{}\\nShape = {}'\n",
    "              .format(test_pred, test_pred.shape))\n",
    "\n",
    "logging.info('Check scores...')\n",
    "logging.info('OOF score: {}'.format(roc_auc_score(train_data[TARGET_NAME].values, oof_pred.data[:, 0])))\n",
    "logging.info('TEST score: {}'.format(roc_auc_score(test_data[TARGET_NAME].values, test_pred.data[:, 0])))"
   ]
  },
  {
   "cell_type": "code",
   "execution_count": null,
   "metadata": {},
   "outputs": [],
   "source": []
  }
 ],
 "metadata": {
  "kernelspec": {
   "display_name": "LAMA-debug-22",
   "language": "python",
   "name": "lama-debug-22"
  },
  "language_info": {
   "codemirror_mode": {
    "name": "ipython",
    "version": 3
   },
   "file_extension": ".py",
   "mimetype": "text/x-python",
   "name": "python",
   "nbconvert_exporter": "python",
   "pygments_lexer": "ipython3",
   "version": "3.9.5"
  },
  "toc": {
   "base_numbering": 1,
   "nav_menu": {},
   "number_sections": true,
   "sideBar": true,
   "skip_h1_title": false,
   "title_cell": "Table of Contents",
   "title_sidebar": "Contents",
   "toc_cell": false,
   "toc_position": {},
   "toc_section_display": true,
   "toc_window_display": true
  }
 },
 "nbformat": 4,
 "nbformat_minor": 4
}
