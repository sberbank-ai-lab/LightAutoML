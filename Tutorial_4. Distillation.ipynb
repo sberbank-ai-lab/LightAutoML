{
 "metadata": {
  "language_info": {
   "codemirror_mode": {
    "name": "ipython",
    "version": 3
   },
   "file_extension": ".py",
   "mimetype": "text/x-python",
   "name": "python",
   "nbconvert_exporter": "python",
   "pygments_lexer": "ipython3",
   "version": "3.8.2-final"
  },
  "orig_nbformat": 2,
  "kernelspec": {
   "name": "python3",
   "display_name": "Python 3.8.2 64-bit ('venv')",
   "metadata": {
    "interpreter": {
     "hash": "db9812420e9f1e08d51514d493ec8074022af79b4a6254804ccdc86bfed24f70"
    }
   }
  }
 },
 "nbformat": 4,
 "nbformat_minor": 2,
 "cells": [
  {
   "source": [
    "#### In this tutorial we will implement distillation of complex model's knowledge to simpler models. A complex model called teacher is TabilarAutoMl object. Simpler models called students are BoostCB and BoostLGBM objects."
   ],
   "cell_type": "markdown",
   "metadata": {}
  },
  {
   "cell_type": "code",
   "execution_count": 1,
   "metadata": {},
   "outputs": [],
   "source": [
    "import numpy as np\n",
    "import pandas as pd\n",
    "from pandas import read_csv\n",
    "from sklearn.metrics import roc_auc_score, accuracy_score\n",
    "from sklearn.model_selection import train_test_split\n",
    "from sklearn.preprocessing import LabelEncoder\n",
    "\n",
    "from lightautoml.automl.presets.tabular_presets import TabularAutoML, TabularUtilizedAutoML\n",
    "from lightautoml.dataset.roles import NumericRole\n",
    "from lightautoml.tasks import Task\n",
    "from lightautoml.addons.distillation import Distiller\n",
    "from lightautoml.utils.profiler import Profiler\n",
    "from lightautoml.ml_algo.boost_cb import BoostCB\n",
    "from lightautoml.ml_algo.boost_lgbm import BoostLGBM\n",
    "from lightautoml.reader.base import PandasToPandasReader\n",
    "from lightautoml.automl.base import MLPipeline\n",
    "from lightautoml.pipelines.features.lgb_pipeline import LGBSimpleFeatures\n",
    "from lightautoml.automl.base import AutoML\n",
    "\n",
    "from catboost import CatBoostClassifier, CatBoostRegressor"
   ]
  },
  {
   "source": [
    "### 1. Some Setups"
   ],
   "cell_type": "markdown",
   "metadata": {}
  },
  {
   "cell_type": "code",
   "execution_count": 4,
   "metadata": {},
   "outputs": [],
   "source": [
    "RANDOM_STATE = 42\n",
    "TEST_SIZE = 2000\n",
    "TARGET_NAME = 'class'\n",
    "TIMEOUT = 600\n",
    "DATASET_PATH = 'example_data/dataset_12_mfeat-factors.csv'\n",
    "\n",
    "np.random.seed(RANDOM_STATE)"
   ]
  },
  {
   "source": [
    "### 2. Data loading and preparation"
   ],
   "cell_type": "markdown",
   "metadata": {}
  },
  {
   "cell_type": "code",
   "execution_count": 3,
   "metadata": {},
   "outputs": [],
   "source": [
    "data = read_csv(DATASET_PATH)\n",
    "# data[['white_piece0_strength', 'white_piece0_file', 'white_piece0_rank',\n",
    "#        'black_piece0_strength', 'black_piece0_file', 'black_piece0_rank']].astype(float, copy=False)\n",
    "# data[TARGET_NAME] = LabelEncoder().fit_transform(data[TARGET_NAME])\n",
    "train, test = train_test_split(data, test_size=0.25, random_state=RANDOM_STATE)"
   ]
  },
  {
   "source": [
    "### 3. AutoML and distiller creation"
   ],
   "cell_type": "markdown",
   "metadata": {}
  },
  {
   "cell_type": "code",
   "execution_count": 9,
   "metadata": {},
   "outputs": [],
   "source": [
    "# roles = {'target': TARGET_NAME,\n",
    "#          NumericRole(discretization=False): ['white_piece0_strength', 'white_piece0_file', 'white_piece0_rank',\n",
    "#        'black_piece0_strength', 'black_piece0_file', 'black_piece0_rank']}\n",
    "roles = {'target': TARGET_NAME}\n",
    "\n",
    "task = Task('multiclass')\n",
    "\n",
    "automl = TabularUtilizedAutoML(task=task, timeout=TIMEOUT, general_params={'verbose': 0})\n",
    "distiller = Distiller(automl)"
   ]
  },
  {
   "source": [
    "### 4. Distiller fitting and evaluation"
   ],
   "cell_type": "markdown",
   "metadata": {}
  },
  {
   "cell_type": "code",
   "execution_count": 10,
   "metadata": {
    "tags": [
     "outputPrepend"
    ]
   },
   "outputs": [
    {
     "output_type": "stream",
     "name": "stdout",
     "text": [
      ":\tlearn: 0.0607304\ttest: 0.1768808\tbest: 0.1768808 (900)\ttotal: 12s\tremaining: 28.1s\n",
      "1000:\tlearn: 0.0552491\ttest: 0.1726784\tbest: 0.1726676 (998)\ttotal: 13.4s\tremaining: 26.7s\n",
      "1100:\tlearn: 0.0498356\ttest: 0.1676876\tbest: 0.1676876 (1100)\ttotal: 14.7s\tremaining: 25.3s\n",
      "1200:\tlearn: 0.0456693\ttest: 0.1643305\tbest: 0.1643247 (1198)\ttotal: 16s\tremaining: 24s\n",
      "1300:\tlearn: 0.0415138\ttest: 0.1601614\tbest: 0.1601614 (1300)\ttotal: 17.4s\tremaining: 22.7s\n",
      "1400:\tlearn: 0.0379228\ttest: 0.1575179\tbest: 0.1575179 (1400)\ttotal: 18.8s\tremaining: 21.5s\n",
      "1500:\tlearn: 0.0343408\ttest: 0.1536050\tbest: 0.1536050 (1500)\ttotal: 20.2s\tremaining: 20.1s\n",
      "1600:\tlearn: 0.0315711\ttest: 0.1506950\tbest: 0.1506950 (1600)\ttotal: 21.5s\tremaining: 18.8s\n",
      "1700:\tlearn: 0.0290776\ttest: 0.1484531\tbest: 0.1484511 (1699)\ttotal: 22.8s\tremaining: 17.4s\n",
      "1800:\tlearn: 0.0271410\ttest: 0.1470566\tbest: 0.1470566 (1800)\ttotal: 24.1s\tremaining: 16.1s\n",
      "1900:\tlearn: 0.0254540\ttest: 0.1453629\tbest: 0.1453621 (1899)\ttotal: 25.5s\tremaining: 14.7s\n",
      "2000:\tlearn: 0.0238230\ttest: 0.1436657\tbest: 0.1436657 (2000)\ttotal: 26.8s\tremaining: 13.4s\n",
      "2100:\tlearn: 0.0223989\ttest: 0.1424187\tbest: 0.1424108 (2099)\ttotal: 28.2s\tremaining: 12.1s\n",
      "2200:\tlearn: 0.0209346\ttest: 0.1410832\tbest: 0.1410832 (2200)\ttotal: 29.7s\tremaining: 10.8s\n",
      "2300:\tlearn: 0.0196163\ttest: 0.1396979\tbest: 0.1396878 (2299)\ttotal: 31.1s\tremaining: 9.44s\n",
      "2400:\tlearn: 0.0186548\ttest: 0.1387043\tbest: 0.1387043 (2400)\ttotal: 32.4s\tremaining: 8.09s\n",
      "2500:\tlearn: 0.0175820\ttest: 0.1371917\tbest: 0.1371917 (2500)\ttotal: 33.8s\tremaining: 6.74s\n",
      "2600:\tlearn: 0.0167325\ttest: 0.1364922\tbest: 0.1364793 (2596)\ttotal: 35.2s\tremaining: 5.39s\n",
      "2700:\tlearn: 0.0158667\ttest: 0.1355512\tbest: 0.1355261 (2697)\ttotal: 36.5s\tremaining: 4.04s\n",
      "2800:\tlearn: 0.0151362\ttest: 0.1349181\tbest: 0.1349181 (2800)\ttotal: 37.9s\tremaining: 2.69s\n",
      "2900:\tlearn: 0.0144751\ttest: 0.1341561\tbest: 0.1341524 (2899)\ttotal: 39.3s\tremaining: 1.34s\n",
      "2999:\tlearn: 0.0138853\ttest: 0.1337312\tbest: 0.1337312 (2999)\ttotal: 40.7s\tremaining: 0us\n",
      "\n",
      "bestTest = 0.1337312177\n",
      "bestIteration = 2999\n",
      "\n",
      "0:\tlearn: 2.2265858\ttest: 2.2279817\tbest: 2.2279817 (0)\ttotal: 15.4ms\tremaining: 46.3s\n",
      "100:\tlearn: 0.4492715\ttest: 0.4990387\tbest: 0.4990387 (100)\ttotal: 1.47s\tremaining: 42.1s\n",
      "200:\tlearn: 0.2191595\ttest: 0.2808444\tbest: 0.2808444 (200)\ttotal: 2.91s\tremaining: 40.5s\n",
      "300:\tlearn: 0.1500629\ttest: 0.2156419\tbest: 0.2156419 (300)\ttotal: 4.4s\tremaining: 39.5s\n",
      "400:\tlearn: 0.1270575\ttest: 0.1932853\tbest: 0.1932853 (400)\ttotal: 5.83s\tremaining: 37.8s\n",
      "500:\tlearn: 0.1086857\ttest: 0.1764715\tbest: 0.1764715 (500)\ttotal: 7.25s\tremaining: 36.2s\n",
      "600:\tlearn: 0.0967981\ttest: 0.1662123\tbest: 0.1662123 (600)\ttotal: 8.68s\tremaining: 34.6s\n",
      "700:\tlearn: 0.0860812\ttest: 0.1571888\tbest: 0.1571888 (700)\ttotal: 10.1s\tremaining: 33.1s\n",
      "800:\tlearn: 0.0757208\ttest: 0.1477016\tbest: 0.1477016 (800)\ttotal: 11.5s\tremaining: 31.5s\n",
      "900:\tlearn: 0.0669274\ttest: 0.1396087\tbest: 0.1396016 (899)\ttotal: 12.8s\tremaining: 29.9s\n",
      "1000:\tlearn: 0.0591425\ttest: 0.1317039\tbest: 0.1317039 (1000)\ttotal: 14.3s\tremaining: 28.5s\n",
      "1100:\tlearn: 0.0542129\ttest: 0.1274544\tbest: 0.1274503 (1099)\ttotal: 15.7s\tremaining: 27.1s\n",
      "1200:\tlearn: 0.0483007\ttest: 0.1208799\tbest: 0.1208799 (1200)\ttotal: 17.2s\tremaining: 25.8s\n",
      "1300:\tlearn: 0.0433506\ttest: 0.1161504\tbest: 0.1161504 (1300)\ttotal: 18.8s\tremaining: 24.5s\n",
      "1400:\tlearn: 0.0396507\ttest: 0.1124124\tbest: 0.1124124 (1400)\ttotal: 20.3s\tremaining: 23.1s\n",
      "1500:\tlearn: 0.0364361\ttest: 0.1088642\tbest: 0.1088642 (1500)\ttotal: 21.7s\tremaining: 21.7s\n",
      "1600:\tlearn: 0.0337959\ttest: 0.1062643\tbest: 0.1062643 (1600)\ttotal: 23.1s\tremaining: 20.2s\n",
      "1700:\tlearn: 0.0312916\ttest: 0.1036149\tbest: 0.1036070 (1698)\ttotal: 24.7s\tremaining: 18.8s\n",
      "1800:\tlearn: 0.0290154\ttest: 0.1008524\tbest: 0.1008415 (1799)\ttotal: 26.1s\tremaining: 17.4s\n",
      "1900:\tlearn: 0.0271232\ttest: 0.0988090\tbest: 0.0988090 (1900)\ttotal: 27.5s\tremaining: 15.9s\n",
      "2000:\tlearn: 0.0252059\ttest: 0.0967963\tbest: 0.0967963 (2000)\ttotal: 28.9s\tremaining: 14.4s\n",
      "2100:\tlearn: 0.0237009\ttest: 0.0951132\tbest: 0.0951114 (2099)\ttotal: 30.3s\tremaining: 13s\n",
      "2200:\tlearn: 0.0224869\ttest: 0.0938944\tbest: 0.0938944 (2200)\ttotal: 31.7s\tremaining: 11.5s\n",
      "2300:\tlearn: 0.0211655\ttest: 0.0923382\tbest: 0.0923382 (2300)\ttotal: 33.1s\tremaining: 10.1s\n",
      "2400:\tlearn: 0.0200184\ttest: 0.0911315\tbest: 0.0911181 (2393)\ttotal: 34.5s\tremaining: 8.61s\n",
      "2500:\tlearn: 0.0189302\ttest: 0.0899091\tbest: 0.0899091 (2500)\ttotal: 35.9s\tremaining: 7.17s\n",
      "2600:\tlearn: 0.0180058\ttest: 0.0889714\tbest: 0.0889714 (2600)\ttotal: 37.3s\tremaining: 5.73s\n",
      "2700:\tlearn: 0.0171096\ttest: 0.0879607\tbest: 0.0879607 (2700)\ttotal: 38.8s\tremaining: 4.29s\n",
      "2800:\tlearn: 0.0163537\ttest: 0.0870491\tbest: 0.0870491 (2800)\ttotal: 40.2s\tremaining: 2.85s\n",
      "2900:\tlearn: 0.0156482\ttest: 0.0861278\tbest: 0.0861278 (2900)\ttotal: 41.6s\tremaining: 1.42s\n",
      "2999:\tlearn: 0.0150483\ttest: 0.0851485\tbest: 0.0851485 (2999)\ttotal: 42.9s\tremaining: 0us\n",
      "\n",
      "bestTest = 0.0851484689\n",
      "bestIteration = 2999\n",
      "\n",
      "0:\tlearn: 2.2420580\ttest: 2.2446690\tbest: 2.2446690 (0)\ttotal: 14.8ms\tremaining: 44.5s\n",
      "100:\tlearn: 0.4431848\ttest: 0.5187577\tbest: 0.5187577 (100)\ttotal: 1.44s\tremaining: 41.3s\n",
      "200:\tlearn: 0.2156264\ttest: 0.2989989\tbest: 0.2989989 (200)\ttotal: 2.88s\tremaining: 40.1s\n",
      "300:\tlearn: 0.1430282\ttest: 0.2250235\tbest: 0.2250235 (300)\ttotal: 4.3s\tremaining: 38.6s\n",
      "400:\tlearn: 0.1184744\ttest: 0.2006572\tbest: 0.2006572 (400)\ttotal: 5.71s\tremaining: 37s\n",
      "500:\tlearn: 0.1026945\ttest: 0.1841133\tbest: 0.1841133 (500)\ttotal: 7.09s\tremaining: 35.4s\n",
      "600:\tlearn: 0.0921548\ttest: 0.1737006\tbest: 0.1737006 (600)\ttotal: 8.46s\tremaining: 33.8s\n",
      "700:\tlearn: 0.0806959\ttest: 0.1621493\tbest: 0.1621493 (700)\ttotal: 9.84s\tremaining: 32.3s\n",
      "800:\tlearn: 0.0714411\ttest: 0.1527123\tbest: 0.1527123 (800)\ttotal: 11.2s\tremaining: 30.9s\n",
      "900:\tlearn: 0.0638095\ttest: 0.1447630\tbest: 0.1447561 (899)\ttotal: 12.7s\tremaining: 29.5s\n",
      "1000:\tlearn: 0.0572047\ttest: 0.1380318\tbest: 0.1380318 (1000)\ttotal: 14.1s\tremaining: 28.1s\n",
      "1100:\tlearn: 0.0519140\ttest: 0.1322379\tbest: 0.1322379 (1100)\ttotal: 15.5s\tremaining: 26.7s\n",
      "1200:\tlearn: 0.0469165\ttest: 0.1263927\tbest: 0.1263927 (1200)\ttotal: 16.9s\tremaining: 25.3s\n",
      "1300:\tlearn: 0.0426689\ttest: 0.1208929\tbest: 0.1208929 (1300)\ttotal: 18.5s\tremaining: 24.1s\n",
      "1400:\tlearn: 0.0390759\ttest: 0.1165544\tbest: 0.1165544 (1400)\ttotal: 19.9s\tremaining: 22.7s\n",
      "1500:\tlearn: 0.0356908\ttest: 0.1121055\tbest: 0.1121055 (1500)\ttotal: 21.3s\tremaining: 21.3s\n",
      "1600:\tlearn: 0.0332549\ttest: 0.1086658\tbest: 0.1086658 (1600)\ttotal: 22.7s\tremaining: 19.8s\n",
      "1700:\tlearn: 0.0308671\ttest: 0.1055832\tbest: 0.1055831 (1699)\ttotal: 24s\tremaining: 18.3s\n",
      "1800:\tlearn: 0.0285175\ttest: 0.1025528\tbest: 0.1025348 (1799)\ttotal: 25.4s\tremaining: 16.9s\n",
      "1900:\tlearn: 0.0265743\ttest: 0.1001769\tbest: 0.1001769 (1900)\ttotal: 26.8s\tremaining: 15.5s\n",
      "2000:\tlearn: 0.0250796\ttest: 0.0977261\tbest: 0.0977261 (2000)\ttotal: 28.1s\tremaining: 14s\n",
      "2100:\tlearn: 0.0235689\ttest: 0.0955052\tbest: 0.0954993 (2099)\ttotal: 29.4s\tremaining: 12.6s\n",
      "2200:\tlearn: 0.0222529\ttest: 0.0934311\tbest: 0.0934311 (2200)\ttotal: 30.8s\tremaining: 11.2s\n",
      "2300:\tlearn: 0.0209908\ttest: 0.0916252\tbest: 0.0916252 (2300)\ttotal: 32.2s\tremaining: 9.79s\n",
      "2400:\tlearn: 0.0199622\ttest: 0.0901388\tbest: 0.0901386 (2399)\ttotal: 33.6s\tremaining: 8.39s\n",
      "2500:\tlearn: 0.0189110\ttest: 0.0885447\tbest: 0.0885407 (2499)\ttotal: 35.1s\tremaining: 7s\n",
      "2600:\tlearn: 0.0179055\ttest: 0.0870516\tbest: 0.0870516 (2600)\ttotal: 36.5s\tremaining: 5.6s\n",
      "2700:\tlearn: 0.0171106\ttest: 0.0856487\tbest: 0.0856487 (2700)\ttotal: 37.9s\tremaining: 4.19s\n",
      "2800:\tlearn: 0.0163644\ttest: 0.0845489\tbest: 0.0845481 (2799)\ttotal: 39.3s\tremaining: 2.79s\n",
      "2900:\tlearn: 0.0157044\ttest: 0.0832678\tbest: 0.0832662 (2899)\ttotal: 40.7s\tremaining: 1.39s\n",
      "2999:\tlearn: 0.0150425\ttest: 0.0821773\tbest: 0.0821773 (2999)\ttotal: 42.1s\tremaining: 0us\n",
      "\n",
      "bestTest = 0.08217726255\n",
      "bestIteration = 2999\n",
      "\n",
      "0:\tlearn: 2.2268281\ttest: 2.2331986\tbest: 2.2331986 (0)\ttotal: 16.4ms\tremaining: 49.1s\n",
      "100:\tlearn: 0.4367117\ttest: 0.5231219\tbest: 0.5231219 (100)\ttotal: 1.49s\tremaining: 42.9s\n",
      "200:\tlearn: 0.2082481\ttest: 0.3037967\tbest: 0.3037967 (200)\ttotal: 2.95s\tremaining: 41.1s\n",
      "300:\tlearn: 0.1336646\ttest: 0.2326799\tbest: 0.2326799 (300)\ttotal: 4.38s\tremaining: 39.2s\n",
      "400:\tlearn: 0.1054212\ttest: 0.2067406\tbest: 0.2067406 (400)\ttotal: 5.81s\tremaining: 37.7s\n",
      "500:\tlearn: 0.0895081\ttest: 0.1930685\tbest: 0.1930678 (499)\ttotal: 7.32s\tremaining: 36.5s\n",
      "600:\tlearn: 0.0777746\ttest: 0.1821661\tbest: 0.1821661 (600)\ttotal: 8.8s\tremaining: 35.1s\n",
      "700:\tlearn: 0.0690249\ttest: 0.1747873\tbest: 0.1747873 (700)\ttotal: 10.3s\tremaining: 33.8s\n",
      "800:\tlearn: 0.0622732\ttest: 0.1689309\tbest: 0.1689235 (799)\ttotal: 11.8s\tremaining: 32.3s\n",
      "900:\tlearn: 0.0553374\ttest: 0.1631946\tbest: 0.1631946 (900)\ttotal: 13.3s\tremaining: 30.9s\n",
      "1000:\tlearn: 0.0498839\ttest: 0.1589011\tbest: 0.1589011 (1000)\ttotal: 14.7s\tremaining: 29.3s\n",
      "1100:\tlearn: 0.0457423\ttest: 0.1549184\tbest: 0.1549130 (1099)\ttotal: 16.1s\tremaining: 27.8s\n",
      "1200:\tlearn: 0.0416285\ttest: 0.1510677\tbest: 0.1510677 (1200)\ttotal: 17.5s\tremaining: 26.2s\n",
      "1300:\tlearn: 0.0378589\ttest: 0.1478796\tbest: 0.1478552 (1299)\ttotal: 18.9s\tremaining: 24.7s\n",
      "1400:\tlearn: 0.0350210\ttest: 0.1449788\tbest: 0.1449778 (1399)\ttotal: 20.3s\tremaining: 23.2s\n",
      "1500:\tlearn: 0.0327718\ttest: 0.1423285\tbest: 0.1423281 (1499)\ttotal: 21.7s\tremaining: 21.7s\n",
      "1600:\tlearn: 0.0304248\ttest: 0.1401695\tbest: 0.1401695 (1600)\ttotal: 23.1s\tremaining: 20.2s\n",
      "1700:\tlearn: 0.0281324\ttest: 0.1382099\tbest: 0.1382099 (1700)\ttotal: 24.5s\tremaining: 18.7s\n",
      "1800:\tlearn: 0.0264110\ttest: 0.1364782\tbest: 0.1364782 (1800)\ttotal: 25.8s\tremaining: 17.2s\n",
      "1900:\tlearn: 0.0247350\ttest: 0.1346287\tbest: 0.1346287 (1900)\ttotal: 27.2s\tremaining: 15.7s\n",
      "2000:\tlearn: 0.0229882\ttest: 0.1330064\tbest: 0.1329976 (1997)\ttotal: 28.6s\tremaining: 14.3s\n",
      "2100:\tlearn: 0.0216013\ttest: 0.1312533\tbest: 0.1312533 (2100)\ttotal: 30s\tremaining: 12.8s\n",
      "2200:\tlearn: 0.0202256\ttest: 0.1298754\tbest: 0.1298754 (2200)\ttotal: 31.3s\tremaining: 11.4s\n",
      "2300:\tlearn: 0.0190190\ttest: 0.1287514\tbest: 0.1287421 (2298)\ttotal: 32.7s\tremaining: 9.94s\n",
      "2400:\tlearn: 0.0180192\ttest: 0.1279954\tbest: 0.1279803 (2399)\ttotal: 34.1s\tremaining: 8.51s\n",
      "2500:\tlearn: 0.0170244\ttest: 0.1268928\tbest: 0.1268928 (2500)\ttotal: 35.5s\tremaining: 7.08s\n",
      "2600:\tlearn: 0.0162447\ttest: 0.1258610\tbest: 0.1258610 (2600)\ttotal: 36.8s\tremaining: 5.65s\n",
      "2700:\tlearn: 0.0155127\ttest: 0.1250488\tbest: 0.1250474 (2699)\ttotal: 38.2s\tremaining: 4.23s\n",
      "2800:\tlearn: 0.0148567\ttest: 0.1243522\tbest: 0.1243522 (2800)\ttotal: 39.6s\tremaining: 2.81s\n",
      "2900:\tlearn: 0.0142686\ttest: 0.1236949\tbest: 0.1236949 (2900)\ttotal: 40.9s\tremaining: 1.4s\n",
      "2999:\tlearn: 0.0135787\ttest: 0.1230832\tbest: 0.1230832 (2999)\ttotal: 42.3s\tremaining: 0us\n",
      "\n",
      "bestTest = 0.123083191\n",
      "bestIteration = 2999\n",
      "\n",
      "0:\tlearn: 2.2282801\ttest: 2.2314603\tbest: 2.2314603 (0)\ttotal: 15.4ms\tremaining: 46.2s\n",
      "100:\tlearn: 0.4301159\ttest: 0.5527673\tbest: 0.5527673 (100)\ttotal: 1.44s\tremaining: 41.3s\n",
      "200:\tlearn: 0.2036182\ttest: 0.3342216\tbest: 0.3342216 (200)\ttotal: 2.99s\tremaining: 41.6s\n",
      "300:\tlearn: 0.1420487\ttest: 0.2713654\tbest: 0.2713654 (300)\ttotal: 4.54s\tremaining: 40.7s\n",
      "400:\tlearn: 0.1225706\ttest: 0.2524732\tbest: 0.2524732 (400)\ttotal: 6.02s\tremaining: 39s\n",
      "500:\tlearn: 0.1076889\ttest: 0.2388189\tbest: 0.2387927 (498)\ttotal: 7.46s\tremaining: 37.2s\n",
      "600:\tlearn: 0.0958717\ttest: 0.2273655\tbest: 0.2273347 (597)\ttotal: 8.9s\tremaining: 35.5s\n",
      "700:\tlearn: 0.0846136\ttest: 0.2168220\tbest: 0.2168152 (699)\ttotal: 10.3s\tremaining: 33.9s\n",
      "800:\tlearn: 0.0757539\ttest: 0.2079366\tbest: 0.2079366 (800)\ttotal: 11.8s\tremaining: 32.3s\n",
      "900:\tlearn: 0.0671814\ttest: 0.1996530\tbest: 0.1996530 (900)\ttotal: 13.2s\tremaining: 30.7s\n",
      "1000:\tlearn: 0.0599700\ttest: 0.1920694\tbest: 0.1920694 (1000)\ttotal: 14.6s\tremaining: 29.2s\n",
      "1100:\tlearn: 0.0534842\ttest: 0.1852411\tbest: 0.1852411 (1100)\ttotal: 16.1s\tremaining: 27.8s\n",
      "1200:\tlearn: 0.0484036\ttest: 0.1803524\tbest: 0.1803524 (1200)\ttotal: 17.6s\tremaining: 26.3s\n",
      "1300:\tlearn: 0.0440107\ttest: 0.1754182\tbest: 0.1754009 (1298)\ttotal: 19s\tremaining: 24.8s\n",
      "1400:\tlearn: 0.0404711\ttest: 0.1714700\tbest: 0.1714700 (1400)\ttotal: 20.4s\tremaining: 23.3s\n",
      "1500:\tlearn: 0.0374761\ttest: 0.1682443\tbest: 0.1682369 (1494)\ttotal: 21.9s\tremaining: 21.8s\n",
      "1600:\tlearn: 0.0345302\ttest: 0.1644227\tbest: 0.1644227 (1600)\ttotal: 23.3s\tremaining: 20.3s\n",
      "1700:\tlearn: 0.0317654\ttest: 0.1611921\tbest: 0.1611921 (1700)\ttotal: 24.7s\tremaining: 18.8s\n",
      "1800:\tlearn: 0.0298446\ttest: 0.1589910\tbest: 0.1589902 (1799)\ttotal: 26.1s\tremaining: 17.4s\n",
      "1900:\tlearn: 0.0278720\ttest: 0.1567896\tbest: 0.1567896 (1900)\ttotal: 27.6s\tremaining: 15.9s\n",
      "2000:\tlearn: 0.0259690\ttest: 0.1541478\tbest: 0.1541478 (2000)\ttotal: 29s\tremaining: 14.5s\n",
      "2100:\tlearn: 0.0244838\ttest: 0.1524812\tbest: 0.1524812 (2100)\ttotal: 30.5s\tremaining: 13s\n",
      "2200:\tlearn: 0.0230642\ttest: 0.1505438\tbest: 0.1505438 (2200)\ttotal: 31.9s\tremaining: 11.6s\n",
      "2300:\tlearn: 0.0219282\ttest: 0.1492317\tbest: 0.1492140 (2295)\ttotal: 33.3s\tremaining: 10.1s\n",
      "2400:\tlearn: 0.0207552\ttest: 0.1474340\tbest: 0.1474340 (2400)\ttotal: 34.7s\tremaining: 8.66s\n",
      "2500:\tlearn: 0.0197096\ttest: 0.1461883\tbest: 0.1461720 (2496)\ttotal: 36.1s\tremaining: 7.21s\n",
      "2600:\tlearn: 0.0186708\ttest: 0.1448766\tbest: 0.1448310 (2592)\ttotal: 37.5s\tremaining: 5.76s\n",
      "2700:\tlearn: 0.0176644\ttest: 0.1436123\tbest: 0.1436123 (2700)\ttotal: 39s\tremaining: 4.32s\n",
      "2800:\tlearn: 0.0169851\ttest: 0.1429905\tbest: 0.1429853 (2799)\ttotal: 40.5s\tremaining: 2.88s\n",
      "2900:\tlearn: 0.0162602\ttest: 0.1421547\tbest: 0.1421467 (2899)\ttotal: 42s\tremaining: 1.43s\n",
      "2999:\tlearn: 0.0155307\ttest: 0.1410289\tbest: 0.1410264 (2998)\ttotal: 43.4s\tremaining: 0us\n",
      "\n",
      "bestTest = 0.1410264399\n",
      "bestIteration = 2998\n",
      "\n",
      "Shrink model to first 2999 iterations.\n",
      "Lvl_0_Pipe_1_Mod_3_CatBoost fitting and predicting completed\n",
      "Time left 180.88169884681702\n",
      "Layer 1 training completed.\n",
      "\n",
      "\n",
      "Layer 2 ...\n",
      "Train process start. Time left 180.7565929889679 secs\n",
      "Start fitting Lvl_1_Pipe_0_Mod_0_LinearL2 ...\n",
      "Linear model: C = 1e-05 score = -1.9931812377770741\n",
      "Linear model: C = 5e-05 score = -1.302139594554901\n",
      "Linear model: C = 0.0001 score = -0.9472638388474782\n",
      "Linear model: C = 0.0005 score = -0.4235695482045412\n",
      "Linear model: C = 0.001 score = -0.3133800302166492\n",
      "Linear model: C = 0.005 score = -0.18896323309241173\n",
      "Linear model: C = 0.01 score = -0.16723878828973587\n",
      "Linear model: C = 0.05 score = -0.1526206431280904\n",
      "Linear model: C = 0.1 score = -0.15403218430767082\n",
      "Linear model: C = 0.5 score = -0.16599870631500796\n",
      "Linear model: C = 1e-05 score = -1.990836087067922\n",
      "Linear model: C = 5e-05 score = -1.2904721170663833\n",
      "Linear model: C = 0.0001 score = -0.9275037325421969\n",
      "Linear model: C = 0.0005 score = -0.3866689249748985\n",
      "Linear model: C = 0.001 score = -0.2724888634495437\n",
      "Linear model: C = 0.005 score = -0.14940020736151685\n",
      "Linear model: C = 0.01 score = -0.12997774628573097\n",
      "Linear model: C = 0.05 score = -0.11627223870651505\n",
      "Linear model: C = 0.1 score = -0.11754244786770263\n",
      "Linear model: C = 0.5 score = -0.12780453385295762\n",
      "Linear model: C = 1e-05 score = -1.9890455901622772\n",
      "Linear model: C = 5e-05 score = -1.285328470468521\n",
      "Linear model: C = 0.0001 score = -0.9213517421483993\n",
      "Linear model: C = 0.0005 score = -0.38272132591654856\n",
      "Linear model: C = 0.001 score = -0.2682469963375479\n",
      "Linear model: C = 0.005 score = -0.13670639823850556\n",
      "Linear model: C = 0.01 score = -0.11220032970178484\n",
      "Linear model: C = 0.05 score = -0.08816496051860667\n",
      "Linear model: C = 0.1 score = -0.08481007734912661\n",
      "Linear model: C = 0.5 score = -0.0841122086714942\n",
      "Linear model: C = 1 score = -0.08581681263726144\n",
      "Linear model: C = 5 score = -0.09273477707266807\n",
      "Linear model: C = 1e-05 score = -1.9960399731000265\n",
      "Linear model: C = 5e-05 score = -1.3130371757348378\n",
      "Linear model: C = 0.0001 score = -0.9606862487395604\n",
      "Linear model: C = 0.0005 score = -0.4307088763018449\n",
      "Linear model: C = 0.001 score = -0.3146679823721449\n",
      "Linear model: C = 0.005 score = -0.17622216654630998\n",
      "Linear model: C = 0.01 score = -0.14824375611380675\n",
      "Linear model: C = 0.05 score = -0.12054444115890267\n",
      "Linear model: C = 0.1 score = -0.11838154471991098\n",
      "Linear model: C = 0.5 score = -0.12328562029606019\n",
      "Linear model: C = 1 score = -0.1298721174392866\n",
      "Linear model: C = 1e-05 score = -1.9977675982316334\n",
      "Linear model: C = 5e-05 score = -1.3200290354092916\n",
      "Linear model: C = 0.0001 score = -0.971914155681928\n",
      "Linear model: C = 0.0005 score = -0.4454869397853812\n",
      "Linear model: C = 0.001 score = -0.3276662840880454\n",
      "Linear model: C = 0.005 score = -0.18772429635282606\n",
      "Linear model: C = 0.01 score = -0.16122768609571114\n",
      "Linear model: C = 0.05 score = -0.13805643168086437\n",
      "Linear model: C = 0.1 score = -0.13717931781023557\n",
      "Linear model: C = 0.5 score = -0.14586601843131955\n",
      "Linear model: C = 1 score = -0.15410898207153081\n",
      "Lvl_1_Pipe_0_Mod_0_LinearL2 fitting and predicting completed\n",
      "Time left 169.34724187850952\n",
      "Start fitting Lvl_1_Pipe_1_Mod_0_LightGBM ...\n",
      "Training until validation scores don't improve for 200 rounds\n",
      "[100]\tvalid's multi_logloss: 0.378614\n",
      "[200]\tvalid's multi_logloss: 0.177339\n",
      "[300]\tvalid's multi_logloss: 0.151583\n",
      "[400]\tvalid's multi_logloss: 0.151557\n",
      "[500]\tvalid's multi_logloss: 0.153015\n",
      "Early stopping, best iteration is:\n",
      "[319]\tvalid's multi_logloss: 0.150635\n",
      "Training until validation scores don't improve for 200 rounds\n",
      "[100]\tvalid's multi_logloss: 0.354623\n",
      "[200]\tvalid's multi_logloss: 0.142827\n",
      "[300]\tvalid's multi_logloss: 0.113752\n",
      "[400]\tvalid's multi_logloss: 0.112514\n",
      "[500]\tvalid's multi_logloss: 0.113878\n",
      "Early stopping, best iteration is:\n",
      "[370]\tvalid's multi_logloss: 0.111996\n",
      "Training until validation scores don't improve for 200 rounds\n",
      "[100]\tvalid's multi_logloss: 0.3321\n",
      "[200]\tvalid's multi_logloss: 0.116034\n",
      "[300]\tvalid's multi_logloss: 0.0805517\n",
      "[400]\tvalid's multi_logloss: 0.0752328\n",
      "[500]\tvalid's multi_logloss: 0.0742783\n",
      "[600]\tvalid's multi_logloss: 0.074023\n",
      "[700]\tvalid's multi_logloss: 0.0738842\n",
      "[800]\tvalid's multi_logloss: 0.0737983\n",
      "[900]\tvalid's multi_logloss: 0.0738286\n",
      "[1000]\tvalid's multi_logloss: 0.0738489\n",
      "Early stopping, best iteration is:\n",
      "[879]\tvalid's multi_logloss: 0.0737771\n",
      "Training until validation scores don't improve for 200 rounds\n",
      "[100]\tvalid's multi_logloss: 0.351191\n",
      "[200]\tvalid's multi_logloss: 0.134933\n",
      "[300]\tvalid's multi_logloss: 0.0982761\n",
      "[400]\tvalid's multi_logloss: 0.0918783\n",
      "[500]\tvalid's multi_logloss: 0.0905387\n",
      "[600]\tvalid's multi_logloss: 0.0896425\n",
      "[700]\tvalid's multi_logloss: 0.0894041\n",
      "[800]\tvalid's multi_logloss: 0.0892042\n",
      "[900]\tvalid's multi_logloss: 0.0889786\n",
      "[1000]\tvalid's multi_logloss: 0.0888086\n",
      "[1100]\tvalid's multi_logloss: 0.0887081\n",
      "[1200]\tvalid's multi_logloss: 0.0887086\n",
      "[1300]\tvalid's multi_logloss: 0.088592\n",
      "[1400]\tvalid's multi_logloss: 0.0885445\n",
      "[1500]\tvalid's multi_logloss: 0.0884575\n",
      "[1600]\tvalid's multi_logloss: 0.0883542\n",
      "[1700]\tvalid's multi_logloss: 0.0882682\n",
      "[1800]\tvalid's multi_logloss: 0.0882814\n",
      "[1900]\tvalid's multi_logloss: 0.088237\n",
      "[2000]\tvalid's multi_logloss: 0.0882022\n",
      "[2100]\tvalid's multi_logloss: 0.088207\n",
      "[2200]\tvalid's multi_logloss: 0.0881466\n",
      "[2300]\tvalid's multi_logloss: 0.0881178\n",
      "[2400]\tvalid's multi_logloss: 0.0880499\n",
      "[2500]\tvalid's multi_logloss: 0.0880481\n",
      "[2600]\tvalid's multi_logloss: 0.0880279\n",
      "[2700]\tvalid's multi_logloss: 0.0879797\n",
      "[2800]\tvalid's multi_logloss: 0.0879683\n",
      "[2900]\tvalid's multi_logloss: 0.087982\n",
      "[3000]\tvalid's multi_logloss: 0.0879519\n",
      "Did not meet early stopping. Best iteration is:\n",
      "[2997]\tvalid's multi_logloss: 0.0879518\n",
      "Training until validation scores don't improve for 200 rounds\n",
      "[100]\tvalid's multi_logloss: 0.377145\n",
      "[200]\tvalid's multi_logloss: 0.169955\n",
      "[300]\tvalid's multi_logloss: 0.140443\n",
      "[400]\tvalid's multi_logloss: 0.138993\n",
      "[500]\tvalid's multi_logloss: 0.140233\n",
      "Early stopping, best iteration is:\n",
      "[369]\tvalid's multi_logloss: 0.138747\n",
      "Lvl_1_Pipe_1_Mod_0_LightGBM fitting and predicting completed\n",
      "Time left 150.05919885635376\n",
      "Blending: Optimization starts with equal weights and score -0.10942585332101831\n",
      "Blending, iter 0: score = -0.10832780655217357, weights = [0.28834516 0.71165484]\n",
      "Blending, iter 1: score = -0.10832780655217357, weights = [0.28834516 0.71165484]\n",
      "No score update. Terminated\n",
      "\n",
      "Automl preset training completed in 450.06 seconds.\n",
      "Teacher TEST accuracy: 0.092\n"
     ]
    }
   ],
   "source": [
    "distiller.fit(train, roles=roles)\n",
    "test_pred = distiller.predict(test)\n",
    "print('Teacher TEST accuracy: {}'.format(accuracy_score(test[roles['target']].values, test_pred.data.argmax(axis=1))))"
   ]
  },
  {
   "cell_type": "code",
   "execution_count": 11,
   "metadata": {},
   "outputs": [
    {
     "output_type": "execute_result",
     "data": {
      "text/plain": [
       "0.092"
      ]
     },
     "metadata": {},
     "execution_count": 11
    }
   ],
   "source": [
    "accuracy_score(test[roles['target']], test_pred.data.argmax(axis=1))"
   ]
  },
  {
   "source": [
    "### 5. Evaluation of the students on true labels"
   ],
   "cell_type": "markdown",
   "metadata": {}
  },
  {
   "cell_type": "code",
   "execution_count": 62,
   "metadata": {},
   "outputs": [],
   "source": [
    "students = list()\n",
    "for algo in [BoostCB, BoostLGBM]:\n",
    "    # TODO: implement students consistent with lightautoml\n",
    "    reader = PandasToPandasReader(Task('multiclass'), samples=None, max_nan_rate=1, max_constant_rate=1,\n",
    "                                    advanced_roles=True, drop_score_co=-1, n_jobs=1)\n",
    "    pipeline_lvl1 = MLPipeline(ml_algos=[algo(default_params={'verbose': 0})],\n",
    "                                pre_selection=None,\n",
    "                                features_pipeline=LGBSimpleFeatures(),\n",
    "                                post_selection=None)\n",
    "    students.append(AutoML(reader, [[pipeline_lvl1]], skip_conn=False, verbose=0))"
   ]
  },
  {
   "cell_type": "code",
   "execution_count": 63,
   "metadata": {},
   "outputs": [
    {
     "output_type": "stream",
     "name": "stdout",
     "text": [
      "[LightGBM] [Warning] verbosity is set=-1, verbose=0 will be ignored. Current value: verbosity=-1\n",
      "[LightGBM] [Warning] verbosity is set=-1, verbose=0 will be ignored. Current value: verbosity=-1\n",
      "[LightGBM] [Warning] verbosity is set=-1, verbose=0 will be ignored. Current value: verbosity=-1\n",
      "[LightGBM] [Warning] verbosity is set=-1, verbose=0 will be ignored. Current value: verbosity=-1\n",
      "[LightGBM] [Warning] verbosity is set=-1, verbose=0 will be ignored. Current value: verbosity=-1\n"
     ]
    }
   ],
   "source": [
    "preds = dict()\n",
    "for estimator in students:\n",
    "    estimator.fit_predict(train, roles={'target': TARGET_NAME})\n",
    "    preds[estimator.levels[0][0].ml_algos[0].name] = estimator.predict(test)"
   ]
  },
  {
   "cell_type": "code",
   "execution_count": 64,
   "metadata": {},
   "outputs": [
    {
     "output_type": "stream",
     "name": "stdout",
     "text": [
      "Lvl_0_Pipe_0_Mod_0_CatBoost 0.8625613565372602\nLvl_0_Pipe_0_Mod_0_LightGBM 0.8548862115127175\n"
     ]
    }
   ],
   "source": [
    "for key, item in preds.items():\n",
    "    print(key, accuracy_score(test[roles['target']].values, item.data.argmax(axis=1)))"
   ]
  },
  {
   "source": [
    "### Catboost"
   ],
   "cell_type": "markdown",
   "metadata": {}
  },
  {
   "cell_type": "code",
   "execution_count": 193,
   "metadata": {},
   "outputs": [],
   "source": [
    "cb_model = CatBoostClassifier(loss_function='MultiClass')"
   ]
  },
  {
   "cell_type": "code",
   "execution_count": 82,
   "metadata": {
    "tags": []
   },
   "outputs": [
    {
     "output_type": "stream",
     "name": "stdout",
     "text": [
      "Learning rate set to 0.115175\n",
      "0:\tlearn: 1.0084783\ttest: 1.0078625\tbest: 1.0078625 (0)\ttotal: 10.7ms\tremaining: 10.6s\n",
      "200:\tlearn: 0.2879457\ttest: 0.3024496\tbest: 0.3024496 (200)\ttotal: 1.41s\tremaining: 5.59s\n",
      "400:\tlearn: 0.2404575\ttest: 0.2727211\tbest: 0.2727211 (400)\ttotal: 3.19s\tremaining: 4.76s\n",
      "600:\tlearn: 0.2163354\ttest: 0.2632248\tbest: 0.2632248 (600)\ttotal: 4.89s\tremaining: 3.25s\n",
      "800:\tlearn: 0.2007503\ttest: 0.2610702\tbest: 0.2609398 (728)\ttotal: 5.98s\tremaining: 1.49s\n",
      "Stopped by overfitting detector  (100 iterations wait)\n",
      "\n",
      "bestTest = 0.2609397563\n",
      "bestIteration = 728\n",
      "\n",
      "Shrink model to first 729 iterations.\n"
     ]
    },
    {
     "output_type": "execute_result",
     "data": {
      "text/plain": [
       "<catboost.core.CatBoostClassifier at 0x18a2df760>"
      ]
     },
     "metadata": {},
     "execution_count": 82
    }
   ],
   "source": [
    "cb_model.fit(cb_X_soft_train, cb_y_train, eval_set=(cb_X_soft_val, cb_y_val), early_stopping_rounds=100, verbose=200)"
   ]
  },
  {
   "cell_type": "code",
   "execution_count": 194,
   "metadata": {},
   "outputs": [
    {
     "output_type": "stream",
     "name": "stdout",
     "text": [
      "Learning rate set to 0.094662\n",
      "0:\tlearn: 1.0241425\ttotal: 10.9ms\tremaining: 10.9s\n",
      "200:\tlearn: 0.3011403\ttotal: 1.38s\tremaining: 5.49s\n",
      "400:\tlearn: 0.2532611\ttotal: 2.76s\tremaining: 4.13s\n",
      "600:\tlearn: 0.2309171\ttotal: 4.04s\tremaining: 2.68s\n",
      "800:\tlearn: 0.2162141\ttotal: 5.74s\tremaining: 1.43s\n",
      "999:\tlearn: 0.2060449\ttotal: 7.45s\tremaining: 0us\n"
     ]
    },
    {
     "output_type": "execute_result",
     "data": {
      "text/plain": [
       "<catboost.core.CatBoostClassifier at 0x18aee6760>"
      ]
     },
     "metadata": {},
     "execution_count": 194
    }
   ],
   "source": [
    "cb_model.fit(train.drop(TARGET_NAME, axis=1), train[TARGET_NAME], verbose=200)"
   ]
  },
  {
   "cell_type": "code",
   "execution_count": 195,
   "metadata": {},
   "outputs": [
    {
     "output_type": "execute_result",
     "data": {
      "text/plain": [
       "0.8556001784917447"
      ]
     },
     "metadata": {},
     "execution_count": 195
    }
   ],
   "source": [
    "accuracy_score(cb_y_test, cb_model.predict(cb_test))"
   ]
  },
  {
   "cell_type": "code",
   "execution_count": 180,
   "metadata": {},
   "outputs": [],
   "source": [
    "import math\n",
    "\n",
    "\n",
    "class CustomMetric:\n",
    "    def __init__(self, metric, is_higher_better, needs_pred_proba):\n",
    "        self.metric = metric\n",
    "        self.is_higher_better = is_higher_better\n",
    "        self.needs_pred_proba = needs_pred_proba\n",
    "\n",
    "    @staticmethod\n",
    "    def get_final_error(error, weight):\n",
    "        return error\n",
    "\n",
    "    def is_max_optimal(self):\n",
    "        return self.is_higher_better\n",
    "\n",
    "    def evaluate(self, approxes, target, weight):\n",
    "        raise NotImplementedError\n",
    "\n",
    "\n",
    "class SoftclassCustomMetric(CustomMetric):\n",
    "    from catboost import MultiRegressionCustomMetric\n",
    "    def __init__(self, metric, is_higher_better, needs_pred_proba):  # metric is ignored\n",
    "        super().__init__(metric, is_higher_better, needs_pred_proba)\n",
    "        self.softlogloss = self.SoftLogLossMetric()  # the metric object to pass to CatBoostRegressor\n",
    "\n",
    "    def evaluate(self, approxes, target, weight):\n",
    "        return self.softlogloss.evaluate(approxes, target, weight)\n",
    "\n",
    "    class SoftLogLossMetric(MultiRegressionCustomMetric):\n",
    "        def get_final_error(self, error, weight):\n",
    "            return error\n",
    "\n",
    "        def is_max_optimal(self):\n",
    "            return True\n",
    "\n",
    "        def evaluate(self, approxes, target, weight):\n",
    "            assert len(target) == len(approxes)\n",
    "            assert len(target[0]) == len(approxes[0])\n",
    "            weight_sum = len(target)\n",
    "            approxes = np.array(approxes)\n",
    "            approxes = np.exp(approxes)\n",
    "            approxes = np.multiply(approxes, 1/np.sum(approxes, axis=1)[:, np.newaxis])\n",
    "            error_sum = soft_log_loss(np.array(target), np.array(approxes))\n",
    "            return error_sum, weight_sum\n",
    "\n",
    "\n",
    "class SoftclassObjective(object):\n",
    "    from catboost import MultiRegressionCustomObjective\n",
    "    def __init__(self):\n",
    "        self.softlogloss = self.SoftLogLossObjective()  # the objective object to pass to CatBoostRegressor\n",
    "\n",
    "    class SoftLogLossObjective(MultiRegressionCustomObjective):\n",
    "        def calc_ders_multi(self, approxes, targets, weight):\n",
    "            exp_approx = [math.exp(val) for val in approxes]\n",
    "            exp_sum = sum(exp_approx)\n",
    "            exp_approx = [val / exp_sum for val in exp_approx]\n",
    "            grad = [(targets[j] - exp_approx[j])*weight for j in range(len(targets))]\n",
    "            hess = [[(exp_approx[j] * exp_approx[j2] - (j==j2)*exp_approx[j]) * weight\n",
    "                    for j in range(len(targets))] for j2 in range(len(targets))]\n",
    "            return (grad, hess)"
   ]
  },
  {
   "cell_type": "code",
   "execution_count": 181,
   "metadata": {},
   "outputs": [],
   "source": [
    "def spunge_augment(X,\n",
    "                   num_augmented_samples=10000,\n",
    "                   frac_perturb=0.1,\n",
    "                   continuous_feature_noise=0.1,\n",
    "                   **kwargs):\n",
    "    num_feature_perturb = max(1, int(frac_perturb*len(X.columns)))\n",
    "    X_aug = pd.concat([X.iloc[[0]].copy()]*num_augmented_samples)\n",
    "    X_aug.reset_index(drop=True, inplace=True)\n",
    "    continuous_types = ['float', 'int']\n",
    "    continuous_featnames = X.select_dtypes(continuous_types).columns\n",
    "\n",
    "    for i in range(num_augmented_samples): # hot-deck sample some features per datapoint\n",
    "        og_ind = i % len(X)\n",
    "        augdata_i = X.iloc[og_ind].copy()\n",
    "        num_feature_perturb_i = np.random.choice(range(1,num_feature_perturb+1))  # randomly sample number of features to perturb\n",
    "        cols_toperturb = np.random.choice(list(X.columns), size=num_feature_perturb_i, replace=False)\n",
    "        for feature in cols_toperturb:\n",
    "            feature_data = X[feature]\n",
    "            augdata_i[feature] = feature_data.sample(n=1).values[0]\n",
    "        X_aug.iloc[i] = augdata_i\n",
    "\n",
    "    for feature in X.columns:\n",
    "        if feature in continuous_featnames:\n",
    "            feature_data = X[feature]\n",
    "            aug_data = X_aug[feature]\n",
    "            noise = np.random.normal(scale=np.nanstd(feature_data)*continuous_feature_noise, size=num_augmented_samples)\n",
    "            mask = np.random.binomial(n=1, p=frac_perturb, size=num_augmented_samples)\n",
    "            aug_data = aug_data + noise*mask\n",
    "            X_aug[feature] = pd.Series(aug_data, index=X_aug.index)\n",
    "\n",
    "    return pd.concat((X, X_aug))"
   ]
  },
  {
   "cell_type": "code",
   "execution_count": 196,
   "metadata": {},
   "outputs": [
    {
     "output_type": "stream",
     "name": "stdout",
     "text": [
      "CPU times: user 27.5 s, sys: 216 ms, total: 27.7 s\nWall time: 27.9 s\n"
     ]
    }
   ],
   "source": [
    "%time train_aug = spunge_augment(train.drop(TARGET_NAME, axis=1), num_augmented_samples=30_000)"
   ]
  },
  {
   "cell_type": "code",
   "execution_count": 210,
   "metadata": {},
   "outputs": [],
   "source": [
    "cb_soft_model = CatBoostClassifier(loss_function=SoftclassObjective.SoftLogLossObjective(),\n",
    "                                   eval_metric=SoftclassCustomMetric.SoftLogLossMetric())"
   ]
  },
  {
   "cell_type": "code",
   "execution_count": 79,
   "metadata": {},
   "outputs": [],
   "source": [
    "cb_X_soft_train, cb_X_soft_val, cb_y_soft_train, cb_y_soft_val, cb_y_train, cb_y_val = train_test_split(train_aug,\n",
    "                                                                                                        distiller.predict(train_aug).data,\n",
    "                                                                                                        train[TARGET_NAME],\n",
    "                                                                                                        random_state=RANDOM_STATE)"
   ]
  },
  {
   "cell_type": "code",
   "execution_count": 199,
   "metadata": {},
   "outputs": [
    {
     "output_type": "execute_result",
     "data": {
      "text/plain": [
       "       white_piece0_strength  white_piece0_file  white_piece0_rank  \\\n",
       "9823                     0.0                3.0                2.0   \n",
       "2241                     0.0                1.0                5.0   \n",
       "2895                     0.0                2.0                6.0   \n",
       "497                      7.0                1.0                1.0   \n",
       "24302                    6.0                0.0                2.0   \n",
       "23272                    6.0                4.0                2.0   \n",
       "19097                    4.0                5.0                1.0   \n",
       "17742                    6.0                4.0                1.0   \n",
       "7158                     6.0                1.0                0.0   \n",
       "6786                     0.0                0.0                4.0   \n",
       "\n",
       "       black_piece0_strength  black_piece0_file  black_piece0_rank  \n",
       "9823                 6.00000           5.000000                8.0  \n",
       "2241                 0.00000           3.000000                3.0  \n",
       "2895                 0.00000           0.000000                1.0  \n",
       "497                  6.00000           4.000000                4.0  \n",
       "24302                4.00000           3.000000                5.0  \n",
       "23272                0.00000           5.156612                1.0  \n",
       "19097                0.00000           1.000000                6.0  \n",
       "17742                0.00000           5.000000                1.0  \n",
       "7158                 4.11823           5.000000                6.0  \n",
       "6786                 7.00000           3.000000                1.0  "
      ],
      "text/html": "<div>\n<style scoped>\n    .dataframe tbody tr th:only-of-type {\n        vertical-align: middle;\n    }\n\n    .dataframe tbody tr th {\n        vertical-align: top;\n    }\n\n    .dataframe thead th {\n        text-align: right;\n    }\n</style>\n<table border=\"1\" class=\"dataframe\">\n  <thead>\n    <tr style=\"text-align: right;\">\n      <th></th>\n      <th>white_piece0_strength</th>\n      <th>white_piece0_file</th>\n      <th>white_piece0_rank</th>\n      <th>black_piece0_strength</th>\n      <th>black_piece0_file</th>\n      <th>black_piece0_rank</th>\n    </tr>\n  </thead>\n  <tbody>\n    <tr>\n      <th>9823</th>\n      <td>0.0</td>\n      <td>3.0</td>\n      <td>2.0</td>\n      <td>6.00000</td>\n      <td>5.000000</td>\n      <td>8.0</td>\n    </tr>\n    <tr>\n      <th>2241</th>\n      <td>0.0</td>\n      <td>1.0</td>\n      <td>5.0</td>\n      <td>0.00000</td>\n      <td>3.000000</td>\n      <td>3.0</td>\n    </tr>\n    <tr>\n      <th>2895</th>\n      <td>0.0</td>\n      <td>2.0</td>\n      <td>6.0</td>\n      <td>0.00000</td>\n      <td>0.000000</td>\n      <td>1.0</td>\n    </tr>\n    <tr>\n      <th>497</th>\n      <td>7.0</td>\n      <td>1.0</td>\n      <td>1.0</td>\n      <td>6.00000</td>\n      <td>4.000000</td>\n      <td>4.0</td>\n    </tr>\n    <tr>\n      <th>24302</th>\n      <td>6.0</td>\n      <td>0.0</td>\n      <td>2.0</td>\n      <td>4.00000</td>\n      <td>3.000000</td>\n      <td>5.0</td>\n    </tr>\n    <tr>\n      <th>23272</th>\n      <td>6.0</td>\n      <td>4.0</td>\n      <td>2.0</td>\n      <td>0.00000</td>\n      <td>5.156612</td>\n      <td>1.0</td>\n    </tr>\n    <tr>\n      <th>19097</th>\n      <td>4.0</td>\n      <td>5.0</td>\n      <td>1.0</td>\n      <td>0.00000</td>\n      <td>1.000000</td>\n      <td>6.0</td>\n    </tr>\n    <tr>\n      <th>17742</th>\n      <td>6.0</td>\n      <td>4.0</td>\n      <td>1.0</td>\n      <td>0.00000</td>\n      <td>5.000000</td>\n      <td>1.0</td>\n    </tr>\n    <tr>\n      <th>7158</th>\n      <td>6.0</td>\n      <td>1.0</td>\n      <td>0.0</td>\n      <td>4.11823</td>\n      <td>5.000000</td>\n      <td>6.0</td>\n    </tr>\n    <tr>\n      <th>6786</th>\n      <td>0.0</td>\n      <td>0.0</td>\n      <td>4.0</td>\n      <td>7.00000</td>\n      <td>3.000000</td>\n      <td>1.0</td>\n    </tr>\n  </tbody>\n</table>\n</div>"
     },
     "metadata": {},
     "execution_count": 199
    }
   ],
   "source": [
    "train_aug.sample(10)"
   ]
  },
  {
   "cell_type": "code",
   "execution_count": 213,
   "metadata": {},
   "outputs": [
    {
     "output_type": "error",
     "ename": "IndexError",
     "evalue": "index 16 is out of bounds for dimension 0 with size 16",
     "traceback": [
      "\u001b[0;31m---------------------------------------------------------------------------\u001b[0m",
      "\u001b[0;31mIndexError\u001b[0m                                Traceback (most recent call last)",
      "\u001b[0;32m<ipython-input-213-43fcb9344dca>\u001b[0m in \u001b[0;36m<module>\u001b[0;34m\u001b[0m\n\u001b[0;32m----> 1\u001b[0;31m \u001b[0my_aug\u001b[0m \u001b[0;34m=\u001b[0m \u001b[0mdistiller\u001b[0m\u001b[0;34m.\u001b[0m\u001b[0mpredict\u001b[0m\u001b[0;34m(\u001b[0m\u001b[0mtrain_aug\u001b[0m\u001b[0;34m)\u001b[0m\u001b[0;34m.\u001b[0m\u001b[0mdata\u001b[0m\u001b[0;34m\u001b[0m\u001b[0;34m\u001b[0m\u001b[0m\n\u001b[0m",
      "\u001b[0;32m~/dev-projects/lightautoml/venv/lib/python3.8/site-packages/log_calls/log_calls.py\u001b[0m in \u001b[0;36m_deco_base_f_wrapper_\u001b[0;34m(*args, **kwargs)\u001b[0m\n\u001b[1;32m   1937\u001b[0m                 \u001b[0;31m# (_xxx variables set, ok to call f)\u001b[0m\u001b[0;34m\u001b[0m\u001b[0;34m\u001b[0m\u001b[0;34m\u001b[0m\u001b[0m\n\u001b[1;32m   1938\u001b[0m                 \u001b[0;32mif\u001b[0m \u001b[0;32mnot\u001b[0m \u001b[0m_enabled\u001b[0m\u001b[0;34m:\u001b[0m\u001b[0;34m\u001b[0m\u001b[0;34m\u001b[0m\u001b[0m\n\u001b[0;32m-> 1939\u001b[0;31m                     \u001b[0mret\u001b[0m \u001b[0;34m=\u001b[0m \u001b[0mf\u001b[0m\u001b[0;34m(\u001b[0m\u001b[0;34m*\u001b[0m\u001b[0margs\u001b[0m\u001b[0;34m,\u001b[0m \u001b[0;34m**\u001b[0m\u001b[0mkwargs\u001b[0m\u001b[0;34m)\u001b[0m\u001b[0;34m\u001b[0m\u001b[0;34m\u001b[0m\u001b[0m\n\u001b[0m\u001b[1;32m   1940\u001b[0m                     \u001b[0mself\u001b[0m\u001b[0;34m.\u001b[0m\u001b[0m_logging_state_pop\u001b[0m\u001b[0;34m(\u001b[0m\u001b[0menabled_too\u001b[0m\u001b[0;34m=\u001b[0m\u001b[0;32mTrue\u001b[0m\u001b[0;34m)\u001b[0m\u001b[0;34m\u001b[0m\u001b[0;34m\u001b[0m\u001b[0m\n\u001b[1;32m   1941\u001b[0m                     \u001b[0;32mreturn\u001b[0m \u001b[0mret\u001b[0m\u001b[0;34m\u001b[0m\u001b[0;34m\u001b[0m\u001b[0m\n",
      "\u001b[0;32m~/dev-projects/lightautoml/lightautoml/addons/distillation/distillation.py\u001b[0m in \u001b[0;36mpredict\u001b[0;34m(self, data)\u001b[0m\n\u001b[1;32m     86\u001b[0m         \u001b[0;32mif\u001b[0m \u001b[0;32mnot\u001b[0m \u001b[0mself\u001b[0m\u001b[0;34m.\u001b[0m\u001b[0m_fitted\u001b[0m\u001b[0;34m:\u001b[0m\u001b[0;34m\u001b[0m\u001b[0;34m\u001b[0m\u001b[0m\n\u001b[1;32m     87\u001b[0m             \u001b[0;32mraise\u001b[0m \u001b[0mNotFittedError\u001b[0m\u001b[0;34m\u001b[0m\u001b[0;34m\u001b[0m\u001b[0m\n\u001b[0;32m---> 88\u001b[0;31m         \u001b[0;32mreturn\u001b[0m \u001b[0mself\u001b[0m\u001b[0;34m.\u001b[0m\u001b[0mteacher\u001b[0m\u001b[0;34m.\u001b[0m\u001b[0mpredict\u001b[0m\u001b[0;34m(\u001b[0m\u001b[0mdata\u001b[0m\u001b[0;34m)\u001b[0m\u001b[0;34m\u001b[0m\u001b[0;34m\u001b[0m\u001b[0m\n\u001b[0m\u001b[1;32m     89\u001b[0m \u001b[0;34m\u001b[0m\u001b[0m\n\u001b[1;32m     90\u001b[0m     \u001b[0;32mdef\u001b[0m \u001b[0mdistill\u001b[0m\u001b[0;34m(\u001b[0m\u001b[0mself\u001b[0m\u001b[0;34m,\u001b[0m \u001b[0mdata\u001b[0m\u001b[0;34m,\u001b[0m \u001b[0mstudents\u001b[0m\u001b[0;34m:\u001b[0m \u001b[0mSequence\u001b[0m\u001b[0;34m[\u001b[0m\u001b[0mTabularAutoML\u001b[0m\u001b[0;34m]\u001b[0m \u001b[0;34m=\u001b[0m \u001b[0;32mNone\u001b[0m\u001b[0;34m,\u001b[0m \u001b[0mlabels\u001b[0m\u001b[0;34m=\u001b[0m\u001b[0;32mNone\u001b[0m\u001b[0;34m,\u001b[0m \u001b[0mmetric\u001b[0m\u001b[0;34m=\u001b[0m\u001b[0;32mNone\u001b[0m\u001b[0;34m)\u001b[0m\u001b[0;34m:\u001b[0m\u001b[0;34m\u001b[0m\u001b[0;34m\u001b[0m\u001b[0m\n",
      "\u001b[0;32m~/dev-projects/lightautoml/venv/lib/python3.8/site-packages/log_calls/log_calls.py\u001b[0m in \u001b[0;36m_deco_base_f_wrapper_\u001b[0;34m(*args, **kwargs)\u001b[0m\n\u001b[1;32m   1937\u001b[0m                 \u001b[0;31m# (_xxx variables set, ok to call f)\u001b[0m\u001b[0;34m\u001b[0m\u001b[0;34m\u001b[0m\u001b[0;34m\u001b[0m\u001b[0m\n\u001b[1;32m   1938\u001b[0m                 \u001b[0;32mif\u001b[0m \u001b[0;32mnot\u001b[0m \u001b[0m_enabled\u001b[0m\u001b[0;34m:\u001b[0m\u001b[0;34m\u001b[0m\u001b[0;34m\u001b[0m\u001b[0m\n\u001b[0;32m-> 1939\u001b[0;31m                     \u001b[0mret\u001b[0m \u001b[0;34m=\u001b[0m \u001b[0mf\u001b[0m\u001b[0;34m(\u001b[0m\u001b[0;34m*\u001b[0m\u001b[0margs\u001b[0m\u001b[0;34m,\u001b[0m \u001b[0;34m**\u001b[0m\u001b[0mkwargs\u001b[0m\u001b[0;34m)\u001b[0m\u001b[0;34m\u001b[0m\u001b[0;34m\u001b[0m\u001b[0m\n\u001b[0m\u001b[1;32m   1940\u001b[0m                     \u001b[0mself\u001b[0m\u001b[0;34m.\u001b[0m\u001b[0m_logging_state_pop\u001b[0m\u001b[0;34m(\u001b[0m\u001b[0menabled_too\u001b[0m\u001b[0;34m=\u001b[0m\u001b[0;32mTrue\u001b[0m\u001b[0;34m)\u001b[0m\u001b[0;34m\u001b[0m\u001b[0;34m\u001b[0m\u001b[0m\n\u001b[1;32m   1941\u001b[0m                     \u001b[0;32mreturn\u001b[0m \u001b[0mret\u001b[0m\u001b[0;34m\u001b[0m\u001b[0;34m\u001b[0m\u001b[0m\n",
      "\u001b[0;32m~/dev-projects/lightautoml/lightautoml/addons/utilization/utilization.py\u001b[0m in \u001b[0;36mpredict\u001b[0;34m(self, data, features_names, **kwargs)\u001b[0m\n\u001b[1;32m    342\u001b[0m             \u001b[0;31m# TODO: Maybe refactor?\u001b[0m\u001b[0;34m\u001b[0m\u001b[0;34m\u001b[0m\u001b[0;34m\u001b[0m\u001b[0m\n\u001b[1;32m    343\u001b[0m             \u001b[0;32mfor\u001b[0m \u001b[0mautoml\u001b[0m \u001b[0;32min\u001b[0m \u001b[0mamls_pipe\u001b[0m\u001b[0;34m.\u001b[0m\u001b[0mml_algos\u001b[0m\u001b[0;34m[\u001b[0m\u001b[0;36m0\u001b[0m\u001b[0;34m]\u001b[0m\u001b[0;34m.\u001b[0m\u001b[0mmodels\u001b[0m\u001b[0;34m[\u001b[0m\u001b[0;36m0\u001b[0m\u001b[0;34m]\u001b[0m\u001b[0;34m:\u001b[0m\u001b[0;34m\u001b[0m\u001b[0;34m\u001b[0m\u001b[0m\n\u001b[0;32m--> 344\u001b[0;31m                 \u001b[0minner_pred\u001b[0m \u001b[0;34m=\u001b[0m \u001b[0mautoml\u001b[0m\u001b[0;34m.\u001b[0m\u001b[0mpredict\u001b[0m\u001b[0;34m(\u001b[0m\u001b[0mdata\u001b[0m\u001b[0;34m,\u001b[0m \u001b[0mfeatures_names\u001b[0m\u001b[0;34m,\u001b[0m \u001b[0;34m**\u001b[0m\u001b[0mkwargs\u001b[0m\u001b[0;34m)\u001b[0m\u001b[0;34m\u001b[0m\u001b[0;34m\u001b[0m\u001b[0m\n\u001b[0m\u001b[1;32m    345\u001b[0m                 \u001b[0minner_preds\u001b[0m\u001b[0;34m.\u001b[0m\u001b[0mappend\u001b[0m\u001b[0;34m(\u001b[0m\u001b[0minner_pred\u001b[0m\u001b[0;34m)\u001b[0m\u001b[0;34m\u001b[0m\u001b[0;34m\u001b[0m\u001b[0m\n\u001b[1;32m    346\u001b[0m \u001b[0;34m\u001b[0m\u001b[0m\n",
      "\u001b[0;32m~/dev-projects/lightautoml/venv/lib/python3.8/site-packages/log_calls/log_calls.py\u001b[0m in \u001b[0;36m_deco_base_f_wrapper_\u001b[0;34m(*args, **kwargs)\u001b[0m\n\u001b[1;32m   1937\u001b[0m                 \u001b[0;31m# (_xxx variables set, ok to call f)\u001b[0m\u001b[0;34m\u001b[0m\u001b[0;34m\u001b[0m\u001b[0;34m\u001b[0m\u001b[0m\n\u001b[1;32m   1938\u001b[0m                 \u001b[0;32mif\u001b[0m \u001b[0;32mnot\u001b[0m \u001b[0m_enabled\u001b[0m\u001b[0;34m:\u001b[0m\u001b[0;34m\u001b[0m\u001b[0;34m\u001b[0m\u001b[0m\n\u001b[0;32m-> 1939\u001b[0;31m                     \u001b[0mret\u001b[0m \u001b[0;34m=\u001b[0m \u001b[0mf\u001b[0m\u001b[0;34m(\u001b[0m\u001b[0;34m*\u001b[0m\u001b[0margs\u001b[0m\u001b[0;34m,\u001b[0m \u001b[0;34m**\u001b[0m\u001b[0mkwargs\u001b[0m\u001b[0;34m)\u001b[0m\u001b[0;34m\u001b[0m\u001b[0;34m\u001b[0m\u001b[0m\n\u001b[0m\u001b[1;32m   1940\u001b[0m                     \u001b[0mself\u001b[0m\u001b[0;34m.\u001b[0m\u001b[0m_logging_state_pop\u001b[0m\u001b[0;34m(\u001b[0m\u001b[0menabled_too\u001b[0m\u001b[0;34m=\u001b[0m\u001b[0;32mTrue\u001b[0m\u001b[0;34m)\u001b[0m\u001b[0;34m\u001b[0m\u001b[0;34m\u001b[0m\u001b[0m\n\u001b[1;32m   1941\u001b[0m                     \u001b[0;32mreturn\u001b[0m \u001b[0mret\u001b[0m\u001b[0;34m\u001b[0m\u001b[0;34m\u001b[0m\u001b[0m\n",
      "\u001b[0;32m~/dev-projects/lightautoml/lightautoml/automl/presets/tabular_presets.py\u001b[0m in \u001b[0;36mpredict\u001b[0;34m(self, data, features_names, batch_size, n_jobs)\u001b[0m\n\u001b[1;32m    448\u001b[0m         \u001b[0;32mif\u001b[0m \u001b[0mbatch_size\u001b[0m \u001b[0;32mis\u001b[0m \u001b[0;32mNone\u001b[0m \u001b[0;32mand\u001b[0m \u001b[0mn_jobs\u001b[0m \u001b[0;34m==\u001b[0m \u001b[0;36m1\u001b[0m\u001b[0;34m:\u001b[0m\u001b[0;34m\u001b[0m\u001b[0;34m\u001b[0m\u001b[0m\n\u001b[1;32m    449\u001b[0m             \u001b[0mdata\u001b[0m\u001b[0;34m,\u001b[0m \u001b[0m_\u001b[0m \u001b[0;34m=\u001b[0m \u001b[0mread_data\u001b[0m\u001b[0;34m(\u001b[0m\u001b[0mdata\u001b[0m\u001b[0;34m,\u001b[0m \u001b[0mfeatures_names\u001b[0m\u001b[0;34m,\u001b[0m \u001b[0mself\u001b[0m\u001b[0;34m.\u001b[0m\u001b[0mcpu_limit\u001b[0m\u001b[0;34m,\u001b[0m \u001b[0mread_csv_params\u001b[0m\u001b[0;34m)\u001b[0m\u001b[0;34m\u001b[0m\u001b[0;34m\u001b[0m\u001b[0m\n\u001b[0;32m--> 450\u001b[0;31m             \u001b[0mpred\u001b[0m \u001b[0;34m=\u001b[0m \u001b[0msuper\u001b[0m\u001b[0;34m(\u001b[0m\u001b[0;34m)\u001b[0m\u001b[0;34m.\u001b[0m\u001b[0mpredict\u001b[0m\u001b[0;34m(\u001b[0m\u001b[0mdata\u001b[0m\u001b[0;34m,\u001b[0m \u001b[0mfeatures_names\u001b[0m\u001b[0;34m)\u001b[0m\u001b[0;34m\u001b[0m\u001b[0;34m\u001b[0m\u001b[0m\n\u001b[0m\u001b[1;32m    451\u001b[0m             \u001b[0;32mreturn\u001b[0m \u001b[0mcast\u001b[0m\u001b[0;34m(\u001b[0m\u001b[0mNumpyDataset\u001b[0m\u001b[0;34m,\u001b[0m \u001b[0mpred\u001b[0m\u001b[0;34m)\u001b[0m\u001b[0;34m\u001b[0m\u001b[0;34m\u001b[0m\u001b[0m\n\u001b[1;32m    452\u001b[0m \u001b[0;34m\u001b[0m\u001b[0m\n",
      "\u001b[0;32m~/dev-projects/lightautoml/venv/lib/python3.8/site-packages/log_calls/log_calls.py\u001b[0m in \u001b[0;36m_deco_base_f_wrapper_\u001b[0;34m(*args, **kwargs)\u001b[0m\n\u001b[1;32m   1937\u001b[0m                 \u001b[0;31m# (_xxx variables set, ok to call f)\u001b[0m\u001b[0;34m\u001b[0m\u001b[0;34m\u001b[0m\u001b[0;34m\u001b[0m\u001b[0m\n\u001b[1;32m   1938\u001b[0m                 \u001b[0;32mif\u001b[0m \u001b[0;32mnot\u001b[0m \u001b[0m_enabled\u001b[0m\u001b[0;34m:\u001b[0m\u001b[0;34m\u001b[0m\u001b[0;34m\u001b[0m\u001b[0m\n\u001b[0;32m-> 1939\u001b[0;31m                     \u001b[0mret\u001b[0m \u001b[0;34m=\u001b[0m \u001b[0mf\u001b[0m\u001b[0;34m(\u001b[0m\u001b[0;34m*\u001b[0m\u001b[0margs\u001b[0m\u001b[0;34m,\u001b[0m \u001b[0;34m**\u001b[0m\u001b[0mkwargs\u001b[0m\u001b[0;34m)\u001b[0m\u001b[0;34m\u001b[0m\u001b[0;34m\u001b[0m\u001b[0m\n\u001b[0m\u001b[1;32m   1940\u001b[0m                     \u001b[0mself\u001b[0m\u001b[0;34m.\u001b[0m\u001b[0m_logging_state_pop\u001b[0m\u001b[0;34m(\u001b[0m\u001b[0menabled_too\u001b[0m\u001b[0;34m=\u001b[0m\u001b[0;32mTrue\u001b[0m\u001b[0;34m)\u001b[0m\u001b[0;34m\u001b[0m\u001b[0;34m\u001b[0m\u001b[0m\n\u001b[1;32m   1941\u001b[0m                     \u001b[0;32mreturn\u001b[0m \u001b[0mret\u001b[0m\u001b[0;34m\u001b[0m\u001b[0;34m\u001b[0m\u001b[0m\n",
      "\u001b[0;32m~/dev-projects/lightautoml/lightautoml/automl/base.py\u001b[0m in \u001b[0;36mpredict\u001b[0;34m(self, data, features_names)\u001b[0m\n\u001b[1;32m    254\u001b[0m             \u001b[0mlevel_predictions\u001b[0m \u001b[0;34m=\u001b[0m \u001b[0;34m[\u001b[0m\u001b[0;34m]\u001b[0m\u001b[0;34m\u001b[0m\u001b[0;34m\u001b[0m\u001b[0m\n\u001b[1;32m    255\u001b[0m             \u001b[0;32mfor\u001b[0m \u001b[0m_n\u001b[0m\u001b[0;34m,\u001b[0m \u001b[0mml_pipe\u001b[0m \u001b[0;32min\u001b[0m \u001b[0menumerate\u001b[0m\u001b[0;34m(\u001b[0m\u001b[0mlevel\u001b[0m\u001b[0;34m)\u001b[0m\u001b[0;34m:\u001b[0m\u001b[0;34m\u001b[0m\u001b[0;34m\u001b[0m\u001b[0m\n\u001b[0;32m--> 256\u001b[0;31m                 \u001b[0mlevel_predictions\u001b[0m\u001b[0;34m.\u001b[0m\u001b[0mappend\u001b[0m\u001b[0;34m(\u001b[0m\u001b[0mml_pipe\u001b[0m\u001b[0;34m.\u001b[0m\u001b[0mpredict\u001b[0m\u001b[0;34m(\u001b[0m\u001b[0mdataset\u001b[0m\u001b[0;34m)\u001b[0m\u001b[0;34m)\u001b[0m\u001b[0;34m\u001b[0m\u001b[0;34m\u001b[0m\u001b[0m\n\u001b[0m\u001b[1;32m    257\u001b[0m \u001b[0;34m\u001b[0m\u001b[0m\n\u001b[1;32m    258\u001b[0m             \u001b[0;32mif\u001b[0m \u001b[0mn\u001b[0m \u001b[0;34m!=\u001b[0m \u001b[0mlen\u001b[0m\u001b[0;34m(\u001b[0m\u001b[0mself\u001b[0m\u001b[0;34m.\u001b[0m\u001b[0mlevels\u001b[0m\u001b[0;34m)\u001b[0m\u001b[0;34m:\u001b[0m\u001b[0;34m\u001b[0m\u001b[0;34m\u001b[0m\u001b[0m\n",
      "\u001b[0;32m~/dev-projects/lightautoml/venv/lib/python3.8/site-packages/log_calls/log_calls.py\u001b[0m in \u001b[0;36m_deco_base_f_wrapper_\u001b[0;34m(*args, **kwargs)\u001b[0m\n\u001b[1;32m   1937\u001b[0m                 \u001b[0;31m# (_xxx variables set, ok to call f)\u001b[0m\u001b[0;34m\u001b[0m\u001b[0;34m\u001b[0m\u001b[0;34m\u001b[0m\u001b[0m\n\u001b[1;32m   1938\u001b[0m                 \u001b[0;32mif\u001b[0m \u001b[0;32mnot\u001b[0m \u001b[0m_enabled\u001b[0m\u001b[0;34m:\u001b[0m\u001b[0;34m\u001b[0m\u001b[0;34m\u001b[0m\u001b[0m\n\u001b[0;32m-> 1939\u001b[0;31m                     \u001b[0mret\u001b[0m \u001b[0;34m=\u001b[0m \u001b[0mf\u001b[0m\u001b[0;34m(\u001b[0m\u001b[0;34m*\u001b[0m\u001b[0margs\u001b[0m\u001b[0;34m,\u001b[0m \u001b[0;34m**\u001b[0m\u001b[0mkwargs\u001b[0m\u001b[0;34m)\u001b[0m\u001b[0;34m\u001b[0m\u001b[0;34m\u001b[0m\u001b[0m\n\u001b[0m\u001b[1;32m   1940\u001b[0m                     \u001b[0mself\u001b[0m\u001b[0;34m.\u001b[0m\u001b[0m_logging_state_pop\u001b[0m\u001b[0;34m(\u001b[0m\u001b[0menabled_too\u001b[0m\u001b[0;34m=\u001b[0m\u001b[0;32mTrue\u001b[0m\u001b[0;34m)\u001b[0m\u001b[0;34m\u001b[0m\u001b[0;34m\u001b[0m\u001b[0m\n\u001b[1;32m   1941\u001b[0m                     \u001b[0;32mreturn\u001b[0m \u001b[0mret\u001b[0m\u001b[0;34m\u001b[0m\u001b[0;34m\u001b[0m\u001b[0m\n",
      "\u001b[0;32m~/dev-projects/lightautoml/lightautoml/pipelines/ml/base.py\u001b[0m in \u001b[0;36mpredict\u001b[0;34m(self, dataset)\u001b[0m\n\u001b[1;32m    153\u001b[0m \u001b[0;34m\u001b[0m\u001b[0m\n\u001b[1;32m    154\u001b[0m         \u001b[0;32mfor\u001b[0m \u001b[0mmodel\u001b[0m \u001b[0;32min\u001b[0m \u001b[0mself\u001b[0m\u001b[0;34m.\u001b[0m\u001b[0mml_algos\u001b[0m\u001b[0;34m:\u001b[0m\u001b[0;34m\u001b[0m\u001b[0;34m\u001b[0m\u001b[0m\n\u001b[0;32m--> 155\u001b[0;31m             \u001b[0mpred\u001b[0m \u001b[0;34m=\u001b[0m \u001b[0mmodel\u001b[0m\u001b[0;34m.\u001b[0m\u001b[0mpredict\u001b[0m\u001b[0;34m(\u001b[0m\u001b[0mdataset\u001b[0m\u001b[0;34m)\u001b[0m\u001b[0;34m\u001b[0m\u001b[0;34m\u001b[0m\u001b[0m\n\u001b[0m\u001b[1;32m    156\u001b[0m             \u001b[0mpredictions\u001b[0m\u001b[0;34m.\u001b[0m\u001b[0mappend\u001b[0m\u001b[0;34m(\u001b[0m\u001b[0mpred\u001b[0m\u001b[0;34m)\u001b[0m\u001b[0;34m\u001b[0m\u001b[0;34m\u001b[0m\u001b[0m\n\u001b[1;32m    157\u001b[0m \u001b[0;34m\u001b[0m\u001b[0m\n",
      "\u001b[0;32m~/dev-projects/lightautoml/venv/lib/python3.8/site-packages/log_calls/log_calls.py\u001b[0m in \u001b[0;36m_deco_base_f_wrapper_\u001b[0;34m(*args, **kwargs)\u001b[0m\n\u001b[1;32m   1937\u001b[0m                 \u001b[0;31m# (_xxx variables set, ok to call f)\u001b[0m\u001b[0;34m\u001b[0m\u001b[0;34m\u001b[0m\u001b[0;34m\u001b[0m\u001b[0m\n\u001b[1;32m   1938\u001b[0m                 \u001b[0;32mif\u001b[0m \u001b[0;32mnot\u001b[0m \u001b[0m_enabled\u001b[0m\u001b[0;34m:\u001b[0m\u001b[0;34m\u001b[0m\u001b[0;34m\u001b[0m\u001b[0m\n\u001b[0;32m-> 1939\u001b[0;31m                     \u001b[0mret\u001b[0m \u001b[0;34m=\u001b[0m \u001b[0mf\u001b[0m\u001b[0;34m(\u001b[0m\u001b[0;34m*\u001b[0m\u001b[0margs\u001b[0m\u001b[0;34m,\u001b[0m \u001b[0;34m**\u001b[0m\u001b[0mkwargs\u001b[0m\u001b[0;34m)\u001b[0m\u001b[0;34m\u001b[0m\u001b[0;34m\u001b[0m\u001b[0m\n\u001b[0m\u001b[1;32m   1940\u001b[0m                     \u001b[0mself\u001b[0m\u001b[0;34m.\u001b[0m\u001b[0m_logging_state_pop\u001b[0m\u001b[0;34m(\u001b[0m\u001b[0menabled_too\u001b[0m\u001b[0;34m=\u001b[0m\u001b[0;32mTrue\u001b[0m\u001b[0;34m)\u001b[0m\u001b[0;34m\u001b[0m\u001b[0;34m\u001b[0m\u001b[0m\n\u001b[1;32m   1941\u001b[0m                     \u001b[0;32mreturn\u001b[0m \u001b[0mret\u001b[0m\u001b[0;34m\u001b[0m\u001b[0;34m\u001b[0m\u001b[0m\n",
      "\u001b[0;32m~/dev-projects/lightautoml/lightautoml/ml_algo/base.py\u001b[0m in \u001b[0;36mpredict\u001b[0;34m(self, dataset)\u001b[0m\n\u001b[1;32m    295\u001b[0m         \u001b[0;32mfor\u001b[0m \u001b[0mmodel\u001b[0m \u001b[0;32min\u001b[0m \u001b[0mself\u001b[0m\u001b[0;34m.\u001b[0m\u001b[0mmodels\u001b[0m\u001b[0;34m:\u001b[0m\u001b[0;34m\u001b[0m\u001b[0;34m\u001b[0m\u001b[0m\n\u001b[1;32m    296\u001b[0m             \u001b[0;32mif\u001b[0m \u001b[0mpreds_arr\u001b[0m \u001b[0;32mis\u001b[0m \u001b[0;32mNone\u001b[0m\u001b[0;34m:\u001b[0m\u001b[0;34m\u001b[0m\u001b[0;34m\u001b[0m\u001b[0m\n\u001b[0;32m--> 297\u001b[0;31m                 \u001b[0mpreds_arr\u001b[0m \u001b[0;34m=\u001b[0m \u001b[0mself\u001b[0m\u001b[0;34m.\u001b[0m\u001b[0mpredict_single_fold\u001b[0m\u001b[0;34m(\u001b[0m\u001b[0mmodel\u001b[0m\u001b[0;34m,\u001b[0m \u001b[0mdataset\u001b[0m\u001b[0;34m)\u001b[0m\u001b[0;34m\u001b[0m\u001b[0;34m\u001b[0m\u001b[0m\n\u001b[0m\u001b[1;32m    298\u001b[0m             \u001b[0;32melse\u001b[0m\u001b[0;34m:\u001b[0m\u001b[0;34m\u001b[0m\u001b[0;34m\u001b[0m\u001b[0m\n\u001b[1;32m    299\u001b[0m                 \u001b[0mpreds_arr\u001b[0m \u001b[0;34m+=\u001b[0m \u001b[0mself\u001b[0m\u001b[0;34m.\u001b[0m\u001b[0mpredict_single_fold\u001b[0m\u001b[0;34m(\u001b[0m\u001b[0mmodel\u001b[0m\u001b[0;34m,\u001b[0m \u001b[0mdataset\u001b[0m\u001b[0;34m)\u001b[0m\u001b[0;34m\u001b[0m\u001b[0;34m\u001b[0m\u001b[0m\n",
      "\u001b[0;32m~/dev-projects/lightautoml/venv/lib/python3.8/site-packages/log_calls/log_calls.py\u001b[0m in \u001b[0;36m_deco_base_f_wrapper_\u001b[0;34m(*args, **kwargs)\u001b[0m\n\u001b[1;32m   1937\u001b[0m                 \u001b[0;31m# (_xxx variables set, ok to call f)\u001b[0m\u001b[0;34m\u001b[0m\u001b[0;34m\u001b[0m\u001b[0;34m\u001b[0m\u001b[0m\n\u001b[1;32m   1938\u001b[0m                 \u001b[0;32mif\u001b[0m \u001b[0;32mnot\u001b[0m \u001b[0m_enabled\u001b[0m\u001b[0;34m:\u001b[0m\u001b[0;34m\u001b[0m\u001b[0;34m\u001b[0m\u001b[0m\n\u001b[0;32m-> 1939\u001b[0;31m                     \u001b[0mret\u001b[0m \u001b[0;34m=\u001b[0m \u001b[0mf\u001b[0m\u001b[0;34m(\u001b[0m\u001b[0;34m*\u001b[0m\u001b[0margs\u001b[0m\u001b[0;34m,\u001b[0m \u001b[0;34m**\u001b[0m\u001b[0mkwargs\u001b[0m\u001b[0;34m)\u001b[0m\u001b[0;34m\u001b[0m\u001b[0;34m\u001b[0m\u001b[0m\n\u001b[0m\u001b[1;32m   1940\u001b[0m                     \u001b[0mself\u001b[0m\u001b[0;34m.\u001b[0m\u001b[0m_logging_state_pop\u001b[0m\u001b[0;34m(\u001b[0m\u001b[0menabled_too\u001b[0m\u001b[0;34m=\u001b[0m\u001b[0;32mTrue\u001b[0m\u001b[0;34m)\u001b[0m\u001b[0;34m\u001b[0m\u001b[0;34m\u001b[0m\u001b[0m\n\u001b[1;32m   1941\u001b[0m                     \u001b[0;32mreturn\u001b[0m \u001b[0mret\u001b[0m\u001b[0;34m\u001b[0m\u001b[0;34m\u001b[0m\u001b[0m\n",
      "\u001b[0;32m~/dev-projects/lightautoml/lightautoml/ml_algo/linear_sklearn.py\u001b[0m in \u001b[0;36mpredict_single_fold\u001b[0;34m(self, model, dataset)\u001b[0m\n\u001b[1;32m    115\u001b[0m \u001b[0;34m\u001b[0m\u001b[0m\n\u001b[1;32m    116\u001b[0m         \"\"\"\n\u001b[0;32m--> 117\u001b[0;31m         \u001b[0mpred\u001b[0m \u001b[0;34m=\u001b[0m \u001b[0mmodel\u001b[0m\u001b[0;34m.\u001b[0m\u001b[0mpredict\u001b[0m\u001b[0;34m(\u001b[0m\u001b[0mdataset\u001b[0m\u001b[0;34m.\u001b[0m\u001b[0mdata\u001b[0m\u001b[0;34m)\u001b[0m\u001b[0;34m\u001b[0m\u001b[0;34m\u001b[0m\u001b[0m\n\u001b[0m\u001b[1;32m    118\u001b[0m \u001b[0;34m\u001b[0m\u001b[0m\n\u001b[1;32m    119\u001b[0m         \u001b[0;32mreturn\u001b[0m \u001b[0mpred\u001b[0m\u001b[0;34m\u001b[0m\u001b[0;34m\u001b[0m\u001b[0m\n",
      "\u001b[0;32m~/dev-projects/lightautoml/venv/lib/python3.8/site-packages/log_calls/log_calls.py\u001b[0m in \u001b[0;36m_deco_base_f_wrapper_\u001b[0;34m(*args, **kwargs)\u001b[0m\n\u001b[1;32m   1937\u001b[0m                 \u001b[0;31m# (_xxx variables set, ok to call f)\u001b[0m\u001b[0;34m\u001b[0m\u001b[0;34m\u001b[0m\u001b[0;34m\u001b[0m\u001b[0m\n\u001b[1;32m   1938\u001b[0m                 \u001b[0;32mif\u001b[0m \u001b[0;32mnot\u001b[0m \u001b[0m_enabled\u001b[0m\u001b[0;34m:\u001b[0m\u001b[0;34m\u001b[0m\u001b[0;34m\u001b[0m\u001b[0m\n\u001b[0;32m-> 1939\u001b[0;31m                     \u001b[0mret\u001b[0m \u001b[0;34m=\u001b[0m \u001b[0mf\u001b[0m\u001b[0;34m(\u001b[0m\u001b[0;34m*\u001b[0m\u001b[0margs\u001b[0m\u001b[0;34m,\u001b[0m \u001b[0;34m**\u001b[0m\u001b[0mkwargs\u001b[0m\u001b[0;34m)\u001b[0m\u001b[0;34m\u001b[0m\u001b[0;34m\u001b[0m\u001b[0m\n\u001b[0m\u001b[1;32m   1940\u001b[0m                     \u001b[0mself\u001b[0m\u001b[0;34m.\u001b[0m\u001b[0m_logging_state_pop\u001b[0m\u001b[0;34m(\u001b[0m\u001b[0menabled_too\u001b[0m\u001b[0;34m=\u001b[0m\u001b[0;32mTrue\u001b[0m\u001b[0;34m)\u001b[0m\u001b[0;34m\u001b[0m\u001b[0;34m\u001b[0m\u001b[0m\n\u001b[1;32m   1941\u001b[0m                     \u001b[0;32mreturn\u001b[0m \u001b[0mret\u001b[0m\u001b[0;34m\u001b[0m\u001b[0;34m\u001b[0m\u001b[0m\n",
      "\u001b[0;32m~/dev-projects/lightautoml/lightautoml/ml_algo/torch_based/linear_model.py\u001b[0m in \u001b[0;36mpredict\u001b[0;34m(self, data)\u001b[0m\n\u001b[1;32m    423\u001b[0m \u001b[0;34m\u001b[0m\u001b[0m\n\u001b[1;32m    424\u001b[0m         \"\"\"\n\u001b[0;32m--> 425\u001b[0;31m         \u001b[0mpred\u001b[0m \u001b[0;34m=\u001b[0m \u001b[0msuper\u001b[0m\u001b[0;34m(\u001b[0m\u001b[0;34m)\u001b[0m\u001b[0;34m.\u001b[0m\u001b[0mpredict\u001b[0m\u001b[0;34m(\u001b[0m\u001b[0mdata\u001b[0m\u001b[0;34m)\u001b[0m\u001b[0;34m\u001b[0m\u001b[0;34m\u001b[0m\u001b[0m\n\u001b[0m\u001b[1;32m    426\u001b[0m         \u001b[0;32mif\u001b[0m \u001b[0mself\u001b[0m\u001b[0;34m.\u001b[0m\u001b[0m_binary\u001b[0m\u001b[0;34m:\u001b[0m\u001b[0;34m\u001b[0m\u001b[0;34m\u001b[0m\u001b[0m\n\u001b[1;32m    427\u001b[0m             \u001b[0mpred\u001b[0m \u001b[0;34m=\u001b[0m \u001b[0mpred\u001b[0m\u001b[0;34m[\u001b[0m\u001b[0;34m:\u001b[0m\u001b[0;34m,\u001b[0m \u001b[0;36m0\u001b[0m\u001b[0;34m]\u001b[0m\u001b[0;34m\u001b[0m\u001b[0;34m\u001b[0m\u001b[0m\n",
      "\u001b[0;32m~/dev-projects/lightautoml/venv/lib/python3.8/site-packages/log_calls/log_calls.py\u001b[0m in \u001b[0;36m_deco_base_f_wrapper_\u001b[0;34m(*args, **kwargs)\u001b[0m\n\u001b[1;32m   1937\u001b[0m                 \u001b[0;31m# (_xxx variables set, ok to call f)\u001b[0m\u001b[0;34m\u001b[0m\u001b[0;34m\u001b[0m\u001b[0;34m\u001b[0m\u001b[0m\n\u001b[1;32m   1938\u001b[0m                 \u001b[0;32mif\u001b[0m \u001b[0;32mnot\u001b[0m \u001b[0m_enabled\u001b[0m\u001b[0;34m:\u001b[0m\u001b[0;34m\u001b[0m\u001b[0;34m\u001b[0m\u001b[0m\n\u001b[0;32m-> 1939\u001b[0;31m                     \u001b[0mret\u001b[0m \u001b[0;34m=\u001b[0m \u001b[0mf\u001b[0m\u001b[0;34m(\u001b[0m\u001b[0;34m*\u001b[0m\u001b[0margs\u001b[0m\u001b[0;34m,\u001b[0m \u001b[0;34m**\u001b[0m\u001b[0mkwargs\u001b[0m\u001b[0;34m)\u001b[0m\u001b[0;34m\u001b[0m\u001b[0;34m\u001b[0m\u001b[0m\n\u001b[0m\u001b[1;32m   1940\u001b[0m                     \u001b[0mself\u001b[0m\u001b[0;34m.\u001b[0m\u001b[0m_logging_state_pop\u001b[0m\u001b[0;34m(\u001b[0m\u001b[0menabled_too\u001b[0m\u001b[0;34m=\u001b[0m\u001b[0;32mTrue\u001b[0m\u001b[0;34m)\u001b[0m\u001b[0;34m\u001b[0m\u001b[0;34m\u001b[0m\u001b[0m\n\u001b[1;32m   1941\u001b[0m                     \u001b[0;32mreturn\u001b[0m \u001b[0mret\u001b[0m\u001b[0;34m\u001b[0m\u001b[0;34m\u001b[0m\u001b[0m\n",
      "\u001b[0;32m~/dev-projects/lightautoml/lightautoml/ml_algo/torch_based/linear_model.py\u001b[0m in \u001b[0;36mpredict\u001b[0;34m(self, data)\u001b[0m\n\u001b[1;32m    373\u001b[0m         \u001b[0mdata\u001b[0m\u001b[0;34m,\u001b[0m \u001b[0mdata_cat\u001b[0m \u001b[0;34m=\u001b[0m \u001b[0mself\u001b[0m\u001b[0;34m.\u001b[0m\u001b[0m_prepare_data\u001b[0m\u001b[0;34m(\u001b[0m\u001b[0mdata\u001b[0m\u001b[0;34m)\u001b[0m\u001b[0;34m\u001b[0m\u001b[0;34m\u001b[0m\u001b[0m\n\u001b[1;32m    374\u001b[0m \u001b[0;34m\u001b[0m\u001b[0m\n\u001b[0;32m--> 375\u001b[0;31m         \u001b[0;32mreturn\u001b[0m \u001b[0mself\u001b[0m\u001b[0;34m.\u001b[0m\u001b[0m_score\u001b[0m\u001b[0;34m(\u001b[0m\u001b[0mdata\u001b[0m\u001b[0;34m,\u001b[0m \u001b[0mdata_cat\u001b[0m\u001b[0;34m)\u001b[0m\u001b[0;34m\u001b[0m\u001b[0;34m\u001b[0m\u001b[0m\n\u001b[0m\u001b[1;32m    376\u001b[0m \u001b[0;34m\u001b[0m\u001b[0m\n\u001b[1;32m    377\u001b[0m \u001b[0;34m\u001b[0m\u001b[0m\n",
      "\u001b[0;32m~/dev-projects/lightautoml/venv/lib/python3.8/site-packages/log_calls/log_calls.py\u001b[0m in \u001b[0;36m_deco_base_f_wrapper_\u001b[0;34m(*args, **kwargs)\u001b[0m\n\u001b[1;32m   1937\u001b[0m                 \u001b[0;31m# (_xxx variables set, ok to call f)\u001b[0m\u001b[0;34m\u001b[0m\u001b[0;34m\u001b[0m\u001b[0;34m\u001b[0m\u001b[0m\n\u001b[1;32m   1938\u001b[0m                 \u001b[0;32mif\u001b[0m \u001b[0;32mnot\u001b[0m \u001b[0m_enabled\u001b[0m\u001b[0;34m:\u001b[0m\u001b[0;34m\u001b[0m\u001b[0;34m\u001b[0m\u001b[0m\n\u001b[0;32m-> 1939\u001b[0;31m                     \u001b[0mret\u001b[0m \u001b[0;34m=\u001b[0m \u001b[0mf\u001b[0m\u001b[0;34m(\u001b[0m\u001b[0;34m*\u001b[0m\u001b[0margs\u001b[0m\u001b[0;34m,\u001b[0m \u001b[0;34m**\u001b[0m\u001b[0mkwargs\u001b[0m\u001b[0;34m)\u001b[0m\u001b[0;34m\u001b[0m\u001b[0;34m\u001b[0m\u001b[0m\n\u001b[0m\u001b[1;32m   1940\u001b[0m                     \u001b[0mself\u001b[0m\u001b[0;34m.\u001b[0m\u001b[0m_logging_state_pop\u001b[0m\u001b[0;34m(\u001b[0m\u001b[0menabled_too\u001b[0m\u001b[0;34m=\u001b[0m\u001b[0;32mTrue\u001b[0m\u001b[0;34m)\u001b[0m\u001b[0;34m\u001b[0m\u001b[0;34m\u001b[0m\u001b[0m\n\u001b[1;32m   1941\u001b[0m                     \u001b[0;32mreturn\u001b[0m \u001b[0mret\u001b[0m\u001b[0;34m\u001b[0m\u001b[0;34m\u001b[0m\u001b[0m\n",
      "\u001b[0;32m~/dev-projects/lightautoml/lightautoml/ml_algo/torch_based/linear_model.py\u001b[0m in \u001b[0;36m_score\u001b[0;34m(self, data, data_cat)\u001b[0m\n\u001b[1;32m    357\u001b[0m         \u001b[0;32mwith\u001b[0m \u001b[0mtorch\u001b[0m\u001b[0;34m.\u001b[0m\u001b[0mset_grad_enabled\u001b[0m\u001b[0;34m(\u001b[0m\u001b[0;32mFalse\u001b[0m\u001b[0;34m)\u001b[0m\u001b[0;34m:\u001b[0m\u001b[0;34m\u001b[0m\u001b[0;34m\u001b[0m\u001b[0m\n\u001b[1;32m    358\u001b[0m             \u001b[0mself\u001b[0m\u001b[0;34m.\u001b[0m\u001b[0mmodel\u001b[0m\u001b[0;34m.\u001b[0m\u001b[0meval\u001b[0m\u001b[0;34m(\u001b[0m\u001b[0;34m)\u001b[0m\u001b[0;34m\u001b[0m\u001b[0;34m\u001b[0m\u001b[0m\n\u001b[0;32m--> 359\u001b[0;31m             \u001b[0mpreds\u001b[0m \u001b[0;34m=\u001b[0m \u001b[0mself\u001b[0m\u001b[0;34m.\u001b[0m\u001b[0mmodel\u001b[0m\u001b[0;34m(\u001b[0m\u001b[0mdata\u001b[0m\u001b[0;34m,\u001b[0m \u001b[0mdata_cat\u001b[0m\u001b[0;34m)\u001b[0m\u001b[0;34m.\u001b[0m\u001b[0mnumpy\u001b[0m\u001b[0;34m(\u001b[0m\u001b[0;34m)\u001b[0m\u001b[0;34m\u001b[0m\u001b[0;34m\u001b[0m\u001b[0m\n\u001b[0m\u001b[1;32m    360\u001b[0m \u001b[0;34m\u001b[0m\u001b[0m\n\u001b[1;32m    361\u001b[0m         \u001b[0;32mreturn\u001b[0m \u001b[0mpreds\u001b[0m\u001b[0;34m\u001b[0m\u001b[0;34m\u001b[0m\u001b[0m\n",
      "\u001b[0;32m~/dev-projects/lightautoml/venv/lib/python3.8/site-packages/torch/nn/modules/module.py\u001b[0m in \u001b[0;36m_call_impl\u001b[0;34m(self, *input, **kwargs)\u001b[0m\n\u001b[1;32m    725\u001b[0m             \u001b[0mresult\u001b[0m \u001b[0;34m=\u001b[0m \u001b[0mself\u001b[0m\u001b[0;34m.\u001b[0m\u001b[0m_slow_forward\u001b[0m\u001b[0;34m(\u001b[0m\u001b[0;34m*\u001b[0m\u001b[0minput\u001b[0m\u001b[0;34m,\u001b[0m \u001b[0;34m**\u001b[0m\u001b[0mkwargs\u001b[0m\u001b[0;34m)\u001b[0m\u001b[0;34m\u001b[0m\u001b[0;34m\u001b[0m\u001b[0m\n\u001b[1;32m    726\u001b[0m         \u001b[0;32melse\u001b[0m\u001b[0;34m:\u001b[0m\u001b[0;34m\u001b[0m\u001b[0;34m\u001b[0m\u001b[0m\n\u001b[0;32m--> 727\u001b[0;31m             \u001b[0mresult\u001b[0m \u001b[0;34m=\u001b[0m \u001b[0mself\u001b[0m\u001b[0;34m.\u001b[0m\u001b[0mforward\u001b[0m\u001b[0;34m(\u001b[0m\u001b[0;34m*\u001b[0m\u001b[0minput\u001b[0m\u001b[0;34m,\u001b[0m \u001b[0;34m**\u001b[0m\u001b[0mkwargs\u001b[0m\u001b[0;34m)\u001b[0m\u001b[0;34m\u001b[0m\u001b[0;34m\u001b[0m\u001b[0m\n\u001b[0m\u001b[1;32m    728\u001b[0m         for hook in itertools.chain(\n\u001b[1;32m    729\u001b[0m                 \u001b[0m_global_forward_hooks\u001b[0m\u001b[0;34m.\u001b[0m\u001b[0mvalues\u001b[0m\u001b[0;34m(\u001b[0m\u001b[0;34m)\u001b[0m\u001b[0;34m,\u001b[0m\u001b[0;34m\u001b[0m\u001b[0;34m\u001b[0m\u001b[0m\n",
      "\u001b[0;32m~/dev-projects/lightautoml/venv/lib/python3.8/site-packages/log_calls/log_calls.py\u001b[0m in \u001b[0;36m_deco_base_f_wrapper_\u001b[0;34m(*args, **kwargs)\u001b[0m\n\u001b[1;32m   1937\u001b[0m                 \u001b[0;31m# (_xxx variables set, ok to call f)\u001b[0m\u001b[0;34m\u001b[0m\u001b[0;34m\u001b[0m\u001b[0;34m\u001b[0m\u001b[0m\n\u001b[1;32m   1938\u001b[0m                 \u001b[0;32mif\u001b[0m \u001b[0;32mnot\u001b[0m \u001b[0m_enabled\u001b[0m\u001b[0;34m:\u001b[0m\u001b[0;34m\u001b[0m\u001b[0;34m\u001b[0m\u001b[0m\n\u001b[0;32m-> 1939\u001b[0;31m                     \u001b[0mret\u001b[0m \u001b[0;34m=\u001b[0m \u001b[0mf\u001b[0m\u001b[0;34m(\u001b[0m\u001b[0;34m*\u001b[0m\u001b[0margs\u001b[0m\u001b[0;34m,\u001b[0m \u001b[0;34m**\u001b[0m\u001b[0mkwargs\u001b[0m\u001b[0;34m)\u001b[0m\u001b[0;34m\u001b[0m\u001b[0;34m\u001b[0m\u001b[0m\n\u001b[0m\u001b[1;32m   1940\u001b[0m                     \u001b[0mself\u001b[0m\u001b[0;34m.\u001b[0m\u001b[0m_logging_state_pop\u001b[0m\u001b[0;34m(\u001b[0m\u001b[0menabled_too\u001b[0m\u001b[0;34m=\u001b[0m\u001b[0;32mTrue\u001b[0m\u001b[0;34m)\u001b[0m\u001b[0;34m\u001b[0m\u001b[0;34m\u001b[0m\u001b[0m\n\u001b[1;32m   1941\u001b[0m                     \u001b[0;32mreturn\u001b[0m \u001b[0mret\u001b[0m\u001b[0;34m\u001b[0m\u001b[0;34m\u001b[0m\u001b[0m\n",
      "\u001b[0;32m~/dev-projects/lightautoml/lightautoml/ml_algo/torch_based/linear_model.py\u001b[0m in \u001b[0;36mforward\u001b[0;34m(self, numbers, categories)\u001b[0m\n\u001b[1;32m    123\u001b[0m \u001b[0;34m\u001b[0m\u001b[0m\n\u001b[1;32m    124\u001b[0m     \u001b[0;32mdef\u001b[0m \u001b[0mforward\u001b[0m\u001b[0;34m(\u001b[0m\u001b[0mself\u001b[0m\u001b[0;34m,\u001b[0m \u001b[0mnumbers\u001b[0m\u001b[0;34m:\u001b[0m \u001b[0mOptional\u001b[0m\u001b[0;34m[\u001b[0m\u001b[0mtorch\u001b[0m\u001b[0;34m.\u001b[0m\u001b[0mTensor\u001b[0m\u001b[0;34m]\u001b[0m \u001b[0;34m=\u001b[0m \u001b[0;32mNone\u001b[0m\u001b[0;34m,\u001b[0m \u001b[0mcategories\u001b[0m\u001b[0;34m:\u001b[0m \u001b[0mOptional\u001b[0m\u001b[0;34m[\u001b[0m\u001b[0mtorch\u001b[0m\u001b[0;34m.\u001b[0m\u001b[0mTensor\u001b[0m\u001b[0;34m]\u001b[0m \u001b[0;34m=\u001b[0m \u001b[0;32mNone\u001b[0m\u001b[0;34m)\u001b[0m\u001b[0;34m:\u001b[0m\u001b[0;34m\u001b[0m\u001b[0;34m\u001b[0m\u001b[0m\n\u001b[0;32m--> 125\u001b[0;31m         \u001b[0mx\u001b[0m \u001b[0;34m=\u001b[0m \u001b[0msuper\u001b[0m\u001b[0;34m(\u001b[0m\u001b[0;34m)\u001b[0m\u001b[0;34m.\u001b[0m\u001b[0mforward\u001b[0m\u001b[0;34m(\u001b[0m\u001b[0mnumbers\u001b[0m\u001b[0;34m,\u001b[0m \u001b[0mcategories\u001b[0m\u001b[0;34m)\u001b[0m\u001b[0;34m\u001b[0m\u001b[0;34m\u001b[0m\u001b[0m\n\u001b[0m\u001b[1;32m    126\u001b[0m         \u001b[0mx\u001b[0m \u001b[0;34m=\u001b[0m \u001b[0mtorch\u001b[0m\u001b[0;34m.\u001b[0m\u001b[0mclamp\u001b[0m\u001b[0;34m(\u001b[0m\u001b[0mx\u001b[0m\u001b[0;34m,\u001b[0m \u001b[0;34m-\u001b[0m\u001b[0;36m50\u001b[0m\u001b[0;34m,\u001b[0m \u001b[0;36m50\u001b[0m\u001b[0;34m)\u001b[0m\u001b[0;34m\u001b[0m\u001b[0;34m\u001b[0m\u001b[0m\n\u001b[1;32m    127\u001b[0m         \u001b[0mx\u001b[0m \u001b[0;34m=\u001b[0m \u001b[0mself\u001b[0m\u001b[0;34m.\u001b[0m\u001b[0msoftmax\u001b[0m\u001b[0;34m(\u001b[0m\u001b[0mx\u001b[0m\u001b[0;34m)\u001b[0m\u001b[0;34m\u001b[0m\u001b[0;34m\u001b[0m\u001b[0m\n",
      "\u001b[0;32m~/dev-projects/lightautoml/venv/lib/python3.8/site-packages/log_calls/log_calls.py\u001b[0m in \u001b[0;36m_deco_base_f_wrapper_\u001b[0;34m(*args, **kwargs)\u001b[0m\n\u001b[1;32m   1937\u001b[0m                 \u001b[0;31m# (_xxx variables set, ok to call f)\u001b[0m\u001b[0;34m\u001b[0m\u001b[0;34m\u001b[0m\u001b[0;34m\u001b[0m\u001b[0m\n\u001b[1;32m   1938\u001b[0m                 \u001b[0;32mif\u001b[0m \u001b[0;32mnot\u001b[0m \u001b[0m_enabled\u001b[0m\u001b[0;34m:\u001b[0m\u001b[0;34m\u001b[0m\u001b[0;34m\u001b[0m\u001b[0m\n\u001b[0;32m-> 1939\u001b[0;31m                     \u001b[0mret\u001b[0m \u001b[0;34m=\u001b[0m \u001b[0mf\u001b[0m\u001b[0;34m(\u001b[0m\u001b[0;34m*\u001b[0m\u001b[0margs\u001b[0m\u001b[0;34m,\u001b[0m \u001b[0;34m**\u001b[0m\u001b[0mkwargs\u001b[0m\u001b[0;34m)\u001b[0m\u001b[0;34m\u001b[0m\u001b[0;34m\u001b[0m\u001b[0m\n\u001b[0m\u001b[1;32m   1940\u001b[0m                     \u001b[0mself\u001b[0m\u001b[0;34m.\u001b[0m\u001b[0m_logging_state_pop\u001b[0m\u001b[0;34m(\u001b[0m\u001b[0menabled_too\u001b[0m\u001b[0;34m=\u001b[0m\u001b[0;32mTrue\u001b[0m\u001b[0;34m)\u001b[0m\u001b[0;34m\u001b[0m\u001b[0;34m\u001b[0m\u001b[0m\n\u001b[1;32m   1941\u001b[0m                     \u001b[0;32mreturn\u001b[0m \u001b[0mret\u001b[0m\u001b[0;34m\u001b[0m\u001b[0;34m\u001b[0m\u001b[0m\n",
      "\u001b[0;32m~/dev-projects/lightautoml/lightautoml/ml_algo/torch_based/linear_model.py\u001b[0m in \u001b[0;36mforward\u001b[0;34m(self, numbers, categories)\u001b[0m\n\u001b[1;32m     78\u001b[0m \u001b[0;34m\u001b[0m\u001b[0m\n\u001b[1;32m     79\u001b[0m         \u001b[0;32mif\u001b[0m \u001b[0mself\u001b[0m\u001b[0;34m.\u001b[0m\u001b[0mcat_params\u001b[0m \u001b[0;32mis\u001b[0m \u001b[0;32mnot\u001b[0m \u001b[0;32mNone\u001b[0m\u001b[0;34m:\u001b[0m\u001b[0;34m\u001b[0m\u001b[0;34m\u001b[0m\u001b[0m\n\u001b[0;32m---> 80\u001b[0;31m             \u001b[0mx\u001b[0m \u001b[0;34m=\u001b[0m \u001b[0mx\u001b[0m \u001b[0;34m+\u001b[0m \u001b[0mself\u001b[0m\u001b[0;34m.\u001b[0m\u001b[0mcat_params\u001b[0m\u001b[0;34m[\u001b[0m\u001b[0mcategories\u001b[0m \u001b[0;34m+\u001b[0m \u001b[0mself\u001b[0m\u001b[0;34m.\u001b[0m\u001b[0membed_idx\u001b[0m\u001b[0;34m]\u001b[0m\u001b[0;34m.\u001b[0m\u001b[0msum\u001b[0m\u001b[0;34m(\u001b[0m\u001b[0mdim\u001b[0m\u001b[0;34m=\u001b[0m\u001b[0;36m1\u001b[0m\u001b[0;34m)\u001b[0m\u001b[0;34m\u001b[0m\u001b[0;34m\u001b[0m\u001b[0m\n\u001b[0m\u001b[1;32m     81\u001b[0m \u001b[0;34m\u001b[0m\u001b[0m\n\u001b[1;32m     82\u001b[0m         \u001b[0;32mreturn\u001b[0m \u001b[0mx\u001b[0m\u001b[0;34m\u001b[0m\u001b[0;34m\u001b[0m\u001b[0m\n",
      "\u001b[0;31mIndexError\u001b[0m: index 16 is out of bounds for dimension 0 with size 16"
     ]
    }
   ],
   "source": [
    "y_aug = distiller.predict(train_aug).data"
   ]
  },
  {
   "cell_type": "code",
   "execution_count": 211,
   "metadata": {},
   "outputs": [
    {
     "output_type": "stream",
     "name": "stdout",
     "text": [
      "0:\tlearn: -11.0451632\ttotal: 1.7s\tremaining: 28m 21s\n",
      "200:\tlearn: -10.5452147\ttotal: 6m 36s\tremaining: 26m 17s\n",
      "400:\tlearn: -10.6970444\ttotal: 13m 12s\tremaining: 19m 43s\n",
      "600:\tlearn: -10.9334860\ttotal: 19m 49s\tremaining: 13m 9s\n",
      "800:\tlearn: -11.1804037\ttotal: 26m 25s\tremaining: 6m 33s\n",
      "999:\tlearn: -11.3992186\ttotal: 33m 1s\tremaining: 0us\n"
     ]
    },
    {
     "output_type": "execute_result",
     "data": {
      "text/plain": [
       "<catboost.core.CatBoostClassifier at 0x181dccf40>"
      ]
     },
     "metadata": {},
     "execution_count": 211
    }
   ],
   "source": [
    "cb_soft_model.fit(X=train_aug.astype(int), y=y_aug, verbose=200)"
   ]
  },
  {
   "cell_type": "code",
   "execution_count": 111,
   "metadata": {},
   "outputs": [
    {
     "output_type": "execute_result",
     "data": {
      "text/plain": [
       "0.8646140116019634"
      ]
     },
     "metadata": {},
     "execution_count": 111
    }
   ],
   "source": [
    "accuracy_score(cb_y_test, cb_soft_model.predict_proba(cb_test).argmax(axis=1))"
   ]
  },
  {
   "cell_type": "code",
   "execution_count": 212,
   "metadata": {},
   "outputs": [
    {
     "output_type": "execute_result",
     "data": {
      "text/plain": [
       "0.8706827309236947"
      ]
     },
     "metadata": {},
     "execution_count": 212
    }
   ],
   "source": [
    "accuracy_score(cb_y_test, cb_soft_model.predict_proba(cb_test).argmax(axis=1))"
   ]
  },
  {
   "cell_type": "code",
   "execution_count": 7,
   "metadata": {},
   "outputs": [
    {
     "output_type": "error",
     "ename": "AttributeError",
     "evalue": "'TabularUtilizedAutoML' object has no attribute 'outer_pipes'",
     "traceback": [
      "\u001b[0;31m---------------------------------------------------------------------------\u001b[0m",
      "\u001b[0;31mAttributeError\u001b[0m                            Traceback (most recent call last)",
      "\u001b[0;32m<ipython-input-7-1605930ae56a>\u001b[0m in \u001b[0;36m<module>\u001b[0;34m\u001b[0m\n\u001b[0;32m----> 1\u001b[0;31m \u001b[0mdistiller\u001b[0m\u001b[0;34m.\u001b[0m\u001b[0mteacher\u001b[0m\u001b[0;34m.\u001b[0m\u001b[0mouter_pipes\u001b[0m\u001b[0;34m[\u001b[0m\u001b[0;36m0\u001b[0m\u001b[0;34m]\u001b[0m\u001b[0;34m.\u001b[0m\u001b[0mml_algos\u001b[0m\u001b[0;34m[\u001b[0m\u001b[0;36m0\u001b[0m\u001b[0;34m]\u001b[0m\u001b[0;34m.\u001b[0m\u001b[0mmodels\u001b[0m\u001b[0;34m[\u001b[0m\u001b[0;36m0\u001b[0m\u001b[0;34m]\u001b[0m\u001b[0;34m[\u001b[0m\u001b[0;36m0\u001b[0m\u001b[0;34m]\u001b[0m\u001b[0;34m.\u001b[0m\u001b[0mreader\u001b[0m\u001b[0;34m.\u001b[0m\u001b[0mroles\u001b[0m\u001b[0;34m\u001b[0m\u001b[0;34m\u001b[0m\u001b[0m\n\u001b[0m",
      "\u001b[0;31mAttributeError\u001b[0m: 'TabularUtilizedAutoML' object has no attribute 'outer_pipes'"
     ]
    }
   ],
   "source": [
    "distiller.teacher.outer_pipes[0].ml_algos[0].models[0][0].reader.roles"
   ]
  },
  {
   "cell_type": "code",
   "execution_count": 171,
   "metadata": {},
   "outputs": [
    {
     "output_type": "execute_result",
     "data": {
      "text/plain": [
       "['_$_f_record_history_wrapper_-or-cls-DECO',\n",
       " '__class__',\n",
       " '__delattr__',\n",
       " '__dict__',\n",
       " '__dir__',\n",
       " '__doc__',\n",
       " '__eq__',\n",
       " '__format__',\n",
       " '__ge__',\n",
       " '__getattribute__',\n",
       " '__gt__',\n",
       " '__hash__',\n",
       " '__init__',\n",
       " '__init_subclass__',\n",
       " '__le__',\n",
       " '__lt__',\n",
       " '__module__',\n",
       " '__ne__',\n",
       " '__new__',\n",
       " '__reduce__',\n",
       " '__reduce_ex__',\n",
       " '__repr__',\n",
       " '__setattr__',\n",
       " '__sizeof__',\n",
       " '__str__',\n",
       " '__subclasshook__',\n",
       " '__weakref__',\n",
       " '_create_target',\n",
       " '_dropped_features',\n",
       " '_get_default_role_from_str',\n",
       " '_guess_role',\n",
       " '_is_ok_feature',\n",
       " '_roles',\n",
       " '_used_array_attrs',\n",
       " '_used_features',\n",
       " 'advanced_roles',\n",
       " 'advanced_roles_guess',\n",
       " 'advanced_roles_params',\n",
       " 'class_mapping',\n",
       " 'cv',\n",
       " 'dropped_features',\n",
       " 'fit_read',\n",
       " 'from_reader',\n",
       " 'get_own_record_history_wrapper',\n",
       " 'get_record_history_wrapper',\n",
       " 'max_constant_rate',\n",
       " 'max_nan_rate',\n",
       " 'n_jobs',\n",
       " 'params',\n",
       " 'random_state',\n",
       " 'read',\n",
       " 'record_history_omit',\n",
       " 'record_history_only',\n",
       " 'roles',\n",
       " 'roles_params',\n",
       " 'samples',\n",
       " 'task',\n",
       " 'upd_used_features',\n",
       " 'used_array_attrs',\n",
       " 'used_features']"
      ]
     },
     "metadata": {},
     "execution_count": 171
    }
   ],
   "source": [
    "dir(distiller.teacher.outer_pipes[0].ml_algos[0].models[0][0].reader)"
   ]
  },
  {
   "cell_type": "code",
   "execution_count": 151,
   "metadata": {},
   "outputs": [
    {
     "output_type": "error",
     "ename": "AttributeError",
     "evalue": "type object 'TabularAutoML' has no attribute 'reader'",
     "traceback": [
      "\u001b[0;31m---------------------------------------------------------------------------\u001b[0m",
      "\u001b[0;31mAttributeError\u001b[0m                            Traceback (most recent call last)",
      "\u001b[0;32m<ipython-input-151-c9adf965870a>\u001b[0m in \u001b[0;36m<module>\u001b[0;34m\u001b[0m\n\u001b[0;32m----> 1\u001b[0;31m \u001b[0mdistiller\u001b[0m\u001b[0;34m.\u001b[0m\u001b[0mteacher\u001b[0m\u001b[0;34m.\u001b[0m\u001b[0mautoml_factory\u001b[0m\u001b[0;34m.\u001b[0m\u001b[0mreader\u001b[0m\u001b[0;34m.\u001b[0m\u001b[0mused_array_attrs\u001b[0m\u001b[0;34m\u001b[0m\u001b[0;34m\u001b[0m\u001b[0m\n\u001b[0m",
      "\u001b[0;31mAttributeError\u001b[0m: type object 'TabularAutoML' has no attribute 'reader'"
     ]
    }
   ],
   "source": [
    "distiller.teacher..reader.used_array_attrs"
   ]
  },
  {
   "cell_type": "code",
   "execution_count": 148,
   "metadata": {},
   "outputs": [
    {
     "output_type": "execute_result",
     "data": {
      "text/plain": [
       "0.8655957161981258"
      ]
     },
     "metadata": {},
     "execution_count": 148
    }
   ],
   "source": [
    "accuracy_score(cb_y_test, cb_soft_model.predict_proba(cb_test).argmax(axis=1))"
   ]
  },
  {
   "cell_type": "code",
   "execution_count": 37,
   "metadata": {},
   "outputs": [
    {
     "output_type": "error",
     "ename": "AttributeError",
     "evalue": "'TabularUtilizedAutoML' object has no attribute 'reader'",
     "traceback": [
      "\u001b[0;31m---------------------------------------------------------------------------\u001b[0m",
      "\u001b[0;31mAttributeError\u001b[0m                            Traceback (most recent call last)",
      "\u001b[0;32m<ipython-input-37-6855a6795b48>\u001b[0m in \u001b[0;36m<module>\u001b[0;34m\u001b[0m\n\u001b[0;32m----> 1\u001b[0;31m \u001b[0mdistiller\u001b[0m\u001b[0;34m.\u001b[0m\u001b[0mdistill\u001b[0m\u001b[0;34m(\u001b[0m\u001b[0mtrain\u001b[0m\u001b[0;34m,\u001b[0m \u001b[0mlabels\u001b[0m\u001b[0;34m=\u001b[0m\u001b[0mtrain\u001b[0m\u001b[0;34m[\u001b[0m\u001b[0mTARGET_NAME\u001b[0m\u001b[0;34m]\u001b[0m\u001b[0;34m)\u001b[0m\u001b[0;34m\u001b[0m\u001b[0;34m\u001b[0m\u001b[0m\n\u001b[0m\u001b[1;32m      2\u001b[0m \u001b[0;34m\u001b[0m\u001b[0m\n\u001b[1;32m      3\u001b[0m \u001b[0mmetrics\u001b[0m \u001b[0;34m=\u001b[0m \u001b[0mdistiller\u001b[0m\u001b[0;34m.\u001b[0m\u001b[0meval_metrics\u001b[0m\u001b[0;34m(\u001b[0m\u001b[0mtest\u001b[0m\u001b[0;34m,\u001b[0m \u001b[0mmetrics\u001b[0m\u001b[0;34m=\u001b[0m\u001b[0;34m[\u001b[0m\u001b[0mroc_auc_score\u001b[0m\u001b[0;34m,\u001b[0m \u001b[0maccuracy_score\u001b[0m\u001b[0;34m]\u001b[0m\u001b[0;34m)\u001b[0m\u001b[0;34m\u001b[0m\u001b[0;34m\u001b[0m\u001b[0m\n\u001b[1;32m      4\u001b[0m \u001b[0mmetrics\u001b[0m\u001b[0;34m\u001b[0m\u001b[0;34m\u001b[0m\u001b[0m\n",
      "\u001b[0;32m~/dev-projects/lightautoml/venv/lib/python3.8/site-packages/log_calls/log_calls.py\u001b[0m in \u001b[0;36m_deco_base_f_wrapper_\u001b[0;34m(*args, **kwargs)\u001b[0m\n\u001b[1;32m   1937\u001b[0m                 \u001b[0;31m# (_xxx variables set, ok to call f)\u001b[0m\u001b[0;34m\u001b[0m\u001b[0;34m\u001b[0m\u001b[0;34m\u001b[0m\u001b[0m\n\u001b[1;32m   1938\u001b[0m                 \u001b[0;32mif\u001b[0m \u001b[0;32mnot\u001b[0m \u001b[0m_enabled\u001b[0m\u001b[0;34m:\u001b[0m\u001b[0;34m\u001b[0m\u001b[0;34m\u001b[0m\u001b[0m\n\u001b[0;32m-> 1939\u001b[0;31m                     \u001b[0mret\u001b[0m \u001b[0;34m=\u001b[0m \u001b[0mf\u001b[0m\u001b[0;34m(\u001b[0m\u001b[0;34m*\u001b[0m\u001b[0margs\u001b[0m\u001b[0;34m,\u001b[0m \u001b[0;34m**\u001b[0m\u001b[0mkwargs\u001b[0m\u001b[0;34m)\u001b[0m\u001b[0;34m\u001b[0m\u001b[0;34m\u001b[0m\u001b[0m\n\u001b[0m\u001b[1;32m   1940\u001b[0m                     \u001b[0mself\u001b[0m\u001b[0;34m.\u001b[0m\u001b[0m_logging_state_pop\u001b[0m\u001b[0;34m(\u001b[0m\u001b[0menabled_too\u001b[0m\u001b[0;34m=\u001b[0m\u001b[0;32mTrue\u001b[0m\u001b[0;34m)\u001b[0m\u001b[0;34m\u001b[0m\u001b[0;34m\u001b[0m\u001b[0m\n\u001b[1;32m   1941\u001b[0m                     \u001b[0;32mreturn\u001b[0m \u001b[0mret\u001b[0m\u001b[0;34m\u001b[0m\u001b[0;34m\u001b[0m\u001b[0m\n",
      "\u001b[0;32m~/dev-projects/lightautoml/lightautoml/addons/distillation/distillation.py\u001b[0m in \u001b[0;36mdistill\u001b[0;34m(self, data, students, labels, metric)\u001b[0m\n\u001b[1;32m    102\u001b[0m         \u001b[0;32mif\u001b[0m \u001b[0;32mnot\u001b[0m \u001b[0mself\u001b[0m\u001b[0;34m.\u001b[0m\u001b[0m_fitted\u001b[0m\u001b[0;34m:\u001b[0m\u001b[0;34m\u001b[0m\u001b[0;34m\u001b[0m\u001b[0m\n\u001b[1;32m    103\u001b[0m             \u001b[0;32mraise\u001b[0m \u001b[0mNotFittedError\u001b[0m\u001b[0;34m\u001b[0m\u001b[0;34m\u001b[0m\u001b[0m\n\u001b[0;32m--> 104\u001b[0;31m         \u001b[0m_data\u001b[0m \u001b[0;34m=\u001b[0m \u001b[0mdata\u001b[0m\u001b[0;34m.\u001b[0m\u001b[0mdrop\u001b[0m\u001b[0;34m(\u001b[0m\u001b[0mcolumns\u001b[0m\u001b[0;34m=\u001b[0m\u001b[0mself\u001b[0m\u001b[0;34m.\u001b[0m\u001b[0mteacher\u001b[0m\u001b[0;34m.\u001b[0m\u001b[0mreader\u001b[0m\u001b[0;34m.\u001b[0m\u001b[0mused_array_attrs\u001b[0m\u001b[0;34m[\u001b[0m\u001b[0;34m'target'\u001b[0m\u001b[0;34m]\u001b[0m\u001b[0;34m)\u001b[0m\u001b[0;34m\u001b[0m\u001b[0;34m\u001b[0m\u001b[0m\n\u001b[0m\u001b[1;32m    105\u001b[0m         \u001b[0;32mif\u001b[0m \u001b[0mlabels\u001b[0m \u001b[0;32mis\u001b[0m \u001b[0;32mnot\u001b[0m \u001b[0;32mNone\u001b[0m\u001b[0;34m:\u001b[0m\u001b[0;34m\u001b[0m\u001b[0;34m\u001b[0m\u001b[0m\n\u001b[1;32m    106\u001b[0m             \u001b[0m_data\u001b[0m\u001b[0;34m[\u001b[0m\u001b[0;34m'__target__'\u001b[0m\u001b[0;34m]\u001b[0m \u001b[0;34m=\u001b[0m \u001b[0mlabels\u001b[0m\u001b[0;34m\u001b[0m\u001b[0;34m\u001b[0m\u001b[0m\n",
      "\u001b[0;31mAttributeError\u001b[0m: 'TabularUtilizedAutoML' object has no attribute 'reader'"
     ]
    }
   ],
   "source": [
    "distiller.distill(train, labels=train[TARGET_NAME])\n",
    "\n",
    "metrics = distiller.eval_metrics(test, metrics=[roc_auc_score, accuracy_score])\n",
    "metrics"
   ]
  },
  {
   "source": [
    "### 6. Teacher knowledge distillation"
   ],
   "cell_type": "markdown",
   "metadata": {}
  },
  {
   "cell_type": "code",
   "execution_count": 8,
   "metadata": {},
   "outputs": [
    {
     "output_type": "stream",
     "name": "stderr",
     "text": [
      "Time limit exceeded after calculating fold 2\n",
      "Time limit exceeded after calculating fold 1\n",
      "Time limit exceeded after calculating fold 3\n",
      "Time limit exceeded after calculating fold 1\n",
      "[LightGBM] [Warning] verbosity is set=-1, verbose=0 will be ignored. Current value: verbosity=-1\n",
      "[LightGBM] [Warning] verbosity is set=-1, verbose=0 will be ignored. Current value: verbosity=-1\n",
      "[LightGBM] [Warning] verbosity is set=-1, verbose=0 will be ignored. Current value: verbosity=-1\n",
      "[LightGBM] [Warning] verbosity is set=-1, verbose=0 will be ignored. Current value: verbosity=-1\n",
      "[LightGBM] [Warning] verbosity is set=-1, verbose=0 will be ignored. Current value: verbosity=-1\n",
      "Best model after distillation: Lvl_0_Pipe_0_Mod_0_LightGBM\n"
     ]
    }
   ],
   "source": [
    "automl = TabularAutoML(task=task, timeout=30, verbose=0)\n",
    "distiller = Distiller(automl)\n",
    "distiller.fit(train, roles=roles)\n",
    "best_model = distiller.distill(train)\n",
    "print('Best model after distillation: {}'.format(best_model.levels[0][0].ml_algos[0].name))"
   ]
  },
  {
   "source": [
    "### 7. Evaluation of the students on labels derived from teacher"
   ],
   "cell_type": "markdown",
   "metadata": {}
  },
  {
   "cell_type": "code",
   "execution_count": 9,
   "metadata": {},
   "outputs": [
    {
     "output_type": "execute_result",
     "data": {
      "text/plain": [
       "                            roc_auc_score accuracy_score\n",
       "Lvl_0_Pipe_0_Mod_0_CatBoost      0.742482         0.9275\n",
       "Lvl_0_Pipe_0_Mod_0_LightGBM      0.742203         0.9275"
      ],
      "text/html": "<div>\n<style scoped>\n    .dataframe tbody tr th:only-of-type {\n        vertical-align: middle;\n    }\n\n    .dataframe tbody tr th {\n        vertical-align: top;\n    }\n\n    .dataframe thead th {\n        text-align: right;\n    }\n</style>\n<table border=\"1\" class=\"dataframe\">\n  <thead>\n    <tr style=\"text-align: right;\">\n      <th></th>\n      <th>roc_auc_score</th>\n      <th>accuracy_score</th>\n    </tr>\n  </thead>\n  <tbody>\n    <tr>\n      <th>Lvl_0_Pipe_0_Mod_0_CatBoost</th>\n      <td>0.742482</td>\n      <td>0.9275</td>\n    </tr>\n    <tr>\n      <th>Lvl_0_Pipe_0_Mod_0_LightGBM</th>\n      <td>0.742203</td>\n      <td>0.9275</td>\n    </tr>\n  </tbody>\n</table>\n</div>"
     },
     "metadata": {},
     "execution_count": 9
    }
   ],
   "source": [
    "metrics = distiller.eval_metrics(test, metrics=[roc_auc_score,accuracy_score])\n",
    "metrics"
   ]
  },
  {
   "source": [
    "### 8. Profiling report creation"
   ],
   "cell_type": "markdown",
   "metadata": {}
  },
  {
   "cell_type": "code",
   "execution_count": 10,
   "metadata": {},
   "outputs": [],
   "source": [
    "p.profile('profiling_report.html')"
   ]
  },
  {
   "cell_type": "code",
   "execution_count": null,
   "metadata": {},
   "outputs": [],
   "source": []
  }
 ]
}