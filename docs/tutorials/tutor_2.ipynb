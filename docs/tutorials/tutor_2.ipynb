{
 "cells": [
  {
   "cell_type": "markdown",
   "metadata": {},
   "source": [
    "# AutoML pipeline preset"
   ]
  },
  {
   "cell_type": "markdown",
   "metadata": {},
   "source": [
    "## Initial phase"
   ]
  },
  {
   "cell_type": "markdown",
   "metadata": {},
   "source": [
    "### Import necessary libraries "
   ]
  },
  {
   "cell_type": "code",
   "execution_count": 1,
   "metadata": {},
   "outputs": [],
   "source": [
    "# Standard python libraries\n",
    "import logging\n",
    "import os\n",
    "import time\n",
    "logging.basicConfig(format='[%(asctime)s] (%(levelname)s): %(message)s', level=logging.INFO)\n",
    "\n",
    "# Installed libraries\n",
    "import numpy as np\n",
    "import pandas as pd\n",
    "from sklearn.metrics import roc_auc_score\n",
    "from sklearn.model_selection import train_test_split\n",
    "import torch\n",
    "\n",
    "# Imports from our package\n",
    "from lightautoml.automl.presets.tabular_presets import TabularAutoML, TabularUtilizedAutoML\n",
    "from lightautoml.dataset.roles import DatetimeRole\n",
    "from lightautoml.tasks import Task\n",
    "from lightautoml.utils.profiler import Profiler"
   ]
  },
  {
   "cell_type": "markdown",
   "metadata": {},
   "source": [
    "### General parameters setup"
   ]
  },
  {
   "cell_type": "code",
   "execution_count": 2,
   "metadata": {},
   "outputs": [],
   "source": [
    "N_THREADS = 8 # threads cnt for lgbm and linear models\n",
    "N_FOLDS = 5 # folds cnt for AutoML\n",
    "RANDOM_STATE = 42 # fixed random state for various reasons\n",
    "TEST_SIZE = 0.2 # Test size for metric check\n",
    "TIMEOUT = 300 # Time in seconds for automl run\n",
    "TARGET_NAME = 'TARGET' # Target column name"
   ]
  },
  {
   "cell_type": "markdown",
   "metadata": {},
   "source": [
    "### Fix torch number of threads and numpy seed "
   ]
  },
  {
   "cell_type": "code",
   "execution_count": 3,
   "metadata": {},
   "outputs": [],
   "source": [
    "np.random.seed(RANDOM_STATE)\n",
    "torch.set_num_threads(N_THREADS)"
   ]
  },
  {
   "cell_type": "markdown",
   "metadata": {},
   "source": [
    "### Change profiling decorators settings "
   ]
  },
  {
   "cell_type": "markdown",
   "metadata": {},
   "source": [
    "By default, profiling decorators are turned off for speed and memory reduction. If you want to see profiling report after using LAMA, you need to turn on the decorators using command below: "
   ]
  },
  {
   "cell_type": "code",
   "execution_count": 4,
   "metadata": {},
   "outputs": [],
   "source": [
    "p = Profiler()\n",
    "p.change_deco_settings({'enabled': True})"
   ]
  },
  {
   "cell_type": "markdown",
   "metadata": {},
   "source": [
    "### Example data load "
   ]
  },
  {
   "cell_type": "code",
   "execution_count": 5,
   "metadata": {},
   "outputs": [
    {
     "name": "stdout",
     "output_type": "stream",
     "text": [
      "CPU times: user 114 ms, sys: 5.19 ms, total: 119 ms\n",
      "Wall time: 118 ms\n"
     ]
    },
    {
     "data": {
      "text/html": [
       "<div>\n",
       "<style scoped>\n",
       "    .dataframe tbody tr th:only-of-type {\n",
       "        vertical-align: middle;\n",
       "    }\n",
       "\n",
       "    .dataframe tbody tr th {\n",
       "        vertical-align: top;\n",
       "    }\n",
       "\n",
       "    .dataframe thead th {\n",
       "        text-align: right;\n",
       "    }\n",
       "</style>\n",
       "<table border=\"1\" class=\"dataframe\">\n",
       "  <thead>\n",
       "    <tr style=\"text-align: right;\">\n",
       "      <th></th>\n",
       "      <th>SK_ID_CURR</th>\n",
       "      <th>TARGET</th>\n",
       "      <th>NAME_CONTRACT_TYPE</th>\n",
       "      <th>CODE_GENDER</th>\n",
       "      <th>FLAG_OWN_CAR</th>\n",
       "      <th>FLAG_OWN_REALTY</th>\n",
       "      <th>CNT_CHILDREN</th>\n",
       "      <th>AMT_INCOME_TOTAL</th>\n",
       "      <th>AMT_CREDIT</th>\n",
       "      <th>AMT_ANNUITY</th>\n",
       "      <th>...</th>\n",
       "      <th>FLAG_DOCUMENT_18</th>\n",
       "      <th>FLAG_DOCUMENT_19</th>\n",
       "      <th>FLAG_DOCUMENT_20</th>\n",
       "      <th>FLAG_DOCUMENT_21</th>\n",
       "      <th>AMT_REQ_CREDIT_BUREAU_HOUR</th>\n",
       "      <th>AMT_REQ_CREDIT_BUREAU_DAY</th>\n",
       "      <th>AMT_REQ_CREDIT_BUREAU_WEEK</th>\n",
       "      <th>AMT_REQ_CREDIT_BUREAU_MON</th>\n",
       "      <th>AMT_REQ_CREDIT_BUREAU_QRT</th>\n",
       "      <th>AMT_REQ_CREDIT_BUREAU_YEAR</th>\n",
       "    </tr>\n",
       "  </thead>\n",
       "  <tbody>\n",
       "    <tr>\n",
       "      <th>0</th>\n",
       "      <td>313802</td>\n",
       "      <td>0</td>\n",
       "      <td>Cash loans</td>\n",
       "      <td>M</td>\n",
       "      <td>N</td>\n",
       "      <td>Y</td>\n",
       "      <td>0</td>\n",
       "      <td>270000.0</td>\n",
       "      <td>327024.0</td>\n",
       "      <td>15372.0</td>\n",
       "      <td>...</td>\n",
       "      <td>0</td>\n",
       "      <td>0</td>\n",
       "      <td>0</td>\n",
       "      <td>0</td>\n",
       "      <td>0.0</td>\n",
       "      <td>0.0</td>\n",
       "      <td>0.0</td>\n",
       "      <td>0.0</td>\n",
       "      <td>0.0</td>\n",
       "      <td>1.0</td>\n",
       "    </tr>\n",
       "    <tr>\n",
       "      <th>1</th>\n",
       "      <td>319656</td>\n",
       "      <td>0</td>\n",
       "      <td>Cash loans</td>\n",
       "      <td>F</td>\n",
       "      <td>N</td>\n",
       "      <td>N</td>\n",
       "      <td>0</td>\n",
       "      <td>108000.0</td>\n",
       "      <td>675000.0</td>\n",
       "      <td>19737.0</td>\n",
       "      <td>...</td>\n",
       "      <td>0</td>\n",
       "      <td>0</td>\n",
       "      <td>0</td>\n",
       "      <td>0</td>\n",
       "      <td>0.0</td>\n",
       "      <td>0.0</td>\n",
       "      <td>0.0</td>\n",
       "      <td>0.0</td>\n",
       "      <td>0.0</td>\n",
       "      <td>0.0</td>\n",
       "    </tr>\n",
       "    <tr>\n",
       "      <th>2</th>\n",
       "      <td>207678</td>\n",
       "      <td>0</td>\n",
       "      <td>Revolving loans</td>\n",
       "      <td>F</td>\n",
       "      <td>Y</td>\n",
       "      <td>Y</td>\n",
       "      <td>2</td>\n",
       "      <td>112500.0</td>\n",
       "      <td>270000.0</td>\n",
       "      <td>13500.0</td>\n",
       "      <td>...</td>\n",
       "      <td>0</td>\n",
       "      <td>0</td>\n",
       "      <td>0</td>\n",
       "      <td>0</td>\n",
       "      <td>0.0</td>\n",
       "      <td>0.0</td>\n",
       "      <td>0.0</td>\n",
       "      <td>0.0</td>\n",
       "      <td>0.0</td>\n",
       "      <td>1.0</td>\n",
       "    </tr>\n",
       "    <tr>\n",
       "      <th>3</th>\n",
       "      <td>381593</td>\n",
       "      <td>0</td>\n",
       "      <td>Cash loans</td>\n",
       "      <td>F</td>\n",
       "      <td>N</td>\n",
       "      <td>N</td>\n",
       "      <td>1</td>\n",
       "      <td>67500.0</td>\n",
       "      <td>142200.0</td>\n",
       "      <td>9630.0</td>\n",
       "      <td>...</td>\n",
       "      <td>0</td>\n",
       "      <td>0</td>\n",
       "      <td>0</td>\n",
       "      <td>0</td>\n",
       "      <td>0.0</td>\n",
       "      <td>0.0</td>\n",
       "      <td>0.0</td>\n",
       "      <td>0.0</td>\n",
       "      <td>0.0</td>\n",
       "      <td>4.0</td>\n",
       "    </tr>\n",
       "    <tr>\n",
       "      <th>4</th>\n",
       "      <td>258153</td>\n",
       "      <td>0</td>\n",
       "      <td>Cash loans</td>\n",
       "      <td>F</td>\n",
       "      <td>Y</td>\n",
       "      <td>Y</td>\n",
       "      <td>0</td>\n",
       "      <td>337500.0</td>\n",
       "      <td>1483231.5</td>\n",
       "      <td>46570.5</td>\n",
       "      <td>...</td>\n",
       "      <td>0</td>\n",
       "      <td>0</td>\n",
       "      <td>0</td>\n",
       "      <td>0</td>\n",
       "      <td>0.0</td>\n",
       "      <td>0.0</td>\n",
       "      <td>0.0</td>\n",
       "      <td>2.0</td>\n",
       "      <td>0.0</td>\n",
       "      <td>0.0</td>\n",
       "    </tr>\n",
       "  </tbody>\n",
       "</table>\n",
       "<p>5 rows × 122 columns</p>\n",
       "</div>"
      ],
      "text/plain": [
       "   SK_ID_CURR  TARGET NAME_CONTRACT_TYPE CODE_GENDER FLAG_OWN_CAR  \\\n",
       "0      313802       0         Cash loans           M            N   \n",
       "1      319656       0         Cash loans           F            N   \n",
       "2      207678       0    Revolving loans           F            Y   \n",
       "3      381593       0         Cash loans           F            N   \n",
       "4      258153       0         Cash loans           F            Y   \n",
       "\n",
       "  FLAG_OWN_REALTY  CNT_CHILDREN  AMT_INCOME_TOTAL  AMT_CREDIT  AMT_ANNUITY  \\\n",
       "0               Y             0          270000.0    327024.0      15372.0   \n",
       "1               N             0          108000.0    675000.0      19737.0   \n",
       "2               Y             2          112500.0    270000.0      13500.0   \n",
       "3               N             1           67500.0    142200.0       9630.0   \n",
       "4               Y             0          337500.0   1483231.5      46570.5   \n",
       "\n",
       "   ...  FLAG_DOCUMENT_18 FLAG_DOCUMENT_19 FLAG_DOCUMENT_20 FLAG_DOCUMENT_21  \\\n",
       "0  ...                 0                0                0                0   \n",
       "1  ...                 0                0                0                0   \n",
       "2  ...                 0                0                0                0   \n",
       "3  ...                 0                0                0                0   \n",
       "4  ...                 0                0                0                0   \n",
       "\n",
       "  AMT_REQ_CREDIT_BUREAU_HOUR AMT_REQ_CREDIT_BUREAU_DAY  \\\n",
       "0                        0.0                       0.0   \n",
       "1                        0.0                       0.0   \n",
       "2                        0.0                       0.0   \n",
       "3                        0.0                       0.0   \n",
       "4                        0.0                       0.0   \n",
       "\n",
       "   AMT_REQ_CREDIT_BUREAU_WEEK  AMT_REQ_CREDIT_BUREAU_MON  \\\n",
       "0                         0.0                        0.0   \n",
       "1                         0.0                        0.0   \n",
       "2                         0.0                        0.0   \n",
       "3                         0.0                        0.0   \n",
       "4                         0.0                        2.0   \n",
       "\n",
       "   AMT_REQ_CREDIT_BUREAU_QRT  AMT_REQ_CREDIT_BUREAU_YEAR  \n",
       "0                        0.0                         1.0  \n",
       "1                        0.0                         0.0  \n",
       "2                        0.0                         1.0  \n",
       "3                        0.0                         4.0  \n",
       "4                        0.0                         0.0  \n",
       "\n",
       "[5 rows x 122 columns]"
      ]
     },
     "execution_count": 5,
     "metadata": {},
     "output_type": "execute_result"
    }
   ],
   "source": [
    "%%time\n",
    "\n",
    "data = pd.read_csv('../LightAutoML/example_data/test_data_files/sampled_app_train.csv')\n",
    "data.head()"
   ]
  },
  {
   "cell_type": "markdown",
   "metadata": {},
   "source": [
    "### (Optional) Some user feature preparation "
   ]
  },
  {
   "cell_type": "markdown",
   "metadata": {},
   "source": [
    "Cell below shows some user feature preparations to create task more difficult (this block can be omitted if you don't want to change the initial data):"
   ]
  },
  {
   "cell_type": "code",
   "execution_count": 6,
   "metadata": {},
   "outputs": [
    {
     "name": "stdout",
     "output_type": "stream",
     "text": [
      "CPU times: user 91.3 ms, sys: 15.6 ms, total: 107 ms\n",
      "Wall time: 106 ms\n"
     ]
    }
   ],
   "source": [
    "%%time\n",
    "\n",
    "data['BIRTH_DATE'] = (np.datetime64('2018-01-01') + data['DAYS_BIRTH'].astype(np.dtype('timedelta64[D]'))).astype(str)\n",
    "data['EMP_DATE'] = (np.datetime64('2018-01-01') + np.clip(data['DAYS_EMPLOYED'], None, 0).astype(np.dtype('timedelta64[D]'))\n",
    "                    ).astype(str)\n",
    "\n",
    "data['constant'] = 1\n",
    "data['allnan'] = np.nan\n",
    "\n",
    "data['report_dt'] = np.datetime64('2018-01-01')\n",
    "\n",
    "data.drop(['DAYS_BIRTH', 'DAYS_EMPLOYED'], axis=1, inplace=True)"
   ]
  },
  {
   "cell_type": "markdown",
   "metadata": {},
   "source": [
    "### (Optional) Data splitting for train-test "
   ]
  },
  {
   "cell_type": "markdown",
   "metadata": {},
   "source": [
    "Block below can be omitted if you are going to train model only or you have specific train and test files:"
   ]
  },
  {
   "cell_type": "code",
   "execution_count": 7,
   "metadata": {},
   "outputs": [
    {
     "name": "stderr",
     "output_type": "stream",
     "text": [
      "[2020-12-03 18:18:52,594] (INFO): Data splitted. Parts sizes: train_data = (8000, 125), test_data = (2000, 125)\n"
     ]
    },
    {
     "name": "stdout",
     "output_type": "stream",
     "text": [
      "CPU times: user 13.6 ms, sys: 889 µs, total: 14.4 ms\n",
      "Wall time: 13.3 ms\n"
     ]
    }
   ],
   "source": [
    "%%time\n",
    "\n",
    "train_data, test_data = train_test_split(data, \n",
    "                                         test_size=TEST_SIZE, \n",
    "                                         stratify=data[TARGET_NAME], \n",
    "                                         random_state=RANDOM_STATE)\n",
    "logging.info('Data splitted. Parts sizes: train_data = {}, test_data = {}'\n",
    "              .format(train_data.shape, test_data.shape))"
   ]
  },
  {
   "cell_type": "code",
   "execution_count": 8,
   "metadata": {},
   "outputs": [
    {
     "data": {
      "text/html": [
       "<div>\n",
       "<style scoped>\n",
       "    .dataframe tbody tr th:only-of-type {\n",
       "        vertical-align: middle;\n",
       "    }\n",
       "\n",
       "    .dataframe tbody tr th {\n",
       "        vertical-align: top;\n",
       "    }\n",
       "\n",
       "    .dataframe thead th {\n",
       "        text-align: right;\n",
       "    }\n",
       "</style>\n",
       "<table border=\"1\" class=\"dataframe\">\n",
       "  <thead>\n",
       "    <tr style=\"text-align: right;\">\n",
       "      <th></th>\n",
       "      <th>SK_ID_CURR</th>\n",
       "      <th>TARGET</th>\n",
       "      <th>NAME_CONTRACT_TYPE</th>\n",
       "      <th>CODE_GENDER</th>\n",
       "      <th>FLAG_OWN_CAR</th>\n",
       "      <th>FLAG_OWN_REALTY</th>\n",
       "      <th>CNT_CHILDREN</th>\n",
       "      <th>AMT_INCOME_TOTAL</th>\n",
       "      <th>AMT_CREDIT</th>\n",
       "      <th>AMT_ANNUITY</th>\n",
       "      <th>...</th>\n",
       "      <th>AMT_REQ_CREDIT_BUREAU_DAY</th>\n",
       "      <th>AMT_REQ_CREDIT_BUREAU_WEEK</th>\n",
       "      <th>AMT_REQ_CREDIT_BUREAU_MON</th>\n",
       "      <th>AMT_REQ_CREDIT_BUREAU_QRT</th>\n",
       "      <th>AMT_REQ_CREDIT_BUREAU_YEAR</th>\n",
       "      <th>BIRTH_DATE</th>\n",
       "      <th>EMP_DATE</th>\n",
       "      <th>constant</th>\n",
       "      <th>allnan</th>\n",
       "      <th>report_dt</th>\n",
       "    </tr>\n",
       "  </thead>\n",
       "  <tbody>\n",
       "    <tr>\n",
       "      <th>6444</th>\n",
       "      <td>112261</td>\n",
       "      <td>0</td>\n",
       "      <td>Cash loans</td>\n",
       "      <td>F</td>\n",
       "      <td>N</td>\n",
       "      <td>N</td>\n",
       "      <td>1</td>\n",
       "      <td>90000.0</td>\n",
       "      <td>640080.0</td>\n",
       "      <td>31261.5</td>\n",
       "      <td>...</td>\n",
       "      <td>0.0</td>\n",
       "      <td>0.0</td>\n",
       "      <td>0.0</td>\n",
       "      <td>1.0</td>\n",
       "      <td>0.0</td>\n",
       "      <td>1985-06-28</td>\n",
       "      <td>2012-06-21</td>\n",
       "      <td>1</td>\n",
       "      <td>NaN</td>\n",
       "      <td>2018-01-01</td>\n",
       "    </tr>\n",
       "    <tr>\n",
       "      <th>3586</th>\n",
       "      <td>115058</td>\n",
       "      <td>0</td>\n",
       "      <td>Cash loans</td>\n",
       "      <td>F</td>\n",
       "      <td>N</td>\n",
       "      <td>Y</td>\n",
       "      <td>0</td>\n",
       "      <td>180000.0</td>\n",
       "      <td>239850.0</td>\n",
       "      <td>23850.0</td>\n",
       "      <td>...</td>\n",
       "      <td>0.0</td>\n",
       "      <td>0.0</td>\n",
       "      <td>0.0</td>\n",
       "      <td>0.0</td>\n",
       "      <td>3.0</td>\n",
       "      <td>1953-12-27</td>\n",
       "      <td>2018-01-01</td>\n",
       "      <td>1</td>\n",
       "      <td>NaN</td>\n",
       "      <td>2018-01-01</td>\n",
       "    </tr>\n",
       "    <tr>\n",
       "      <th>9349</th>\n",
       "      <td>326623</td>\n",
       "      <td>0</td>\n",
       "      <td>Cash loans</td>\n",
       "      <td>F</td>\n",
       "      <td>N</td>\n",
       "      <td>Y</td>\n",
       "      <td>0</td>\n",
       "      <td>112500.0</td>\n",
       "      <td>337500.0</td>\n",
       "      <td>31086.0</td>\n",
       "      <td>...</td>\n",
       "      <td>0.0</td>\n",
       "      <td>0.0</td>\n",
       "      <td>0.0</td>\n",
       "      <td>0.0</td>\n",
       "      <td>2.0</td>\n",
       "      <td>1975-06-21</td>\n",
       "      <td>2016-06-17</td>\n",
       "      <td>1</td>\n",
       "      <td>NaN</td>\n",
       "      <td>2018-01-01</td>\n",
       "    </tr>\n",
       "    <tr>\n",
       "      <th>7734</th>\n",
       "      <td>191976</td>\n",
       "      <td>0</td>\n",
       "      <td>Cash loans</td>\n",
       "      <td>M</td>\n",
       "      <td>Y</td>\n",
       "      <td>Y</td>\n",
       "      <td>1</td>\n",
       "      <td>67500.0</td>\n",
       "      <td>135000.0</td>\n",
       "      <td>9018.0</td>\n",
       "      <td>...</td>\n",
       "      <td>NaN</td>\n",
       "      <td>NaN</td>\n",
       "      <td>NaN</td>\n",
       "      <td>NaN</td>\n",
       "      <td>NaN</td>\n",
       "      <td>1988-04-27</td>\n",
       "      <td>2009-06-05</td>\n",
       "      <td>1</td>\n",
       "      <td>NaN</td>\n",
       "      <td>2018-01-01</td>\n",
       "    </tr>\n",
       "    <tr>\n",
       "      <th>2174</th>\n",
       "      <td>281519</td>\n",
       "      <td>0</td>\n",
       "      <td>Revolving loans</td>\n",
       "      <td>F</td>\n",
       "      <td>N</td>\n",
       "      <td>Y</td>\n",
       "      <td>0</td>\n",
       "      <td>67500.0</td>\n",
       "      <td>202500.0</td>\n",
       "      <td>10125.0</td>\n",
       "      <td>...</td>\n",
       "      <td>0.0</td>\n",
       "      <td>0.0</td>\n",
       "      <td>0.0</td>\n",
       "      <td>0.0</td>\n",
       "      <td>2.0</td>\n",
       "      <td>1975-06-13</td>\n",
       "      <td>1997-01-22</td>\n",
       "      <td>1</td>\n",
       "      <td>NaN</td>\n",
       "      <td>2018-01-01</td>\n",
       "    </tr>\n",
       "  </tbody>\n",
       "</table>\n",
       "<p>5 rows × 125 columns</p>\n",
       "</div>"
      ],
      "text/plain": [
       "      SK_ID_CURR  TARGET NAME_CONTRACT_TYPE CODE_GENDER FLAG_OWN_CAR  \\\n",
       "6444      112261       0         Cash loans           F            N   \n",
       "3586      115058       0         Cash loans           F            N   \n",
       "9349      326623       0         Cash loans           F            N   \n",
       "7734      191976       0         Cash loans           M            Y   \n",
       "2174      281519       0    Revolving loans           F            N   \n",
       "\n",
       "     FLAG_OWN_REALTY  CNT_CHILDREN  AMT_INCOME_TOTAL  AMT_CREDIT  AMT_ANNUITY  \\\n",
       "6444               N             1           90000.0    640080.0      31261.5   \n",
       "3586               Y             0          180000.0    239850.0      23850.0   \n",
       "9349               Y             0          112500.0    337500.0      31086.0   \n",
       "7734               Y             1           67500.0    135000.0       9018.0   \n",
       "2174               Y             0           67500.0    202500.0      10125.0   \n",
       "\n",
       "      ...  AMT_REQ_CREDIT_BUREAU_DAY AMT_REQ_CREDIT_BUREAU_WEEK  \\\n",
       "6444  ...                        0.0                        0.0   \n",
       "3586  ...                        0.0                        0.0   \n",
       "9349  ...                        0.0                        0.0   \n",
       "7734  ...                        NaN                        NaN   \n",
       "2174  ...                        0.0                        0.0   \n",
       "\n",
       "     AMT_REQ_CREDIT_BUREAU_MON AMT_REQ_CREDIT_BUREAU_QRT  \\\n",
       "6444                       0.0                       1.0   \n",
       "3586                       0.0                       0.0   \n",
       "9349                       0.0                       0.0   \n",
       "7734                       NaN                       NaN   \n",
       "2174                       0.0                       0.0   \n",
       "\n",
       "     AMT_REQ_CREDIT_BUREAU_YEAR  BIRTH_DATE    EMP_DATE  constant  allnan  \\\n",
       "6444                        0.0  1985-06-28  2012-06-21         1     NaN   \n",
       "3586                        3.0  1953-12-27  2018-01-01         1     NaN   \n",
       "9349                        2.0  1975-06-21  2016-06-17         1     NaN   \n",
       "7734                        NaN  1988-04-27  2009-06-05         1     NaN   \n",
       "2174                        2.0  1975-06-13  1997-01-22         1     NaN   \n",
       "\n",
       "      report_dt  \n",
       "6444 2018-01-01  \n",
       "3586 2018-01-01  \n",
       "9349 2018-01-01  \n",
       "7734 2018-01-01  \n",
       "2174 2018-01-01  \n",
       "\n",
       "[5 rows x 125 columns]"
      ]
     },
     "execution_count": 8,
     "metadata": {},
     "output_type": "execute_result"
    }
   ],
   "source": [
    "train_data.head()"
   ]
  },
  {
   "cell_type": "markdown",
   "metadata": {},
   "source": [
    "## AutoML preset usage\n",
    "\n",
    "\n",
    "### Create Task"
   ]
  },
  {
   "cell_type": "code",
   "execution_count": 9,
   "metadata": {},
   "outputs": [
    {
     "name": "stdout",
     "output_type": "stream",
     "text": [
      "CPU times: user 4.83 ms, sys: 467 µs, total: 5.3 ms\n",
      "Wall time: 4.55 ms\n"
     ]
    }
   ],
   "source": [
    "%%time\n",
    "\n",
    "task = Task('binary', )"
   ]
  },
  {
   "cell_type": "markdown",
   "metadata": {},
   "source": [
    "### Setup columns roles"
   ]
  },
  {
   "cell_type": "markdown",
   "metadata": {},
   "source": [
    "Roles setup here set target column and base date, which is used to calculate date differences:"
   ]
  },
  {
   "cell_type": "code",
   "execution_count": 10,
   "metadata": {},
   "outputs": [
    {
     "name": "stdout",
     "output_type": "stream",
     "text": [
      "CPU times: user 160 µs, sys: 89 µs, total: 249 µs\n",
      "Wall time: 254 µs\n"
     ]
    }
   ],
   "source": [
    "%%time\n",
    "\n",
    "roles = {'target': TARGET_NAME,\n",
    "         DatetimeRole(base_date=True, seasonality=(), base_feats=False): 'report_dt',\n",
    "         }"
   ]
  },
  {
   "cell_type": "markdown",
   "metadata": {},
   "source": [
    "### Create AutoML from preset"
   ]
  },
  {
   "cell_type": "markdown",
   "metadata": {},
   "source": [
    "To create AutoML model here we use `TabularAutoML` preset, which looks like:\n",
    "\n",
    "![TabularAutoML preset pipeline](imgs/tutorial_2_pipeline.png)\n",
    "\n",
    "All params we set above can be send inside preset to change its configuration:"
   ]
  },
  {
   "cell_type": "code",
   "execution_count": 11,
   "metadata": {
    "scrolled": false
   },
   "outputs": [
    {
     "name": "stderr",
     "output_type": "stream",
     "text": [
      "Copying TaskTimer may affect the parent PipelineTimer, so copy will create new unlimited TaskTimer\n"
     ]
    },
    {
     "name": "stdout",
     "output_type": "stream",
     "text": [
      "Start automl preset with listed constraints:\n",
      "- time: 300 seconds\n",
      "- cpus: 4 cores\n",
      "- memory: 16 gb\n",
      "\n",
      "\n",
      "Train data shape: (8000, 125)\n",
      "Feats was rejected during automatic roles guess: []\n",
      "Start fitting Lvl_0_Pipe_0_Mod_0_LinearL2 ...\n",
      "Linear model: C = 1e-05 score = 0.6871187944684104\n",
      "Linear model: C = 5e-05 score = 0.7049890148660134\n",
      "Linear model: C = 0.0001 score = 0.7231478957187378\n",
      "Linear model: C = 0.0005 score = 0.7541949313362306\n",
      "Linear model: C = 0.001 score = 0.7611922745909308\n",
      "Linear model: C = 0.005 score = 0.7633358457484056\n",
      "Linear model: C = 0.01 score = 0.7604973512730461\n",
      "Linear model: C = 0.05 score = 0.7482720464422599\n",
      "Linear model: C = 1e-05 score = 0.7097380264945651\n",
      "Linear model: C = 5e-05 score = 0.7196416440217392\n",
      "Linear model: C = 0.0001 score = 0.726806640625\n",
      "Linear model: C = 0.0005 score = 0.7401706861413043\n",
      "Linear model: C = 0.001 score = 0.7423785665760869\n",
      "Linear model: C = 0.005 score = 0.7420919667119567\n",
      "Linear model: C = 0.01 score = 0.7412533967391305\n",
      "Linear model: C = 1e-05 score = 0.6369071628736414\n",
      "Linear model: C = 5e-05 score = 0.6511761209239131\n",
      "Linear model: C = 0.0001 score = 0.6631337041440217\n",
      "Linear model: C = 0.0005 score = 0.6919688349184783\n",
      "Linear model: C = 0.001 score = 0.7008322010869565\n",
      "Linear model: C = 0.005 score = 0.7106296705163043\n",
      "Linear model: C = 0.01 score = 0.7091754415760869\n",
      "Linear model: C = 0.05 score = 0.6998715608016304\n",
      "Linear model: C = 1e-05 score = 0.6700306768002717\n",
      "Linear model: C = 5e-05 score = 0.6780050526494564\n",
      "Linear model: C = 0.0001 score = 0.6857379415760869\n",
      "Linear model: C = 0.0005 score = 0.7090692934782608\n",
      "Linear model: C = 0.001 score = 0.717513374660326\n",
      "Linear model: C = 0.005 score = 0.7228260869565217\n",
      "Linear model: C = 0.01 score = 0.7186491593070652\n",
      "Linear model: C = 0.05 score = 0.7010126528532609\n",
      "Linear model: C = 1e-05 score = 0.6853372325067935\n",
      "Linear model: C = 5e-05 score = 0.702286430027174\n",
      "Linear model: C = 0.0001 score = 0.7166535750679347\n",
      "Linear model: C = 0.0005 score = 0.7460353685461957\n",
      "Linear model: C = 0.001 score = 0.7525316321331522\n",
      "Linear model: C = 0.005 score = 0.7510084069293479\n",
      "Linear model: C = 0.01 score = 0.7470650050951088\n",
      "Lvl_0_Pipe_0_Mod_0_LinearL2 fitting and predicting completed\n",
      "Start fitting LightGBM ...\n",
      "Training until validation scores don't improve for 200 rounds\n",
      "[100]\tvalid's auc: 0.737356\n",
      "[200]\tvalid's auc: 0.744295\n",
      "[300]\tvalid's auc: 0.74948\n",
      "[400]\tvalid's auc: 0.752244\n",
      "[500]\tvalid's auc: 0.754692\n",
      "[600]\tvalid's auc: 0.755104\n",
      "[700]\tvalid's auc: 0.755018\n",
      "[800]\tvalid's auc: 0.7552\n",
      "Early stopping, best iteration is:\n",
      "[689]\tvalid's auc: 0.755713\n",
      "LightGBM fitting and predicting completed\n",
      "Start fitting Lvl_0_Pipe_1_Mod_0_LightGBM ...\n",
      "Training until validation scores don't improve for 200 rounds\n",
      "[100]\tvalid's auc: 0.753206\n",
      "[200]\tvalid's auc: 0.757712\n",
      "[300]\tvalid's auc: 0.759113\n",
      "[400]\tvalid's auc: 0.761625\n",
      "[500]\tvalid's auc: 0.761775\n",
      "[600]\tvalid's auc: 0.758626\n",
      "Early stopping, best iteration is:\n",
      "[420]\tvalid's auc: 0.763208\n",
      "Training until validation scores don't improve for 200 rounds\n",
      "[100]\tvalid's auc: 0.73714\n",
      "[200]\tvalid's auc: 0.736726\n",
      "Early stopping, best iteration is:\n",
      "[59]\tvalid's auc: 0.742787\n",
      "Training until validation scores don't improve for 200 rounds\n",
      "[100]\tvalid's auc: 0.722168\n",
      "[200]\tvalid's auc: 0.727454\n",
      "[300]\tvalid's auc: 0.731228\n",
      "[400]\tvalid's auc: 0.728516\n",
      "[500]\tvalid's auc: 0.728118\n",
      "Early stopping, best iteration is:\n",
      "[325]\tvalid's auc: 0.731398\n",
      "Training until validation scores don't improve for 200 rounds\n",
      "[100]\tvalid's auc: 0.735861\n",
      "[200]\tvalid's auc: 0.733064\n",
      "Early stopping, best iteration is:\n",
      "[76]\tvalid's auc: 0.736328\n",
      "Training until validation scores don't improve for 200 rounds\n",
      "[100]\tvalid's auc: 0.749533\n",
      "[200]\tvalid's auc: 0.749835\n",
      "Early stopping, best iteration is:\n",
      "[81]\tvalid's auc: 0.753445\n",
      "Lvl_0_Pipe_1_Mod_0_LightGBM fitting and predicting completed\n",
      "Optuna may run 222.0861508846283 secs\n"
     ]
    },
    {
     "name": "stderr",
     "output_type": "stream",
     "text": [
      "[2020-12-03 18:19:14,771] (INFO): A new study created in memory with name: no-name-09dc6f05-5808-41ae-8f7f-c455fff7d50e\n"
     ]
    },
    {
     "name": "stdout",
     "output_type": "stream",
     "text": [
      "Start fitting Lvl_0_Pipe_1_Mod_1_LightGBM ...\n",
      "Training until validation scores don't improve for 200 rounds\n",
      "[100]\tvalid's auc: 0.742162\n",
      "[200]\tvalid's auc: 0.746348\n",
      "[300]\tvalid's auc: 0.752356\n",
      "[400]\tvalid's auc: 0.755585\n",
      "[500]\tvalid's auc: 0.756317\n",
      "[600]\tvalid's auc: 0.756884\n",
      "[700]\tvalid's auc: 0.75582\n",
      "[800]\tvalid's auc: 0.75528\n",
      "Early stopping, best iteration is:\n",
      "[626]\tvalid's auc: 0.757253\n",
      "Lvl_0_Pipe_1_Mod_1_LightGBM fitting and predicting completed\n"
     ]
    },
    {
     "name": "stderr",
     "output_type": "stream",
     "text": [
      "[2020-12-03 18:19:21,806] (INFO): Trial 0 finished with value: 0.7572525939349232 and parameters: {'feature_fraction': 0.6872700594236812, 'num_leaves': 108}. Best is trial 0 with value: 0.7572525939349232.\n"
     ]
    },
    {
     "name": "stdout",
     "output_type": "stream",
     "text": [
      "Start fitting Lvl_0_Pipe_1_Mod_1_LightGBM ...\n",
      "Training until validation scores don't improve for 200 rounds\n",
      "[100]\tvalid's auc: 0.746203\n",
      "[200]\tvalid's auc: 0.75234\n",
      "[300]\tvalid's auc: 0.753404\n",
      "[400]\tvalid's auc: 0.755376\n",
      "[500]\tvalid's auc: 0.756627\n",
      "[600]\tvalid's auc: 0.755125\n",
      "[700]\tvalid's auc: 0.754617\n",
      "Early stopping, best iteration is:\n",
      "[529]\tvalid's auc: 0.757215\n",
      "Lvl_0_Pipe_1_Mod_1_LightGBM fitting and predicting completed\n"
     ]
    },
    {
     "name": "stderr",
     "output_type": "stream",
     "text": [
      "[2020-12-03 18:19:27,250] (INFO): Trial 1 finished with value: 0.7572151749870369 and parameters: {'feature_fraction': 0.5917173949330818, 'num_leaves': 87}. Best is trial 0 with value: 0.7572525939349232.\n"
     ]
    },
    {
     "name": "stdout",
     "output_type": "stream",
     "text": [
      "Start fitting Lvl_0_Pipe_1_Mod_1_LightGBM ...\n",
      "Training until validation scores don't improve for 200 rounds\n",
      "[100]\tvalid's auc: 0.739944\n",
      "[200]\tvalid's auc: 0.743691\n",
      "Early stopping, best iteration is:\n",
      "[16]\tvalid's auc: 0.747016\n",
      "Lvl_0_Pipe_1_Mod_1_LightGBM fitting and predicting completed\n"
     ]
    },
    {
     "name": "stderr",
     "output_type": "stream",
     "text": [
      "[2020-12-03 18:19:29,227] (INFO): Trial 2 finished with value: 0.7470158389060837 and parameters: {'feature_fraction': 0.7993292420985183, 'num_leaves': 118}. Best is trial 0 with value: 0.7572525939349232.\n"
     ]
    },
    {
     "name": "stdout",
     "output_type": "stream",
     "text": [
      "Start fitting Lvl_0_Pipe_1_Mod_1_LightGBM ...\n",
      "Training until validation scores don't improve for 200 rounds\n",
      "[100]\tvalid's auc: 0.734742\n",
      "[200]\tvalid's auc: 0.739169\n",
      "Early stopping, best iteration is:\n",
      "[16]\tvalid's auc: 0.741964\n",
      "Lvl_0_Pipe_1_Mod_1_LightGBM fitting and predicting completed\n"
     ]
    },
    {
     "name": "stderr",
     "output_type": "stream",
     "text": [
      "[2020-12-03 18:19:31,148] (INFO): Trial 3 finished with value: 0.7419642809414607 and parameters: {'feature_fraction': 0.7229163764267956, 'num_leaves': 230}. Best is trial 0 with value: 0.7572525939349232.\n"
     ]
    },
    {
     "name": "stdout",
     "output_type": "stream",
     "text": [
      "Start fitting Lvl_0_Pipe_1_Mod_1_LightGBM ...\n",
      "Training until validation scores don't improve for 200 rounds\n",
      "[100]\tvalid's auc: 0.750041\n",
      "[200]\tvalid's auc: 0.746668\n",
      "[300]\tvalid's auc: 0.745145\n",
      "Early stopping, best iteration is:\n",
      "[100]\tvalid's auc: 0.750041\n",
      "Lvl_0_Pipe_1_Mod_1_LightGBM fitting and predicting completed\n"
     ]
    },
    {
     "name": "stderr",
     "output_type": "stream",
     "text": [
      "[2020-12-03 18:19:33,430] (INFO): Trial 4 finished with value: 0.7500414281208739 and parameters: {'feature_fraction': 0.5290418060840998, 'num_leaves': 103}. Best is trial 0 with value: 0.7572525939349232.\n"
     ]
    },
    {
     "name": "stdout",
     "output_type": "stream",
     "text": [
      "Start fitting Lvl_0_Pipe_1_Mod_1_LightGBM ...\n",
      "Training until validation scores don't improve for 200 rounds\n",
      "[100]\tvalid's auc: 0.737666\n",
      "[200]\tvalid's auc: 0.743386\n",
      "Early stopping, best iteration is:\n",
      "[29]\tvalid's auc: 0.747989\n",
      "Lvl_0_Pipe_1_Mod_1_LightGBM fitting and predicting completed\n"
     ]
    },
    {
     "name": "stderr",
     "output_type": "stream",
     "text": [
      "[2020-12-03 18:19:35,358] (INFO): Trial 5 finished with value: 0.7479887315511223 and parameters: {'feature_fraction': 0.6668543055695109, 'num_leaves': 119}. Best is trial 0 with value: 0.7572525939349232.\n"
     ]
    },
    {
     "name": "stdout",
     "output_type": "stream",
     "text": [
      "Start fitting Lvl_0_Pipe_1_Mod_1_LightGBM ...\n",
      "Training until validation scores don't improve for 200 rounds\n",
      "[100]\tvalid's auc: 0.740505\n",
      "[200]\tvalid's auc: 0.749534\n",
      "[300]\tvalid's auc: 0.750175\n",
      "[400]\tvalid's auc: 0.749908\n",
      "Early stopping, best iteration is:\n",
      "[270]\tvalid's auc: 0.752313\n",
      "Lvl_0_Pipe_1_Mod_1_LightGBM fitting and predicting completed\n"
     ]
    },
    {
     "name": "stderr",
     "output_type": "stream",
     "text": [
      "[2020-12-03 18:19:39,849] (INFO): Trial 6 finished with value: 0.7523132928139582 and parameters: {'feature_fraction': 0.8540362888980227, 'num_leaves': 165}. Best is trial 0 with value: 0.7572525939349232.\n"
     ]
    },
    {
     "name": "stdout",
     "output_type": "stream",
     "text": [
      "Start fitting Lvl_0_Pipe_1_Mod_1_LightGBM ...\n",
      "Training until validation scores don't improve for 200 rounds\n",
      "[100]\tvalid's auc: 0.750041\n",
      "[200]\tvalid's auc: 0.746668\n",
      "[300]\tvalid's auc: 0.745145\n",
      "Early stopping, best iteration is:\n",
      "[100]\tvalid's auc: 0.750041\n",
      "Lvl_0_Pipe_1_Mod_1_LightGBM fitting and predicting completed\n"
     ]
    },
    {
     "name": "stderr",
     "output_type": "stream",
     "text": [
      "[2020-12-03 18:19:42,121] (INFO): Trial 7 finished with value: 0.7500414281208739 and parameters: {'feature_fraction': 0.5282057895135501, 'num_leaves': 103}. Best is trial 0 with value: 0.7572525939349232.\n"
     ]
    },
    {
     "name": "stdout",
     "output_type": "stream",
     "text": [
      "Start fitting Lvl_0_Pipe_1_Mod_1_LightGBM ...\n",
      "Training until validation scores don't improve for 200 rounds\n",
      "[100]\tvalid's auc: 0.754366\n",
      "[200]\tvalid's auc: 0.765089\n",
      "[300]\tvalid's auc: 0.767933\n",
      "[400]\tvalid's auc: 0.768852\n",
      "[500]\tvalid's auc: 0.7699\n",
      "[600]\tvalid's auc: 0.767789\n",
      "[700]\tvalid's auc: 0.766794\n",
      "Early stopping, best iteration is:\n",
      "[527]\tvalid's auc: 0.770579\n",
      "Lvl_0_Pipe_1_Mod_1_LightGBM fitting and predicting completed\n"
     ]
    },
    {
     "name": "stderr",
     "output_type": "stream",
     "text": [
      "[2020-12-03 18:19:47,418] (INFO): Trial 8 finished with value: 0.7705790849463573 and parameters: {'feature_fraction': 0.9162213204002109, 'num_leaves': 53}. Best is trial 8 with value: 0.7705790849463573.\n"
     ]
    },
    {
     "name": "stdout",
     "output_type": "stream",
     "text": [
      "Start fitting Lvl_0_Pipe_1_Mod_1_LightGBM ...\n",
      "Training until validation scores don't improve for 100 rounds\n",
      "[100]\tvalid's auc: 0.745669\n",
      "Early stopping, best iteration is:\n",
      "[51]\tvalid's auc: 0.757568\n",
      "Training until validation scores don't improve for 100 rounds\n",
      "[100]\tvalid's auc: 0.719153\n",
      "[200]\tvalid's auc: 0.724758\n",
      "[300]\tvalid's auc: 0.726382\n",
      "Early stopping, best iteration is:\n",
      "[295]\tvalid's auc: 0.727438\n",
      "Training until validation scores don't improve for 100 rounds\n",
      "[100]\tvalid's auc: 0.717248\n",
      "Early stopping, best iteration is:\n",
      "[18]\tvalid's auc: 0.72208\n",
      "Training until validation scores don't improve for 100 rounds\n",
      "[100]\tvalid's auc: 0.727475\n",
      "Early stopping, best iteration is:\n",
      "[81]\tvalid's auc: 0.733467\n",
      "Training until validation scores don't improve for 100 rounds\n",
      "[100]\tvalid's auc: 0.745154\n",
      "Early stopping, best iteration is:\n",
      "[84]\tvalid's auc: 0.747516\n",
      "Lvl_0_Pipe_1_Mod_1_LightGBM fitting and predicting completed\n",
      "Blending: Optimization starts with equal weights and score 0.7503543502862332\n",
      "Blending, iter 0: score = 0.750436413709354, weights = [0.35035378 0.34594446 0.3037017 ]\n",
      "Blending, iter 1: score = 0.750436413709354, weights = [0.35035378 0.34594446 0.3037017 ]\n",
      "No score update. Terminated\n",
      "\n",
      "\n",
      "Automl preset training completed in 62.14 seconds.\n"
     ]
    },
    {
     "name": "stderr",
     "output_type": "stream",
     "text": [
      "[2020-12-03 18:19:54,797] (INFO): oof_pred:\n",
      "array([[0.03303517],\n",
      "       [0.0370398 ],\n",
      "       [0.03658171],\n",
      "       ...,\n",
      "       [0.03143561],\n",
      "       [0.19412126],\n",
      "       [0.08112439]], dtype=float32)\n",
      "Shape = (8000, 1)\n"
     ]
    },
    {
     "name": "stdout",
     "output_type": "stream",
     "text": [
      "CPU times: user 3min 55s, sys: 3.53 s, total: 3min 58s\n",
      "Wall time: 1min 2s\n"
     ]
    }
   ],
   "source": [
    "%%time \n",
    "\n",
    "automl = TabularAutoML(task = task, \n",
    "                       timeout = TIMEOUT,\n",
    "                       general_params = {'nested_cv': False, 'use_algos': [['linear_l2', 'lgb', 'lgb_tuned']]},\n",
    "                       reader_params = {'cv': N_FOLDS, 'random_state': RANDOM_STATE},\n",
    "                       tuning_params = {'max_tuning_iter': 20, 'max_tuning_time': 30},\n",
    "                       lgb_params = {'default_params': {'num_threads': N_THREADS}}, verbose=0)\n",
    "oof_pred = automl.fit_predict(train_data, roles = roles)\n",
    "logging.info('oof_pred:\\n{}\\nShape = {}'.format(oof_pred, oof_pred.shape))"
   ]
  },
  {
   "cell_type": "markdown",
   "metadata": {},
   "source": [
    "### Predict to test data and check scores"
   ]
  },
  {
   "cell_type": "code",
   "execution_count": 12,
   "metadata": {},
   "outputs": [
    {
     "name": "stderr",
     "output_type": "stream",
     "text": [
      "[2020-12-03 18:19:55,293] (INFO): Prediction for test data:\n",
      "array([[0.06299944],\n",
      "       [0.0771446 ],\n",
      "       [0.0329024 ],\n",
      "       ...,\n",
      "       [0.0590249 ],\n",
      "       [0.04663964],\n",
      "       [0.20362368]], dtype=float32)\n",
      "Shape = (2000, 1)\n",
      "[2020-12-03 18:19:55,294] (INFO): Check scores...\n",
      "[2020-12-03 18:19:55,298] (INFO): OOF score: 0.7504438546933155\n",
      "[2020-12-03 18:19:55,300] (INFO): TEST score: 0.7319972826086957\n"
     ]
    },
    {
     "name": "stdout",
     "output_type": "stream",
     "text": [
      "CPU times: user 766 ms, sys: 11.6 ms, total: 777 ms\n",
      "Wall time: 496 ms\n"
     ]
    }
   ],
   "source": [
    "%%time\n",
    "\n",
    "test_pred = automl.predict(test_data)\n",
    "logging.info('Prediction for test data:\\n{}\\nShape = {}'\n",
    "              .format(test_pred, test_pred.shape))\n",
    "\n",
    "logging.info('Check scores...')\n",
    "logging.info('OOF score: {}'.format(roc_auc_score(train_data[TARGET_NAME].values, oof_pred.data[:, 0])))\n",
    "logging.info('TEST score: {}'.format(roc_auc_score(test_data[TARGET_NAME].values, test_pred.data[:, 0])))"
   ]
  },
  {
   "cell_type": "markdown",
   "metadata": {},
   "source": [
    "### Profiling AutoML "
   ]
  },
  {
   "cell_type": "markdown",
   "metadata": {},
   "source": [
    "To build report here, we **must** turn on decorators on step 0.4. Report is interactive and you can go as deep into functions call stack as you want:"
   ]
  },
  {
   "cell_type": "code",
   "execution_count": 13,
   "metadata": {
    "scrolled": true
   },
   "outputs": [
    {
     "name": "stdout",
     "output_type": "stream",
     "text": [
      "CPU times: user 1.56 s, sys: 32.2 ms, total: 1.59 s\n",
      "Wall time: 1.59 s\n"
     ]
    }
   ],
   "source": [
    "%%time\n",
    "p.profile('my_report_profile.html')\n",
    "assert os.path.exists('my_report_profile.html'), 'Profile report failed to build'"
   ]
  },
  {
   "cell_type": "markdown",
   "metadata": {},
   "source": [
    "### Create AutoML with time utilization "
   ]
  },
  {
   "cell_type": "markdown",
   "metadata": {},
   "source": [
    "Below we are going to create specific AutoML preset for TIMEOUT utilization (try to spend it as much as possible):"
   ]
  },
  {
   "cell_type": "code",
   "execution_count": 14,
   "metadata": {
    "scrolled": true
   },
   "outputs": [
    {
     "name": "stdout",
     "output_type": "stream",
     "text": [
      "CUR SETUP FOR RANDOM STATE: {'reader_params': {'random_state': 42}}\n",
      "FOUND reader_params in kwargs, need to combine\n",
      "MERGED VARIANT FOR reader_params = {'cv': 5, 'random_state': 42}\n",
      "Start automl preset with listed constraints:\n",
      "- time: 299.9985098838806 seconds\n",
      "- cpus: 4 cores\n",
      "- memory: 16 gb\n",
      "\n",
      "\n",
      "Train data shape: (8000, 125)\n",
      "Feats was rejected during automatic roles guess: []\n",
      "Start fitting Lvl_0_Pipe_0_Mod_0_LinearL2 ...\n",
      "Linear model: C = 1e-05 score = 0.6871294855963779\n",
      "Linear model: C = 5e-05 score = 0.7049890148660134\n",
      "Linear model: C = 0.0001 score = 0.7231478957187378\n",
      "Linear model: C = 0.0005 score = 0.7541949313362306\n",
      "Linear model: C = 0.001 score = 0.7611922745909308\n",
      "Linear model: C = 0.005 score = 0.7633411913123894\n",
      "Linear model: C = 0.01 score = 0.7601873085619898\n",
      "Linear model: C = 0.05 score = 0.7482773920062435\n",
      "Linear model: C = 1e-05 score = 0.7097380264945651\n",
      "Linear model: C = 5e-05 score = 0.7196522588315217\n",
      "Linear model: C = 0.0001 score = 0.726806640625\n",
      "Linear model: C = 0.0005 score = 0.7401706861413043\n",
      "Linear model: C = 0.001 score = 0.7423785665760869\n",
      "Linear model: C = 0.005 score = 0.7420972741168479\n",
      "Linear model: C = 0.01 score = 0.7412533967391305\n",
      "Linear model: C = 1e-05 score = 0.6369071628736414\n",
      "Linear model: C = 5e-05 score = 0.6511761209239131\n",
      "Linear model: C = 0.0001 score = 0.6631337041440217\n",
      "Linear model: C = 0.0005 score = 0.691963527513587\n",
      "Linear model: C = 0.001 score = 0.7008322010869565\n",
      "Linear model: C = 0.005 score = 0.7106243631114131\n",
      "Linear model: C = 0.01 score = 0.7091807489809783\n",
      "Linear model: C = 0.05 score = 0.6999617866847826\n",
      "Linear model: C = 1e-05 score = 0.6700306768002717\n",
      "Linear model: C = 5e-05 score = 0.6780050526494564\n",
      "Linear model: C = 0.0001 score = 0.6857379415760869\n",
      "Linear model: C = 0.0005 score = 0.7090692934782608\n",
      "Linear model: C = 0.001 score = 0.7175027598505435\n",
      "Linear model: C = 0.005 score = 0.7229216202445653\n",
      "Linear model: C = 0.01 score = 0.7186173148777174\n",
      "Linear model: C = 0.05 score = 0.7010179602581521\n",
      "Linear model: C = 1e-05 score = 0.6853903065557065\n",
      "Linear model: C = 5e-05 score = 0.702286430027174\n",
      "Linear model: C = 0.0001 score = 0.7166535750679348\n",
      "Linear model: C = 0.0005 score = 0.7460353685461957\n",
      "Linear model: C = 0.001 score = 0.7525316321331522\n",
      "Linear model: C = 0.005 score = 0.7510084069293479\n",
      "Linear model: C = 0.01 score = 0.7470650050951088\n",
      "Lvl_0_Pipe_0_Mod_0_LinearL2 fitting and predicting completed\n",
      "Start fitting Lvl_0_Pipe_1_Mod_0_LightGBM ...\n",
      "Training until validation scores don't improve for 200 rounds\n",
      "[100]\tvalid's auc: 0.761208\n",
      "[200]\tvalid's auc: 0.760091\n",
      "[300]\tvalid's auc: 0.763742\n",
      "[400]\tvalid's auc: 0.762908\n",
      "[500]\tvalid's auc: 0.763935\n",
      "[600]\tvalid's auc: 0.76355\n",
      "[700]\tvalid's auc: 0.762641\n",
      "Early stopping, best iteration is:\n",
      "[529]\tvalid's auc: 0.765282\n",
      "Training until validation scores don't improve for 200 rounds\n",
      "[100]\tvalid's auc: 0.727831\n",
      "[200]\tvalid's auc: 0.730628\n",
      "[300]\tvalid's auc: 0.734911\n",
      "[400]\tvalid's auc: 0.73877\n",
      "[500]\tvalid's auc: 0.739353\n",
      "[600]\tvalid's auc: 0.737135\n",
      "Early stopping, best iteration is:\n",
      "[487]\tvalid's auc: 0.740128\n",
      "Training until validation scores don't improve for 200 rounds\n",
      "[100]\tvalid's auc: 0.718028\n",
      "[200]\tvalid's auc: 0.729901\n",
      "[300]\tvalid's auc: 0.731907\n",
      "[400]\tvalid's auc: 0.730049\n",
      "Early stopping, best iteration is:\n",
      "[288]\tvalid's auc: 0.732151\n",
      "Training until validation scores don't improve for 200 rounds\n",
      "[100]\tvalid's auc: 0.736854\n",
      "[200]\tvalid's auc: 0.738801\n",
      "[300]\tvalid's auc: 0.743488\n",
      "[400]\tvalid's auc: 0.747978\n",
      "[500]\tvalid's auc: 0.745579\n",
      "[600]\tvalid's auc: 0.746492\n",
      "Early stopping, best iteration is:\n",
      "[421]\tvalid's auc: 0.748838\n",
      "Training until validation scores don't improve for 200 rounds\n",
      "[100]\tvalid's auc: 0.75336\n",
      "[200]\tvalid's auc: 0.756931\n",
      "[300]\tvalid's auc: 0.757038\n",
      "[400]\tvalid's auc: 0.758901\n",
      "[500]\tvalid's auc: 0.760843\n",
      "[600]\tvalid's auc: 0.759734\n",
      "Early stopping, best iteration is:\n",
      "[495]\tvalid's auc: 0.76105\n",
      "Lvl_0_Pipe_1_Mod_0_LightGBM fitting and predicting completed\n",
      "Optuna may run 229.69551348686218 secs\n"
     ]
    },
    {
     "name": "stderr",
     "output_type": "stream",
     "text": [
      "[2020-12-03 18:20:19,823] (INFO): A new study created in memory with name: no-name-7c7c2c67-f112-4163-8961-c1d5d0630166\n"
     ]
    },
    {
     "name": "stdout",
     "output_type": "stream",
     "text": [
      "Start fitting Lvl_0_Pipe_1_Mod_1_LightGBM ...\n",
      "Training until validation scores don't improve for 200 rounds\n",
      "[100]\tvalid's auc: 0.755023\n",
      "[200]\tvalid's auc: 0.757825\n",
      "[300]\tvalid's auc: 0.755419\n",
      "[400]\tvalid's auc: 0.755114\n",
      "Early stopping, best iteration is:\n",
      "[231]\tvalid's auc: 0.758846\n",
      "Lvl_0_Pipe_1_Mod_1_LightGBM fitting and predicting completed\n"
     ]
    },
    {
     "name": "stderr",
     "output_type": "stream",
     "text": [
      "[2020-12-03 18:20:23,530] (INFO): Trial 0 finished with value: 0.7588455720020741 and parameters: {'feature_fraction': 0.6872700594236812, 'num_leaves': 108}. Best is trial 0 with value: 0.7588455720020741.\n"
     ]
    },
    {
     "name": "stdout",
     "output_type": "stream",
     "text": [
      "Start fitting Lvl_0_Pipe_1_Mod_1_LightGBM ...\n",
      "Training until validation scores don't improve for 200 rounds\n",
      "[100]\tvalid's auc: 0.754708\n",
      "[200]\tvalid's auc: 0.760583\n",
      "[300]\tvalid's auc: 0.760134\n",
      "[400]\tvalid's auc: 0.759915\n",
      "[500]\tvalid's auc: 0.761011\n",
      "Early stopping, best iteration is:\n",
      "[323]\tvalid's auc: 0.761593\n",
      "Lvl_0_Pipe_1_Mod_1_LightGBM fitting and predicting completed\n"
     ]
    },
    {
     "name": "stderr",
     "output_type": "stream",
     "text": [
      "[2020-12-03 18:20:27,493] (INFO): Trial 1 finished with value: 0.7615931918897103 and parameters: {'feature_fraction': 0.5917173949330818, 'num_leaves': 87}. Best is trial 1 with value: 0.7615931918897103.\n"
     ]
    },
    {
     "name": "stdout",
     "output_type": "stream",
     "text": [
      "Start fitting Lvl_0_Pipe_1_Mod_1_LightGBM ...\n",
      "Training until validation scores don't improve for 200 rounds\n",
      "[100]\tvalid's auc: 0.75312\n",
      "[200]\tvalid's auc: 0.758209\n",
      "[300]\tvalid's auc: 0.759963\n",
      "[400]\tvalid's auc: 0.758375\n",
      "[500]\tvalid's auc: 0.760476\n",
      "[600]\tvalid's auc: 0.759225\n",
      "Early stopping, best iteration is:\n",
      "[489]\tvalid's auc: 0.760898\n",
      "Lvl_0_Pipe_1_Mod_1_LightGBM fitting and predicting completed\n"
     ]
    },
    {
     "name": "stderr",
     "output_type": "stream",
     "text": [
      "[2020-12-03 18:20:33,780] (INFO): Trial 2 finished with value: 0.7608982685718257 and parameters: {'feature_fraction': 0.7993292420985183, 'num_leaves': 118}. Best is trial 1 with value: 0.7615931918897103.\n"
     ]
    },
    {
     "name": "stdout",
     "output_type": "stream",
     "text": [
      "Start fitting Lvl_0_Pipe_1_Mod_1_LightGBM ...\n",
      "Training until validation scores don't improve for 200 rounds\n",
      "[100]\tvalid's auc: 0.762587\n",
      "[200]\tvalid's auc: 0.760946\n",
      "Early stopping, best iteration is:\n",
      "[48]\tvalid's auc: 0.764587\n",
      "Lvl_0_Pipe_1_Mod_1_LightGBM fitting and predicting completed\n"
     ]
    },
    {
     "name": "stderr",
     "output_type": "stream",
     "text": [
      "[2020-12-03 18:20:35,976] (INFO): Trial 3 finished with value: 0.7645867077205981 and parameters: {'feature_fraction': 0.7229163764267956, 'num_leaves': 230}. Best is trial 3 with value: 0.7645867077205981.\n"
     ]
    },
    {
     "name": "stdout",
     "output_type": "stream",
     "text": [
      "Start fitting Lvl_0_Pipe_1_Mod_1_LightGBM ...\n",
      "Training until validation scores don't improve for 200 rounds\n",
      "[100]\tvalid's auc: 0.756167\n",
      "[200]\tvalid's auc: 0.761133\n",
      "[300]\tvalid's auc: 0.758792\n",
      "Early stopping, best iteration is:\n",
      "[155]\tvalid's auc: 0.762539\n",
      "Lvl_0_Pipe_1_Mod_1_LightGBM fitting and predicting completed\n"
     ]
    },
    {
     "name": "stderr",
     "output_type": "stream",
     "text": [
      "[2020-12-03 18:20:38,736] (INFO): Trial 4 finished with value: 0.7625393567148303 and parameters: {'feature_fraction': 0.5290418060840998, 'num_leaves': 103}. Best is trial 3 with value: 0.7645867077205981.\n"
     ]
    },
    {
     "name": "stdout",
     "output_type": "stream",
     "text": [
      "Start fitting Lvl_0_Pipe_1_Mod_1_LightGBM ...\n",
      "Training until validation scores don't improve for 200 rounds\n",
      "[100]\tvalid's auc: 0.746011\n",
      "[200]\tvalid's auc: 0.74956\n",
      "Early stopping, best iteration is:\n",
      "[32]\tvalid's auc: 0.755922\n",
      "Lvl_0_Pipe_1_Mod_1_LightGBM fitting and predicting completed\n"
     ]
    },
    {
     "name": "stderr",
     "output_type": "stream",
     "text": [
      "[2020-12-03 18:20:40,758] (INFO): Trial 5 finished with value: 0.7559215485029749 and parameters: {'feature_fraction': 0.6668543055695109, 'num_leaves': 119}. Best is trial 3 with value: 0.7645867077205981.\n"
     ]
    },
    {
     "name": "stdout",
     "output_type": "stream",
     "text": [
      "Start fitting Lvl_0_Pipe_1_Mod_1_LightGBM ...\n",
      "Training until validation scores don't improve for 200 rounds\n",
      "[100]\tvalid's auc: 0.752885\n",
      "[200]\tvalid's auc: 0.757087\n",
      "[300]\tvalid's auc: 0.759172\n",
      "[400]\tvalid's auc: 0.757445\n",
      "Early stopping, best iteration is:\n",
      "[245]\tvalid's auc: 0.759947\n",
      "Lvl_0_Pipe_1_Mod_1_LightGBM fitting and predicting completed\n"
     ]
    },
    {
     "name": "stderr",
     "output_type": "stream",
     "text": [
      "[2020-12-03 18:20:44,999] (INFO): Trial 6 finished with value: 0.7599467581827221 and parameters: {'feature_fraction': 0.8540362888980227, 'num_leaves': 165}. Best is trial 3 with value: 0.7645867077205981.\n"
     ]
    },
    {
     "name": "stdout",
     "output_type": "stream",
     "text": [
      "Start fitting Lvl_0_Pipe_1_Mod_1_LightGBM ...\n",
      "Training until validation scores don't improve for 200 rounds\n",
      "[100]\tvalid's auc: 0.756167\n",
      "[200]\tvalid's auc: 0.761133\n",
      "[300]\tvalid's auc: 0.758792\n",
      "Early stopping, best iteration is:\n",
      "[155]\tvalid's auc: 0.762539\n",
      "Lvl_0_Pipe_1_Mod_1_LightGBM fitting and predicting completed\n"
     ]
    },
    {
     "name": "stderr",
     "output_type": "stream",
     "text": [
      "[2020-12-03 18:20:47,715] (INFO): Trial 7 finished with value: 0.7625393567148303 and parameters: {'feature_fraction': 0.5282057895135501, 'num_leaves': 103}. Best is trial 3 with value: 0.7645867077205981.\n"
     ]
    },
    {
     "name": "stdout",
     "output_type": "stream",
     "text": [
      "Start fitting Lvl_0_Pipe_1_Mod_1_LightGBM ...\n",
      "Training until validation scores don't improve for 200 rounds\n",
      "[100]\tvalid's auc: 0.756643\n",
      "[200]\tvalid's auc: 0.759129\n",
      "[300]\tvalid's auc: 0.76115\n",
      "[400]\tvalid's auc: 0.761877\n",
      "[500]\tvalid's auc: 0.761518\n",
      "[600]\tvalid's auc: 0.75892\n",
      "Early stopping, best iteration is:\n",
      "[440]\tvalid's auc: 0.763443\n",
      "Lvl_0_Pipe_1_Mod_1_LightGBM fitting and predicting completed\n"
     ]
    },
    {
     "name": "stderr",
     "output_type": "stream",
     "text": [
      "[2020-12-03 18:20:52,523] (INFO): Trial 8 finished with value: 0.7634427570280802 and parameters: {'feature_fraction': 0.9162213204002109, 'num_leaves': 53}. Best is trial 3 with value: 0.7645867077205981.\n"
     ]
    },
    {
     "name": "stdout",
     "output_type": "stream",
     "text": [
      "Start fitting Lvl_0_Pipe_1_Mod_1_LightGBM ...\n",
      "Training until validation scores don't improve for 100 rounds\n",
      "[100]\tvalid's auc: 0.744482\n",
      "Early stopping, best iteration is:\n",
      "[17]\tvalid's auc: 0.753527\n",
      "Training until validation scores don't improve for 100 rounds\n",
      "[100]\tvalid's auc: 0.723707\n",
      "[200]\tvalid's auc: 0.726005\n",
      "Early stopping, best iteration is:\n",
      "[142]\tvalid's auc: 0.728675\n",
      "Training until validation scores don't improve for 100 rounds\n",
      "[100]\tvalid's auc: 0.720772\n",
      "[200]\tvalid's auc: 0.720751\n",
      "Early stopping, best iteration is:\n",
      "[160]\tvalid's auc: 0.724386\n",
      "Training until validation scores don't improve for 100 rounds\n",
      "[100]\tvalid's auc: 0.738409\n",
      "[200]\tvalid's auc: 0.737623\n",
      "Early stopping, best iteration is:\n",
      "[116]\tvalid's auc: 0.742708\n",
      "Training until validation scores don't improve for 100 rounds\n",
      "[100]\tvalid's auc: 0.742235\n",
      "Early stopping, best iteration is:\n",
      "[29]\tvalid's auc: 0.750547\n",
      "Lvl_0_Pipe_1_Mod_1_LightGBM fitting and predicting completed\n",
      "Blending: Optimization starts with equal weights and score 0.7495634799908752\n",
      "Blending, iter 0: score = 0.7531428058759961, weights = [0.2620379  0.6515368  0.08642524]\n",
      "Blending, iter 1: score = 0.7532418772624576, weights = [0.30001444 0.6047426  0.09524304]\n",
      "Blending, iter 2: score = 0.7532267826949925, weights = [0.30475736 0.59849393 0.09674873]\n",
      "Blending, iter 3: score = 0.753241664662916, weights = [0.28262636 0.6175452  0.09982844]\n",
      "Blending, iter 4: score = 0.753241664662916, weights = [0.28262636 0.6175452  0.09982844]\n",
      "No score update. Terminated\n",
      "\n",
      "\n",
      "Automl preset training completed in 63.78 seconds.\n",
      "CUR SETUP FOR RANDOM STATE: {'reader_params': {'random_state': 43}}\n",
      "FOUND reader_params in kwargs, need to combine\n",
      "MERGED VARIANT FOR reader_params = {'cv': 5, 'random_state': 43}\n",
      "Start automl preset with listed constraints:\n",
      "- time: 236.19816374778748 seconds\n",
      "- cpus: 4 cores\n",
      "- memory: 16 gb\n",
      "\n",
      "\n",
      "Train data shape: (8000, 125)\n",
      "Feats was rejected during automatic roles guess: []\n",
      "Start fitting Lvl_0_Pipe_0_Mod_0_LinearL2 ...\n",
      "Linear model: C = 1e-05 score = 0.6671664768991452\n",
      "Linear model: C = 5e-05 score = 0.6836762512628894\n",
      "Linear model: C = 0.0001 score = 0.697820613563834\n",
      "Linear model: C = 0.0005 score = 0.7269646284031197\n",
      "Linear model: C = 0.001 score = 0.7344751458002576\n",
      "Linear model: C = 0.005 score = 0.7409700060404874\n",
      "Linear model: C = 0.01 score = 0.7414992168748763\n",
      "Linear model: C = 0.05 score = 0.7401948992628468\n",
      "Linear model: C = 0.1 score = 0.7385431199918747\n",
      "Linear model: C = 1e-05 score = 0.6909179687500001\n",
      "Linear model: C = 5e-05 score = 0.6978653617527174\n",
      "Linear model: C = 0.0001 score = 0.7026473335597826\n",
      "Linear model: C = 0.0005 score = 0.7156557829483695\n",
      "Linear model: C = 0.001 score = 0.7172267747961957\n",
      "Linear model: C = 0.005 score = 0.7088888417119565\n",
      "Linear model: C = 0.01 score = 0.7022333559782609\n",
      "Linear model: C = 1e-05 score = 0.6663499915081522\n",
      "Linear model: C = 5e-05 score = 0.676224418308424\n",
      "Linear model: C = 0.0001 score = 0.6844800866168478\n",
      "Linear model: C = 0.0005 score = 0.7055292544157608\n",
      "Linear model: C = 0.001 score = 0.7126252547554348\n",
      "Linear model: C = 0.005 score = 0.7175611413043479\n",
      "Linear model: C = 0.01 score = 0.7172533118206521\n",
      "Linear model: C = 0.05 score = 0.71337890625\n",
      "Linear model: C = 1e-05 score = 0.6777901027513588\n",
      "Linear model: C = 5e-05 score = 0.6980458135190217\n",
      "Linear model: C = 0.0001 score = 0.7149339758831521\n",
      "Linear model: C = 0.0005 score = 0.7413860818614132\n",
      "Linear model: C = 0.001 score = 0.7476169752038043\n",
      "Linear model: C = 0.005 score = 0.7518947435461957\n",
      "Linear model: C = 0.01 score = 0.7512100883152174\n",
      "Linear model: C = 0.05 score = 0.7470225458559783\n",
      "Linear model: C = 1e-05 score = 0.6634866465692935\n",
      "Linear model: C = 5e-05 score = 0.6815132472826088\n",
      "Linear model: C = 0.0001 score = 0.6981944208559783\n",
      "Linear model: C = 0.0005 score = 0.7315992272418478\n",
      "Linear model: C = 0.001 score = 0.740059230638587\n",
      "Linear model: C = 0.005 score = 0.7455470872961957\n",
      "Linear model: C = 0.01 score = 0.7447987432065217\n",
      "Linear model: C = 0.05 score = 0.7377080502717391\n",
      "Lvl_0_Pipe_0_Mod_0_LinearL2 fitting and predicting completed\n",
      "Start fitting LightGBM ...\n",
      "Training until validation scores don't improve for 200 rounds\n",
      "[100]\tvalid's auc: 0.720229\n",
      "[200]\tvalid's auc: 0.72604\n",
      "[300]\tvalid's auc: 0.727323\n",
      "[400]\tvalid's auc: 0.729199\n",
      "[500]\tvalid's auc: 0.729146\n",
      "Early stopping, best iteration is:\n",
      "[372]\tvalid's auc: 0.730119\n",
      "LightGBM fitting and predicting completed\n",
      "Start fitting Lvl_0_Pipe_1_Mod_0_LightGBM ...\n",
      "Training until validation scores don't improve for 200 rounds\n",
      "[100]\tvalid's auc: 0.724495\n",
      "[200]\tvalid's auc: 0.736758\n",
      "[300]\tvalid's auc: 0.740938\n",
      "[400]\tvalid's auc: 0.745022\n",
      "[500]\tvalid's auc: 0.745647\n",
      "[600]\tvalid's auc: 0.745556\n",
      "[700]\tvalid's auc: 0.74576\n",
      "[800]\tvalid's auc: 0.744434\n",
      "Early stopping, best iteration is:\n",
      "[665]\tvalid's auc: 0.746738\n",
      "Training until validation scores don't improve for 200 rounds\n",
      "[100]\tvalid's auc: 0.730087\n",
      "[200]\tvalid's auc: 0.727672\n",
      "[300]\tvalid's auc: 0.730448\n",
      "Early stopping, best iteration is:\n",
      "[103]\tvalid's auc: 0.73118\n",
      "Training until validation scores don't improve for 200 rounds\n",
      "[100]\tvalid's auc: 0.705715\n",
      "[200]\tvalid's auc: 0.719801\n",
      "[300]\tvalid's auc: 0.727056\n",
      "[400]\tvalid's auc: 0.728059\n",
      "[500]\tvalid's auc: 0.728287\n",
      "[600]\tvalid's auc: 0.728064\n",
      "[700]\tvalid's auc: 0.722884\n",
      "Early stopping, best iteration is:\n",
      "[524]\tvalid's auc: 0.729821\n",
      "Training until validation scores don't improve for 200 rounds\n",
      "[100]\tvalid's auc: 0.745271\n",
      "[200]\tvalid's auc: 0.746932\n",
      "[300]\tvalid's auc: 0.741397\n",
      "Early stopping, best iteration is:\n",
      "[105]\tvalid's auc: 0.747893\n",
      "Training until validation scores don't improve for 200 rounds\n",
      "[100]\tvalid's auc: 0.747543\n",
      "[200]\tvalid's auc: 0.748333\n",
      "Early stopping, best iteration is:\n",
      "[27]\tvalid's auc: 0.750281\n",
      "Lvl_0_Pipe_1_Mod_0_LightGBM fitting and predicting completed\n",
      "Optuna may run 169.8678814649582 secs\n"
     ]
    },
    {
     "name": "stderr",
     "output_type": "stream",
     "text": [
      "[2020-12-03 18:21:22,736] (INFO): A new study created in memory with name: no-name-d6787524-da62-4767-b34d-8ed429e3d6c5\n"
     ]
    },
    {
     "name": "stdout",
     "output_type": "stream",
     "text": [
      "Start fitting Lvl_0_Pipe_1_Mod_1_LightGBM ...\n",
      "Training until validation scores don't improve for 200 rounds\n",
      "[100]\tvalid's auc: 0.722891\n",
      "[200]\tvalid's auc: 0.732075\n",
      "[300]\tvalid's auc: 0.737672\n",
      "[400]\tvalid's auc: 0.741788\n",
      "[500]\tvalid's auc: 0.739949\n",
      "[600]\tvalid's auc: 0.740163\n",
      "Early stopping, best iteration is:\n",
      "[409]\tvalid's auc: 0.742232\n",
      "Lvl_0_Pipe_1_Mod_1_LightGBM fitting and predicting completed\n"
     ]
    },
    {
     "name": "stderr",
     "output_type": "stream",
     "text": [
      "[2020-12-03 18:21:27,997] (INFO): Trial 0 finished with value: 0.7422315591406471 and parameters: {'feature_fraction': 0.6872700594236812, 'num_leaves': 108}. Best is trial 0 with value: 0.7422315591406471.\n"
     ]
    },
    {
     "name": "stdout",
     "output_type": "stream",
     "text": [
      "Start fitting Lvl_0_Pipe_1_Mod_1_LightGBM ...\n",
      "Training until validation scores don't improve for 200 rounds\n",
      "[100]\tvalid's auc: 0.731524\n",
      "[200]\tvalid's auc: 0.739447\n",
      "[300]\tvalid's auc: 0.74561\n",
      "[400]\tvalid's auc: 0.745086\n",
      "[500]\tvalid's auc: 0.747315\n",
      "[600]\tvalid's auc: 0.747449\n",
      "[700]\tvalid's auc: 0.7453\n",
      "Early stopping, best iteration is:\n",
      "[559]\tvalid's auc: 0.749026\n",
      "Lvl_0_Pipe_1_Mod_1_LightGBM fitting and predicting completed\n"
     ]
    },
    {
     "name": "stderr",
     "output_type": "stream",
     "text": [
      "[2020-12-03 18:21:33,746] (INFO): Trial 1 finished with value: 0.7490257709639655 and parameters: {'feature_fraction': 0.5917173949330818, 'num_leaves': 87}. Best is trial 1 with value: 0.7490257709639655.\n"
     ]
    },
    {
     "name": "stdout",
     "output_type": "stream",
     "text": [
      "Start fitting Lvl_0_Pipe_1_Mod_1_LightGBM ...\n",
      "Training until validation scores don't improve for 200 rounds\n",
      "[100]\tvalid's auc: 0.719347\n",
      "[200]\tvalid's auc: 0.727857\n",
      "[300]\tvalid's auc: 0.734507\n",
      "[400]\tvalid's auc: 0.736779\n",
      "[500]\tvalid's auc: 0.737586\n",
      "Early stopping, best iteration is:\n",
      "[338]\tvalid's auc: 0.738383\n",
      "Lvl_0_Pipe_1_Mod_1_LightGBM fitting and predicting completed\n"
     ]
    },
    {
     "name": "stderr",
     "output_type": "stream",
     "text": [
      "[2020-12-03 18:21:38,769] (INFO): Trial 2 finished with value: 0.7383827530723629 and parameters: {'feature_fraction': 0.7993292420985183, 'num_leaves': 118}. Best is trial 1 with value: 0.7490257709639655.\n"
     ]
    },
    {
     "name": "stdout",
     "output_type": "stream",
     "text": [
      "Start fitting Lvl_0_Pipe_1_Mod_1_LightGBM ...\n",
      "Training until validation scores don't improve for 200 rounds\n",
      "[100]\tvalid's auc: 0.728579\n",
      "[200]\tvalid's auc: 0.730984\n",
      "[300]\tvalid's auc: 0.736052\n",
      "[400]\tvalid's auc: 0.739815\n",
      "[500]\tvalid's auc: 0.739896\n",
      "[600]\tvalid's auc: 0.740836\n",
      "Early stopping, best iteration is:\n",
      "[427]\tvalid's auc: 0.7412\n",
      "Lvl_0_Pipe_1_Mod_1_LightGBM fitting and predicting completed\n"
     ]
    },
    {
     "name": "stderr",
     "output_type": "stream",
     "text": [
      "[2020-12-03 18:21:44,298] (INFO): Trial 3 finished with value: 0.7411998652917877 and parameters: {'feature_fraction': 0.7229163764267956, 'num_leaves': 230}. Best is trial 1 with value: 0.7490257709639655.\n"
     ]
    },
    {
     "name": "stdout",
     "output_type": "stream",
     "text": [
      "Start fitting Lvl_0_Pipe_1_Mod_1_LightGBM ...\n",
      "Training until validation scores don't improve for 200 rounds\n",
      "[100]\tvalid's auc: 0.728419\n",
      "[200]\tvalid's auc: 0.737554\n",
      "[300]\tvalid's auc: 0.73942\n",
      "[400]\tvalid's auc: 0.742274\n",
      "[500]\tvalid's auc: 0.740842\n",
      "[600]\tvalid's auc: 0.739142\n",
      "Early stopping, best iteration is:\n",
      "[420]\tvalid's auc: 0.743108\n",
      "Lvl_0_Pipe_1_Mod_1_LightGBM fitting and predicting completed\n"
     ]
    },
    {
     "name": "stderr",
     "output_type": "stream",
     "text": [
      "[2020-12-03 18:21:49,031] (INFO): Trial 4 finished with value: 0.7431082316339785 and parameters: {'feature_fraction': 0.5290418060840998, 'num_leaves': 103}. Best is trial 1 with value: 0.7490257709639655.\n"
     ]
    },
    {
     "name": "stdout",
     "output_type": "stream",
     "text": [
      "Start fitting Lvl_0_Pipe_1_Mod_1_LightGBM ...\n",
      "Training until validation scores don't improve for 200 rounds\n",
      "[100]\tvalid's auc: 0.727948\n",
      "[200]\tvalid's auc: 0.735651\n",
      "[300]\tvalid's auc: 0.743392\n",
      "[400]\tvalid's auc: 0.745963\n",
      "[500]\tvalid's auc: 0.74631\n",
      "[600]\tvalid's auc: 0.747524\n",
      "[700]\tvalid's auc: 0.746813\n",
      "Early stopping, best iteration is:\n",
      "[578]\tvalid's auc: 0.748283\n",
      "Lvl_0_Pipe_1_Mod_1_LightGBM fitting and predicting completed\n"
     ]
    },
    {
     "name": "stderr",
     "output_type": "stream",
     "text": [
      "[2020-12-03 18:21:55,136] (INFO): Trial 5 finished with value: 0.7482827375702273 and parameters: {'feature_fraction': 0.6668543055695109, 'num_leaves': 119}. Best is trial 1 with value: 0.7490257709639655.\n"
     ]
    },
    {
     "name": "stdout",
     "output_type": "stream",
     "text": [
      "Start fitting Lvl_0_Pipe_1_Mod_1_LightGBM ...\n",
      "Training until validation scores don't improve for 100 rounds\n",
      "[100]\tvalid's auc: 0.734497\n",
      "[200]\tvalid's auc: 0.733465\n",
      "Early stopping, best iteration is:\n",
      "[116]\tvalid's auc: 0.738126\n",
      "Training until validation scores don't improve for 100 rounds\n",
      "[100]\tvalid's auc: 0.731037\n",
      "[200]\tvalid's auc: 0.733988\n",
      "[300]\tvalid's auc: 0.731498\n",
      "Early stopping, best iteration is:\n",
      "[232]\tvalid's auc: 0.73644\n",
      "Training until validation scores don't improve for 100 rounds\n",
      "[100]\tvalid's auc: 0.709244\n",
      "Early stopping, best iteration is:\n",
      "[74]\tvalid's auc: 0.71634\n",
      "Training until validation scores don't improve for 100 rounds\n",
      "[100]\tvalid's auc: 0.706994\n",
      "Early stopping, best iteration is:\n",
      "[51]\tvalid's auc: 0.715783\n",
      "Training until validation scores don't improve for 100 rounds\n",
      "[100]\tvalid's auc: 0.747813\n",
      "[200]\tvalid's auc: 0.748402\n",
      "Early stopping, best iteration is:\n",
      "[156]\tvalid's auc: 0.753184\n",
      "Lvl_0_Pipe_1_Mod_1_LightGBM fitting and predicting completed\n",
      "Blending: Optimization starts with equal weights and score 0.7447457617749851\n",
      "Blending, iter 0: score = 0.7453887690890472, weights = [0.4301704  0.22381085 0.3460188 ]\n",
      "Blending, iter 1: score = 0.7454082219471184, weights = [0.42227906 0.22679353 0.3509274 ]\n",
      "Blending, iter 2: score = 0.7454082219471184, weights = [0.42227906 0.22679353 0.3509274 ]\n",
      "No score update. Terminated\n",
      "\n",
      "\n",
      "Automl preset training completed in 61.34 seconds.\n",
      "CUR SETUP FOR RANDOM STATE: {'reader_params': {'random_state': 44}}\n",
      "FOUND reader_params in kwargs, need to combine\n",
      "MERGED VARIANT FOR reader_params = {'cv': 5, 'random_state': 44}\n",
      "Start automl preset with listed constraints:\n",
      "- time: 174.83896708488464 seconds\n",
      "- cpus: 4 cores\n",
      "- memory: 16 gb\n",
      "\n",
      "\n",
      "Train data shape: (8000, 125)\n",
      "Start fitting Lvl_0_Pipe_0_Mod_0_LinearL2 ...\n",
      "Linear model: C = 1e-05 score = 0.6836040861491092\n",
      "Linear model: C = 5e-05 score = 0.6982161852986299\n",
      "Linear model: C = 0.0001 score = 0.7110508844235611\n",
      "Linear model: C = 0.0005 score = 0.7335717454870077\n",
      "Linear model: C = 0.001 score = 0.7364690411661883\n",
      "Linear model: C = 0.005 score = 0.734427035724404\n",
      "Linear model: C = 0.01 score = 0.7319092750880682\n",
      "Linear model: C = 1e-05 score = 0.6664136803668478\n",
      "Linear model: C = 5e-05 score = 0.6735521399456522\n",
      "Linear model: C = 0.0001 score = 0.6803084663722827\n",
      "Linear model: C = 0.0005 score = 0.6996486497961956\n",
      "Linear model: C = 0.001 score = 0.7061396059782609\n",
      "Linear model: C = 0.005 score = 0.7119034476902174\n",
      "Linear model: C = 0.01 score = 0.7093824303668479\n",
      "Linear model: C = 0.05 score = 0.6995425016983696\n",
      "Linear model: C = 1e-05 score = 0.6814177139945651\n",
      "Linear model: C = 5e-05 score = 0.6925420346467392\n",
      "Linear model: C = 0.0001 score = 0.7027853260869565\n",
      "Linear model: C = 0.0005 score = 0.7245350713315217\n",
      "Linear model: C = 0.001 score = 0.7302033797554348\n",
      "Linear model: C = 0.005 score = 0.7308296535326086\n",
      "Linear model: C = 0.01 score = 0.7282980213994565\n",
      "Linear model: C = 0.05 score = 0.7215576171875\n",
      "Linear model: C = 1e-05 score = 0.682304050611413\n",
      "Linear model: C = 5e-05 score = 0.6971223250679347\n",
      "Linear model: C = 0.0001 score = 0.7087826936141305\n",
      "Linear model: C = 0.0005 score = 0.7354099439538043\n",
      "Linear model: C = 0.001 score = 0.7434612771739131\n",
      "Linear model: C = 0.005 score = 0.7508226477581521\n",
      "Linear model: C = 0.01 score = 0.7505148182744565\n",
      "Linear model: C = 0.05 score = 0.746826171875\n",
      "Linear model: C = 1e-05 score = 0.6738918138586956\n",
      "Linear model: C = 5e-05 score = 0.6886198624320652\n",
      "Linear model: C = 0.0001 score = 0.7016176970108696\n",
      "Linear model: C = 0.0005 score = 0.737023395040761\n",
      "Linear model: C = 0.001 score = 0.7472348420516304\n",
      "Linear model: C = 0.005 score = 0.7530464504076088\n",
      "Linear model: C = 0.01 score = 0.7523087211277175\n",
      "Linear model: C = 0.05 score = 0.7434665845788043\n",
      "Lvl_0_Pipe_0_Mod_0_LinearL2 fitting and predicting completed\n",
      "Start fitting LightGBM ...\n",
      "Training until validation scores don't improve for 200 rounds\n",
      "[100]\tvalid's auc: 0.706448\n",
      "[200]\tvalid's auc: 0.715728\n",
      "[300]\tvalid's auc: 0.726345\n",
      "[400]\tvalid's auc: 0.727376\n",
      "[500]\tvalid's auc: 0.725703\n",
      "Early stopping, best iteration is:\n",
      "[337]\tvalid's auc: 0.727964\n",
      "LightGBM fitting and predicting completed\n",
      "Start fitting Lvl_0_Pipe_1_Mod_0_LightGBM ...\n",
      "Training until validation scores don't improve for 200 rounds\n",
      "[100]\tvalid's auc: 0.721763\n",
      "[200]\tvalid's auc: 0.722966\n",
      "[300]\tvalid's auc: 0.724586\n",
      "[400]\tvalid's auc: 0.727403\n",
      "[500]\tvalid's auc: 0.728755\n",
      "[600]\tvalid's auc: 0.729338\n",
      "[700]\tvalid's auc: 0.731706\n",
      "[800]\tvalid's auc: 0.7306\n",
      "[900]\tvalid's auc: 0.729525\n",
      "Early stopping, best iteration is:\n",
      "[744]\tvalid's auc: 0.732519\n",
      "Training until validation scores don't improve for 200 rounds\n",
      "[100]\tvalid's auc: 0.735787\n",
      "[200]\tvalid's auc: 0.743955\n",
      "[300]\tvalid's auc: 0.744459\n",
      "[400]\tvalid's auc: 0.74715\n",
      "[500]\tvalid's auc: 0.748546\n",
      "[600]\tvalid's auc: 0.746035\n",
      "Early stopping, best iteration is:\n",
      "[421]\tvalid's auc: 0.749958\n",
      "Training until validation scores don't improve for 200 rounds\n",
      "[100]\tvalid's auc: 0.74249\n",
      "[200]\tvalid's auc: 0.754267\n",
      "[300]\tvalid's auc: 0.758842\n",
      "[400]\tvalid's auc: 0.758439\n",
      "[500]\tvalid's auc: 0.758221\n",
      "Early stopping, best iteration is:\n",
      "[316]\tvalid's auc: 0.759516\n",
      "Training until validation scores don't improve for 200 rounds\n",
      "[100]\tvalid's auc: 0.747622\n",
      "[200]\tvalid's auc: 0.747707\n",
      "[300]\tvalid's auc: 0.749172\n",
      "[400]\tvalid's auc: 0.748949\n",
      "[500]\tvalid's auc: 0.746789\n",
      "Early stopping, best iteration is:\n",
      "[317]\tvalid's auc: 0.750637\n",
      "Training until validation scores don't improve for 200 rounds\n",
      "[100]\tvalid's auc: 0.744257\n",
      "[200]\tvalid's auc: 0.750133\n",
      "[300]\tvalid's auc: 0.756019\n",
      "[400]\tvalid's auc: 0.759819\n",
      "[500]\tvalid's auc: 0.76156\n",
      "[600]\tvalid's auc: 0.761623\n",
      "[700]\tvalid's auc: 0.763656\n",
      "[800]\tvalid's auc: 0.765514\n",
      "[900]\tvalid's auc: 0.766368\n",
      "[1000]\tvalid's auc: 0.767212\n",
      "[1100]\tvalid's auc: 0.766962\n",
      "[1200]\tvalid's auc: 0.76589\n",
      "Early stopping, best iteration is:\n",
      "[1012]\tvalid's auc: 0.767679\n",
      "Lvl_0_Pipe_1_Mod_0_LightGBM fitting and predicting completed\n",
      "Optuna may run 104.46130659580231 secs\n"
     ]
    },
    {
     "name": "stderr",
     "output_type": "stream",
     "text": [
      "[2020-12-03 18:22:28,161] (INFO): A new study created in memory with name: no-name-fdd778a6-eeae-4132-8d00-48f0363fc390\n"
     ]
    },
    {
     "name": "stdout",
     "output_type": "stream",
     "text": [
      "Start fitting Lvl_0_Pipe_1_Mod_1_LightGBM ...\n",
      "Training until validation scores don't improve for 200 rounds\n",
      "[100]\tvalid's auc: 0.716156\n",
      "[200]\tvalid's auc: 0.72008\n",
      "[300]\tvalid's auc: 0.721865\n",
      "[400]\tvalid's auc: 0.724094\n",
      "[500]\tvalid's auc: 0.72411\n",
      "[600]\tvalid's auc: 0.725115\n",
      "[700]\tvalid's auc: 0.727082\n",
      "[800]\tvalid's auc: 0.7272\n",
      "[900]\tvalid's auc: 0.727168\n",
      "[1000]\tvalid's auc: 0.728258\n",
      "[1100]\tvalid's auc: 0.728745\n",
      "[1200]\tvalid's auc: 0.729285\n",
      "Early stopping, best iteration is:\n",
      "[1062]\tvalid's auc: 0.729595\n",
      "Lvl_0_Pipe_1_Mod_1_LightGBM fitting and predicting completed\n"
     ]
    },
    {
     "name": "stderr",
     "output_type": "stream",
     "text": [
      "[2020-12-03 18:22:36,816] (INFO): Trial 0 finished with value: 0.7295946458831138 and parameters: {'feature_fraction': 0.6872700594236812, 'num_leaves': 108}. Best is trial 0 with value: 0.7295946458831138.\n"
     ]
    },
    {
     "name": "stdout",
     "output_type": "stream",
     "text": [
      "Start fitting Lvl_0_Pipe_1_Mod_1_LightGBM ...\n",
      "Training until validation scores don't improve for 200 rounds\n",
      "[100]\tvalid's auc: 0.71808\n",
      "[200]\tvalid's auc: 0.726943\n",
      "[300]\tvalid's auc: 0.729039\n",
      "[400]\tvalid's auc: 0.731583\n",
      "[500]\tvalid's auc: 0.733294\n",
      "[600]\tvalid's auc: 0.732706\n",
      "Early stopping, best iteration is:\n",
      "[488]\tvalid's auc: 0.733839\n",
      "Lvl_0_Pipe_1_Mod_1_LightGBM fitting and predicting completed\n"
     ]
    },
    {
     "name": "stderr",
     "output_type": "stream",
     "text": [
      "[2020-12-03 18:22:41,453] (INFO): Trial 1 finished with value: 0.733839023686194 and parameters: {'feature_fraction': 0.5917173949330818, 'num_leaves': 87}. Best is trial 1 with value: 0.733839023686194.\n"
     ]
    },
    {
     "name": "stdout",
     "output_type": "stream",
     "text": [
      "Start fitting Lvl_0_Pipe_1_Mod_1_LightGBM ...\n",
      "Training until validation scores don't improve for 200 rounds\n",
      "[100]\tvalid's auc: 0.717508\n",
      "[200]\tvalid's auc: 0.724067\n",
      "[300]\tvalid's auc: 0.729883\n",
      "[400]\tvalid's auc: 0.729985\n",
      "[500]\tvalid's auc: 0.729338\n",
      "Early stopping, best iteration is:\n",
      "[373]\tvalid's auc: 0.730899\n",
      "Lvl_0_Pipe_1_Mod_1_LightGBM fitting and predicting completed\n"
     ]
    },
    {
     "name": "stderr",
     "output_type": "stream",
     "text": [
      "[2020-12-03 18:22:46,299] (INFO): Trial 2 finished with value: 0.7308989634951435 and parameters: {'feature_fraction': 0.7993292420985183, 'num_leaves': 118}. Best is trial 1 with value: 0.733839023686194.\n"
     ]
    },
    {
     "name": "stdout",
     "output_type": "stream",
     "text": [
      "Start fitting Lvl_0_Pipe_1_Mod_1_LightGBM ...\n",
      "Training until validation scores don't improve for 200 rounds\n",
      "[100]\tvalid's auc: 0.722517\n",
      "[200]\tvalid's auc: 0.730359\n",
      "[300]\tvalid's auc: 0.73068\n",
      "[400]\tvalid's auc: 0.727366\n",
      "[500]\tvalid's auc: 0.727382\n",
      "Early stopping, best iteration is:\n",
      "[300]\tvalid's auc: 0.73068\n",
      "Lvl_0_Pipe_1_Mod_1_LightGBM fitting and predicting completed\n"
     ]
    },
    {
     "name": "stderr",
     "output_type": "stream",
     "text": [
      "[2020-12-03 18:22:50,324] (INFO): Trial 3 finished with value: 0.7306797953718107 and parameters: {'feature_fraction': 0.7229163764267956, 'num_leaves': 230}. Best is trial 1 with value: 0.733839023686194.\n"
     ]
    },
    {
     "name": "stdout",
     "output_type": "stream",
     "text": [
      "Start fitting Lvl_0_Pipe_1_Mod_1_LightGBM ...\n",
      "Training until validation scores don't improve for 200 rounds\n",
      "[100]\tvalid's auc: 0.720807\n",
      "[200]\tvalid's auc: 0.726954\n",
      "[300]\tvalid's auc: 0.73293\n",
      "[400]\tvalid's auc: 0.734015\n",
      "[500]\tvalid's auc: 0.735512\n",
      "[600]\tvalid's auc: 0.736303\n",
      "[700]\tvalid's auc: 0.737522\n",
      "[800]\tvalid's auc: 0.73633\n",
      "[900]\tvalid's auc: 0.736437\n",
      "Early stopping, best iteration is:\n",
      "[722]\tvalid's auc: 0.737704\n",
      "Lvl_0_Pipe_1_Mod_1_LightGBM fitting and predicting completed\n"
     ]
    },
    {
     "name": "stderr",
     "output_type": "stream",
     "text": [
      "[2020-12-03 18:22:56,191] (INFO): Trial 4 finished with value: 0.7377038664464294 and parameters: {'feature_fraction': 0.5290418060840998, 'num_leaves': 103}. Best is trial 4 with value: 0.7377038664464294.\n"
     ]
    },
    {
     "name": "stdout",
     "output_type": "stream",
     "text": [
      "Start fitting Lvl_0_Pipe_1_Mod_1_LightGBM ...\n",
      "Training until validation scores don't improve for 200 rounds\n",
      "[100]\tvalid's auc: 0.716038\n",
      "[200]\tvalid's auc: 0.722522\n",
      "[300]\tvalid's auc: 0.725441\n",
      "[400]\tvalid's auc: 0.726917\n",
      "[500]\tvalid's auc: 0.727996\n",
      "[600]\tvalid's auc: 0.727809\n",
      "[700]\tvalid's auc: 0.729563\n",
      "[800]\tvalid's auc: 0.729541\n",
      "[900]\tvalid's auc: 0.729343\n",
      "Early stopping, best iteration is:\n",
      "[708]\tvalid's auc: 0.730167\n",
      "Lvl_0_Pipe_1_Mod_1_LightGBM fitting and predicting completed\n"
     ]
    },
    {
     "name": "stderr",
     "output_type": "stream",
     "text": [
      "[2020-12-03 18:23:02,972] (INFO): Trial 5 finished with value: 0.7301666212293728 and parameters: {'feature_fraction': 0.6668543055695109, 'num_leaves': 119}. Best is trial 4 with value: 0.7377038664464294.\n"
     ]
    },
    {
     "name": "stdout",
     "output_type": "stream",
     "text": [
      "Start fitting Lvl_0_Pipe_1_Mod_1_LightGBM ...\n",
      "Training until validation scores don't improve for 100 rounds\n",
      "[100]\tvalid's auc: 0.707635\n",
      "[200]\tvalid's auc: 0.718599\n",
      "[300]\tvalid's auc: 0.722779\n",
      "[400]\tvalid's auc: 0.724645\n",
      "[500]\tvalid's auc: 0.725757\n",
      "Early stopping, best iteration is:\n",
      "[480]\tvalid's auc: 0.726623\n",
      "Training until validation scores don't improve for 100 rounds\n",
      "[100]\tvalid's auc: 0.743164\n",
      "[200]\tvalid's auc: 0.744427\n",
      "Early stopping, best iteration is:\n",
      "[151]\tvalid's auc: 0.750865\n",
      "Training until validation scores don't improve for 100 rounds\n",
      "[100]\tvalid's auc: 0.747145\n",
      "[200]\tvalid's auc: 0.752203\n",
      "Early stopping, best iteration is:\n",
      "[190]\tvalid's auc: 0.753949\n",
      "Training until validation scores don't improve for 100 rounds\n",
      "[100]\tvalid's auc: 0.733903\n",
      "Early stopping, best iteration is:\n",
      "[44]\tvalid's auc: 0.747707\n",
      "Training until validation scores don't improve for 100 rounds\n",
      "[100]\tvalid's auc: 0.75087\n",
      "[200]\tvalid's auc: 0.754198\n",
      "Early stopping, best iteration is:\n",
      "[198]\tvalid's auc: 0.75553\n",
      "Lvl_0_Pipe_1_Mod_1_LightGBM fitting and predicting completed\n",
      "Blending: Optimization starts with equal weights and score 0.7531296247044069\n",
      "Blending, iter 0: score = 0.7537803919017432, weights = [0.3993613  0.40221018 0.1984285 ]\n",
      "Blending, iter 1: score = 0.7537803919017432, weights = [0.3993613  0.40221018 0.1984285 ]\n",
      "No score update. Terminated\n",
      "\n",
      "\n",
      "Automl preset training completed in 69.55 seconds.\n",
      "CUR SETUP FOR RANDOM STATE: {'reader_params': {'random_state': 45}}\n",
      "FOUND reader_params in kwargs, need to combine\n",
      "MERGED VARIANT FOR reader_params = {'cv': 5, 'random_state': 45}\n",
      "Start automl preset with listed constraints:\n",
      "- time: 105.2654664516449 seconds\n",
      "- cpus: 4 cores\n",
      "- memory: 16 gb\n",
      "\n",
      "\n",
      "Train data shape: (8000, 125)\n",
      "Feats was rejected during automatic roles guess: []\n",
      "Start fitting Lvl_0_Pipe_0_Mod_0_LinearL2 ...\n",
      "Linear model: C = 1e-05 score = 0.6498602135018254\n",
      "Linear model: C = 5e-05 score = 0.6692859930186934\n",
      "Linear model: C = 0.0001 score = 0.6859053514441042\n",
      "Linear model: C = 0.0005 score = 0.7249226229613355\n",
      "Linear model: C = 0.001 score = 0.7332991217238376\n",
      "Linear model: C = 0.005 score = 0.7341757942171688\n",
      "Linear model: C = 0.01 score = 0.7309898380828668\n",
      "Linear model: C = 0.05 score = 0.7234151739179242\n",
      "Linear model: C = 1e-05 score = 0.6956574813179348\n",
      "Linear model: C = 5e-05 score = 0.7101785411005435\n",
      "Linear model: C = 0.0001 score = 0.7208464249320653\n",
      "Linear model: C = 0.0005 score = 0.7438752547554348\n",
      "Linear model: C = 0.001 score = 0.7493418817934783\n",
      "Linear model: C = 0.005 score = 0.751029636548913\n",
      "Linear model: C = 0.01 score = 0.7486678413722826\n",
      "Linear model: C = 0.05 score = 0.7427553923233695\n",
      "Linear model: C = 1e-05 score = 0.6515635614809783\n",
      "Linear model: C = 5e-05 score = 0.6675706946331522\n",
      "Linear model: C = 0.0001 score = 0.679390285326087\n",
      "Linear model: C = 0.0005 score = 0.7099290930706521\n",
      "Linear model: C = 0.001 score = 0.7209525730298914\n",
      "Linear model: C = 0.005 score = 0.7329579228940217\n",
      "Linear model: C = 0.01 score = 0.733849566915761\n",
      "Linear model: C = 0.05 score = 0.7284413213315217\n",
      "Linear model: C = 0.1 score = 0.7230224609375\n",
      "Linear model: C = 1e-05 score = 0.6984093707540762\n",
      "Linear model: C = 5e-05 score = 0.7046323029891304\n",
      "Linear model: C = 0.0001 score = 0.7089896824048912\n",
      "Linear model: C = 0.0005 score = 0.7202360733695652\n",
      "Linear model: C = 0.001 score = 0.7233621348505436\n",
      "Linear model: C = 0.005 score = 0.7249118970788043\n",
      "Linear model: C = 0.01 score = 0.7239565641983696\n",
      "Linear model: C = 0.05 score = 0.7198963994565218\n",
      "Linear model: C = 1e-05 score = 0.6601880944293478\n",
      "Linear model: C = 5e-05 score = 0.6740032693614131\n",
      "Linear model: C = 0.0001 score = 0.686120074728261\n",
      "Linear model: C = 0.0005 score = 0.7063757854959238\n",
      "Linear model: C = 0.001 score = 0.709801715353261\n",
      "Linear model: C = 0.005 score = 0.7103802224864131\n",
      "Linear model: C = 0.01 score = 0.7093612007472827\n",
      "Linear model: C = 0.05 score = 0.7061449133831522\n",
      "Lvl_0_Pipe_0_Mod_0_LinearL2 fitting and predicting completed\n",
      "Start fitting LightGBM ...\n",
      "Training until validation scores don't improve for 200 rounds\n",
      "[100]\tvalid's auc: 0.70408\n",
      "[200]\tvalid's auc: 0.714477\n",
      "[300]\tvalid's auc: 0.71629\n",
      "[400]\tvalid's auc: 0.719513\n",
      "[500]\tvalid's auc: 0.719566\n",
      "[600]\tvalid's auc: 0.722196\n",
      "[700]\tvalid's auc: 0.718722\n",
      "[800]\tvalid's auc: 0.716899\n",
      "Early stopping, best iteration is:\n",
      "[640]\tvalid's auc: 0.722752\n",
      "LightGBM fitting and predicting completed\n",
      "Start fitting Lvl_0_Pipe_1_Mod_0_LightGBM ...\n",
      "Training until validation scores don't improve for 200 rounds\n",
      "[100]\tvalid's auc: 0.715365\n",
      "[200]\tvalid's auc: 0.72001\n",
      "[300]\tvalid's auc: 0.727611\n",
      "[400]\tvalid's auc: 0.729648\n",
      "[500]\tvalid's auc: 0.731086\n",
      "[600]\tvalid's auc: 0.732775\n",
      "[700]\tvalid's auc: 0.732283\n",
      "[800]\tvalid's auc: 0.733946\n",
      "[900]\tvalid's auc: 0.732893\n",
      "[1000]\tvalid's auc: 0.730546\n",
      "Early stopping, best iteration is:\n",
      "[818]\tvalid's auc: 0.734812\n",
      "Training until validation scores don't improve for 200 rounds\n",
      "[100]\tvalid's auc: 0.759543\n",
      "[200]\tvalid's auc: 0.760588\n",
      "[300]\tvalid's auc: 0.76727\n",
      "[400]\tvalid's auc: 0.765784\n",
      "[500]\tvalid's auc: 0.766405\n",
      "[600]\tvalid's auc: 0.76649\n",
      "Early stopping, best iteration is:\n",
      "[443]\tvalid's auc: 0.767583\n",
      "Training until validation scores don't improve for 200 rounds\n",
      "[100]\tvalid's auc: 0.739746\n",
      "[200]\tvalid's auc: 0.738467\n",
      "[300]\tvalid's auc: 0.737889\n",
      "Early stopping, best iteration is:\n",
      "[111]\tvalid's auc: 0.743122\n",
      "Training until validation scores don't improve for 200 rounds\n",
      "[100]\tvalid's auc: 0.717174\n",
      "[200]\tvalid's auc: 0.722391\n",
      "[300]\tvalid's auc: 0.72894\n",
      "[400]\tvalid's auc: 0.73179\n",
      "[500]\tvalid's auc: 0.732963\n",
      "[600]\tvalid's auc: 0.733197\n",
      "Early stopping, best iteration is:\n",
      "[443]\tvalid's auc: 0.734147\n",
      "Training until validation scores don't improve for 200 rounds\n",
      "[100]\tvalid's auc: 0.708199\n",
      "[200]\tvalid's auc: 0.708045\n",
      "Early stopping, best iteration is:\n",
      "[23]\tvalid's auc: 0.712599\n",
      "Lvl_0_Pipe_1_Mod_0_LightGBM fitting and predicting completed\n",
      "Optuna may run 43.58252699375153 secs\n"
     ]
    },
    {
     "name": "stderr",
     "output_type": "stream",
     "text": [
      "[2020-12-03 18:23:37,598] (INFO): A new study created in memory with name: no-name-51cd9113-32a0-4d67-b7f6-760041c70669\n"
     ]
    },
    {
     "name": "stdout",
     "output_type": "stream",
     "text": [
      "Start fitting Lvl_0_Pipe_1_Mod_1_LightGBM ...\n",
      "Training until validation scores don't improve for 200 rounds\n",
      "[100]\tvalid's auc: 0.720652\n",
      "[200]\tvalid's auc: 0.722319\n",
      "[300]\tvalid's auc: 0.727868\n",
      "[400]\tvalid's auc: 0.728296\n",
      "[500]\tvalid's auc: 0.727162\n",
      "Early stopping, best iteration is:\n",
      "[381]\tvalid's auc: 0.729611\n",
      "Lvl_0_Pipe_1_Mod_1_LightGBM fitting and predicting completed\n"
     ]
    },
    {
     "name": "stderr",
     "output_type": "stream",
     "text": [
      "[2020-12-03 18:23:42,766] (INFO): Trial 0 finished with value: 0.729610682575065 and parameters: {'feature_fraction': 0.6872700594236812, 'num_leaves': 108}. Best is trial 0 with value: 0.729610682575065.\n"
     ]
    },
    {
     "name": "stdout",
     "output_type": "stream",
     "text": [
      "Start fitting Lvl_0_Pipe_1_Mod_1_LightGBM ...\n",
      "Training until validation scores don't improve for 200 rounds\n",
      "[100]\tvalid's auc: 0.73826\n",
      "[200]\tvalid's auc: 0.733182\n",
      "[300]\tvalid's auc: 0.737271\n",
      "Early stopping, best iteration is:\n",
      "[111]\tvalid's auc: 0.740339\n",
      "Lvl_0_Pipe_1_Mod_1_LightGBM fitting and predicting completed\n"
     ]
    },
    {
     "name": "stderr",
     "output_type": "stream",
     "text": [
      "[2020-12-03 18:23:45,152] (INFO): Trial 1 finished with value: 0.7403392294904074 and parameters: {'feature_fraction': 0.5917173949330818, 'num_leaves': 87}. Best is trial 1 with value: 0.7403392294904074.\n"
     ]
    },
    {
     "name": "stdout",
     "output_type": "stream",
     "text": [
      "Start fitting Lvl_0_Pipe_1_Mod_1_LightGBM ...\n",
      "Training until validation scores don't improve for 200 rounds\n",
      "[100]\tvalid's auc: 0.709324\n",
      "[200]\tvalid's auc: 0.713478\n",
      "Early stopping, best iteration is:\n",
      "[38]\tvalid's auc: 0.716097\n",
      "Lvl_0_Pipe_1_Mod_1_LightGBM fitting and predicting completed\n"
     ]
    },
    {
     "name": "stderr",
     "output_type": "stream",
     "text": [
      "[2020-12-03 18:23:47,428] (INFO): Trial 2 finished with value: 0.7160970968242004 and parameters: {'feature_fraction': 0.7993292420985183, 'num_leaves': 118}. Best is trial 1 with value: 0.7403392294904074.\n"
     ]
    },
    {
     "name": "stdout",
     "output_type": "stream",
     "text": [
      "Start fitting Lvl_0_Pipe_1_Mod_1_LightGBM ...\n",
      "Training until validation scores don't improve for 200 rounds\n",
      "[100]\tvalid's auc: 0.721362\n",
      "[200]\tvalid's auc: 0.719502\n",
      "[300]\tvalid's auc: 0.726997\n",
      "[400]\tvalid's auc: 0.72774\n",
      "[500]\tvalid's auc: 0.729269\n",
      "[600]\tvalid's auc: 0.728798\n",
      "Early stopping, best iteration is:\n",
      "[479]\tvalid's auc: 0.729744\n",
      "Lvl_0_Pipe_1_Mod_1_LightGBM fitting and predicting completed\n"
     ]
    },
    {
     "name": "stderr",
     "output_type": "stream",
     "text": [
      "[2020-12-03 18:23:53,618] (INFO): Trial 3 finished with value: 0.7297443216746582 and parameters: {'feature_fraction': 0.7229163764267956, 'num_leaves': 230}. Best is trial 1 with value: 0.7403392294904074.\n"
     ]
    },
    {
     "name": "stdout",
     "output_type": "stream",
     "text": [
      "Start fitting Lvl_0_Pipe_1_Mod_1_LightGBM ...\n",
      "Training until validation scores don't improve for 200 rounds\n",
      "[100]\tvalid's auc: 0.724532\n",
      "[200]\tvalid's auc: 0.723843\n",
      "[300]\tvalid's auc: 0.725227\n",
      "[400]\tvalid's auc: 0.724287\n",
      "Early stopping, best iteration is:\n",
      "[265]\tvalid's auc: 0.72782\n",
      "Lvl_0_Pipe_1_Mod_1_LightGBM fitting and predicting completed\n"
     ]
    },
    {
     "name": "stderr",
     "output_type": "stream",
     "text": [
      "[2020-12-03 18:23:57,232] (INFO): Trial 4 finished with value: 0.7278199186405161 and parameters: {'feature_fraction': 0.5290418060840998, 'num_leaves': 103}. Best is trial 1 with value: 0.7403392294904074.\n"
     ]
    },
    {
     "name": "stdout",
     "output_type": "stream",
     "text": [
      "Start fitting Lvl_0_Pipe_1_Mod_1_LightGBM ...\n",
      "Training until validation scores don't improve for 200 rounds\n",
      "[100]\tvalid's auc: 0.720256\n",
      "[200]\tvalid's auc: 0.716696\n",
      "Early stopping, best iteration is:\n",
      "[54]\tvalid's auc: 0.728312\n",
      "Lvl_0_Pipe_1_Mod_1_LightGBM fitting and predicting completed\n"
     ]
    },
    {
     "name": "stderr",
     "output_type": "stream",
     "text": [
      "[2020-12-03 18:23:59,475] (INFO): Trial 5 finished with value: 0.7283117105270192 and parameters: {'feature_fraction': 0.6668543055695109, 'num_leaves': 119}. Best is trial 1 with value: 0.7403392294904074.\n"
     ]
    },
    {
     "name": "stdout",
     "output_type": "stream",
     "text": [
      "Start fitting Lvl_0_Pipe_1_Mod_1_LightGBM ...\n",
      "Training until validation scores don't improve for 200 rounds\n",
      "[100]\tvalid's auc: 0.713419\n",
      "[200]\tvalid's auc: 0.720443\n",
      "[300]\tvalid's auc: 0.724019\n",
      "[400]\tvalid's auc: 0.728509\n",
      "[500]\tvalid's auc: 0.729739\n",
      "[600]\tvalid's auc: 0.729226\n",
      "[700]\tvalid's auc: 0.729253\n",
      "Early stopping, best iteration is:\n",
      "[510]\tvalid's auc: 0.730322\n",
      "Lvl_0_Pipe_1_Mod_1_LightGBM fitting and predicting completed\n"
     ]
    },
    {
     "name": "stderr",
     "output_type": "stream",
     "text": [
      "[2020-12-03 18:24:06,474] (INFO): Trial 6 finished with value: 0.730321642584901 and parameters: {'feature_fraction': 0.8540362888980227, 'num_leaves': 165}. Best is trial 1 with value: 0.7403392294904074.\n"
     ]
    },
    {
     "name": "stdout",
     "output_type": "stream",
     "text": [
      "Start fitting Lvl_0_Pipe_1_Mod_1_LightGBM ...\n",
      "Training until validation scores don't improve for 200 rounds\n",
      "[100]\tvalid's auc: 0.724532\n",
      "[200]\tvalid's auc: 0.723843\n",
      "[300]\tvalid's auc: 0.725227\n",
      "[400]\tvalid's auc: 0.724287\n",
      "Early stopping, best iteration is:\n",
      "[265]\tvalid's auc: 0.72782\n",
      "Lvl_0_Pipe_1_Mod_1_LightGBM fitting and predicting completed\n"
     ]
    },
    {
     "name": "stderr",
     "output_type": "stream",
     "text": [
      "[2020-12-03 18:24:10,039] (INFO): Trial 7 finished with value: 0.7278199186405161 and parameters: {'feature_fraction': 0.5282057895135501, 'num_leaves': 103}. Best is trial 1 with value: 0.7403392294904074.\n"
     ]
    },
    {
     "name": "stdout",
     "output_type": "stream",
     "text": [
      "Start fitting Lvl_0_Pipe_1_Mod_1_LightGBM ...\n",
      "Training until validation scores don't improve for 100 rounds\n",
      "[100]\tvalid's auc: 0.723747\n",
      "[200]\tvalid's auc: 0.728306\n",
      "[300]\tvalid's auc: 0.72225\n",
      "Early stopping, best iteration is:\n",
      "[223]\tvalid's auc: 0.729023\n",
      "Training until validation scores don't improve for 100 rounds\n",
      "[100]\tvalid's auc: 0.748349\n",
      "[200]\tvalid's auc: 0.753338\n",
      "[300]\tvalid's auc: 0.748004\n",
      "Early stopping, best iteration is:\n",
      "[210]\tvalid's auc: 0.754851\n",
      "Training until validation scores don't improve for 100 rounds\n",
      "[100]\tvalid's auc: 0.725719\n",
      "Early stopping, best iteration is:\n",
      "[32]\tvalid's auc: 0.731042\n",
      "Training until validation scores don't improve for 100 rounds\n",
      "[100]\tvalid's auc: 0.721696\n",
      "Early stopping, best iteration is:\n",
      "[78]\tvalid's auc: 0.730729\n",
      "Training until validation scores don't improve for 100 rounds\n",
      "[100]\tvalid's auc: 0.721627\n",
      "Early stopping, best iteration is:\n",
      "[55]\tvalid's auc: 0.728611\n",
      "Lvl_0_Pipe_1_Mod_1_LightGBM fitting and predicting completed\n",
      "Blending: Optimization starts with equal weights and score 0.7360604326953434\n",
      "Blending, iter 0: score = 0.7395710889284749, weights = [0.53806496 0.18425855 0.2776765 ]\n",
      "Blending, iter 1: score = 0.7395889472899831, weights = [0.5695067  0.15963677 0.27085662]\n",
      "Blending, iter 2: score = 0.7395851204982313, weights = [0.56983453 0.15514165 0.27502385]\n",
      "Blending, iter 3: score = 0.7395851204982313, weights = [0.56983453 0.15514165 0.27502385]\n",
      "No score update. Terminated\n",
      "\n",
      "\n",
      "Automl preset training completed in 66.31 seconds.\n",
      "Blending: Optimization starts with equal weights and score 0.7550771428067263\n",
      "Blending, iter 0: score = 0.7580270677484582, weights = [0.34637398 0.06079402 0.59283197 0.        ]\n",
      "Blending, iter 1: score = 0.7581720606359404, weights = [0.3909642  0.05664667 0.55238914 0.        ]\n",
      "Blending, iter 2: score = 0.7581720606359404, weights = [0.3909642  0.05664667 0.55238914 0.        ]\n",
      "No score update. Terminated\n"
     ]
    },
    {
     "name": "stderr",
     "output_type": "stream",
     "text": [
      "[2020-12-03 18:24:18,382] (INFO): oof_pred:\n",
      "array([[0.0323967 ],\n",
      "       [0.02751203],\n",
      "       [0.03151446],\n",
      "       ...,\n",
      "       [0.02532397],\n",
      "       [0.16432318],\n",
      "       [0.08439195]], dtype=float32)\n",
      "Shape = (8000, 1)\n"
     ]
    },
    {
     "name": "stdout",
     "output_type": "stream",
     "text": [
      "CPU times: user 16min 16s, sys: 13.6 s, total: 16min 30s\n",
      "Wall time: 4min 21s\n"
     ]
    }
   ],
   "source": [
    "%%time \n",
    "\n",
    "automl = TabularUtilizedAutoML(task = task, \n",
    "                       timeout = TIMEOUT,\n",
    "                       general_params = {'nested_cv': False, 'use_algos': [['linear_l2', 'lgb', 'lgb_tuned']]},\n",
    "                       reader_params = {'cv': N_FOLDS, 'random_state': RANDOM_STATE},\n",
    "                       tuning_params = {'max_tuning_iter': 20, 'max_tuning_time': 30},\n",
    "                       lgb_params = {'default_params': {'num_threads': N_THREADS}}, verbose=0)\n",
    "oof_pred = automl.fit_predict(train_data, roles = roles)\n",
    "logging.info('oof_pred:\\n{}\\nShape = {}'.format(oof_pred, oof_pred.shape))"
   ]
  },
  {
   "cell_type": "markdown",
   "metadata": {},
   "source": [
    "### Predict to test data and check scores for utilized automl"
   ]
  },
  {
   "cell_type": "code",
   "execution_count": 15,
   "metadata": {},
   "outputs": [
    {
     "name": "stderr",
     "output_type": "stream",
     "text": [
      "[2020-12-03 18:24:20,102] (INFO): Prediction for test data:\n",
      "array([[0.05997877],\n",
      "       [0.07474159],\n",
      "       [0.02688554],\n",
      "       ...,\n",
      "       [0.04569402],\n",
      "       [0.03724101],\n",
      "       [0.21016812]], dtype=float32)\n",
      "Shape = (2000, 1)\n",
      "[2020-12-03 18:24:20,102] (INFO): Check scores...\n",
      "[2020-12-03 18:24:20,106] (INFO): OOF score: 0.7581720606359404\n",
      "[2020-12-03 18:24:20,109] (INFO): TEST score: 0.734266304347826\n"
     ]
    },
    {
     "name": "stdout",
     "output_type": "stream",
     "text": [
      "CPU times: user 3.27 s, sys: 112 ms, total: 3.38 s\n",
      "Wall time: 1.72 s\n"
     ]
    }
   ],
   "source": [
    "%%time\n",
    "\n",
    "test_pred = automl.predict(test_data)\n",
    "logging.info('Prediction for test data:\\n{}\\nShape = {}'\n",
    "              .format(test_pred, test_pred.shape))\n",
    "\n",
    "logging.info('Check scores...')\n",
    "logging.info('OOF score: {}'.format(roc_auc_score(train_data[TARGET_NAME].values, oof_pred.data[:, 0])))\n",
    "logging.info('TEST score: {}'.format(roc_auc_score(test_data[TARGET_NAME].values, test_pred.data[:, 0])))"
   ]
  },
  {
   "cell_type": "markdown",
   "metadata": {},
   "source": [
    "### Profiling utilized AutoML "
   ]
  },
  {
   "cell_type": "markdown",
   "metadata": {},
   "source": [
    "To build report here, we **must** turn on decorators on step 0.4. Report is interactive and you can go as deep into functions call stack as you want:"
   ]
  },
  {
   "cell_type": "code",
   "execution_count": 16,
   "metadata": {
    "scrolled": true
   },
   "outputs": [
    {
     "name": "stdout",
     "output_type": "stream",
     "text": [
      "CPU times: user 2.55 s, sys: 120 ms, total: 2.67 s\n",
      "Wall time: 2.66 s\n"
     ]
    }
   ],
   "source": [
    "%%time\n",
    "p.profile('my_report_profile.html')\n",
    "assert os.path.exists('my_report_profile.html'), 'Profile report failed to build'"
   ]
  },
  {
   "cell_type": "markdown",
   "metadata": {},
   "source": [
    "## Appendix. Profiling report screenshots "
   ]
  },
  {
   "cell_type": "markdown",
   "metadata": {},
   "source": [
    "After loading HTML with profiling report, you can see fully folded report (please wait for green LOAD OK text for full load finish). If you click on triangle on the left, it unfolds and look like this:  \n",
    "\n",
    "<img src=\"imgs/tutorial_2_initial_report.png\" alt=\"Initial profiling report\" style=\"width: 500px;\"/>\n",
    "\n",
    "If we go even deeper we will receive situation like this:\n",
    "\n",
    "<img src=\"imgs/tutorial_2_unfolded_report.png\" alt=\"Profiling report after several unfoldings on different levels\" style=\"width: 600px;\"/>\n"
   ]
  }
 ],
 "metadata": {
  "kernelspec": {
   "display_name": "venv-lama-pasha",
   "language": "python",
   "name": "venv-lama-pasha"
  },
  "language_info": {
   "codemirror_mode": {
    "name": "ipython",
    "version": 3
   },
   "file_extension": ".py",
   "mimetype": "text/x-python",
   "name": "python",
   "nbconvert_exporter": "python",
   "pygments_lexer": "ipython3",
   "version": "3.6.9"
  }
 },
 "nbformat": 4,
 "nbformat_minor": 4
}
