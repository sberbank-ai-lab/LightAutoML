{
 "cells": [
  {
   "cell_type": "markdown",
   "metadata": {},
   "source": [
    "# Multiclass task"
   ]
  },
  {
   "cell_type": "markdown",
   "metadata": {},
   "source": [
    "## Initial phase"
   ]
  },
  {
   "cell_type": "markdown",
   "metadata": {},
   "source": [
    "### Import necessary libraries "
   ]
  },
  {
   "cell_type": "code",
   "execution_count": 1,
   "metadata": {},
   "outputs": [],
   "source": [
    "# Standard python librari### Import necessary libraries es\n",
    "import logging\n",
    "import os\n",
    "import time\n",
    "logging.basicConfig(format='[%(asctime)s] (%(levelname)s): %(message)s', level=logging.INFO)\n",
    "\n",
    "# Installed libraries\n",
    "import numpy as np\n",
    "import pandas as pd\n",
    "from sklearn.metrics import roc_auc_score, log_loss\n",
    "from sklearn.model_selection import train_test_split\n",
    "import torch\n",
    "\n",
    "# Imports from our package\n",
    "from lightautoml.automl.base import AutoML\n",
    "from lightautoml.automl.blend import WeightedBlender\n",
    "from lightautoml.ml_algo.boost_lgbm import BoostLGBM\n",
    "from lightautoml.ml_algo.linear_sklearn import LinearLBFGS\n",
    "from lightautoml.ml_algo.tuning.optuna import OptunaTuner\n",
    "from lightautoml.pipelines.features.lgb_pipeline import LGBSimpleFeatures, LGBAdvancedPipeline\n",
    "from lightautoml.pipelines.features.linear_pipeline import LinearFeatures\n",
    "from lightautoml.pipelines.ml.base import MLPipeline\n",
    "from lightautoml.pipelines.selection.importance_based import ModelBasedImportanceEstimator, ImportanceCutoffSelector\n",
    "from lightautoml.reader.base import PandasToPandasReader\n",
    "from lightautoml.tasks import Task\n",
    "from lightautoml.utils.profiler import Profiler\n",
    "from lightautoml.utils.timer import PipelineTimer"
   ]
  },
  {
   "cell_type": "markdown",
   "metadata": {},
   "source": [
    "### Parameters "
   ]
  },
  {
   "cell_type": "code",
   "execution_count": 2,
   "metadata": {},
   "outputs": [],
   "source": [
    "### Parameters N_THREADS = 8 # threads cnt for lgbm and linear models\n",
    "N_FOLDS = 5 # folds cnt for AutoML\n",
    "RANDOM_STATE = 42 # fixed random state for various reasons\n",
    "TEST_SIZE = 0.2 # Test size for metric check\n",
    "TIMEOUT = 600 # Time in seconds for automl run\n",
    "TARGET_NAME = 'TARGET' # Target column name\n",
    "N_THREADS = 8 # Nubmer ot threads"
   ]
  },
  {
   "cell_type": "markdown",
   "metadata": {},
   "source": [
    "###  Fix torch number of threads and numpy seed "
   ]
  },
  {
   "cell_type": "code",
   "execution_count": 3,
   "metadata": {},
   "outputs": [],
   "source": [
    "np.random.seed(RANDOM_STATE)\n",
    "torch.set_num_threads(N_THREADS)"
   ]
  },
  {
   "cell_type": "markdown",
   "metadata": {},
   "source": [
    "### Change profiling decorators settings "
   ]
  },
  {
   "cell_type": "markdown",
   "metadata": {},
   "source": [
    "By default, profiling decorators are turned off for speed and memory reduction. If you want to see profiling report after using LAMA, you need to turn on the decorators using command below: "
   ]
  },
  {
   "cell_type": "code",
   "execution_count": 4,
   "metadata": {},
   "outputs": [],
   "source": [
    "p = Profiler()\n",
    "p.change_deco_settings({'enabled': True})"
   ]
  },
  {
   "cell_type": "markdown",
   "metadata": {},
   "source": [
    "### Example data load "
   ]
  },
  {
   "cell_type": "code",
   "execution_count": 5,
   "metadata": {},
   "outputs": [
    {
     "name": "stdout",
     "output_type": "stream",
     "text": [
      "CPU times: user 96.6 ms, sys: 28.2 ms, total: 125 ms\n",
      "Wall time: 124 ms\n"
     ]
    },
    {
     "data": {
      "text/html": [
       "<div>\n",
       "<style scoped>\n",
       "    .dataframe tbody tr th:only-of-type {\n",
       "        vertical-align: middle;\n",
       "    }\n",
       "\n",
       "    .dataframe tbody tr th {\n",
       "        vertical-align: top;\n",
       "    }\n",
       "\n",
       "    .dataframe thead th {\n",
       "        text-align: right;\n",
       "    }\n",
       "</style>\n",
       "<table border=\"1\" class=\"dataframe\">\n",
       "  <thead>\n",
       "    <tr style=\"text-align: right;\">\n",
       "      <th></th>\n",
       "      <th>SK_ID_CURR</th>\n",
       "      <th>TARGET</th>\n",
       "      <th>NAME_CONTRACT_TYPE</th>\n",
       "      <th>CODE_GENDER</th>\n",
       "      <th>FLAG_OWN_CAR</th>\n",
       "      <th>FLAG_OWN_REALTY</th>\n",
       "      <th>CNT_CHILDREN</th>\n",
       "      <th>AMT_INCOME_TOTAL</th>\n",
       "      <th>AMT_CREDIT</th>\n",
       "      <th>AMT_ANNUITY</th>\n",
       "      <th>...</th>\n",
       "      <th>FLAG_DOCUMENT_18</th>\n",
       "      <th>FLAG_DOCUMENT_19</th>\n",
       "      <th>FLAG_DOCUMENT_20</th>\n",
       "      <th>FLAG_DOCUMENT_21</th>\n",
       "      <th>AMT_REQ_CREDIT_BUREAU_HOUR</th>\n",
       "      <th>AMT_REQ_CREDIT_BUREAU_DAY</th>\n",
       "      <th>AMT_REQ_CREDIT_BUREAU_WEEK</th>\n",
       "      <th>AMT_REQ_CREDIT_BUREAU_MON</th>\n",
       "      <th>AMT_REQ_CREDIT_BUREAU_QRT</th>\n",
       "      <th>AMT_REQ_CREDIT_BUREAU_YEAR</th>\n",
       "    </tr>\n",
       "  </thead>\n",
       "  <tbody>\n",
       "    <tr>\n",
       "      <th>0</th>\n",
       "      <td>313802</td>\n",
       "      <td>0</td>\n",
       "      <td>Cash loans</td>\n",
       "      <td>M</td>\n",
       "      <td>N</td>\n",
       "      <td>Y</td>\n",
       "      <td>0</td>\n",
       "      <td>270000.0</td>\n",
       "      <td>327024.0</td>\n",
       "      <td>15372.0</td>\n",
       "      <td>...</td>\n",
       "      <td>0</td>\n",
       "      <td>0</td>\n",
       "      <td>0</td>\n",
       "      <td>0</td>\n",
       "      <td>0.0</td>\n",
       "      <td>0.0</td>\n",
       "      <td>0.0</td>\n",
       "      <td>0.0</td>\n",
       "      <td>0.0</td>\n",
       "      <td>1.0</td>\n",
       "    </tr>\n",
       "    <tr>\n",
       "      <th>1</th>\n",
       "      <td>319656</td>\n",
       "      <td>0</td>\n",
       "      <td>Cash loans</td>\n",
       "      <td>F</td>\n",
       "      <td>N</td>\n",
       "      <td>N</td>\n",
       "      <td>0</td>\n",
       "      <td>108000.0</td>\n",
       "      <td>675000.0</td>\n",
       "      <td>19737.0</td>\n",
       "      <td>...</td>\n",
       "      <td>0</td>\n",
       "      <td>0</td>\n",
       "      <td>0</td>\n",
       "      <td>0</td>\n",
       "      <td>0.0</td>\n",
       "      <td>0.0</td>\n",
       "      <td>0.0</td>\n",
       "      <td>0.0</td>\n",
       "      <td>0.0</td>\n",
       "      <td>0.0</td>\n",
       "    </tr>\n",
       "    <tr>\n",
       "      <th>2</th>\n",
       "      <td>207678</td>\n",
       "      <td>0</td>\n",
       "      <td>Revolving loans</td>\n",
       "      <td>F</td>\n",
       "      <td>Y</td>\n",
       "      <td>Y</td>\n",
       "      <td>2</td>\n",
       "      <td>112500.0</td>\n",
       "      <td>270000.0</td>\n",
       "      <td>13500.0</td>\n",
       "      <td>...</td>\n",
       "      <td>0</td>\n",
       "      <td>0</td>\n",
       "      <td>0</td>\n",
       "      <td>0</td>\n",
       "      <td>0.0</td>\n",
       "      <td>0.0</td>\n",
       "      <td>0.0</td>\n",
       "      <td>0.0</td>\n",
       "      <td>0.0</td>\n",
       "      <td>1.0</td>\n",
       "    </tr>\n",
       "    <tr>\n",
       "      <th>3</th>\n",
       "      <td>381593</td>\n",
       "      <td>0</td>\n",
       "      <td>Cash loans</td>\n",
       "      <td>F</td>\n",
       "      <td>N</td>\n",
       "      <td>N</td>\n",
       "      <td>1</td>\n",
       "      <td>67500.0</td>\n",
       "      <td>142200.0</td>\n",
       "      <td>9630.0</td>\n",
       "      <td>...</td>\n",
       "      <td>0</td>\n",
       "      <td>0</td>\n",
       "      <td>0</td>\n",
       "      <td>0</td>\n",
       "      <td>0.0</td>\n",
       "      <td>0.0</td>\n",
       "      <td>0.0</td>\n",
       "      <td>0.0</td>\n",
       "      <td>0.0</td>\n",
       "      <td>4.0</td>\n",
       "    </tr>\n",
       "    <tr>\n",
       "      <th>4</th>\n",
       "      <td>258153</td>\n",
       "      <td>0</td>\n",
       "      <td>Cash loans</td>\n",
       "      <td>F</td>\n",
       "      <td>Y</td>\n",
       "      <td>Y</td>\n",
       "      <td>0</td>\n",
       "      <td>337500.0</td>\n",
       "      <td>1483231.5</td>\n",
       "      <td>46570.5</td>\n",
       "      <td>...</td>\n",
       "      <td>0</td>\n",
       "      <td>0</td>\n",
       "      <td>0</td>\n",
       "      <td>0</td>\n",
       "      <td>0.0</td>\n",
       "      <td>0.0</td>\n",
       "      <td>0.0</td>\n",
       "      <td>2.0</td>\n",
       "      <td>0.0</td>\n",
       "      <td>0.0</td>\n",
       "    </tr>\n",
       "  </tbody>\n",
       "</table>\n",
       "<p>5 rows × 122 columns</p>\n",
       "</div>"
      ],
      "text/plain": [
       "   SK_ID_CURR  TARGET NAME_CONTRACT_TYPE CODE_GENDER FLAG_OWN_CAR  \\\n",
       "0      313802       0         Cash loans           M            N   \n",
       "1      319656       0         Cash loans           F            N   \n",
       "2      207678       0    Revolving loans           F            Y   \n",
       "3      381593       0         Cash loans           F            N   \n",
       "4      258153       0         Cash loans           F            Y   \n",
       "\n",
       "  FLAG_OWN_REALTY  CNT_CHILDREN  AMT_INCOME_TOTAL  AMT_CREDIT  AMT_ANNUITY  \\\n",
       "0               Y             0          270000.0    327024.0      15372.0   \n",
       "1               N             0          108000.0    675000.0      19737.0   \n",
       "2               Y             2          112500.0    270000.0      13500.0   \n",
       "3               N             1           67500.0    142200.0       9630.0   \n",
       "4               Y             0          337500.0   1483231.5      46570.5   \n",
       "\n",
       "   ...  FLAG_DOCUMENT_18 FLAG_DOCUMENT_19 FLAG_DOCUMENT_20 FLAG_DOCUMENT_21  \\\n",
       "0  ...                 0                0                0                0   \n",
       "1  ...                 0                0                0                0   \n",
       "2  ...                 0                0                0                0   \n",
       "3  ...                 0                0                0                0   \n",
       "4  ...                 0                0                0                0   \n",
       "\n",
       "  AMT_REQ_CREDIT_BUREAU_HOUR AMT_REQ_CREDIT_BUREAU_DAY  \\\n",
       "0                        0.0                       0.0   \n",
       "1                        0.0                       0.0   \n",
       "2                        0.0                       0.0   \n",
       "3                        0.0                       0.0   \n",
       "4                        0.0                       0.0   \n",
       "\n",
       "   AMT_REQ_CREDIT_BUREAU_WEEK  AMT_REQ_CREDIT_BUREAU_MON  \\\n",
       "0                         0.0                        0.0   \n",
       "1                         0.0                        0.0   \n",
       "2                         0.0                        0.0   \n",
       "3                         0.0                        0.0   \n",
       "4                         0.0                        2.0   \n",
       "\n",
       "   AMT_REQ_CREDIT_BUREAU_QRT  AMT_REQ_CREDIT_BUREAU_YEAR  \n",
       "0                        0.0                         1.0  \n",
       "1                        0.0                         0.0  \n",
       "2                        0.0                         1.0  \n",
       "3                        0.0                         4.0  \n",
       "4                        0.0                         0.0  \n",
       "\n",
       "[5 rows x 122 columns]"
      ]
     },
     "execution_count": 5,
     "metadata": {},
     "output_type": "execute_result"
    }
   ],
   "source": [
    "%%time\n",
    "\n",
    "data = pd.read_csv('../LightAutoML/example_data/test_data_files/sampled_app_train.csv')\n",
    "data.head()"
   ]
  },
  {
   "cell_type": "markdown",
   "metadata": {},
   "source": [
    "### (Optional) Some user feature preparation "
   ]
  },
  {
   "cell_type": "markdown",
   "metadata": {},
   "source": [
    "Cell below shows some user feature preparations to create task more difficult (this block can be omitted if you don't want to change the initial data):"
   ]
  },
  {
   "cell_type": "code",
   "execution_count": 6,
   "metadata": {},
   "outputs": [
    {
     "name": "stdout",
     "output_type": "stream",
     "text": [
      "CPU times: user 105 ms, sys: 8.13 ms, total: 113 ms\n",
      "Wall time: 112 ms\n"
     ]
    }
   ],
   "source": [
    "%%time\n",
    "\n",
    "data['BIRTH_DATE'] = (np.datetime64('2018-01-01') + data['DAYS_BIRTH'].astype(np.dtype('timedelta64[D]'))).astype(str)\n",
    "data['EMP_DATE'] = (np.datetime64('2018-01-01') + np.clip(data['DAYS_EMPLOYED'], None, 0).astype(np.dtype('timedelta64[D]'))\n",
    "                    ).astype(str)\n",
    "\n",
    "data['constant'] = 1\n",
    "data['allnan'] = np.nan\n",
    "\n",
    "data['report_dt'] = np.datetime64('2018-01-01')\n",
    "\n",
    "data.drop(['DAYS_BIRTH', 'DAYS_EMPLOYED'], axis=1, inplace=True)"
   ]
  },
  {
   "cell_type": "markdown",
   "metadata": {},
   "source": [
    "### Create fake multiclass target "
   ]
  },
  {
   "cell_type": "code",
   "execution_count": 7,
   "metadata": {},
   "outputs": [
    {
     "data": {
      "text/plain": [
       "2    4924\n",
       "0    4677\n",
       "1     399\n",
       "Name: TARGET, dtype: int64"
      ]
     },
     "execution_count": 7,
     "metadata": {},
     "output_type": "execute_result"
    }
   ],
   "source": [
    "data[TARGET_NAME] = np.where(np.random.rand(data.shape[0]) > .5, 2, data[TARGET_NAME].values)\n",
    "data[TARGET_NAME].value_counts()"
   ]
  },
  {
   "cell_type": "markdown",
   "metadata": {},
   "source": [
    "### (Optional) Data splitting for train-test "
   ]
  },
  {
   "cell_type": "markdown",
   "metadata": {},
   "source": [
    "Block below can be omitted if you are going to train model only or you have specific train and test files:"
   ]
  },
  {
   "cell_type": "code",
   "execution_count": 8,
   "metadata": {},
   "outputs": [
    {
     "name": "stderr",
     "output_type": "stream",
     "text": [
      "[2020-12-03 18:21:48,824] (INFO): Data splitted. Parts sizes: train_data = (8000, 125), test_data = (2000, 125)\n"
     ]
    },
    {
     "name": "stdout",
     "output_type": "stream",
     "text": [
      "CPU times: user 10.5 ms, sys: 3.17 ms, total: 13.6 ms\n",
      "Wall time: 12.8 ms\n"
     ]
    }
   ],
   "source": [
    "%%time\n",
    "\n",
    "train_data, test_data = train_test_split(data, \n",
    "                                         test_size=TEST_SIZE, \n",
    "                                         stratify=data[TARGET_NAME], \n",
    "                                         random_state=RANDOM_STATE)\n",
    "logging.info('Data splitted. Parts sizes: train_data = {}, test_data = {}'\n",
    "              .format(train_data.shape, test_data.shape))"
   ]
  },
  {
   "cell_type": "code",
   "execution_count": 9,
   "metadata": {},
   "outputs": [
    {
     "data": {
      "text/html": [
       "<div>\n",
       "<style scoped>\n",
       "    .dataframe tbody tr th:only-of-type {\n",
       "        vertical-align: middle;\n",
       "    }\n",
       "\n",
       "    .dataframe tbody tr th {\n",
       "        vertical-align: top;\n",
       "    }\n",
       "\n",
       "    .dataframe thead th {\n",
       "        text-align: right;\n",
       "    }\n",
       "</style>\n",
       "<table border=\"1\" class=\"dataframe\">\n",
       "  <thead>\n",
       "    <tr style=\"text-align: right;\">\n",
       "      <th></th>\n",
       "      <th>SK_ID_CURR</th>\n",
       "      <th>TARGET</th>\n",
       "      <th>NAME_CONTRACT_TYPE</th>\n",
       "      <th>CODE_GENDER</th>\n",
       "      <th>FLAG_OWN_CAR</th>\n",
       "      <th>FLAG_OWN_REALTY</th>\n",
       "      <th>CNT_CHILDREN</th>\n",
       "      <th>AMT_INCOME_TOTAL</th>\n",
       "      <th>AMT_CREDIT</th>\n",
       "      <th>AMT_ANNUITY</th>\n",
       "      <th>...</th>\n",
       "      <th>AMT_REQ_CREDIT_BUREAU_DAY</th>\n",
       "      <th>AMT_REQ_CREDIT_BUREAU_WEEK</th>\n",
       "      <th>AMT_REQ_CREDIT_BUREAU_MON</th>\n",
       "      <th>AMT_REQ_CREDIT_BUREAU_QRT</th>\n",
       "      <th>AMT_REQ_CREDIT_BUREAU_YEAR</th>\n",
       "      <th>BIRTH_DATE</th>\n",
       "      <th>EMP_DATE</th>\n",
       "      <th>constant</th>\n",
       "      <th>allnan</th>\n",
       "      <th>report_dt</th>\n",
       "    </tr>\n",
       "  </thead>\n",
       "  <tbody>\n",
       "    <tr>\n",
       "      <th>3273</th>\n",
       "      <td>293399</td>\n",
       "      <td>2</td>\n",
       "      <td>Revolving loans</td>\n",
       "      <td>F</td>\n",
       "      <td>Y</td>\n",
       "      <td>N</td>\n",
       "      <td>0</td>\n",
       "      <td>292500.0</td>\n",
       "      <td>765000.0</td>\n",
       "      <td>38250.0</td>\n",
       "      <td>...</td>\n",
       "      <td>0.0</td>\n",
       "      <td>0.0</td>\n",
       "      <td>0.0</td>\n",
       "      <td>0.0</td>\n",
       "      <td>0.0</td>\n",
       "      <td>1980-08-03</td>\n",
       "      <td>2013-06-26</td>\n",
       "      <td>1</td>\n",
       "      <td>NaN</td>\n",
       "      <td>2018-01-01</td>\n",
       "    </tr>\n",
       "    <tr>\n",
       "      <th>812</th>\n",
       "      <td>426509</td>\n",
       "      <td>1</td>\n",
       "      <td>Cash loans</td>\n",
       "      <td>F</td>\n",
       "      <td>N</td>\n",
       "      <td>Y</td>\n",
       "      <td>1</td>\n",
       "      <td>225000.0</td>\n",
       "      <td>349258.5</td>\n",
       "      <td>17959.5</td>\n",
       "      <td>...</td>\n",
       "      <td>0.0</td>\n",
       "      <td>0.0</td>\n",
       "      <td>0.0</td>\n",
       "      <td>0.0</td>\n",
       "      <td>5.0</td>\n",
       "      <td>1984-05-06</td>\n",
       "      <td>2013-02-17</td>\n",
       "      <td>1</td>\n",
       "      <td>NaN</td>\n",
       "      <td>2018-01-01</td>\n",
       "    </tr>\n",
       "    <tr>\n",
       "      <th>9630</th>\n",
       "      <td>403114</td>\n",
       "      <td>0</td>\n",
       "      <td>Cash loans</td>\n",
       "      <td>M</td>\n",
       "      <td>Y</td>\n",
       "      <td>Y</td>\n",
       "      <td>2</td>\n",
       "      <td>135000.0</td>\n",
       "      <td>922500.0</td>\n",
       "      <td>29889.0</td>\n",
       "      <td>...</td>\n",
       "      <td>0.0</td>\n",
       "      <td>0.0</td>\n",
       "      <td>4.0</td>\n",
       "      <td>0.0</td>\n",
       "      <td>4.0</td>\n",
       "      <td>1984-01-23</td>\n",
       "      <td>2009-06-01</td>\n",
       "      <td>1</td>\n",
       "      <td>NaN</td>\n",
       "      <td>2018-01-01</td>\n",
       "    </tr>\n",
       "    <tr>\n",
       "      <th>7757</th>\n",
       "      <td>366682</td>\n",
       "      <td>2</td>\n",
       "      <td>Cash loans</td>\n",
       "      <td>F</td>\n",
       "      <td>N</td>\n",
       "      <td>N</td>\n",
       "      <td>0</td>\n",
       "      <td>254475.0</td>\n",
       "      <td>1485000.0</td>\n",
       "      <td>39303.0</td>\n",
       "      <td>...</td>\n",
       "      <td>0.0</td>\n",
       "      <td>0.0</td>\n",
       "      <td>0.0</td>\n",
       "      <td>0.0</td>\n",
       "      <td>0.0</td>\n",
       "      <td>1971-11-28</td>\n",
       "      <td>2016-01-10</td>\n",
       "      <td>1</td>\n",
       "      <td>NaN</td>\n",
       "      <td>2018-01-01</td>\n",
       "    </tr>\n",
       "    <tr>\n",
       "      <th>9973</th>\n",
       "      <td>289050</td>\n",
       "      <td>0</td>\n",
       "      <td>Cash loans</td>\n",
       "      <td>F</td>\n",
       "      <td>N</td>\n",
       "      <td>Y</td>\n",
       "      <td>0</td>\n",
       "      <td>112500.0</td>\n",
       "      <td>260640.0</td>\n",
       "      <td>25906.5</td>\n",
       "      <td>...</td>\n",
       "      <td>NaN</td>\n",
       "      <td>NaN</td>\n",
       "      <td>NaN</td>\n",
       "      <td>NaN</td>\n",
       "      <td>NaN</td>\n",
       "      <td>1966-11-27</td>\n",
       "      <td>2002-07-12</td>\n",
       "      <td>1</td>\n",
       "      <td>NaN</td>\n",
       "      <td>2018-01-01</td>\n",
       "    </tr>\n",
       "  </tbody>\n",
       "</table>\n",
       "<p>5 rows × 125 columns</p>\n",
       "</div>"
      ],
      "text/plain": [
       "      SK_ID_CURR  TARGET NAME_CONTRACT_TYPE CODE_GENDER FLAG_OWN_CAR  \\\n",
       "3273      293399       2    Revolving loans           F            Y   \n",
       "812       426509       1         Cash loans           F            N   \n",
       "9630      403114       0         Cash loans           M            Y   \n",
       "7757      366682       2         Cash loans           F            N   \n",
       "9973      289050       0         Cash loans           F            N   \n",
       "\n",
       "     FLAG_OWN_REALTY  CNT_CHILDREN  AMT_INCOME_TOTAL  AMT_CREDIT  AMT_ANNUITY  \\\n",
       "3273               N             0          292500.0    765000.0      38250.0   \n",
       "812                Y             1          225000.0    349258.5      17959.5   \n",
       "9630               Y             2          135000.0    922500.0      29889.0   \n",
       "7757               N             0          254475.0   1485000.0      39303.0   \n",
       "9973               Y             0          112500.0    260640.0      25906.5   \n",
       "\n",
       "      ...  AMT_REQ_CREDIT_BUREAU_DAY AMT_REQ_CREDIT_BUREAU_WEEK  \\\n",
       "3273  ...                        0.0                        0.0   \n",
       "812   ...                        0.0                        0.0   \n",
       "9630  ...                        0.0                        0.0   \n",
       "7757  ...                        0.0                        0.0   \n",
       "9973  ...                        NaN                        NaN   \n",
       "\n",
       "     AMT_REQ_CREDIT_BUREAU_MON AMT_REQ_CREDIT_BUREAU_QRT  \\\n",
       "3273                       0.0                       0.0   \n",
       "812                        0.0                       0.0   \n",
       "9630                       4.0                       0.0   \n",
       "7757                       0.0                       0.0   \n",
       "9973                       NaN                       NaN   \n",
       "\n",
       "     AMT_REQ_CREDIT_BUREAU_YEAR  BIRTH_DATE    EMP_DATE  constant  allnan  \\\n",
       "3273                        0.0  1980-08-03  2013-06-26         1     NaN   \n",
       "812                         5.0  1984-05-06  2013-02-17         1     NaN   \n",
       "9630                        4.0  1984-01-23  2009-06-01         1     NaN   \n",
       "7757                        0.0  1971-11-28  2016-01-10         1     NaN   \n",
       "9973                        NaN  1966-11-27  2002-07-12         1     NaN   \n",
       "\n",
       "      report_dt  \n",
       "3273 2018-01-01  \n",
       "812  2018-01-01  \n",
       "9630 2018-01-01  \n",
       "7757 2018-01-01  \n",
       "9973 2018-01-01  \n",
       "\n",
       "[5 rows x 125 columns]"
      ]
     },
     "execution_count": 9,
     "metadata": {},
     "output_type": "execute_result"
    }
   ],
   "source": [
    "train_data.head()"
   ]
  },
  {
   "cell_type": "markdown",
   "metadata": {},
   "source": [
    "## AutoML Creation\n",
    "\n",
    "![AutoML pipeline for this task](imgs/tutorial_2_pipeline.png)\n",
    "\n",
    "\n",
    "### Create Timer for pipeline\n",
    "\n",
    "Here we are going to use strict timer for AutoML pipeline, which helps not to go outside the limit:"
   ]
  },
  {
   "cell_type": "code",
   "execution_count": 10,
   "metadata": {},
   "outputs": [
    {
     "name": "stdout",
     "output_type": "stream",
     "text": [
      "CPU times: user 149 µs, sys: 87 µs, total: 236 µs\n",
      "Wall time: 241 µs\n"
     ]
    }
   ],
   "source": [
    "%%time\n",
    "\n",
    "timer = PipelineTimer(600, mode=2)"
   ]
  },
  {
   "cell_type": "markdown",
   "metadata": {},
   "source": [
    "### Create feature selector"
   ]
  },
  {
   "cell_type": "code",
   "execution_count": 11,
   "metadata": {},
   "outputs": [
    {
     "name": "stderr",
     "output_type": "stream",
     "text": [
      "Copying TaskTimer may affect the parent PipelineTimer, so copy will create new unlimited TaskTimer\n"
     ]
    },
    {
     "name": "stdout",
     "output_type": "stream",
     "text": [
      "CPU times: user 2.24 ms, sys: 0 ns, total: 2.24 ms\n",
      "Wall time: 1.87 ms\n"
     ]
    }
   ],
   "source": [
    "%%time\n",
    "\n",
    "timer_gbm = timer.get_task_timer('gbm') # Get task timer from pipeline timer \n",
    "feat_sel_0 = LGBSimpleFeatures()\n",
    "mod_sel_0 = BoostLGBM(timer=timer_gbm)\n",
    "imp_sel_0 = ModelBasedImportanceEstimator()\n",
    "selector_0 = ImportanceCutoffSelector(feat_sel_0, mod_sel_0, imp_sel_0, cutoff=0, )"
   ]
  },
  {
   "cell_type": "markdown",
   "metadata": {},
   "source": [
    "### Create GBMs pipeline for AutoML "
   ]
  },
  {
   "cell_type": "markdown",
   "metadata": {},
   "source": [
    "Our GBMs ML pipeline:\n",
    "- Advanced features for gradient boosting built on selected features (using step 2) \n",
    "- 2 different models:\n",
    "    * LightGBM with params tuning (using OptunaTuner)\n",
    "    * LightGBM with heuristic params\n"
   ]
  },
  {
   "cell_type": "code",
   "execution_count": 12,
   "metadata": {},
   "outputs": [
    {
     "name": "stdout",
     "output_type": "stream",
     "text": [
      "CPU times: user 1.22 ms, sys: 55 µs, total: 1.28 ms\n",
      "Wall time: 1.28 ms\n"
     ]
    }
   ],
   "source": [
    "%%time \n",
    "\n",
    "feats_gbm_0 = LGBAdvancedPipeline(top_intersections=4, \n",
    "                                  output_categories=True, \n",
    "                                  feats_imp=imp_sel_0)\n",
    "timer_gbm_0 = timer.get_task_timer('gbm')\n",
    "timer_gbm_1 = timer.get_task_timer('gbm')\n",
    "\n",
    "gbm_0 = BoostLGBM(timer=timer_gbm_0)\n",
    "gbm_1 = BoostLGBM(timer=timer_gbm_1)\n",
    "\n",
    "tuner_0 = OptunaTuner(n_trials=20, timeout=30, fit_on_holdout=True)\n",
    "gbm_lvl0 = MLPipeline([\n",
    "        (gbm_0, tuner_0),\n",
    "        gbm_1\n",
    "    ],\n",
    "    pre_selection=selector_0,\n",
    "    features_pipeline=feats_gbm_0, \n",
    "    post_selection=None\n",
    ")"
   ]
  },
  {
   "cell_type": "markdown",
   "metadata": {},
   "source": [
    "### Create linear pipeline for AutoML "
   ]
  },
  {
   "cell_type": "markdown",
   "metadata": {},
   "source": [
    "Our linear pipeline:\n",
    "- Using features, special for linear models\n",
    "- LinearLBFGS as a model\n",
    "- Without feature selection here"
   ]
  },
  {
   "cell_type": "code",
   "execution_count": 13,
   "metadata": {},
   "outputs": [
    {
     "name": "stdout",
     "output_type": "stream",
     "text": [
      "CPU times: user 547 µs, sys: 318 µs, total: 865 µs\n",
      "Wall time: 868 µs\n"
     ]
    }
   ],
   "source": [
    "%%time\n",
    "\n",
    "feats_reg_0 = LinearFeatures(output_categories=True, \n",
    "                             sparse_ohe='auto')\n",
    "\n",
    "timer_reg = timer.get_task_timer('reg')\n",
    "reg_0 = LinearLBFGS(timer=timer_reg)\n",
    "\n",
    "reg_lvl0 = MLPipeline([\n",
    "        reg_0\n",
    "    ],\n",
    "    pre_selection=None,\n",
    "    features_pipeline=feats_reg_0, \n",
    "    post_selection=None\n",
    ")"
   ]
  },
  {
   "cell_type": "markdown",
   "metadata": {},
   "source": [
    "### Create multiclass task and reader"
   ]
  },
  {
   "cell_type": "code",
   "execution_count": 14,
   "metadata": {},
   "outputs": [
    {
     "name": "stdout",
     "output_type": "stream",
     "text": [
      "CPU times: user 4.99 ms, sys: 564 µs, total: 5.56 ms\n",
      "Wall time: 4.67 ms\n"
     ]
    }
   ],
   "source": [
    "%%time \n",
    "\n",
    "task = Task('multiclass', metric = 'crossentropy', ) \n",
    "reader = PandasToPandasReader(task = task, samples = None, max_nan_rate = 1, max_constant_rate = 1,\n",
    "                              advanced_roles = True, drop_score_co = -1, n_jobs = 4)"
   ]
  },
  {
   "cell_type": "markdown",
   "metadata": {},
   "source": [
    "### Create blender for 2nd level "
   ]
  },
  {
   "cell_type": "markdown",
   "metadata": {},
   "source": [
    "To combine predictions from different models into one vector we use WeightedBlender:"
   ]
  },
  {
   "cell_type": "code",
   "execution_count": 15,
   "metadata": {},
   "outputs": [
    {
     "name": "stdout",
     "output_type": "stream",
     "text": [
      "CPU times: user 103 µs, sys: 8 µs, total: 111 µs\n",
      "Wall time: 115 µs\n"
     ]
    }
   ],
   "source": [
    "%%time\n",
    "\n",
    "blender = WeightedBlender()"
   ]
  },
  {
   "cell_type": "markdown",
   "metadata": {},
   "source": [
    "### Create AutoML pipeline"
   ]
  },
  {
   "cell_type": "code",
   "execution_count": 16,
   "metadata": {},
   "outputs": [
    {
     "name": "stdout",
     "output_type": "stream",
     "text": [
      "CPU times: user 669 µs, sys: 0 ns, total: 669 µs\n",
      "Wall time: 673 µs\n"
     ]
    }
   ],
   "source": [
    "%%time\n",
    "\n",
    "automl = AutoML(reader=reader, levels=[\n",
    "    [gbm_lvl0, reg_lvl0]\n",
    "], timer=timer, blender=blender, skip_conn=False, verbose=0)"
   ]
  },
  {
   "cell_type": "markdown",
   "metadata": {},
   "source": [
    "### Train AutoML on loaded data "
   ]
  },
  {
   "cell_type": "markdown",
   "metadata": {},
   "source": [
    "In cell below we train AutoML with target column `TARGET` to receive fitted model and OOF predictions:"
   ]
  },
  {
   "cell_type": "code",
   "execution_count": 17,
   "metadata": {},
   "outputs": [
    {
     "name": "stdout",
     "output_type": "stream",
     "text": [
      "Train data shape: (8000, 125)\n",
      "Feats was rejected during automatic roles guess: []\n",
      "Start fitting LightGBM ...\n",
      "Training until validation scores don't improve for 100 rounds\n",
      "[100]\tvalid's multi_logloss: 0.833296\n",
      "Early stopping, best iteration is:\n",
      "[32]\tvalid's multi_logloss: 0.821232\n",
      "LightGBM fitting and predicting completed\n",
      "Optuna may run 162.65567008654276 secs\n"
     ]
    },
    {
     "name": "stderr",
     "output_type": "stream",
     "text": [
      "[2020-12-03 18:21:59,996] (INFO): A new study created in memory with name: no-name-ea8e74a6-5e87-4df3-8f06-af1ab1d4d340\n"
     ]
    },
    {
     "name": "stdout",
     "output_type": "stream",
     "text": [
      "Start fitting Lvl_0_Pipe_0_Mod_0_LightGBM ...\n",
      "Training until validation scores don't improve for 100 rounds\n",
      "[100]\tvalid's multi_logloss: 0.82247\n",
      "Early stopping, best iteration is:\n",
      "[55]\tvalid's multi_logloss: 0.816465\n",
      "Lvl_0_Pipe_0_Mod_0_LightGBM fitting and predicting completed\n"
     ]
    },
    {
     "name": "stderr",
     "output_type": "stream",
     "text": [
      "[2020-12-03 18:22:03,949] (INFO): Trial 0 finished with value: -0.8164646521955728 and parameters: {'feature_fraction': 0.6872700594236812, 'num_leaves': 108}. Best is trial 0 with value: -0.8164646521955728.\n"
     ]
    },
    {
     "name": "stdout",
     "output_type": "stream",
     "text": [
      "Start fitting Lvl_0_Pipe_0_Mod_0_LightGBM ...\n",
      "Training until validation scores don't improve for 100 rounds\n",
      "[100]\tvalid's multi_logloss: 0.821377\n",
      "Early stopping, best iteration is:\n",
      "[52]\tvalid's multi_logloss: 0.815787\n",
      "Lvl_0_Pipe_0_Mod_0_LightGBM fitting and predicting completed\n"
     ]
    },
    {
     "name": "stderr",
     "output_type": "stream",
     "text": [
      "[2020-12-03 18:22:07,092] (INFO): Trial 1 finished with value: -0.8157873297296464 and parameters: {'feature_fraction': 0.5917173949330818, 'num_leaves': 87}. Best is trial 1 with value: -0.8157873297296464.\n"
     ]
    },
    {
     "name": "stdout",
     "output_type": "stream",
     "text": [
      "Start fitting Lvl_0_Pipe_0_Mod_0_LightGBM ...\n",
      "Training until validation scores don't improve for 100 rounds\n",
      "[100]\tvalid's multi_logloss: 0.821295\n",
      "Early stopping, best iteration is:\n",
      "[58]\tvalid's multi_logloss: 0.817748\n",
      "Lvl_0_Pipe_0_Mod_0_LightGBM fitting and predicting completed\n"
     ]
    },
    {
     "name": "stderr",
     "output_type": "stream",
     "text": [
      "[2020-12-03 18:22:11,433] (INFO): Trial 2 finished with value: -0.8177480276487767 and parameters: {'feature_fraction': 0.7993292420985183, 'num_leaves': 118}. Best is trial 1 with value: -0.8157873297296464.\n"
     ]
    },
    {
     "name": "stdout",
     "output_type": "stream",
     "text": [
      "Start fitting Lvl_0_Pipe_0_Mod_0_LightGBM ...\n",
      "Training until validation scores don't improve for 100 rounds\n",
      "[100]\tvalid's multi_logloss: 0.827363\n",
      "Early stopping, best iteration is:\n",
      "[34]\tvalid's multi_logloss: 0.818935\n",
      "Lvl_0_Pipe_0_Mod_0_LightGBM fitting and predicting completed\n"
     ]
    },
    {
     "name": "stderr",
     "output_type": "stream",
     "text": [
      "[2020-12-03 18:22:15,037] (INFO): Trial 3 finished with value: -0.8189346228726209 and parameters: {'feature_fraction': 0.7229163764267956, 'num_leaves': 230}. Best is trial 1 with value: -0.8157873297296464.\n"
     ]
    },
    {
     "name": "stdout",
     "output_type": "stream",
     "text": [
      "Start fitting Lvl_0_Pipe_0_Mod_0_LightGBM ...\n",
      "Training until validation scores don't improve for 100 rounds\n",
      "[100]\tvalid's multi_logloss: 0.828237\n",
      "Early stopping, best iteration is:\n",
      "[35]\tvalid's multi_logloss: 0.821483\n",
      "Lvl_0_Pipe_0_Mod_0_LightGBM fitting and predicting completed\n"
     ]
    },
    {
     "name": "stderr",
     "output_type": "stream",
     "text": [
      "[2020-12-03 18:22:17,720] (INFO): Trial 4 finished with value: -0.8214827415719629 and parameters: {'feature_fraction': 0.5290418060840998, 'num_leaves': 103}. Best is trial 1 with value: -0.8157873297296464.\n"
     ]
    },
    {
     "name": "stdout",
     "output_type": "stream",
     "text": [
      "Start fitting Lvl_0_Pipe_0_Mod_0_LightGBM ...\n",
      "Training until validation scores don't improve for 100 rounds\n",
      "[100]\tvalid's multi_logloss: 0.82015\n",
      "Early stopping, best iteration is:\n",
      "[52]\tvalid's multi_logloss: 0.816617\n",
      "Lvl_0_Pipe_0_Mod_0_LightGBM fitting and predicting completed\n"
     ]
    },
    {
     "name": "stderr",
     "output_type": "stream",
     "text": [
      "[2020-12-03 18:22:21,342] (INFO): Trial 5 finished with value: -0.8166165582090616 and parameters: {'feature_fraction': 0.6668543055695109, 'num_leaves': 119}. Best is trial 1 with value: -0.8157873297296464.\n"
     ]
    },
    {
     "name": "stdout",
     "output_type": "stream",
     "text": [
      "Start fitting Lvl_0_Pipe_0_Mod_0_LightGBM ...\n",
      "Training until validation scores don't improve for 100 rounds\n",
      "[100]\tvalid's multi_logloss: 0.826314\n",
      "Early stopping, best iteration is:\n",
      "[53]\tvalid's multi_logloss: 0.820109\n",
      "Lvl_0_Pipe_0_Mod_0_LightGBM fitting and predicting completed\n"
     ]
    },
    {
     "name": "stderr",
     "output_type": "stream",
     "text": [
      "[2020-12-03 18:22:25,734] (INFO): Trial 6 finished with value: -0.8201091270335019 and parameters: {'feature_fraction': 0.8540362888980227, 'num_leaves': 165}. Best is trial 1 with value: -0.8157873297296464.\n"
     ]
    },
    {
     "name": "stdout",
     "output_type": "stream",
     "text": [
      "Start fitting Lvl_0_Pipe_0_Mod_0_LightGBM ...\n",
      "Training until validation scores don't improve for 100 rounds\n",
      "[100]\tvalid's multi_logloss: 0.828237\n",
      "Early stopping, best iteration is:\n",
      "[35]\tvalid's multi_logloss: 0.821483\n",
      "Lvl_0_Pipe_0_Mod_0_LightGBM fitting and predicting completed\n"
     ]
    },
    {
     "name": "stderr",
     "output_type": "stream",
     "text": [
      "[2020-12-03 18:22:28,440] (INFO): Trial 7 finished with value: -0.8214827415719629 and parameters: {'feature_fraction': 0.5282057895135501, 'num_leaves': 103}. Best is trial 1 with value: -0.8157873297296464.\n"
     ]
    },
    {
     "name": "stdout",
     "output_type": "stream",
     "text": [
      "Start fitting Lvl_0_Pipe_0_Mod_0_LightGBM ...\n",
      "Training until validation scores don't improve for 100 rounds\n",
      "[100]\tvalid's multi_logloss: 0.820305\n",
      "Early stopping, best iteration is:\n",
      "[57]\tvalid's multi_logloss: 0.817443\n",
      "Lvl_0_Pipe_0_Mod_0_LightGBM fitting and predicting completed\n"
     ]
    },
    {
     "name": "stderr",
     "output_type": "stream",
     "text": [
      "[2020-12-03 18:22:31,506] (INFO): Trial 8 finished with value: -0.8174432761780918 and parameters: {'feature_fraction': 0.9162213204002109, 'num_leaves': 53}. Best is trial 1 with value: -0.8157873297296464.\n"
     ]
    },
    {
     "name": "stdout",
     "output_type": "stream",
     "text": [
      "Start fitting Lvl_0_Pipe_0_Mod_0_LightGBM ...\n",
      "Training until validation scores don't improve for 100 rounds\n",
      "[100]\tvalid's multi_logloss: 0.821377\n",
      "Early stopping, best iteration is:\n",
      "[52]\tvalid's multi_logloss: 0.815787\n",
      "Training until validation scores don't improve for 100 rounds\n",
      "[100]\tvalid's multi_logloss: 0.836264\n",
      "Early stopping, best iteration is:\n",
      "[47]\tvalid's multi_logloss: 0.825268\n",
      "Training until validation scores don't improve for 100 rounds\n",
      "[100]\tvalid's multi_logloss: 0.833029\n",
      "Early stopping, best iteration is:\n",
      "[28]\tvalid's multi_logloss: 0.821758\n",
      "Training until validation scores don't improve for 100 rounds\n",
      "[100]\tvalid's multi_logloss: 0.841979\n",
      "Early stopping, best iteration is:\n",
      "[33]\tvalid's multi_logloss: 0.829801\n",
      "Training until validation scores don't improve for 100 rounds\n",
      "[100]\tvalid's multi_logloss: 0.837374\n",
      "Early stopping, best iteration is:\n",
      "[20]\tvalid's multi_logloss: 0.827673\n",
      "Lvl_0_Pipe_0_Mod_0_LightGBM fitting and predicting completed\n",
      "Start fitting Lvl_0_Pipe_0_Mod_1_LightGBM ...\n",
      "Training until validation scores don't improve for 100 rounds\n",
      "[100]\tvalid's multi_logloss: 0.821908\n",
      "Early stopping, best iteration is:\n",
      "[38]\tvalid's multi_logloss: 0.817559\n",
      "Training until validation scores don't improve for 100 rounds\n",
      "[100]\tvalid's multi_logloss: 0.83079\n",
      "Early stopping, best iteration is:\n",
      "[27]\tvalid's multi_logloss: 0.822739\n",
      "Training until validation scores don't improve for 100 rounds\n",
      "[100]\tvalid's multi_logloss: 0.842406\n",
      "Early stopping, best iteration is:\n",
      "[26]\tvalid's multi_logloss: 0.827879\n",
      "Training until validation scores don't improve for 100 rounds\n",
      "[100]\tvalid's multi_logloss: 0.843036\n",
      "Early stopping, best iteration is:\n",
      "[20]\tvalid's multi_logloss: 0.830333\n",
      "Training until validation scores don't improve for 100 rounds\n",
      "[100]\tvalid's multi_logloss: 0.840233\n",
      "Early stopping, best iteration is:\n",
      "[40]\tvalid's multi_logloss: 0.828553\n",
      "Lvl_0_Pipe_0_Mod_1_LightGBM fitting and predicting completed\n",
      "Start fitting Lvl_0_Pipe_1_Mod_0_LinearL2 ...\n",
      "Linear model: C = 1e-05 score = -0.8308231846988201\n",
      "Linear model: C = 5e-05 score = -0.8276348768547177\n",
      "Linear model: C = 0.0001 score = -0.8258265248686075\n",
      "Linear model: C = 0.0005 score = -0.8216949952952564\n",
      "Linear model: C = 0.001 score = -0.8206104582641274\n",
      "Linear model: C = 0.005 score = -0.8231395746115595\n",
      "Linear model: C = 0.01 score = -0.826788056762889\n",
      "Linear model: C = 1e-05 score = -0.8307226402312518\n",
      "Linear model: C = 5e-05 score = -0.8267430257797241\n",
      "Linear model: C = 0.0001 score = -0.8241591583378614\n",
      "Linear model: C = 0.0005 score = -0.8181076484546065\n",
      "Linear model: C = 0.001 score = -0.81635100543499\n",
      "Linear model: C = 0.005 score = -0.8189355563558638\n",
      "Linear model: C = 0.01 score = -0.8231767579820007\n",
      "Linear model: C = 1e-05 score = -0.831210291609168\n",
      "Linear model: C = 5e-05 score = -0.8281920525059104\n",
      "Linear model: C = 0.0001 score = -0.8263882532715797\n",
      "Linear model: C = 0.0005 score = -0.8231421791389585\n",
      "Linear model: C = 0.001 score = -0.8232416659034789\n",
      "Linear model: C = 0.005 score = -0.8285768238827587\n",
      "Linear model: C = 1e-05 score = -0.8314077190682292\n",
      "Linear model: C = 5e-05 score = -0.830787598863244\n",
      "Linear model: C = 0.0001 score = -0.8304583014547825\n",
      "Linear model: C = 0.0005 score = -0.8315529899485409\n",
      "Linear model: C = 0.001 score = -0.8339285310730338\n",
      "Linear model: C = 1e-05 score = -0.8327558751404286\n",
      "Linear model: C = 5e-05 score = -0.830689007267356\n",
      "Linear model: C = 0.0001 score = -0.8289661195129157\n",
      "Linear model: C = 0.0005 score = -0.8247910375520587\n",
      "Linear model: C = 0.001 score = -0.8242520638741553\n",
      "Linear model: C = 0.005 score = -0.8288196013122797\n",
      "Linear model: C = 0.01 score = -0.8335911117307842\n",
      "Lvl_0_Pipe_1_Mod_0_LinearL2 fitting and predicting completed\n",
      "Blending: Optimization starts with equal weights and score -0.8203971024602652\n",
      "Blending, iter 0: score = -0.8199507877752185, weights = [0.33858147 0.15196058 0.509458  ]\n",
      "Blending, iter 1: score = -0.8199498126916588, weights = [0.34847638 0.14131777 0.5102058 ]\n",
      "Blending, iter 2: score = -0.819949769616127, weights = [0.34994605 0.13887359 0.5111804 ]\n",
      "Blending, iter 3: score = -0.8199497696943581, weights = [0.3508284  0.13868508 0.51048654]\n",
      "Blending, iter 4: score = -0.8199497710429132, weights = [0.35082024 0.13868682 0.510493  ]\n"
     ]
    },
    {
     "name": "stderr",
     "output_type": "stream",
     "text": [
      "[2020-12-03 18:23:07,770] (INFO): oof_pred:\n",
      "array([[0.47555572, 0.02303292, 0.5014114 ],\n",
      "       [0.41740537, 0.04869818, 0.53389657],\n",
      "       [0.43521076, 0.03908963, 0.5256996 ],\n",
      "       ...,\n",
      "       [0.42236817, 0.01946547, 0.5581664 ],\n",
      "       [0.4997952 , 0.01693011, 0.48327476],\n",
      "       [0.38136816, 0.02851641, 0.5901155 ]], dtype=float32)\n",
      "Shape = (8000, 3)\n"
     ]
    },
    {
     "name": "stdout",
     "output_type": "stream",
     "text": [
      "CPU times: user 4min 50s, sys: 3.19 s, total: 4min 54s\n",
      "Wall time: 1min 17s\n"
     ]
    }
   ],
   "source": [
    "%%time\n",
    "\n",
    "oof_pred = automl.fit_predict(train_data, roles={'target': TARGET_NAME})\n",
    "logging.info('oof_pred:\\n{}\\nShape = {}'.format(oof_pred, oof_pred.shape))"
   ]
  },
  {
   "cell_type": "markdown",
   "metadata": {},
   "source": [
    "### Predict to test data and check scores"
   ]
  },
  {
   "cell_type": "code",
   "execution_count": 18,
   "metadata": {},
   "outputs": [
    {
     "name": "stderr",
     "output_type": "stream",
     "text": [
      "[2020-12-03 18:23:08,475] (INFO): Check scores...\n",
      "[2020-12-03 18:23:08,479] (INFO): OOF score: 0.8199497586041689\n",
      "[2020-12-03 18:23:08,480] (INFO): TEST score: 0.8231789521276951\n"
     ]
    },
    {
     "name": "stdout",
     "output_type": "stream",
     "text": [
      "CPU times: user 1.03 s, sys: 65 ms, total: 1.1 s\n",
      "Wall time: 703 ms\n"
     ]
    }
   ],
   "source": [
    "%%time\n",
    "\n",
    "test_pred = automl.predict(test_data)\n",
    "logging.debug('Prediction for test data:\\n{}\\nShape = {}'\n",
    "              .format(test_pred, test_pred.shape))\n",
    "\n",
    "logging.info('Check scores...')\n",
    "logging.info('OOF score: {}'.format(log_loss(train_data[TARGET_NAME].values, oof_pred.data)))\n",
    "logging.info('TEST score: {}'.format(log_loss(test_data[TARGET_NAME].values, test_pred.data)))"
   ]
  },
  {
   "cell_type": "markdown",
   "metadata": {},
   "source": [
    "### Check AUCs for each class in train and test data "
   ]
  },
  {
   "cell_type": "code",
   "execution_count": 19,
   "metadata": {},
   "outputs": [
    {
     "name": "stderr",
     "output_type": "stream",
     "text": [
      "[2020-12-03 18:23:08,491] (INFO): Class 0 train auc score: 0.5539662631462542\n",
      "[2020-12-03 18:23:08,495] (INFO): Class 1 train auc score: 0.7196008226136308\n",
      "[2020-12-03 18:23:08,499] (INFO): Class 2 train auc score: 0.5439895115607825\n",
      "[2020-12-03 18:23:08,501] (INFO): Class 0 test auc score: 0.5426527076899903\n",
      "[2020-12-03 18:23:08,503] (INFO): Class 1 test auc score: 0.7214388020833333\n",
      "[2020-12-03 18:23:08,506] (INFO): Class 2 test auc score: 0.5266755019879473\n"
     ]
    }
   ],
   "source": [
    "for dat, df, name in zip([oof_pred, test_pred], [train_data, test_data], ['train', 'test']):\n",
    "    logging.debug('Check aucs {0}...'.format(name))\n",
    "    for cl in range(3):\n",
    "        sc = roc_auc_score((df[TARGET_NAME].values == cl).astype(np.float32), dat.data[:, cl])\n",
    "        logging.info('Class {0} {1} auc score: {2}'.format(cl, name, sc))"
   ]
  },
  {
   "cell_type": "markdown",
   "metadata": {},
   "source": [
    "### Profiling AutoML "
   ]
  },
  {
   "cell_type": "markdown",
   "metadata": {},
   "source": [
    "To build report here, we must turn on decorators on step 0.4. Report is interactive and you can go as deep into functions call stack as you want:"
   ]
  },
  {
   "cell_type": "code",
   "execution_count": 20,
   "metadata": {},
   "outputs": [
    {
     "name": "stdout",
     "output_type": "stream",
     "text": [
      "CPU times: user 1.48 s, sys: 24 ms, total: 1.5 s\n",
      "Wall time: 1.5 s\n"
     ]
    }
   ],
   "source": [
    "%%time\n",
    "p.profile('my_report_profile.html')\n",
    "assert os.path.exists('my_report_profile.html'), 'Profile report failed to build'"
   ]
  },
  {
   "cell_type": "markdown",
   "metadata": {},
   "source": [
    "## Profiling report screenshots "
   ]
  },
  {
   "cell_type": "markdown",
   "metadata": {},
   "source": [
    "After loading HTML with profiling report, you can see fully folded report (please wait for green LOAD OK text for full load finish). If you click on triangle on the left, it unfolds and look like this:  \n",
    "\n",
    "<img src=\"imgs/tutorial_3_initial_report.png\" alt=\"Initial profiling report\" style=\"width: 500px;\"/>\n",
    "\n",
    "If we go even deeper we will receive situation like this:\n",
    "\n",
    "<img src=\"imgs/tutorial_3_unfolded_report.png\" alt=\"Profiling report after several unfoldings on different levels\" style=\"width: 500px;\"/>\n"
   ]
  }
 ],
 "metadata": {
  "kernelspec": {
   "display_name": "venv-lama-pasha",
   "language": "python",
   "name": "venv-lama-pasha"
  },
  "language_info": {
   "codemirror_mode": {
    "name": "ipython",
    "version": 3
   },
   "file_extension": ".py",
   "mimetype": "text/x-python",
   "name": "python",
   "nbconvert_exporter": "python",
   "pygments_lexer": "ipython3",
   "version": "3.6.9"
  }
 },
 "nbformat": 4,
 "nbformat_minor": 4
}
