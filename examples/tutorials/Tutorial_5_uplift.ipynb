{
 "cells": [
  {
   "cell_type": "markdown",
   "metadata": {},
   "source": [
    "# Tutorial 5: Uplift modeling"
   ]
  },
  {
   "cell_type": "code",
   "execution_count": 1,
   "metadata": {},
   "outputs": [],
   "source": [
    "%load_ext autoreload\n",
    "%autoreload 2"
   ]
  },
  {
   "cell_type": "markdown",
   "metadata": {},
   "source": [
    "## Install LightAutoML"
   ]
  },
  {
   "cell_type": "markdown",
   "metadata": {},
   "source": [
    "Uncomment if doesn't clone repository by git. (ex.: colab, kaggle version)"
   ]
  },
  {
   "cell_type": "code",
   "execution_count": 2,
   "metadata": {},
   "outputs": [],
   "source": [
    "#! pip install -U lightautoml"
   ]
  },
  {
   "cell_type": "markdown",
   "metadata": {},
   "source": [
    "## Import necessary libraries"
   ]
  },
  {
   "cell_type": "code",
   "execution_count": 3,
   "metadata": {},
   "outputs": [
    {
     "name": "stderr",
     "output_type": "stream",
     "text": [
      "/home/sasha/workspace/sber_ai_lab/LightAutoML/.venv/lib/python3.7/site-packages/tqdm/auto.py:22: TqdmWarning: IProgress not found. Please update jupyter and ipywidgets. See https://ipywidgets.readthedocs.io/en/stable/user_install.html\n",
      "  from .autonotebook import tqdm as notebook_tqdm\n"
     ]
    }
   ],
   "source": [
    "# Standard python libraries\n",
    "from copy import deepcopy\n",
    "import os\n",
    "import requests\n",
    "\n",
    "# Installed libraries\n",
    "import numpy as np\n",
    "import pandas as pd\n",
    "import matplotlib.pyplot as plt\n",
    "from sklearn.metrics import roc_auc_score\n",
    "from sklearn.model_selection import train_test_split\n",
    "import torch\n",
    "\n",
    "# Imports from our package\n",
    "from lightautoml.automl.presets.tabular_presets import TabularAutoML\n",
    "from lightautoml.dataset.roles import DatetimeRole\n",
    "from lightautoml.tasks import Task\n",
    "\n",
    "from lightautoml.addons.uplift.base import AutoUplift, BaseLearnerWrapper, MetaLearnerWrapper\n",
    "from lightautoml.addons.uplift import metalearners\n",
    "from lightautoml.addons.uplift.metrics import (_available_uplift_modes,\n",
    "                                               TUpliftMetric,\n",
    "                                               calculate_graphic_uplift_curve,\n",
    "                                               calculate_min_max_uplift_auc,\n",
    "                                               calculate_uplift_at_top,\n",
    "                                               calculate_uplift_auc,\n",
    "                                               perfect_uplift_curve)\n",
    "from lightautoml.addons.uplift.utils import create_linear_automl\n",
    "from lightautoml.report.report_deco import ReportDecoUplift\n",
    "\n",
    "\n",
    "%matplotlib inline"
   ]
  },
  {
   "cell_type": "markdown",
   "metadata": {},
   "source": [
    "## Parameters"
   ]
  },
  {
   "cell_type": "markdown",
   "metadata": {},
   "source": [
    "### Setting"
   ]
  },
  {
   "cell_type": "code",
   "execution_count": 4,
   "metadata": {},
   "outputs": [],
   "source": [
    "N_THREADS = 8 # threads cnt for lgbm and linear models\n",
    "N_FOLDS = 5 # folds cnt for AutoML\n",
    "RANDOM_STATE = 42 # fixed random state for various reasons\n",
    "TEST_SIZE = 0.2 # Test size for metric check\n",
    "TIMEOUT = 300 # Time in seconds for automl run\n",
    "TARGET_NAME = 'TARGET' # Target column name\n",
    "TREATMENT_NAME = 'CODE_GENDER'"
   ]
  },
  {
   "cell_type": "markdown",
   "metadata": {},
   "source": [
    "### Fix torch number of threads and numpy seed"
   ]
  },
  {
   "cell_type": "code",
   "execution_count": 5,
   "metadata": {},
   "outputs": [],
   "source": [
    "np.random.seed(RANDOM_STATE)\n",
    "torch.set_num_threads(N_THREADS)"
   ]
  },
  {
   "cell_type": "markdown",
   "metadata": {},
   "source": [
    "## Example data load"
   ]
  },
  {
   "cell_type": "markdown",
   "metadata": {},
   "source": [
    "Load a dataset from the repository if doesn't clone repository by git."
   ]
  },
  {
   "cell_type": "code",
   "execution_count": 6,
   "metadata": {},
   "outputs": [],
   "source": [
    "DATASET_DIR = '../data/'\n",
    "DATASET_NAME = 'sampled_app_train.csv'\n",
    "DATASET_FULLNAME = os.path.join(DATASET_DIR, DATASET_NAME)\n",
    "DATASET_URL = 'https://raw.githubusercontent.com/sberbank-ai-lab/LightAutoML/master/example_data/test_data_files/sampled_app_train.csv'"
   ]
  },
  {
   "cell_type": "code",
   "execution_count": 7,
   "metadata": {},
   "outputs": [
    {
     "name": "stdout",
     "output_type": "stream",
     "text": [
      "CPU times: user 133 µs, sys: 0 ns, total: 133 µs\n",
      "Wall time: 120 µs\n"
     ]
    }
   ],
   "source": [
    "%%time\n",
    "\n",
    "if not os.path.exists(DATASET_FULLNAME):\n",
    "    os.makedirs(DATASET_DIR, exist_ok=True)\n",
    "\n",
    "    dataset = requests.get(DATASET_URL).text\n",
    "    with open(DATASET_FULLNAME, 'w') as output:\n",
    "        output.write(dataset)"
   ]
  },
  {
   "cell_type": "code",
   "execution_count": 8,
   "metadata": {},
   "outputs": [
    {
     "name": "stdout",
     "output_type": "stream",
     "text": [
      "CPU times: user 85.5 ms, sys: 20.7 ms, total: 106 ms\n",
      "Wall time: 106 ms\n"
     ]
    }
   ],
   "source": [
    "%%time\n",
    "\n",
    "data = pd.read_csv(DATASET_FULLNAME)\n",
    "data.head()"
   ]
  },
  {
   "cell_type": "markdown",
   "metadata": {},
   "source": [
    "## (Optional) Some user feature preparation"
   ]
  },
  {
   "cell_type": "code",
   "execution_count": 9,
   "metadata": {},
   "outputs": [
    {
     "name": "stdout",
     "output_type": "stream",
     "text": [
      "CPU times: user 93 ms, sys: 2.98 ms, total: 96 ms\n",
      "Wall time: 94.8 ms\n"
     ]
    }
   ],
   "source": [
    "%%time \n",
    "\n",
    "data['BIRTH_DATE'] = (np.datetime64('2018-01-01') + data['DAYS_BIRTH'].astype(np.dtype('timedelta64[D]'))).astype(str)\n",
    "data['EMP_DATE'] = (np.datetime64('2018-01-01') + np.clip(data['DAYS_EMPLOYED'], None, 0).astype(np.dtype('timedelta64[D]'))\n",
    "                    ).astype(str)\n",
    "data['report_dt'] = np.datetime64('2018-01-01')\n",
    "data['constant'] = 1\n",
    "data['allnan'] = np.nan\n",
    "data.drop(['DAYS_BIRTH', 'DAYS_EMPLOYED'], axis=1, inplace=True)\n",
    "data['CODE_GENDER'] = (data['CODE_GENDER'] == 'M').astype(int)"
   ]
  },
  {
   "cell_type": "markdown",
   "metadata": {},
   "source": [
    "## Data splitting for train-test"
   ]
  },
  {
   "cell_type": "code",
   "execution_count": 10,
   "metadata": {},
   "outputs": [
    {
     "name": "stdout",
     "output_type": "stream",
     "text": [
      "CPU times: user 8.27 ms, sys: 4.11 ms, total: 12.4 ms\n",
      "Wall time: 11.2 ms\n"
     ]
    }
   ],
   "source": [
    "%%time\n",
    "\n",
    "\n",
    "stratify_value = data[TARGET_NAME] + 10 * data[TREATMENT_NAME]\n",
    "train, test = train_test_split(data, test_size=3000, stratify=stratify_value, random_state=42)\n",
    "test_target, test_treatment = test[TARGET_NAME].values.ravel(), test[TREATMENT_NAME].values.ravel()"
   ]
  },
  {
   "cell_type": "markdown",
   "metadata": {},
   "source": [
    "## Setup columns roles"
   ]
  },
  {
   "cell_type": "code",
   "execution_count": 11,
   "metadata": {},
   "outputs": [
    {
     "name": "stdout",
     "output_type": "stream",
     "text": [
      "CPU times: user 23 µs, sys: 10 µs, total: 33 µs\n",
      "Wall time: 40.8 µs\n"
     ]
    }
   ],
   "source": [
    "%%time\n",
    "\n",
    "roles = {\n",
    "    'target': TARGET_NAME,\n",
    "    'treatment': TREATMENT_NAME,\n",
    "    DatetimeRole(base_date=True, seasonality=(), base_feats=False): 'report_dt'\n",
    "}"
   ]
  },
  {
   "cell_type": "markdown",
   "metadata": {},
   "source": [
    "## AutoUplift (use predefined uplift methods)"
   ]
  },
  {
   "cell_type": "markdown",
   "metadata": {},
   "source": [
    "### Fit autouplift"
   ]
  },
  {
   "cell_type": "code",
   "execution_count": 12,
   "metadata": {
    "scrolled": true
   },
   "outputs": [
    {
     "name": "stdout",
     "output_type": "stream",
     "text": [
      "[15:25:36] \u001b[1mTrain data shape: (1912, 124)\u001b[0m\n",
      "\n"
     ]
    },
    {
     "name": "stderr",
     "output_type": "stream",
     "text": [
      "/home/sasha/workspace/sber_ai_lab/LightAutoML/.venv/lib/python3.7/site-packages/pandas/core/frame.py:4174: SettingWithCopyWarning: \n",
      "A value is trying to be set on a copy of a slice from a DataFrame\n",
      "\n",
      "See the caveats in the documentation: https://pandas.pydata.org/pandas-docs/stable/user_guide/indexing.html#returning-a-view-versus-a-copy\n",
      "  errors=errors,\n"
     ]
    },
    {
     "name": "stdout",
     "output_type": "stream",
     "text": [
      "[15:25:37] Layer \u001b[1m1\u001b[0m train process start. Time left 9999999998.91 secs\n",
      "[15:25:37] Start fitting \u001b[1mLvl_0_Pipe_0_Mod_0_LinearL2\u001b[0m ...\n",
      "[15:25:39] Fitting \u001b[1mLvl_0_Pipe_0_Mod_0_LinearL2\u001b[0m finished. score = \u001b[1m0.7125691699604744\u001b[0m\n",
      "[15:25:39] \u001b[1mLvl_0_Pipe_0_Mod_0_LinearL2\u001b[0m fitting and predicting completed\n",
      "[15:25:39] Time left 9999999996.36 secs\n",
      "\n",
      "[15:25:39] \u001b[1mLayer 1 training completed.\u001b[0m\n",
      "\n",
      "[15:25:39] \u001b[1mTrain data shape: (3688, 124)\u001b[0m\n",
      "\n",
      "[15:25:41] Layer \u001b[1m1\u001b[0m train process start. Time left 9999999998.68 secs\n",
      "[15:25:41] Start fitting \u001b[1mLvl_0_Pipe_0_Mod_0_LinearL2\u001b[0m ...\n",
      "[15:25:44] Fitting \u001b[1mLvl_0_Pipe_0_Mod_0_LinearL2\u001b[0m finished. score = \u001b[1m0.7316746701373305\u001b[0m\n",
      "[15:25:44] \u001b[1mLvl_0_Pipe_0_Mod_0_LinearL2\u001b[0m fitting and predicting completed\n",
      "[15:25:44] Time left 9999999995.56 secs\n",
      "\n",
      "[15:25:44] \u001b[1mLayer 1 training completed.\u001b[0m\n",
      "\n",
      "[15:25:44] Uplift candidate #0 [__TLearner__Default__] is fitted\n",
      "[15:25:44] \u001b[1mTrain data shape: (5600, 124)\u001b[0m\n",
      "\n",
      "[15:25:45] Layer \u001b[1m1\u001b[0m train process start. Time left 9999999998.58 secs\n",
      "[15:25:46] Start fitting \u001b[1mLvl_0_Pipe_0_Mod_0_LinearL2\u001b[0m ...\n",
      "[15:25:53] Fitting \u001b[1mLvl_0_Pipe_0_Mod_0_LinearL2\u001b[0m finished. score = \u001b[1m0.8668879164813621\u001b[0m\n",
      "[15:25:53] \u001b[1mLvl_0_Pipe_0_Mod_0_LinearL2\u001b[0m fitting and predicting completed\n",
      "[15:25:53] Time left 9999999991.50 secs\n",
      "\n",
      "[15:25:53] \u001b[1mLayer 1 training completed.\u001b[0m\n",
      "\n",
      "[15:25:53] \u001b[1mTrain data shape: (3688, 124)\u001b[0m\n",
      "\n",
      "[15:25:54] Layer \u001b[1m1\u001b[0m train process start. Time left 9999999998.57 secs\n",
      "[15:25:55] Start fitting \u001b[1mLvl_0_Pipe_0_Mod_0_LinearL2\u001b[0m ...\n",
      "[15:25:57] Fitting \u001b[1mLvl_0_Pipe_0_Mod_0_LinearL2\u001b[0m finished. score = \u001b[1m0.7316746701373305\u001b[0m\n",
      "[15:25:57] \u001b[1mLvl_0_Pipe_0_Mod_0_LinearL2\u001b[0m fitting and predicting completed\n",
      "[15:25:57] Time left 9999999995.36 secs\n",
      "\n",
      "[15:25:57] \u001b[1mLayer 1 training completed.\u001b[0m\n",
      "\n",
      "[15:25:57] \u001b[1mTrain data shape: (1912, 124)\u001b[0m\n",
      "\n",
      "[15:25:58] Layer \u001b[1m1\u001b[0m train process start. Time left 9999999998.99 secs\n",
      "[15:25:59] Start fitting \u001b[1mLvl_0_Pipe_0_Mod_0_LinearL2\u001b[0m ...\n",
      "[15:26:01] Fitting \u001b[1mLvl_0_Pipe_0_Mod_0_LinearL2\u001b[0m finished. score = \u001b[1m0.7125691699604744\u001b[0m\n",
      "[15:26:01] \u001b[1mLvl_0_Pipe_0_Mod_0_LinearL2\u001b[0m fitting and predicting completed\n",
      "[15:26:01] Time left 9999999996.43 secs\n",
      "\n",
      "[15:26:01] \u001b[1mLayer 1 training completed.\u001b[0m\n",
      "\n",
      "[15:26:01] \u001b[1mTrain data shape: (3688, 124)\u001b[0m\n",
      "\n",
      "[15:26:02] Layer \u001b[1m1\u001b[0m train process start. Time left 9999999998.77 secs\n",
      "[15:26:03] Start fitting \u001b[1mLvl_0_Pipe_0_Mod_0_LinearL2\u001b[0m ...\n",
      "[15:26:04] Fitting \u001b[1mLvl_0_Pipe_0_Mod_0_LinearL2\u001b[0m finished. score = \u001b[1m-0.0626836779315294\u001b[0m\n",
      "[15:26:04] \u001b[1mLvl_0_Pipe_0_Mod_0_LinearL2\u001b[0m fitting and predicting completed\n",
      "[15:26:04] Time left 9999999997.35 secs\n",
      "\n",
      "[15:26:04] \u001b[1mLayer 1 training completed.\u001b[0m\n",
      "\n",
      "[15:26:04] \u001b[1mTrain data shape: (1912, 124)\u001b[0m\n",
      "\n",
      "[15:26:05] Layer \u001b[1m1\u001b[0m train process start. Time left 9999999999.03 secs\n",
      "[15:26:05] Start fitting \u001b[1mLvl_0_Pipe_0_Mod_0_LinearL2\u001b[0m ...\n",
      "[15:26:06] Fitting \u001b[1mLvl_0_Pipe_0_Mod_0_LinearL2\u001b[0m finished. score = \u001b[1m-0.08284498685179426\u001b[0m\n",
      "[15:26:06] \u001b[1mLvl_0_Pipe_0_Mod_0_LinearL2\u001b[0m fitting and predicting completed\n",
      "[15:26:06] Time left 9999999998.00 secs\n",
      "\n",
      "[15:26:06] \u001b[1mLayer 1 training completed.\u001b[0m\n",
      "\n",
      "[15:26:06] Uplift candidate #1 [__XLearner__Default__] is fitted\n",
      "[15:26:07] Stdout logging level is INFO.\n",
      "[15:26:07] Copying TaskTimer may affect the parent PipelineTimer, so copy will create new unlimited TaskTimer\n",
      "[15:26:07] Task: binary\n",
      "\n",
      "[15:26:07] Start automl preset with listed constraints:\n",
      "[15:26:07] - time: 18.18 seconds\n",
      "[15:26:07] - CPU: 4 cores\n",
      "[15:26:07] - memory: 16 GB\n",
      "\n",
      "[15:26:07] \u001b[1mTrain data shape: (1912, 124)\u001b[0m\n",
      "\n"
     ]
    },
    {
     "name": "stderr",
     "output_type": "stream",
     "text": [
      "/home/sasha/workspace/sber_ai_lab/LightAutoML/.venv/lib/python3.7/site-packages/pandas/core/frame.py:4174: SettingWithCopyWarning: \n",
      "A value is trying to be set on a copy of a slice from a DataFrame\n",
      "\n",
      "See the caveats in the documentation: https://pandas.pydata.org/pandas-docs/stable/user_guide/indexing.html#returning-a-view-versus-a-copy\n",
      "  errors=errors,\n"
     ]
    },
    {
     "name": "stdout",
     "output_type": "stream",
     "text": [
      "[15:26:09] Layer \u001b[1m1\u001b[0m train process start. Time left 16.20 secs\n",
      "[15:26:09] Start fitting \u001b[1mLvl_0_Pipe_0_Mod_0_LinearL2\u001b[0m ...\n",
      "[15:26:10] Time limit exceeded after calculating fold 2\n",
      "\n",
      "[15:26:10] Fitting \u001b[1mLvl_0_Pipe_0_Mod_0_LinearL2\u001b[0m finished. score = \u001b[1m0.7126587148903424\u001b[0m\n",
      "[15:26:10] \u001b[1mLvl_0_Pipe_0_Mod_0_LinearL2\u001b[0m fitting and predicting completed\n",
      "[15:26:10] Time left 14.42 secs\n",
      "\n",
      "[15:26:11] \u001b[1mSelector_LightGBM\u001b[0m fitting and predicting completed\n",
      "[15:26:12] Start fitting \u001b[1mLvl_0_Pipe_1_Mod_0_LightGBM\u001b[0m ...\n",
      "[15:26:13] Time limit exceeded after calculating fold 1\n",
      "\n",
      "[15:26:13] Fitting \u001b[1mLvl_0_Pipe_1_Mod_0_LightGBM\u001b[0m finished. score = \u001b[1m0.7259725400457666\u001b[0m\n",
      "[15:26:13] \u001b[1mLvl_0_Pipe_1_Mod_0_LightGBM\u001b[0m fitting and predicting completed\n",
      "[15:26:13] Start hyperparameters optimization for \u001b[1mLvl_0_Pipe_1_Mod_1_Tuned_LightGBM\u001b[0m ... Time budget is 1.00 secs\n",
      "[15:26:14] Hyperparameters optimization for \u001b[1mLvl_0_Pipe_1_Mod_1_Tuned_LightGBM\u001b[0m completed\n",
      "[15:26:14] Start fitting \u001b[1mLvl_0_Pipe_1_Mod_2_CatBoost\u001b[0m ...\n",
      "[15:26:16] Fitting \u001b[1mLvl_0_Pipe_1_Mod_2_CatBoost\u001b[0m finished. score = \u001b[1m0.5995876927846238\u001b[0m\n",
      "[15:26:16] \u001b[1mLvl_0_Pipe_1_Mod_2_CatBoost\u001b[0m fitting and predicting completed\n",
      "[15:26:16] Start hyperparameters optimization for \u001b[1mLvl_0_Pipe_1_Mod_3_Tuned_CatBoost\u001b[0m ... Time budget is 1.53 secs\n",
      "[15:26:18] Hyperparameters optimization for \u001b[1mLvl_0_Pipe_1_Mod_3_Tuned_CatBoost\u001b[0m completed\n",
      "[15:26:18] Start fitting \u001b[1mLvl_0_Pipe_1_Mod_3_Tuned_CatBoost\u001b[0m ...\n",
      "[15:26:19] Fitting \u001b[1mLvl_0_Pipe_1_Mod_3_Tuned_CatBoost\u001b[0m finished. score = \u001b[1m0.6288181043168255\u001b[0m\n",
      "[15:26:19] \u001b[1mLvl_0_Pipe_1_Mod_3_Tuned_CatBoost\u001b[0m fitting and predicting completed\n",
      "[15:26:19] Time left 5.73 secs\n",
      "\n",
      "[15:26:19] Time limit exceeded in one of the tasks. AutoML will blend level 1 models.\n",
      "\n",
      "[15:26:19] \u001b[1mLayer 1 training completed.\u001b[0m\n",
      "\n",
      "[15:26:19] Blending: optimization starts with equal weights and score \u001b[1m0.6502673796791444\u001b[0m\n",
      "[15:26:19] Blending: iteration \u001b[1m0\u001b[0m: score = \u001b[1m0.660829264512129\u001b[0m, weights = \u001b[1m[0.5011039  0.05165764 0.2879565  0.159282  ]\u001b[0m\n",
      "[15:26:19] Blending: iteration \u001b[1m1\u001b[0m: score = \u001b[1m0.660829264512129\u001b[0m, weights = \u001b[1m[0.5011039  0.05165764 0.2879565  0.159282  ]\u001b[0m\n",
      "[15:26:19] Blending: no score update. Terminated\n",
      "\n",
      "[15:26:19] \u001b[1mAutoml preset training completed in 12.55 seconds\u001b[0m\n",
      "\n",
      "[15:26:19] Model description:\n",
      "Final prediction for new objects (level 0) = \n",
      "\t 0.50110 * (3 averaged models Lvl_0_Pipe_0_Mod_0_LinearL2) +\n",
      "\t 0.05166 * (2 averaged models Lvl_0_Pipe_1_Mod_0_LightGBM) +\n",
      "\t 0.28796 * (5 averaged models Lvl_0_Pipe_1_Mod_2_CatBoost) +\n",
      "\t 0.15928 * (5 averaged models Lvl_0_Pipe_1_Mod_3_Tuned_CatBoost) \n",
      "\n",
      "[15:26:19] Stdout logging level is INFO.\n",
      "[15:26:19] Task: binary\n",
      "\n",
      "[15:26:19] Start automl preset with listed constraints:\n",
      "[15:26:19] - time: 18.18 seconds\n",
      "[15:26:19] - CPU: 4 cores\n",
      "[15:26:19] - memory: 16 GB\n",
      "\n",
      "[15:26:19] \u001b[1mTrain data shape: (3688, 124)\u001b[0m\n",
      "\n",
      "[15:26:20] Layer \u001b[1m1\u001b[0m train process start. Time left 17.33 secs\n",
      "[15:26:21] Start fitting \u001b[1mLvl_0_Pipe_0_Mod_0_LinearL2\u001b[0m ...\n",
      "[15:26:22] Time limit exceeded after calculating fold 2\n",
      "\n",
      "[15:26:22] Fitting \u001b[1mLvl_0_Pipe_0_Mod_0_LinearL2\u001b[0m finished. score = \u001b[1m0.7287041190102416\u001b[0m\n",
      "[15:26:22] \u001b[1mLvl_0_Pipe_0_Mod_0_LinearL2\u001b[0m fitting and predicting completed\n",
      "[15:26:22] Time left 15.73 secs\n",
      "\n",
      "[15:26:23] \u001b[1mSelector_LightGBM\u001b[0m fitting and predicting completed\n",
      "[15:26:23] Start fitting \u001b[1mLvl_0_Pipe_1_Mod_0_LightGBM\u001b[0m ...\n",
      "[15:26:24] Time limit exceeded after calculating fold 0\n",
      "\n",
      "[15:26:24] Fitting \u001b[1mLvl_0_Pipe_1_Mod_0_LightGBM\u001b[0m finished. score = \u001b[1m0.7462155191747027\u001b[0m\n",
      "[15:26:24] \u001b[1mLvl_0_Pipe_1_Mod_0_LightGBM\u001b[0m fitting and predicting completed\n",
      "[15:26:24] Start fitting \u001b[1mLvl_0_Pipe_1_Mod_2_CatBoost\u001b[0m ...\n",
      "[15:26:27] Fitting \u001b[1mLvl_0_Pipe_1_Mod_2_CatBoost\u001b[0m finished. score = \u001b[1m0.7093921102234987\u001b[0m\n",
      "[15:26:27] \u001b[1mLvl_0_Pipe_1_Mod_2_CatBoost\u001b[0m fitting and predicting completed\n",
      "[15:26:27] Start hyperparameters optimization for \u001b[1mLvl_0_Pipe_1_Mod_3_Tuned_CatBoost\u001b[0m ... Time budget is 1.00 secs\n",
      "[15:26:29] Hyperparameters optimization for \u001b[1mLvl_0_Pipe_1_Mod_3_Tuned_CatBoost\u001b[0m completed\n",
      "[15:26:29] Start fitting \u001b[1mLvl_0_Pipe_1_Mod_3_Tuned_CatBoost\u001b[0m ...\n",
      "[15:26:32] Fitting \u001b[1mLvl_0_Pipe_1_Mod_3_Tuned_CatBoost\u001b[0m finished. score = \u001b[1m0.7377120545731982\u001b[0m\n",
      "[15:26:32] \u001b[1mLvl_0_Pipe_1_Mod_3_Tuned_CatBoost\u001b[0m fitting and predicting completed\n",
      "[15:26:32] Time left 5.57 secs\n",
      "\n",
      "[15:26:32] Time limit exceeded in one of the tasks. AutoML will blend level 1 models.\n",
      "\n",
      "[15:26:32] \u001b[1mLayer 1 training completed.\u001b[0m\n",
      "\n",
      "[15:26:32] Blending: optimization starts with equal weights and score \u001b[1m0.7411632708015438\u001b[0m\n",
      "[15:26:32] Blending: iteration \u001b[1m0\u001b[0m: score = \u001b[1m0.7447827843102056\u001b[0m, weights = \u001b[1m[0.3286365  0.23368078 0.06025664 0.3774261 ]\u001b[0m\n",
      "[15:26:32] Blending: iteration \u001b[1m1\u001b[0m: score = \u001b[1m0.7448568351135445\u001b[0m, weights = \u001b[1m[0.33733553 0.2752479  0.         0.38741657]\u001b[0m\n",
      "[15:26:32] Blending: iteration \u001b[1m2\u001b[0m: score = \u001b[1m0.7448164437662688\u001b[0m, weights = \u001b[1m[0.38562587 0.17149802 0.         0.44287616]\u001b[0m\n",
      "[15:26:32] Blending: iteration \u001b[1m3\u001b[0m: score = \u001b[1m0.7448164437662688\u001b[0m, weights = \u001b[1m[0.38562587 0.17149802 0.         0.44287616]\u001b[0m\n",
      "[15:26:32] Blending: no score update. Terminated\n",
      "\n",
      "[15:26:32] \u001b[1mAutoml preset training completed in 12.84 seconds\u001b[0m\n",
      "\n",
      "[15:26:32] Model description:\n",
      "Final prediction for new objects (level 0) = \n",
      "\t 0.38563 * (3 averaged models Lvl_0_Pipe_0_Mod_0_LinearL2) +\n",
      "\t 0.17150 * (1 averaged models Lvl_0_Pipe_1_Mod_0_LightGBM) +\n",
      "\t 0.44288 * (5 averaged models Lvl_0_Pipe_1_Mod_3_Tuned_CatBoost) \n",
      "\n",
      "[15:26:32] Uplift candidate #2 [__TLearner__TabularAutoML__] is fitted\n",
      "[15:26:33] \u001b[1mTrain data shape: (5600, 124)\u001b[0m\n",
      "\n",
      "[15:26:34] Layer \u001b[1m1\u001b[0m train process start. Time left 9999999998.69 secs\n",
      "[15:26:35] Start fitting \u001b[1mLvl_0_Pipe_0_Mod_0_LinearL2\u001b[0m ...\n",
      "[15:26:41] Fitting \u001b[1mLvl_0_Pipe_0_Mod_0_LinearL2\u001b[0m finished. score = \u001b[1m0.8668850801876946\u001b[0m\n",
      "[15:26:41] \u001b[1mLvl_0_Pipe_0_Mod_0_LinearL2\u001b[0m fitting and predicting completed\n",
      "[15:26:41] Time left 9999999992.25 secs\n",
      "\n",
      "[15:26:41] \u001b[1mLayer 1 training completed.\u001b[0m\n",
      "\n",
      "[15:26:41] Stdout logging level is INFO.\n",
      "[15:26:41] Task: binary\n",
      "\n",
      "[15:26:41] Start automl preset with listed constraints:\n",
      "[15:26:41] - time: 18.18 seconds\n",
      "[15:26:41] - CPU: 4 cores\n",
      "[15:26:41] - memory: 16 GB\n",
      "\n",
      "[15:26:41] \u001b[1mTrain data shape: (3688, 124)\u001b[0m\n",
      "\n",
      "[15:26:42] Layer \u001b[1m1\u001b[0m train process start. Time left 17.23 secs\n",
      "[15:26:42] Start fitting \u001b[1mLvl_0_Pipe_0_Mod_0_LinearL2\u001b[0m ...\n",
      "[15:26:43] Time limit exceeded after calculating fold 2\n",
      "\n",
      "[15:26:43] Fitting \u001b[1mLvl_0_Pipe_0_Mod_0_LinearL2\u001b[0m finished. score = \u001b[1m0.7287041190102416\u001b[0m\n",
      "[15:26:43] \u001b[1mLvl_0_Pipe_0_Mod_0_LinearL2\u001b[0m fitting and predicting completed\n",
      "[15:26:43] Time left 15.59 secs\n",
      "\n",
      "[15:26:44] \u001b[1mSelector_LightGBM\u001b[0m fitting and predicting completed\n",
      "[15:26:45] Start fitting \u001b[1mLvl_0_Pipe_1_Mod_0_LightGBM\u001b[0m ...\n",
      "[15:26:46] Time limit exceeded after calculating fold 0\n",
      "\n",
      "[15:26:46] Fitting \u001b[1mLvl_0_Pipe_1_Mod_0_LightGBM\u001b[0m finished. score = \u001b[1m0.7462155191747027\u001b[0m\n",
      "[15:26:46] \u001b[1mLvl_0_Pipe_1_Mod_0_LightGBM\u001b[0m fitting and predicting completed\n",
      "[15:26:46] Start fitting \u001b[1mLvl_0_Pipe_1_Mod_2_CatBoost\u001b[0m ...\n",
      "[15:26:49] Time limit exceeded after calculating fold 3\n",
      "\n",
      "[15:26:49] Fitting \u001b[1mLvl_0_Pipe_1_Mod_2_CatBoost\u001b[0m finished. score = \u001b[1m0.7026118932106902\u001b[0m\n",
      "[15:26:49] \u001b[1mLvl_0_Pipe_1_Mod_2_CatBoost\u001b[0m fitting and predicting completed\n",
      "[15:26:49] Start hyperparameters optimization for \u001b[1mLvl_0_Pipe_1_Mod_3_Tuned_CatBoost\u001b[0m ... Time budget is 1.00 secs\n",
      "[15:26:50] Hyperparameters optimization for \u001b[1mLvl_0_Pipe_1_Mod_3_Tuned_CatBoost\u001b[0m completed\n",
      "[15:26:50] Start fitting \u001b[1mLvl_0_Pipe_1_Mod_3_Tuned_CatBoost\u001b[0m ...\n",
      "[15:26:53] Fitting \u001b[1mLvl_0_Pipe_1_Mod_3_Tuned_CatBoost\u001b[0m finished. score = \u001b[1m0.7377120545731982\u001b[0m\n",
      "[15:26:53] \u001b[1mLvl_0_Pipe_1_Mod_3_Tuned_CatBoost\u001b[0m fitting and predicting completed\n",
      "[15:26:53] Time left 5.41 secs\n",
      "\n",
      "[15:26:53] Time limit exceeded in one of the tasks. AutoML will blend level 1 models.\n",
      "\n",
      "[15:26:53] \u001b[1mLayer 1 training completed.\u001b[0m\n",
      "\n",
      "[15:26:53] Blending: optimization starts with equal weights and score \u001b[1m0.7404328606049726\u001b[0m\n",
      "[15:26:53] Blending: iteration \u001b[1m0\u001b[0m: score = \u001b[1m0.7449017143882954\u001b[0m, weights = \u001b[1m[0.36122638 0.22360753 0.         0.4151661 ]\u001b[0m\n",
      "[15:26:54] Blending: iteration \u001b[1m1\u001b[0m: score = \u001b[1m0.7448736648415762\u001b[0m, weights = \u001b[1m[0.37736464 0.18892124 0.         0.43371418]\u001b[0m\n",
      "[15:26:54] Blending: iteration \u001b[1m2\u001b[0m: score = \u001b[1m0.7448949824970829\u001b[0m, weights = \u001b[1m[0.3762704  0.18925324 0.         0.43447638]\u001b[0m\n",
      "[15:26:54] Blending: iteration \u001b[1m3\u001b[0m: score = \u001b[1m0.7448949824970829\u001b[0m, weights = \u001b[1m[0.3762704  0.18925324 0.         0.43447638]\u001b[0m\n",
      "[15:26:54] Blending: no score update. Terminated\n",
      "\n",
      "[15:26:54] \u001b[1mAutoml preset training completed in 13.01 seconds\u001b[0m\n",
      "\n",
      "[15:26:54] Model description:\n",
      "Final prediction for new objects (level 0) = \n",
      "\t 0.37627 * (3 averaged models Lvl_0_Pipe_0_Mod_0_LinearL2) +\n",
      "\t 0.18925 * (1 averaged models Lvl_0_Pipe_1_Mod_0_LightGBM) +\n",
      "\t 0.43448 * (5 averaged models Lvl_0_Pipe_1_Mod_3_Tuned_CatBoost) \n",
      "\n",
      "[15:26:54] Stdout logging level is INFO.\n",
      "[15:26:54] Task: binary\n",
      "\n",
      "[15:26:54] Start automl preset with listed constraints:\n",
      "[15:26:54] - time: 18.18 seconds\n",
      "[15:26:54] - CPU: 4 cores\n",
      "[15:26:54] - memory: 16 GB\n",
      "\n",
      "[15:26:54] \u001b[1mTrain data shape: (1912, 124)\u001b[0m\n",
      "\n",
      "[15:26:55] Layer \u001b[1m1\u001b[0m train process start. Time left 17.32 secs\n",
      "[15:26:55] Start fitting \u001b[1mLvl_0_Pipe_0_Mod_0_LinearL2\u001b[0m ...\n",
      "[15:26:57] Time limit exceeded after calculating fold 2\n",
      "\n",
      "[15:26:57] Fitting \u001b[1mLvl_0_Pipe_0_Mod_0_LinearL2\u001b[0m finished. score = \u001b[1m0.7126587148903424\u001b[0m\n",
      "[15:26:57] \u001b[1mLvl_0_Pipe_0_Mod_0_LinearL2\u001b[0m fitting and predicting completed\n",
      "[15:26:57] Time left 15.04 secs\n",
      "\n",
      "[15:26:58] \u001b[1mSelector_LightGBM\u001b[0m fitting and predicting completed\n",
      "[15:26:58] Start fitting \u001b[1mLvl_0_Pipe_1_Mod_0_LightGBM\u001b[0m ...\n",
      "[15:26:59] Time limit exceeded after calculating fold 1\n",
      "\n",
      "[15:26:59] Fitting \u001b[1mLvl_0_Pipe_1_Mod_0_LightGBM\u001b[0m finished. score = \u001b[1m0.7259725400457666\u001b[0m\n",
      "[15:26:59] \u001b[1mLvl_0_Pipe_1_Mod_0_LightGBM\u001b[0m fitting and predicting completed\n",
      "[15:26:59] Start hyperparameters optimization for \u001b[1mLvl_0_Pipe_1_Mod_1_Tuned_LightGBM\u001b[0m ... Time budget is 1.00 secs\n",
      "[15:27:00] Hyperparameters optimization for \u001b[1mLvl_0_Pipe_1_Mod_1_Tuned_LightGBM\u001b[0m completed\n",
      "[15:27:00] Start fitting \u001b[1mLvl_0_Pipe_1_Mod_2_CatBoost\u001b[0m ...\n",
      "[15:27:02] Fitting \u001b[1mLvl_0_Pipe_1_Mod_2_CatBoost\u001b[0m finished. score = \u001b[1m0.5995876927846238\u001b[0m\n",
      "[15:27:02] \u001b[1mLvl_0_Pipe_1_Mod_2_CatBoost\u001b[0m fitting and predicting completed\n",
      "[15:27:02] Start hyperparameters optimization for \u001b[1mLvl_0_Pipe_1_Mod_3_Tuned_CatBoost\u001b[0m ... Time budget is 1.95 secs\n",
      "[15:27:04] Hyperparameters optimization for \u001b[1mLvl_0_Pipe_1_Mod_3_Tuned_CatBoost\u001b[0m completed\n",
      "[15:27:04] Start fitting \u001b[1mLvl_0_Pipe_1_Mod_3_Tuned_CatBoost\u001b[0m ...\n",
      "[15:27:06] Fitting \u001b[1mLvl_0_Pipe_1_Mod_3_Tuned_CatBoost\u001b[0m finished. score = \u001b[1m0.6288181043168255\u001b[0m\n",
      "[15:27:06] \u001b[1mLvl_0_Pipe_1_Mod_3_Tuned_CatBoost\u001b[0m fitting and predicting completed\n",
      "[15:27:06] Time left 5.97 secs\n",
      "\n",
      "[15:27:06] Time limit exceeded in one of the tasks. AutoML will blend level 1 models.\n",
      "\n",
      "[15:27:06] \u001b[1mLayer 1 training completed.\u001b[0m\n",
      "\n",
      "[15:27:06] Blending: optimization starts with equal weights and score \u001b[1m0.6502673796791444\u001b[0m\n",
      "[15:27:06] Blending: iteration \u001b[1m0\u001b[0m: score = \u001b[1m0.660829264512129\u001b[0m, weights = \u001b[1m[0.5011039  0.05165764 0.2879565  0.159282  ]\u001b[0m\n",
      "[15:27:06] Blending: iteration \u001b[1m1\u001b[0m: score = \u001b[1m0.660829264512129\u001b[0m, weights = \u001b[1m[0.5011039  0.05165764 0.2879565  0.159282  ]\u001b[0m\n",
      "[15:27:06] Blending: no score update. Terminated\n",
      "\n",
      "[15:27:06] \u001b[1mAutoml preset training completed in 12.32 seconds\u001b[0m\n",
      "\n",
      "[15:27:06] Model description:\n",
      "Final prediction for new objects (level 0) = \n",
      "\t 0.50110 * (3 averaged models Lvl_0_Pipe_0_Mod_0_LinearL2) +\n",
      "\t 0.05166 * (2 averaged models Lvl_0_Pipe_1_Mod_0_LightGBM) +\n",
      "\t 0.28796 * (5 averaged models Lvl_0_Pipe_1_Mod_2_CatBoost) +\n",
      "\t 0.15928 * (5 averaged models Lvl_0_Pipe_1_Mod_3_Tuned_CatBoost) \n",
      "\n",
      "[15:27:07] Stdout logging level is INFO.\n",
      "[15:27:07] Task: reg\n",
      "\n",
      "[15:27:07] Start automl preset with listed constraints:\n",
      "[15:27:07] - time: 18.18 seconds\n",
      "[15:27:07] - CPU: 4 cores\n",
      "[15:27:07] - memory: 16 GB\n",
      "\n",
      "[15:27:07] \u001b[1mTrain data shape: (3688, 124)\u001b[0m\n",
      "\n",
      "[15:27:08] Layer \u001b[1m1\u001b[0m train process start. Time left 17.21 secs\n",
      "[15:27:08] Start fitting \u001b[1mLvl_0_Pipe_0_Mod_0_LinearL2\u001b[0m ...\n",
      "[15:27:09] Fitting \u001b[1mLvl_0_Pipe_0_Mod_0_LinearL2\u001b[0m finished. score = \u001b[1m-0.06296914252982973\u001b[0m\n",
      "[15:27:09] \u001b[1mLvl_0_Pipe_0_Mod_0_LinearL2\u001b[0m fitting and predicting completed\n",
      "[15:27:09] Time left 16.19 secs\n",
      "\n",
      "[15:27:09] \u001b[1mSelector_LightGBM\u001b[0m fitting and predicting completed\n",
      "[15:27:10] Start fitting \u001b[1mLvl_0_Pipe_1_Mod_0_LightGBM\u001b[0m ...\n",
      "[15:27:11] Time limit exceeded after calculating fold 1\n",
      "\n",
      "[15:27:11] Fitting \u001b[1mLvl_0_Pipe_1_Mod_0_LightGBM\u001b[0m finished. score = \u001b[1m-0.06423400373272\u001b[0m\n",
      "[15:27:11] \u001b[1mLvl_0_Pipe_1_Mod_0_LightGBM\u001b[0m fitting and predicting completed\n",
      "[15:27:11] Start hyperparameters optimization for \u001b[1mLvl_0_Pipe_1_Mod_1_Tuned_LightGBM\u001b[0m ... Time budget is 1.00 secs\n",
      "[15:27:13] Hyperparameters optimization for \u001b[1mLvl_0_Pipe_1_Mod_1_Tuned_LightGBM\u001b[0m completed\n",
      "[15:27:13] Start fitting \u001b[1mLvl_0_Pipe_1_Mod_2_CatBoost\u001b[0m ...\n",
      "[15:27:15] Fitting \u001b[1mLvl_0_Pipe_1_Mod_2_CatBoost\u001b[0m finished. score = \u001b[1m-0.06268099160905062\u001b[0m\n",
      "[15:27:15] \u001b[1mLvl_0_Pipe_1_Mod_2_CatBoost\u001b[0m fitting and predicting completed\n",
      "[15:27:15] Start hyperparameters optimization for \u001b[1mLvl_0_Pipe_1_Mod_3_Tuned_CatBoost\u001b[0m ... Time budget is 1.00 secs\n",
      "[15:27:17] Hyperparameters optimization for \u001b[1mLvl_0_Pipe_1_Mod_3_Tuned_CatBoost\u001b[0m completed\n",
      "[15:27:17] Start fitting \u001b[1mLvl_0_Pipe_1_Mod_3_Tuned_CatBoost\u001b[0m ...\n",
      "[15:27:18] Fitting \u001b[1mLvl_0_Pipe_1_Mod_3_Tuned_CatBoost\u001b[0m finished. score = \u001b[1m-0.062136736117154846\u001b[0m\n",
      "[15:27:18] \u001b[1mLvl_0_Pipe_1_Mod_3_Tuned_CatBoost\u001b[0m fitting and predicting completed\n",
      "[15:27:18] Time left 6.30 secs\n",
      "\n",
      "[15:27:18] Time limit exceeded in one of the tasks. AutoML will blend level 1 models.\n",
      "\n",
      "[15:27:18] \u001b[1mLayer 1 training completed.\u001b[0m\n",
      "\n",
      "[15:27:18] Blending: optimization starts with equal weights and score \u001b[1m-0.062189735673452644\u001b[0m\n",
      "[15:27:18] Blending: iteration \u001b[1m0\u001b[0m: score = \u001b[1m-0.06198611042643088\u001b[0m, weights = \u001b[1m[0.        0.7395016 0.        0.2604984]\u001b[0m\n",
      "[15:27:18] Blending: iteration \u001b[1m1\u001b[0m: score = \u001b[1m-0.061982488311196016\u001b[0m, weights = \u001b[1m[0.         0.6567987  0.05241677 0.29078454]\u001b[0m\n",
      "[15:27:19] Blending: iteration \u001b[1m2\u001b[0m: score = \u001b[1m-0.061982141740162026\u001b[0m, weights = \u001b[1m[0.         0.6711466  0.05008054 0.27877286]\u001b[0m\n",
      "[15:27:19] Blending: iteration \u001b[1m3\u001b[0m: score = \u001b[1m-0.061982141740162026\u001b[0m, weights = \u001b[1m[0.         0.6711466  0.05008054 0.27877286]\u001b[0m\n",
      "[15:27:19] Blending: no score update. Terminated\n",
      "\n",
      "[15:27:19] \u001b[1mAutoml preset training completed in 11.96 seconds\u001b[0m\n",
      "\n",
      "[15:27:19] Model description:\n",
      "Final prediction for new objects (level 0) = \n",
      "\t 0.67115 * (2 averaged models Lvl_0_Pipe_1_Mod_0_LightGBM) +\n",
      "\t 0.05008 * (5 averaged models Lvl_0_Pipe_1_Mod_2_CatBoost) +\n",
      "\t 0.27877 * (5 averaged models Lvl_0_Pipe_1_Mod_3_Tuned_CatBoost) \n",
      "\n",
      "[15:27:19] Stdout logging level is INFO.\n",
      "[15:27:19] Task: reg\n",
      "\n",
      "[15:27:19] Start automl preset with listed constraints:\n",
      "[15:27:19] - time: 18.18 seconds\n",
      "[15:27:19] - CPU: 4 cores\n",
      "[15:27:19] - memory: 16 GB\n",
      "\n",
      "[15:27:19] \u001b[1mTrain data shape: (1912, 124)\u001b[0m\n",
      "\n",
      "[15:27:20] Layer \u001b[1m1\u001b[0m train process start. Time left 17.32 secs\n",
      "[15:27:20] Start fitting \u001b[1mLvl_0_Pipe_0_Mod_0_LinearL2\u001b[0m ...\n",
      "[15:27:21] Fitting \u001b[1mLvl_0_Pipe_0_Mod_0_LinearL2\u001b[0m finished. score = \u001b[1m-0.08243474413628778\u001b[0m\n",
      "[15:27:21] \u001b[1mLvl_0_Pipe_0_Mod_0_LinearL2\u001b[0m fitting and predicting completed\n",
      "[15:27:21] Time left 16.31 secs\n",
      "\n",
      "[15:27:21] \u001b[1mSelector_LightGBM\u001b[0m fitting and predicting completed\n",
      "[15:27:21] Start fitting \u001b[1mLvl_0_Pipe_1_Mod_0_LightGBM\u001b[0m ...\n",
      "[15:27:22] Time limit exceeded after calculating fold 3\n",
      "\n",
      "[15:27:22] Fitting \u001b[1mLvl_0_Pipe_1_Mod_0_LightGBM\u001b[0m finished. score = \u001b[1m-0.07904958291887788\u001b[0m\n",
      "[15:27:22] \u001b[1mLvl_0_Pipe_1_Mod_0_LightGBM\u001b[0m fitting and predicting completed\n",
      "[15:27:22] Start hyperparameters optimization for \u001b[1mLvl_0_Pipe_1_Mod_1_Tuned_LightGBM\u001b[0m ... Time budget is 1.00 secs\n",
      "[15:27:24] Hyperparameters optimization for \u001b[1mLvl_0_Pipe_1_Mod_1_Tuned_LightGBM\u001b[0m completed\n",
      "[15:27:24] Start fitting \u001b[1mLvl_0_Pipe_1_Mod_1_Tuned_LightGBM\u001b[0m ...\n",
      "[15:27:25] Fitting \u001b[1mLvl_0_Pipe_1_Mod_1_Tuned_LightGBM\u001b[0m finished. score = \u001b[1m-0.08095545304814043\u001b[0m\n",
      "[15:27:25] \u001b[1mLvl_0_Pipe_1_Mod_1_Tuned_LightGBM\u001b[0m fitting and predicting completed\n",
      "[15:27:25] Start fitting \u001b[1mLvl_0_Pipe_1_Mod_2_CatBoost\u001b[0m ...\n",
      "[15:27:26] Fitting \u001b[1mLvl_0_Pipe_1_Mod_2_CatBoost\u001b[0m finished. score = \u001b[1m-0.08131944078021223\u001b[0m\n",
      "[15:27:26] \u001b[1mLvl_0_Pipe_1_Mod_2_CatBoost\u001b[0m fitting and predicting completed\n",
      "[15:27:26] Start hyperparameters optimization for \u001b[1mLvl_0_Pipe_1_Mod_3_Tuned_CatBoost\u001b[0m ... Time budget is 5.40 secs\n",
      "[15:27:31] Hyperparameters optimization for \u001b[1mLvl_0_Pipe_1_Mod_3_Tuned_CatBoost\u001b[0m completed\n",
      "[15:27:31] Start fitting \u001b[1mLvl_0_Pipe_1_Mod_3_Tuned_CatBoost\u001b[0m ...\n",
      "[15:27:32] Fitting \u001b[1mLvl_0_Pipe_1_Mod_3_Tuned_CatBoost\u001b[0m finished. score = \u001b[1m-0.08184401592901883\u001b[0m\n",
      "[15:27:32] \u001b[1mLvl_0_Pipe_1_Mod_3_Tuned_CatBoost\u001b[0m fitting and predicting completed\n",
      "[15:27:32] Time left 5.31 secs\n",
      "\n",
      "[15:27:32] Time limit exceeded in one of the tasks. AutoML will blend level 1 models.\n",
      "\n",
      "[15:27:32] \u001b[1mLayer 1 training completed.\u001b[0m\n",
      "\n",
      "[15:27:32] Blending: optimization starts with equal weights and score \u001b[1m-0.08109252309751094\u001b[0m\n",
      "[15:27:32] Blending: iteration \u001b[1m0\u001b[0m: score = \u001b[1m-0.08067570216087612\u001b[0m, weights = \u001b[1m[0.        0.        0.6120005 0.3879995 0.       ]\u001b[0m\n",
      "[15:27:32] Blending: iteration \u001b[1m1\u001b[0m: score = \u001b[1m-0.0806755473738725\u001b[0m, weights = \u001b[1m[0.        0.        0.6026551 0.3973449 0.       ]\u001b[0m\n",
      "[15:27:32] Blending: iteration \u001b[1m2\u001b[0m: score = \u001b[1m-0.0806755473738725\u001b[0m, weights = \u001b[1m[0.        0.        0.6026551 0.3973449 0.       ]\u001b[0m\n",
      "[15:27:32] Blending: no score update. Terminated\n",
      "\n",
      "[15:27:32] \u001b[1mAutoml preset training completed in 12.94 seconds\u001b[0m\n",
      "\n",
      "[15:27:32] Model description:\n",
      "Final prediction for new objects (level 0) = \n",
      "\t 0.60266 * (5 averaged models Lvl_0_Pipe_1_Mod_1_Tuned_LightGBM) +\n",
      "\t 0.39734 * (5 averaged models Lvl_0_Pipe_1_Mod_2_CatBoost) \n",
      "\n",
      "[15:27:32] Uplift candidate #3 [__XLearner__Propensity_Linear__Other_TabularAutoML__] is fitted\n",
      "[15:27:33] Stdout logging level is INFO.\n",
      "[15:27:33] Task: binary\n",
      "\n",
      "[15:27:33] Start automl preset with listed constraints:\n",
      "[15:27:33] - time: 18.18 seconds\n",
      "[15:27:33] - CPU: 4 cores\n",
      "[15:27:33] - memory: 16 GB\n",
      "\n",
      "[15:27:33] \u001b[1mTrain data shape: (5600, 124)\u001b[0m\n",
      "\n",
      "[15:27:34] Layer \u001b[1m1\u001b[0m train process start. Time left 17.21 secs\n",
      "[15:27:35] Start fitting \u001b[1mLvl_0_Pipe_0_Mod_0_LinearL2\u001b[0m ...\n",
      "[15:27:36] Time limit exceeded after calculating fold 0\n",
      "\n",
      "[15:27:36] Fitting \u001b[1mLvl_0_Pipe_0_Mod_0_LinearL2\u001b[0m finished. score = \u001b[1m0.8672941960031317\u001b[0m\n",
      "[15:27:36] \u001b[1mLvl_0_Pipe_0_Mod_0_LinearL2\u001b[0m fitting and predicting completed\n",
      "[15:27:36] Time left 15.58 secs\n",
      "\n",
      "[15:27:38] \u001b[1mSelector_LightGBM\u001b[0m fitting and predicting completed\n",
      "[15:27:39] Start fitting \u001b[1mLvl_0_Pipe_1_Mod_0_LightGBM\u001b[0m ...\n",
      "[15:27:42] Time limit exceeded after calculating fold 0\n",
      "\n",
      "[15:27:42] Fitting \u001b[1mLvl_0_Pipe_1_Mod_0_LightGBM\u001b[0m finished. score = \u001b[1m0.885563873015648\u001b[0m\n",
      "[15:27:42] \u001b[1mLvl_0_Pipe_1_Mod_0_LightGBM\u001b[0m fitting and predicting completed\n",
      "[15:27:42] Start fitting \u001b[1mLvl_0_Pipe_1_Mod_2_CatBoost\u001b[0m ...\n",
      "[15:27:45] Time limit exceeded after calculating fold 1\n",
      "\n",
      "[15:27:45] Fitting \u001b[1mLvl_0_Pipe_1_Mod_2_CatBoost\u001b[0m finished. score = \u001b[1m0.876462690109859\u001b[0m\n",
      "[15:27:45] \u001b[1mLvl_0_Pipe_1_Mod_2_CatBoost\u001b[0m fitting and predicting completed\n",
      "[15:27:45] Start hyperparameters optimization for \u001b[1mLvl_0_Pipe_1_Mod_3_Tuned_CatBoost\u001b[0m ... Time budget is 1.00 secs\n",
      "[15:27:46] Hyperparameters optimization for \u001b[1mLvl_0_Pipe_1_Mod_3_Tuned_CatBoost\u001b[0m completed\n",
      "[15:27:46] Time left 5.22 secs\n",
      "\n",
      "[15:27:46] Time limit exceeded in one of the tasks. AutoML will blend level 1 models.\n",
      "\n",
      "[15:27:46] \u001b[1mLayer 1 training completed.\u001b[0m\n",
      "\n",
      "[15:27:46] Blending: optimization starts with equal weights and score \u001b[1m0.8788823506488446\u001b[0m\n",
      "[15:27:46] Blending: iteration \u001b[1m0\u001b[0m: score = \u001b[1m0.8794775233729291\u001b[0m, weights = \u001b[1m[0.14298059 0.62095153 0.23606798]\u001b[0m\n",
      "[15:27:46] Blending: iteration \u001b[1m1\u001b[0m: score = \u001b[1m0.8794739806781426\u001b[0m, weights = \u001b[1m[0.14408107 0.618034   0.23788492]\u001b[0m\n",
      "[15:27:46] Blending: iteration \u001b[1m2\u001b[0m: score = \u001b[1m0.8794739806781426\u001b[0m, weights = \u001b[1m[0.14408107 0.618034   0.23788492]\u001b[0m\n",
      "[15:27:46] Blending: no score update. Terminated\n",
      "\n",
      "[15:27:46] \u001b[1mAutoml preset training completed in 13.09 seconds\u001b[0m\n",
      "\n",
      "[15:27:46] Model description:\n",
      "Final prediction for new objects (level 0) = \n",
      "\t 0.14408 * (1 averaged models Lvl_0_Pipe_0_Mod_0_LinearL2) +\n",
      "\t 0.61803 * (1 averaged models Lvl_0_Pipe_1_Mod_0_LightGBM) +\n",
      "\t 0.23788 * (2 averaged models Lvl_0_Pipe_1_Mod_2_CatBoost) \n",
      "\n",
      "[15:27:46] Stdout logging level is INFO.\n",
      "[15:27:46] Task: binary\n",
      "\n",
      "[15:27:46] Start automl preset with listed constraints:\n",
      "[15:27:46] - time: 18.18 seconds\n",
      "[15:27:46] - CPU: 4 cores\n",
      "[15:27:46] - memory: 16 GB\n",
      "\n",
      "[15:27:46] \u001b[1mTrain data shape: (3688, 124)\u001b[0m\n",
      "\n",
      "[15:27:47] Layer \u001b[1m1\u001b[0m train process start. Time left 17.26 secs\n",
      "[15:27:48] Start fitting \u001b[1mLvl_0_Pipe_0_Mod_0_LinearL2\u001b[0m ...\n",
      "[15:27:49] Time limit exceeded after calculating fold 2\n",
      "\n",
      "[15:27:49] Fitting \u001b[1mLvl_0_Pipe_0_Mod_0_LinearL2\u001b[0m finished. score = \u001b[1m0.7287041190102416\u001b[0m\n",
      "[15:27:49] \u001b[1mLvl_0_Pipe_0_Mod_0_LinearL2\u001b[0m fitting and predicting completed\n",
      "[15:27:49] Time left 15.64 secs\n",
      "\n",
      "[15:27:50] \u001b[1mSelector_LightGBM\u001b[0m fitting and predicting completed\n",
      "[15:27:50] Start fitting \u001b[1mLvl_0_Pipe_1_Mod_0_LightGBM\u001b[0m ...\n",
      "[15:27:51] Time limit exceeded after calculating fold 0\n",
      "\n",
      "[15:27:51] Fitting \u001b[1mLvl_0_Pipe_1_Mod_0_LightGBM\u001b[0m finished. score = \u001b[1m0.7462155191747027\u001b[0m\n",
      "[15:27:51] \u001b[1mLvl_0_Pipe_1_Mod_0_LightGBM\u001b[0m fitting and predicting completed\n",
      "[15:27:51] Start fitting \u001b[1mLvl_0_Pipe_1_Mod_2_CatBoost\u001b[0m ...\n",
      "[15:27:54] Time limit exceeded after calculating fold 3\n",
      "\n",
      "[15:27:54] Fitting \u001b[1mLvl_0_Pipe_1_Mod_2_CatBoost\u001b[0m finished. score = \u001b[1m0.7026118932106902\u001b[0m\n",
      "[15:27:54] \u001b[1mLvl_0_Pipe_1_Mod_2_CatBoost\u001b[0m fitting and predicting completed\n",
      "[15:27:54] Start hyperparameters optimization for \u001b[1mLvl_0_Pipe_1_Mod_3_Tuned_CatBoost\u001b[0m ... Time budget is 1.00 secs\n",
      "[15:27:56] Hyperparameters optimization for \u001b[1mLvl_0_Pipe_1_Mod_3_Tuned_CatBoost\u001b[0m completed\n",
      "[15:27:56] Start fitting \u001b[1mLvl_0_Pipe_1_Mod_3_Tuned_CatBoost\u001b[0m ...\n",
      "[15:27:59] Fitting \u001b[1mLvl_0_Pipe_1_Mod_3_Tuned_CatBoost\u001b[0m finished. score = \u001b[1m0.7377120545731982\u001b[0m\n",
      "[15:27:59] \u001b[1mLvl_0_Pipe_1_Mod_3_Tuned_CatBoost\u001b[0m fitting and predicting completed\n",
      "[15:27:59] Time left 5.43 secs\n",
      "\n",
      "[15:27:59] Time limit exceeded in one of the tasks. AutoML will blend level 1 models.\n",
      "\n",
      "[15:27:59] \u001b[1mLayer 1 training completed.\u001b[0m\n",
      "\n",
      "[15:27:59] Blending: optimization starts with equal weights and score \u001b[1m0.7404328606049726\u001b[0m\n",
      "[15:27:59] Blending: iteration \u001b[1m0\u001b[0m: score = \u001b[1m0.7449017143882954\u001b[0m, weights = \u001b[1m[0.36122638 0.22360753 0.         0.4151661 ]\u001b[0m\n",
      "[15:27:59] Blending: iteration \u001b[1m1\u001b[0m: score = \u001b[1m0.7448736648415762\u001b[0m, weights = \u001b[1m[0.37736464 0.18892124 0.         0.43371418]\u001b[0m\n",
      "[15:27:59] Blending: iteration \u001b[1m2\u001b[0m: score = \u001b[1m0.7448949824970829\u001b[0m, weights = \u001b[1m[0.3762704  0.18925324 0.         0.43447638]\u001b[0m\n",
      "[15:27:59] Blending: iteration \u001b[1m3\u001b[0m: score = \u001b[1m0.7448949824970829\u001b[0m, weights = \u001b[1m[0.3762704  0.18925324 0.         0.43447638]\u001b[0m\n",
      "[15:27:59] Blending: no score update. Terminated\n",
      "\n",
      "[15:27:59] \u001b[1mAutoml preset training completed in 12.98 seconds\u001b[0m\n",
      "\n",
      "[15:27:59] Model description:\n",
      "Final prediction for new objects (level 0) = \n",
      "\t 0.37627 * (3 averaged models Lvl_0_Pipe_0_Mod_0_LinearL2) +\n",
      "\t 0.18925 * (1 averaged models Lvl_0_Pipe_1_Mod_0_LightGBM) +\n",
      "\t 0.43448 * (5 averaged models Lvl_0_Pipe_1_Mod_3_Tuned_CatBoost) \n",
      "\n",
      "[15:27:59] Stdout logging level is INFO.\n",
      "[15:27:59] Task: binary\n",
      "\n",
      "[15:27:59] Start automl preset with listed constraints:\n",
      "[15:27:59] - time: 18.18 seconds\n",
      "[15:27:59] - CPU: 4 cores\n",
      "[15:27:59] - memory: 16 GB\n",
      "\n",
      "[15:27:59] \u001b[1mTrain data shape: (1912, 124)\u001b[0m\n",
      "\n",
      "[15:28:00] Layer \u001b[1m1\u001b[0m train process start. Time left 17.37 secs\n",
      "[15:28:00] Start fitting \u001b[1mLvl_0_Pipe_0_Mod_0_LinearL2\u001b[0m ...\n",
      "[15:28:02] Time limit exceeded after calculating fold 2\n",
      "\n",
      "[15:28:02] Fitting \u001b[1mLvl_0_Pipe_0_Mod_0_LinearL2\u001b[0m finished. score = \u001b[1m0.7126587148903424\u001b[0m\n",
      "[15:28:02] \u001b[1mLvl_0_Pipe_0_Mod_0_LinearL2\u001b[0m fitting and predicting completed\n",
      "[15:28:02] Time left 15.57 secs\n",
      "\n",
      "[15:28:03] \u001b[1mSelector_LightGBM\u001b[0m fitting and predicting completed\n",
      "[15:28:03] Start fitting \u001b[1mLvl_0_Pipe_1_Mod_0_LightGBM\u001b[0m ...\n",
      "[15:28:04] Time limit exceeded after calculating fold 1\n",
      "\n",
      "[15:28:04] Fitting \u001b[1mLvl_0_Pipe_1_Mod_0_LightGBM\u001b[0m finished. score = \u001b[1m0.7259725400457666\u001b[0m\n",
      "[15:28:04] \u001b[1mLvl_0_Pipe_1_Mod_0_LightGBM\u001b[0m fitting and predicting completed\n",
      "[15:28:04] Start hyperparameters optimization for \u001b[1mLvl_0_Pipe_1_Mod_1_Tuned_LightGBM\u001b[0m ... Time budget is 1.00 secs\n",
      "[15:28:05] Hyperparameters optimization for \u001b[1mLvl_0_Pipe_1_Mod_1_Tuned_LightGBM\u001b[0m completed\n",
      "[15:28:05] Start fitting \u001b[1mLvl_0_Pipe_1_Mod_2_CatBoost\u001b[0m ...\n",
      "[15:28:07] Fitting \u001b[1mLvl_0_Pipe_1_Mod_2_CatBoost\u001b[0m finished. score = \u001b[1m0.5995876927846238\u001b[0m\n",
      "[15:28:07] \u001b[1mLvl_0_Pipe_1_Mod_2_CatBoost\u001b[0m fitting and predicting completed\n",
      "[15:28:07] Start hyperparameters optimization for \u001b[1mLvl_0_Pipe_1_Mod_3_Tuned_CatBoost\u001b[0m ... Time budget is 2.57 secs\n",
      "[15:28:10] Hyperparameters optimization for \u001b[1mLvl_0_Pipe_1_Mod_3_Tuned_CatBoost\u001b[0m completed\n",
      "[15:28:10] Start fitting \u001b[1mLvl_0_Pipe_1_Mod_3_Tuned_CatBoost\u001b[0m ...\n",
      "[15:28:11] Fitting \u001b[1mLvl_0_Pipe_1_Mod_3_Tuned_CatBoost\u001b[0m finished. score = \u001b[1m0.6288181043168255\u001b[0m\n",
      "[15:28:11] \u001b[1mLvl_0_Pipe_1_Mod_3_Tuned_CatBoost\u001b[0m fitting and predicting completed\n",
      "[15:28:11] Time left 5.93 secs\n",
      "\n",
      "[15:28:11] Time limit exceeded in one of the tasks. AutoML will blend level 1 models.\n",
      "\n",
      "[15:28:11] \u001b[1mLayer 1 training completed.\u001b[0m\n",
      "\n",
      "[15:28:11] Blending: optimization starts with equal weights and score \u001b[1m0.6502673796791444\u001b[0m\n",
      "[15:28:12] Blending: iteration \u001b[1m0\u001b[0m: score = \u001b[1m0.660829264512129\u001b[0m, weights = \u001b[1m[0.5011039  0.05165764 0.2879565  0.159282  ]\u001b[0m\n",
      "[15:28:12] Blending: iteration \u001b[1m1\u001b[0m: score = \u001b[1m0.660829264512129\u001b[0m, weights = \u001b[1m[0.5011039  0.05165764 0.2879565  0.159282  ]\u001b[0m\n",
      "[15:28:12] Blending: no score update. Terminated\n",
      "\n",
      "[15:28:12] \u001b[1mAutoml preset training completed in 12.35 seconds\u001b[0m\n",
      "\n",
      "[15:28:12] Model description:\n",
      "Final prediction for new objects (level 0) = \n",
      "\t 0.50110 * (3 averaged models Lvl_0_Pipe_0_Mod_0_LinearL2) +\n",
      "\t 0.05166 * (2 averaged models Lvl_0_Pipe_1_Mod_0_LightGBM) +\n",
      "\t 0.28796 * (5 averaged models Lvl_0_Pipe_1_Mod_2_CatBoost) +\n",
      "\t 0.15928 * (5 averaged models Lvl_0_Pipe_1_Mod_3_Tuned_CatBoost) \n",
      "\n",
      "[15:28:12] Stdout logging level is INFO.\n",
      "[15:28:12] Task: reg\n",
      "\n",
      "[15:28:12] Start automl preset with listed constraints:\n",
      "[15:28:12] - time: 18.18 seconds\n",
      "[15:28:12] - CPU: 4 cores\n",
      "[15:28:12] - memory: 16 GB\n",
      "\n",
      "[15:28:12] \u001b[1mTrain data shape: (3688, 124)\u001b[0m\n",
      "\n",
      "[15:28:13] Layer \u001b[1m1\u001b[0m train process start. Time left 17.20 secs\n",
      "[15:28:14] Start fitting \u001b[1mLvl_0_Pipe_0_Mod_0_LinearL2\u001b[0m ...\n",
      "[15:28:14] Fitting \u001b[1mLvl_0_Pipe_0_Mod_0_LinearL2\u001b[0m finished. score = \u001b[1m-0.06296914252982973\u001b[0m\n",
      "[15:28:14] \u001b[1mLvl_0_Pipe_0_Mod_0_LinearL2\u001b[0m fitting and predicting completed\n",
      "[15:28:14] Time left 16.03 secs\n",
      "\n",
      "[15:28:15] \u001b[1mSelector_LightGBM\u001b[0m fitting and predicting completed\n",
      "[15:28:15] Start fitting \u001b[1mLvl_0_Pipe_1_Mod_0_LightGBM\u001b[0m ...\n",
      "[15:28:17] Time limit exceeded after calculating fold 1\n",
      "\n",
      "[15:28:17] Fitting \u001b[1mLvl_0_Pipe_1_Mod_0_LightGBM\u001b[0m finished. score = \u001b[1m-0.06423400373272\u001b[0m\n",
      "[15:28:17] \u001b[1mLvl_0_Pipe_1_Mod_0_LightGBM\u001b[0m fitting and predicting completed\n",
      "[15:28:17] Start hyperparameters optimization for \u001b[1mLvl_0_Pipe_1_Mod_1_Tuned_LightGBM\u001b[0m ... Time budget is 1.00 secs\n",
      "[15:28:19] Hyperparameters optimization for \u001b[1mLvl_0_Pipe_1_Mod_1_Tuned_LightGBM\u001b[0m completed\n",
      "[15:28:19] Start fitting \u001b[1mLvl_0_Pipe_1_Mod_2_CatBoost\u001b[0m ...\n",
      "[15:28:21] Fitting \u001b[1mLvl_0_Pipe_1_Mod_2_CatBoost\u001b[0m finished. score = \u001b[1m-0.06268099160905062\u001b[0m\n",
      "[15:28:21] \u001b[1mLvl_0_Pipe_1_Mod_2_CatBoost\u001b[0m fitting and predicting completed\n",
      "[15:28:21] Start hyperparameters optimization for \u001b[1mLvl_0_Pipe_1_Mod_3_Tuned_CatBoost\u001b[0m ... Time budget is 1.00 secs\n",
      "[15:28:23] Hyperparameters optimization for \u001b[1mLvl_0_Pipe_1_Mod_3_Tuned_CatBoost\u001b[0m completed\n",
      "[15:28:23] Start fitting \u001b[1mLvl_0_Pipe_1_Mod_3_Tuned_CatBoost\u001b[0m ...\n",
      "[15:28:24] Fitting \u001b[1mLvl_0_Pipe_1_Mod_3_Tuned_CatBoost\u001b[0m finished. score = \u001b[1m-0.062136736117154846\u001b[0m\n",
      "[15:28:24] \u001b[1mLvl_0_Pipe_1_Mod_3_Tuned_CatBoost\u001b[0m fitting and predicting completed\n",
      "[15:28:24] Time left 6.33 secs\n",
      "\n",
      "[15:28:24] Time limit exceeded in one of the tasks. AutoML will blend level 1 models.\n",
      "\n",
      "[15:28:24] \u001b[1mLayer 1 training completed.\u001b[0m\n",
      "\n",
      "[15:28:24] Blending: optimization starts with equal weights and score \u001b[1m-0.062189735673452644\u001b[0m\n",
      "[15:28:24] Blending: iteration \u001b[1m0\u001b[0m: score = \u001b[1m-0.06198611042643088\u001b[0m, weights = \u001b[1m[0.        0.7395016 0.        0.2604984]\u001b[0m\n",
      "[15:28:24] Blending: iteration \u001b[1m1\u001b[0m: score = \u001b[1m-0.061982488311196016\u001b[0m, weights = \u001b[1m[0.         0.6567987  0.05241677 0.29078454]\u001b[0m\n",
      "[15:28:24] Blending: iteration \u001b[1m2\u001b[0m: score = \u001b[1m-0.061982141740162026\u001b[0m, weights = \u001b[1m[0.         0.6711466  0.05008054 0.27877286]\u001b[0m\n",
      "[15:28:24] Blending: iteration \u001b[1m3\u001b[0m: score = \u001b[1m-0.061982141740162026\u001b[0m, weights = \u001b[1m[0.         0.6711466  0.05008054 0.27877286]\u001b[0m\n",
      "[15:28:24] Blending: no score update. Terminated\n",
      "\n",
      "[15:28:24] \u001b[1mAutoml preset training completed in 11.94 seconds\u001b[0m\n",
      "\n",
      "[15:28:24] Model description:\n",
      "Final prediction for new objects (level 0) = \n",
      "\t 0.67115 * (2 averaged models Lvl_0_Pipe_1_Mod_0_LightGBM) +\n",
      "\t 0.05008 * (5 averaged models Lvl_0_Pipe_1_Mod_2_CatBoost) +\n",
      "\t 0.27877 * (5 averaged models Lvl_0_Pipe_1_Mod_3_Tuned_CatBoost) \n",
      "\n",
      "[15:28:24] Stdout logging level is INFO.\n",
      "[15:28:25] Task: reg\n",
      "\n",
      "[15:28:25] Start automl preset with listed constraints:\n",
      "[15:28:25] - time: 18.18 seconds\n",
      "[15:28:25] - CPU: 4 cores\n",
      "[15:28:25] - memory: 16 GB\n",
      "\n",
      "[15:28:25] \u001b[1mTrain data shape: (1912, 124)\u001b[0m\n",
      "\n",
      "[15:28:25] Layer \u001b[1m1\u001b[0m train process start. Time left 17.34 secs\n",
      "[15:28:26] Start fitting \u001b[1mLvl_0_Pipe_0_Mod_0_LinearL2\u001b[0m ...\n",
      "[15:28:26] Fitting \u001b[1mLvl_0_Pipe_0_Mod_0_LinearL2\u001b[0m finished. score = \u001b[1m-0.08243474413628778\u001b[0m\n",
      "[15:28:26] \u001b[1mLvl_0_Pipe_0_Mod_0_LinearL2\u001b[0m fitting and predicting completed\n",
      "[15:28:26] Time left 16.31 secs\n",
      "\n",
      "[15:28:27] \u001b[1mSelector_LightGBM\u001b[0m fitting and predicting completed\n",
      "[15:28:27] Start fitting \u001b[1mLvl_0_Pipe_1_Mod_0_LightGBM\u001b[0m ...\n",
      "[15:28:28] Fitting \u001b[1mLvl_0_Pipe_1_Mod_0_LightGBM\u001b[0m finished. score = \u001b[1m-0.08165958358651514\u001b[0m\n",
      "[15:28:28] \u001b[1mLvl_0_Pipe_1_Mod_0_LightGBM\u001b[0m fitting and predicting completed\n",
      "[15:28:28] Start hyperparameters optimization for \u001b[1mLvl_0_Pipe_1_Mod_1_Tuned_LightGBM\u001b[0m ... Time budget is 1.00 secs\n",
      "[15:28:29] Hyperparameters optimization for \u001b[1mLvl_0_Pipe_1_Mod_1_Tuned_LightGBM\u001b[0m completed\n",
      "[15:28:29] Start fitting \u001b[1mLvl_0_Pipe_1_Mod_1_Tuned_LightGBM\u001b[0m ...\n",
      "[15:28:31] Fitting \u001b[1mLvl_0_Pipe_1_Mod_1_Tuned_LightGBM\u001b[0m finished. score = \u001b[1m-0.08095545304814043\u001b[0m\n",
      "[15:28:31] \u001b[1mLvl_0_Pipe_1_Mod_1_Tuned_LightGBM\u001b[0m fitting and predicting completed\n",
      "[15:28:31] Start fitting \u001b[1mLvl_0_Pipe_1_Mod_2_CatBoost\u001b[0m ...\n",
      "[15:28:32] Fitting \u001b[1mLvl_0_Pipe_1_Mod_2_CatBoost\u001b[0m finished. score = \u001b[1m-0.08131944078021223\u001b[0m\n",
      "[15:28:32] \u001b[1mLvl_0_Pipe_1_Mod_2_CatBoost\u001b[0m fitting and predicting completed\n",
      "[15:28:32] Start hyperparameters optimization for \u001b[1mLvl_0_Pipe_1_Mod_3_Tuned_CatBoost\u001b[0m ... Time budget is 4.95 secs\n",
      "[15:28:37] Hyperparameters optimization for \u001b[1mLvl_0_Pipe_1_Mod_3_Tuned_CatBoost\u001b[0m completed\n",
      "[15:28:37] Start fitting \u001b[1mLvl_0_Pipe_1_Mod_3_Tuned_CatBoost\u001b[0m ...\n",
      "[15:28:37] Fitting \u001b[1mLvl_0_Pipe_1_Mod_3_Tuned_CatBoost\u001b[0m finished. score = \u001b[1m-0.08184401592901883\u001b[0m\n",
      "[15:28:37] \u001b[1mLvl_0_Pipe_1_Mod_3_Tuned_CatBoost\u001b[0m fitting and predicting completed\n",
      "[15:28:37] Time left 5.22 secs\n",
      "\n",
      "[15:28:37] \u001b[1mLayer 1 training completed.\u001b[0m\n",
      "\n",
      "[15:28:37] Blending: optimization starts with equal weights and score \u001b[1m-0.08107406209081332\u001b[0m\n",
      "[15:28:38] Blending: iteration \u001b[1m0\u001b[0m: score = \u001b[1m-0.08067570216087612\u001b[0m, weights = \u001b[1m[0.        0.        0.6120005 0.3879995 0.       ]\u001b[0m\n",
      "[15:28:38] Blending: iteration \u001b[1m1\u001b[0m: score = \u001b[1m-0.0806755473738725\u001b[0m, weights = \u001b[1m[0.        0.        0.6026551 0.3973449 0.       ]\u001b[0m\n",
      "[15:28:38] Blending: iteration \u001b[1m2\u001b[0m: score = \u001b[1m-0.0806755473738725\u001b[0m, weights = \u001b[1m[0.        0.        0.6026551 0.3973449 0.       ]\u001b[0m\n",
      "[15:28:38] Blending: no score update. Terminated\n",
      "\n",
      "[15:28:38] \u001b[1mAutoml preset training completed in 13.04 seconds\u001b[0m\n",
      "\n",
      "[15:28:38] Model description:\n",
      "Final prediction for new objects (level 0) = \n",
      "\t 0.60266 * (5 averaged models Lvl_0_Pipe_1_Mod_1_Tuned_LightGBM) +\n",
      "\t 0.39734 * (5 averaged models Lvl_0_Pipe_1_Mod_2_CatBoost) \n",
      "\n",
      "[15:28:38] Uplift candidate #4 [__XLearner__TabularAutoML__] is fitted\n",
      "CPU times: user 11min 23s, sys: 1min 59s, total: 13min 23s\n",
      "Wall time: 3min 3s\n"
     ]
    }
   ],
   "source": [
    "%%time\n",
    "\n",
    "task = Task('binary')\n",
    "\n",
    "autouplift = AutoUplift(task,\n",
    "                        metric='adj_qini', \n",
    "                        has_report=True,\n",
    "                        test_size=0.2, \n",
    "                        timeout=200,\n",
    "                        # timeout_metalearner=5\n",
    ")\n",
    "\n",
    "autouplift.fit(train, roles, verbose=1)"
   ]
  },
  {
   "cell_type": "markdown",
   "metadata": {},
   "source": [
    "### Show rating of uplift methods (meta-learners)"
   ]
  },
  {
   "cell_type": "code",
   "execution_count": 13,
   "metadata": {},
   "outputs": [
    {
     "name": "stdout",
     "output_type": "stream",
     "text": [
      "CPU times: user 0 ns, sys: 2.08 ms, total: 2.08 ms\n",
      "Wall time: 1.91 ms\n"
     ]
    }
   ],
   "source": [
    "%%time\n",
    "\n",
    "rating_table = autouplift.get_metalearners_ranting()\n",
    "rating_table"
   ]
  },
  {
   "cell_type": "markdown",
   "metadata": {},
   "source": [
    "###  Get best metalearner"
   ]
  },
  {
   "cell_type": "code",
   "execution_count": 14,
   "metadata": {
    "scrolled": true
   },
   "outputs": [
    {
     "name": "stdout",
     "output_type": "stream",
     "text": [
      "CPU times: user 59 s, sys: 73.9 ms, total: 59.1 s\n",
      "Wall time: 23.2 s\n"
     ]
    }
   ],
   "source": [
    "%%time \n",
    "\n",
    "best_metalearner = autouplift.create_best_metalearner(\n",
    "    update_metalearner_params={'timeout': None},\n",
    "    update_baselearner_params={'timeout': 30}\n",
    ")\n",
    "best_metalearner.fit(train, roles)\n",
    "_ = best_metalearner.predict(test);"
   ]
  },
  {
   "cell_type": "markdown",
   "metadata": {},
   "source": [
    "### Predict to test data and check metrics"
   ]
  },
  {
   "cell_type": "code",
   "execution_count": 15,
   "metadata": {},
   "outputs": [
    {
     "name": "stdout",
     "output_type": "stream",
     "text": [
      "--- Check scores ---\n",
      "OOF scores \"ROC_AUC\":\n",
      "\tTreatment = 0.68530\n",
      "\tControl   = 0.73299\n",
      "Uplift score of test group (default=\"adj_qini\"):\n",
      "\tBaseline      = 0.01340\n",
      "\tAlgo (Normed) = 0.02621 (0.15812)\n",
      "\tPerfect       = 0.09438\n",
      "CPU times: user 1.57 s, sys: 0 ns, total: 1.57 s\n",
      "Wall time: 1.17 s\n"
     ]
    }
   ],
   "source": [
    "%%time\n",
    "\n",
    "uplift_pred, treatment_pred, control_pred = best_metalearner.predict(test)\n",
    "uplift_pred = uplift_pred.ravel()\n",
    "\n",
    "roc_auc_treatment = roc_auc_score(test_target[test_treatment == 1], treatment_pred[test_treatment == 1])\n",
    "roc_auc_control = roc_auc_score(test_target[test_treatment == 0], control_pred[test_treatment == 0])\n",
    "\n",
    "uplift_auc_algo = calculate_uplift_auc(test_target, uplift_pred, test_treatment, normed=False)\n",
    "uplift_auc_algo_normed = calculate_uplift_auc(test_target, uplift_pred, test_treatment, normed=True)\n",
    "auc_base, auc_perfect = calculate_min_max_uplift_auc(test_target, test_treatment)\n",
    "\n",
    "print('--- Check scores ---')\n",
    "print('OOF scores \"ROC_AUC\":')\n",
    "print('\\tTreatment = {:.5f}'.format(roc_auc_treatment))\n",
    "print('\\tControl   = {:.5f}'.format(roc_auc_control))\n",
    "print('Uplift score of test group (default=\"adj_qini\"):')\n",
    "print('\\tBaseline      = {:.5f}'.format(auc_base))\n",
    "print('\\tAlgo (Normed) = {:.5f} ({:.5f})'.format(uplift_auc_algo, uplift_auc_algo_normed))\n",
    "print('\\tPerfect       = {:.5f}'.format(auc_perfect))"
   ]
  },
  {
   "cell_type": "markdown",
   "metadata": {},
   "source": [
    "## AutoUplift (custom uplift methods)"
   ]
  },
  {
   "cell_type": "markdown",
   "metadata": {},
   "source": [
    "### Fit autouplift"
   ]
  },
  {
   "cell_type": "code",
   "execution_count": 16,
   "metadata": {
    "scrolled": true
   },
   "outputs": [
    {
     "name": "stdout",
     "output_type": "stream",
     "text": [
      "[15:29:04] \u001b[1mTrain data shape: (1912, 124)\u001b[0m\n",
      "\n"
     ]
    },
    {
     "name": "stderr",
     "output_type": "stream",
     "text": [
      "/home/sasha/workspace/sber_ai_lab/LightAutoML/.venv/lib/python3.7/site-packages/pandas/core/frame.py:4174: SettingWithCopyWarning: \n",
      "A value is trying to be set on a copy of a slice from a DataFrame\n",
      "\n",
      "See the caveats in the documentation: https://pandas.pydata.org/pandas-docs/stable/user_guide/indexing.html#returning-a-view-versus-a-copy\n",
      "  errors=errors,\n"
     ]
    },
    {
     "name": "stdout",
     "output_type": "stream",
     "text": [
      "[15:29:05] Layer \u001b[1m1\u001b[0m train process start. Time left 9999999999.04 secs\n",
      "[15:29:05] Start fitting \u001b[1mLvl_0_Pipe_0_Mod_0_LinearL2\u001b[0m ...\n",
      "[15:29:07] Fitting \u001b[1mLvl_0_Pipe_0_Mod_0_LinearL2\u001b[0m finished. score = \u001b[1m0.7125691699604744\u001b[0m\n",
      "[15:29:07] \u001b[1mLvl_0_Pipe_0_Mod_0_LinearL2\u001b[0m fitting and predicting completed\n",
      "[15:29:07] Time left 9999999996.80 secs\n",
      "\n",
      "[15:29:07] \u001b[1mLayer 1 training completed.\u001b[0m\n",
      "\n",
      "[15:29:07] \u001b[1mTrain data shape: (3688, 124)\u001b[0m\n",
      "\n",
      "[15:29:08] Layer \u001b[1m1\u001b[0m train process start. Time left 9999999998.79 secs\n",
      "[15:29:09] Start fitting \u001b[1mLvl_0_Pipe_0_Mod_0_LinearL2\u001b[0m ...\n",
      "[15:29:11] Fitting \u001b[1mLvl_0_Pipe_0_Mod_0_LinearL2\u001b[0m finished. score = \u001b[1m0.7316410106812673\u001b[0m\n",
      "[15:29:11] \u001b[1mLvl_0_Pipe_0_Mod_0_LinearL2\u001b[0m fitting and predicting completed\n",
      "[15:29:11] Time left 9999999995.80 secs\n",
      "\n",
      "[15:29:11] \u001b[1mLayer 1 training completed.\u001b[0m\n",
      "\n",
      "[15:29:11] Uplift candidate #0 [TLearner__Default] is fitted\n",
      "[15:29:12] Stdout logging level is INFO.\n",
      "[15:29:12] Task: binary\n",
      "\n",
      "[15:29:12] Start automl preset with listed constraints:\n",
      "[15:29:12] - time: 10.00 seconds\n",
      "[15:29:12] - CPU: 4 cores\n",
      "[15:29:12] - memory: 16 GB\n",
      "\n",
      "[15:29:12] \u001b[1mTrain data shape: (1912, 124)\u001b[0m\n",
      "\n"
     ]
    },
    {
     "name": "stderr",
     "output_type": "stream",
     "text": [
      "/home/sasha/workspace/sber_ai_lab/LightAutoML/.venv/lib/python3.7/site-packages/pandas/core/frame.py:4174: SettingWithCopyWarning: \n",
      "A value is trying to be set on a copy of a slice from a DataFrame\n",
      "\n",
      "See the caveats in the documentation: https://pandas.pydata.org/pandas-docs/stable/user_guide/indexing.html#returning-a-view-versus-a-copy\n",
      "  errors=errors,\n"
     ]
    },
    {
     "name": "stdout",
     "output_type": "stream",
     "text": [
      "[15:29:13] Layer \u001b[1m1\u001b[0m train process start. Time left 9.16 secs\n",
      "[15:29:13] Start fitting \u001b[1mLvl_0_Pipe_0_Mod_0_LinearL2\u001b[0m ...\n",
      "[15:29:13] Time limit exceeded after calculating fold 1\n",
      "\n",
      "[15:29:13] Fitting \u001b[1mLvl_0_Pipe_0_Mod_0_LinearL2\u001b[0m finished. score = \u001b[1m0.7585430968726163\u001b[0m\n",
      "[15:29:13] \u001b[1mLvl_0_Pipe_0_Mod_0_LinearL2\u001b[0m fitting and predicting completed\n",
      "[15:29:13] Time left 8.35 secs\n",
      "\n",
      "[15:29:14] \u001b[1mSelector_LightGBM\u001b[0m fitting and predicting completed\n",
      "[15:29:15] Start fitting \u001b[1mLvl_0_Pipe_1_Mod_0_LightGBM\u001b[0m ...\n",
      "[15:29:15] Time limit exceeded after calculating fold 0\n",
      "\n",
      "[15:29:15] Fitting \u001b[1mLvl_0_Pipe_1_Mod_0_LightGBM\u001b[0m finished. score = \u001b[1m0.7342486651411136\u001b[0m\n",
      "[15:29:15] \u001b[1mLvl_0_Pipe_1_Mod_0_LightGBM\u001b[0m fitting and predicting completed\n",
      "[15:29:15] Start fitting \u001b[1mLvl_0_Pipe_1_Mod_2_CatBoost\u001b[0m ...\n",
      "[15:29:17] Time limit exceeded after calculating fold 3\n",
      "\n",
      "[15:29:17] Fitting \u001b[1mLvl_0_Pipe_1_Mod_2_CatBoost\u001b[0m finished. score = \u001b[1m0.6209033816425121\u001b[0m\n",
      "[15:29:17] \u001b[1mLvl_0_Pipe_1_Mod_2_CatBoost\u001b[0m fitting and predicting completed\n",
      "[15:29:17] Start hyperparameters optimization for \u001b[1mLvl_0_Pipe_1_Mod_3_Tuned_CatBoost\u001b[0m ... Time budget is 1.00 secs\n",
      "[15:29:18] Hyperparameters optimization for \u001b[1mLvl_0_Pipe_1_Mod_3_Tuned_CatBoost\u001b[0m completed\n",
      "[15:29:18] Start fitting \u001b[1mLvl_0_Pipe_1_Mod_3_Tuned_CatBoost\u001b[0m ...\n",
      "[15:29:19] Fitting \u001b[1mLvl_0_Pipe_1_Mod_3_Tuned_CatBoost\u001b[0m finished. score = \u001b[1m0.6288181043168255\u001b[0m\n",
      "[15:29:19] \u001b[1mLvl_0_Pipe_1_Mod_3_Tuned_CatBoost\u001b[0m fitting and predicting completed\n",
      "[15:29:19] Time left 2.31 secs\n",
      "\n",
      "[15:29:19] Time limit exceeded in one of the tasks. AutoML will blend level 1 models.\n",
      "\n",
      "[15:29:19] \u001b[1mLayer 1 training completed.\u001b[0m\n",
      "\n",
      "[15:29:20] Blending: optimization starts with equal weights and score \u001b[1m0.6208912655971479\u001b[0m\n",
      "[15:29:20] Blending: iteration \u001b[1m0\u001b[0m: score = \u001b[1m0.6339269937223901\u001b[0m, weights = \u001b[1m[0.09488185 0.27866274 0.08376218 0.5426932 ]\u001b[0m\n",
      "[15:29:20] Blending: iteration \u001b[1m1\u001b[0m: score = \u001b[1m0.6341005967604434\u001b[0m, weights = \u001b[1m[0.16836354 0.23606798 0.07963236 0.5159362 ]\u001b[0m\n",
      "[15:29:20] Blending: iteration \u001b[1m2\u001b[0m: score = \u001b[1m0.6341005967604434\u001b[0m, weights = \u001b[1m[0.16836354 0.23606798 0.07963236 0.5159362 ]\u001b[0m\n",
      "[15:29:20] Blending: no score update. Terminated\n",
      "\n",
      "[15:29:20] \u001b[1mAutoml preset training completed in 7.84 seconds\u001b[0m\n",
      "\n",
      "[15:29:20] Model description:\n",
      "Final prediction for new objects (level 0) = \n",
      "\t 0.16836 * (2 averaged models Lvl_0_Pipe_0_Mod_0_LinearL2) +\n",
      "\t 0.23607 * (1 averaged models Lvl_0_Pipe_1_Mod_0_LightGBM) +\n",
      "\t 0.07963 * (4 averaged models Lvl_0_Pipe_1_Mod_2_CatBoost) +\n",
      "\t 0.51594 * (5 averaged models Lvl_0_Pipe_1_Mod_3_Tuned_CatBoost) \n",
      "\n",
      "[15:29:20] \u001b[1mTrain data shape: (3688, 124)\u001b[0m\n",
      "\n",
      "[15:29:21] Layer \u001b[1m1\u001b[0m train process start. Time left 9999999998.90 secs\n",
      "[15:29:21] Start fitting \u001b[1mLvl_0_Pipe_0_Mod_0_LinearL2\u001b[0m ...\n",
      "[15:29:24] Fitting \u001b[1mLvl_0_Pipe_0_Mod_0_LinearL2\u001b[0m finished. score = \u001b[1m0.7316858899560184\u001b[0m\n",
      "[15:29:24] \u001b[1mLvl_0_Pipe_0_Mod_0_LinearL2\u001b[0m fitting and predicting completed\n",
      "[15:29:24] Time left 9999999995.98 secs\n",
      "\n",
      "[15:29:24] \u001b[1mLayer 1 training completed.\u001b[0m\n",
      "\n",
      "[15:29:24] Uplift candidate #1 [TLearner__Custom] is fitted\n",
      "[15:29:24] \u001b[1mTrain data shape: (5600, 124)\u001b[0m\n",
      "\n",
      "[15:29:26] Layer \u001b[1m1\u001b[0m train process start. Time left 9999999998.67 secs\n",
      "[15:29:26] Start fitting \u001b[1mLvl_0_Pipe_0_Mod_0_LinearL2\u001b[0m ...\n",
      "[15:29:32] Fitting \u001b[1mLvl_0_Pipe_0_Mod_0_LinearL2\u001b[0m finished. score = \u001b[1m0.8669192575263889\u001b[0m\n",
      "[15:29:32] \u001b[1mLvl_0_Pipe_0_Mod_0_LinearL2\u001b[0m fitting and predicting completed\n",
      "[15:29:32] Time left 9999999992.29 secs\n",
      "\n",
      "[15:29:32] \u001b[1mLayer 1 training completed.\u001b[0m\n",
      "\n",
      "[15:29:32] Stdout logging level is INFO.\n",
      "[15:29:32] Task: binary\n",
      "\n",
      "[15:29:32] Start automl preset with listed constraints:\n",
      "[15:29:32] - time: 10.00 seconds\n",
      "[15:29:32] - CPU: 4 cores\n",
      "[15:29:32] - memory: 16 GB\n",
      "\n",
      "[15:29:32] \u001b[1mTrain data shape: (3688, 124)\u001b[0m\n",
      "\n",
      "[15:29:33] Layer \u001b[1m1\u001b[0m train process start. Time left 8.94 secs\n",
      "[15:29:33] Start fitting \u001b[1mLvl_0_Pipe_0_Mod_0_LinearL2\u001b[0m ...\n",
      "[15:29:34] Time limit exceeded after calculating fold 1\n",
      "\n",
      "[15:29:34] Fitting \u001b[1mLvl_0_Pipe_0_Mod_0_LinearL2\u001b[0m finished. score = \u001b[1m0.755690737833595\u001b[0m\n",
      "[15:29:34] \u001b[1mLvl_0_Pipe_0_Mod_0_LinearL2\u001b[0m fitting and predicting completed\n",
      "[15:29:34] Time left 7.75 secs\n",
      "\n",
      "[15:29:35] \u001b[1mSelector_LightGBM\u001b[0m fitting and predicting completed\n",
      "[15:29:35] Start fitting \u001b[1mLvl_0_Pipe_1_Mod_0_LightGBM\u001b[0m ...\n",
      "[15:29:37] Time limit exceeded after calculating fold 0\n",
      "\n",
      "[15:29:37] Fitting \u001b[1mLvl_0_Pipe_1_Mod_0_LightGBM\u001b[0m finished. score = \u001b[1m0.7462155191747027\u001b[0m\n",
      "[15:29:37] \u001b[1mLvl_0_Pipe_1_Mod_0_LightGBM\u001b[0m fitting and predicting completed\n",
      "[15:29:37] Start fitting \u001b[1mLvl_0_Pipe_1_Mod_2_CatBoost\u001b[0m ...\n",
      "[15:29:38] Time limit exceeded after calculating fold 1\n",
      "\n",
      "[15:29:38] Fitting \u001b[1mLvl_0_Pipe_1_Mod_2_CatBoost\u001b[0m finished. score = \u001b[1m0.7192475891455483\u001b[0m\n",
      "[15:29:38] \u001b[1mLvl_0_Pipe_1_Mod_2_CatBoost\u001b[0m fitting and predicting completed\n",
      "[15:29:38] Time left 3.64 secs\n",
      "\n",
      "[15:29:38] Time limit exceeded in one of the tasks. AutoML will blend level 1 models.\n",
      "\n",
      "[15:29:38] \u001b[1mLayer 1 training completed.\u001b[0m\n",
      "\n",
      "[15:29:38] Blending: optimization starts with equal weights and score \u001b[1m0.7631685916124691\u001b[0m\n",
      "[15:29:38] Blending: iteration \u001b[1m0\u001b[0m: score = \u001b[1m0.7672684458398745\u001b[0m, weights = \u001b[1m[0.47875783 0.3185558  0.20268638]\u001b[0m\n",
      "[15:29:38] Blending: iteration \u001b[1m1\u001b[0m: score = \u001b[1m0.7673945952007177\u001b[0m, weights = \u001b[1m[0.491229   0.31012213 0.19864886]\u001b[0m\n",
      "[15:29:38] Blending: iteration \u001b[1m2\u001b[0m: score = \u001b[1m0.7673945952007177\u001b[0m, weights = \u001b[1m[0.491229   0.31012213 0.19864886]\u001b[0m\n",
      "[15:29:38] Blending: no score update. Terminated\n",
      "\n",
      "[15:29:38] \u001b[1mAutoml preset training completed in 6.48 seconds\u001b[0m\n",
      "\n",
      "[15:29:38] Model description:\n",
      "Final prediction for new objects (level 0) = \n",
      "\t 0.49123 * (2 averaged models Lvl_0_Pipe_0_Mod_0_LinearL2) +\n",
      "\t 0.31012 * (1 averaged models Lvl_0_Pipe_1_Mod_0_LightGBM) +\n",
      "\t 0.19865 * (2 averaged models Lvl_0_Pipe_1_Mod_2_CatBoost) \n",
      "\n",
      "[15:29:38] \u001b[1mTrain data shape: (1912, 124)\u001b[0m\n",
      "\n",
      "[15:29:39] Layer \u001b[1m1\u001b[0m train process start. Time left 9999999999.06 secs\n",
      "[15:29:40] Start fitting \u001b[1mLvl_0_Pipe_0_Mod_0_LinearL2\u001b[0m ...\n",
      "[15:29:42] Fitting \u001b[1mLvl_0_Pipe_0_Mod_0_LinearL2\u001b[0m finished. score = \u001b[1m0.7125691699604744\u001b[0m\n",
      "[15:29:42] \u001b[1mLvl_0_Pipe_0_Mod_0_LinearL2\u001b[0m fitting and predicting completed\n",
      "[15:29:42] Time left 9999999996.63 secs\n",
      "\n",
      "[15:29:42] \u001b[1mLayer 1 training completed.\u001b[0m\n",
      "\n",
      "[15:29:42] Stdout logging level is INFO.\n",
      "[15:29:42] Task: reg\n",
      "\n",
      "[15:29:42] Start automl preset with listed constraints:\n",
      "[15:29:42] - time: 5.00 seconds\n",
      "[15:29:42] - CPU: 4 cores\n",
      "[15:29:42] - memory: 16 GB\n",
      "\n",
      "[15:29:42] \u001b[1mTrain data shape: (3688, 124)\u001b[0m\n",
      "\n",
      "[15:29:43] Layer \u001b[1m1\u001b[0m train process start. Time left 4.06 secs\n",
      "[15:29:43] Start fitting \u001b[1mLvl_0_Pipe_0_Mod_0_LinearL2\u001b[0m ...\n",
      "[15:29:44] Time limit exceeded after calculating fold 1\n",
      "\n",
      "[15:29:44] Fitting \u001b[1mLvl_0_Pipe_0_Mod_0_LinearL2\u001b[0m finished. score = \u001b[1m-0.06596348552108754\u001b[0m\n",
      "[15:29:44] \u001b[1mLvl_0_Pipe_0_Mod_0_LinearL2\u001b[0m fitting and predicting completed\n",
      "[15:29:44] Time left 3.36 secs\n",
      "\n",
      "[15:29:45] \u001b[1mSelector_LightGBM\u001b[0m fitting and predicting completed\n",
      "[15:29:45] Start fitting \u001b[1mLvl_0_Pipe_1_Mod_0_LightGBM\u001b[0m ...\n",
      "[15:29:46] Time limit exceeded after calculating fold 0\n",
      "\n",
      "[15:29:46] Fitting \u001b[1mLvl_0_Pipe_1_Mod_0_LightGBM\u001b[0m finished. score = \u001b[1m-0.07005337899927527\u001b[0m\n",
      "[15:29:46] \u001b[1mLvl_0_Pipe_1_Mod_0_LightGBM\u001b[0m fitting and predicting completed\n",
      "[15:29:46] Start fitting \u001b[1mLvl_0_Pipe_1_Mod_2_CatBoost\u001b[0m ...\n",
      "[15:29:46] Time limit exceeded after calculating fold 0\n",
      "\n",
      "[15:29:46] Fitting \u001b[1mLvl_0_Pipe_1_Mod_2_CatBoost\u001b[0m finished. score = \u001b[1m-0.07061489178363499\u001b[0m\n",
      "[15:29:46] \u001b[1mLvl_0_Pipe_1_Mod_2_CatBoost\u001b[0m fitting and predicting completed\n",
      "[15:29:46] Time left 0.64 secs\n",
      "\n",
      "[15:29:46] Time limit exceeded in one of the tasks. AutoML will blend level 1 models.\n",
      "\n",
      "[15:29:46] \u001b[1mLayer 1 training completed.\u001b[0m\n",
      "\n",
      "[15:29:46] Blending: optimization starts with equal weights and score \u001b[1m-0.06578932609165491\u001b[0m\n",
      "[15:29:46] Blending: iteration \u001b[1m0\u001b[0m: score = \u001b[1m-0.06572495244171953\u001b[0m, weights = \u001b[1m[0.23476958 0.7652304  0.        ]\u001b[0m\n",
      "[15:29:46] Blending: iteration \u001b[1m1\u001b[0m: score = \u001b[1m-0.06571345213514614\u001b[0m, weights = \u001b[1m[0.36990303 0.630097   0.        ]\u001b[0m\n",
      "[15:29:46] Blending: iteration \u001b[1m2\u001b[0m: score = \u001b[1m-0.06571345213514614\u001b[0m, weights = \u001b[1m[0.36990303 0.630097   0.        ]\u001b[0m\n",
      "[15:29:46] Blending: no score update. Terminated\n",
      "\n",
      "[15:29:46] \u001b[1mAutoml preset training completed in 4.42 seconds\u001b[0m\n",
      "\n",
      "[15:29:46] Model description:\n",
      "Final prediction for new objects (level 0) = \n",
      "\t 0.36990 * (2 averaged models Lvl_0_Pipe_0_Mod_0_LinearL2) +\n",
      "\t 0.63010 * (1 averaged models Lvl_0_Pipe_1_Mod_0_LightGBM) \n",
      "\n",
      "[15:29:47] Stdout logging level is INFO.\n",
      "[15:29:47] Task: reg\n",
      "\n",
      "[15:29:47] Start automl preset with listed constraints:\n",
      "[15:29:47] - time: 5.00 seconds\n",
      "[15:29:47] - CPU: 4 cores\n",
      "[15:29:47] - memory: 16 GB\n",
      "\n",
      "[15:29:47] \u001b[1mTrain data shape: (1912, 124)\u001b[0m\n",
      "\n",
      "[15:29:48] Layer \u001b[1m1\u001b[0m train process start. Time left 4.14 secs\n",
      "[15:29:48] Start fitting \u001b[1mLvl_0_Pipe_0_Mod_0_LinearL2\u001b[0m ...\n",
      "[15:29:48] Time limit exceeded after calculating fold 1\n",
      "\n",
      "[15:29:48] Fitting \u001b[1mLvl_0_Pipe_0_Mod_0_LinearL2\u001b[0m finished. score = \u001b[1m-0.07497670746445599\u001b[0m\n",
      "[15:29:48] \u001b[1mLvl_0_Pipe_0_Mod_0_LinearL2\u001b[0m fitting and predicting completed\n",
      "[15:29:48] Time left 3.48 secs\n",
      "\n",
      "[15:29:49] \u001b[1mSelector_LightGBM\u001b[0m fitting and predicting completed\n",
      "[15:29:49] Start fitting \u001b[1mLvl_0_Pipe_1_Mod_0_LightGBM\u001b[0m ...\n",
      "[15:29:49] Time limit exceeded after calculating fold 1\n",
      "\n",
      "[15:29:49] Fitting \u001b[1mLvl_0_Pipe_1_Mod_0_LightGBM\u001b[0m finished. score = \u001b[1m-0.07537321398159538\u001b[0m\n",
      "[15:29:49] \u001b[1mLvl_0_Pipe_1_Mod_0_LightGBM\u001b[0m fitting and predicting completed\n",
      "[15:29:49] Start fitting \u001b[1mLvl_0_Pipe_1_Mod_2_CatBoost\u001b[0m ...\n",
      "[15:29:50] Time limit exceeded after calculating fold 2\n",
      "\n",
      "[15:29:50] Fitting \u001b[1mLvl_0_Pipe_1_Mod_2_CatBoost\u001b[0m finished. score = \u001b[1m-0.07978522550968345\u001b[0m\n",
      "[15:29:50] \u001b[1mLvl_0_Pipe_1_Mod_2_CatBoost\u001b[0m fitting and predicting completed\n",
      "[15:29:50] Start hyperparameters optimization for \u001b[1mLvl_0_Pipe_1_Mod_3_Tuned_CatBoost\u001b[0m ... Time budget is 1.00 secs\n",
      "[15:29:51] Hyperparameters optimization for \u001b[1mLvl_0_Pipe_1_Mod_3_Tuned_CatBoost\u001b[0m completed\n",
      "[15:29:51] Time left 0.83 secs\n",
      "\n",
      "[15:29:51] Time limit exceeded in one of the tasks. AutoML will blend level 1 models.\n",
      "\n",
      "[15:29:51] \u001b[1mLayer 1 training completed.\u001b[0m\n",
      "\n",
      "[15:29:51] Blending: optimization starts with equal weights and score \u001b[1m-0.07954854386873532\u001b[0m\n",
      "[15:29:51] Blending: iteration \u001b[1m0\u001b[0m: score = \u001b[1m-0.07949306454290274\u001b[0m, weights = \u001b[1m[0.653894   0.20892785 0.1371782 ]\u001b[0m\n",
      "[15:29:51] Blending: iteration \u001b[1m1\u001b[0m: score = \u001b[1m-0.07949290465059673\u001b[0m, weights = \u001b[1m[0.6493227  0.22429578 0.1263815 ]\u001b[0m\n",
      "[15:29:51] Blending: iteration \u001b[1m2\u001b[0m: score = \u001b[1m-0.07949288231746181\u001b[0m, weights = \u001b[1m[0.6475268  0.23004057 0.12243266]\u001b[0m\n",
      "[15:29:51] Blending: iteration \u001b[1m3\u001b[0m: score = \u001b[1m-0.07949287920525457\u001b[0m, weights = \u001b[1m[0.64684296 0.23217234 0.12098474]\u001b[0m\n",
      "[15:29:51] Blending: iteration \u001b[1m4\u001b[0m: score = \u001b[1m-0.07949287879027574\u001b[0m, weights = \u001b[1m[0.64659244 0.23295604 0.12045149]\u001b[0m\n",
      "[15:29:51] \u001b[1mAutoml preset training completed in 4.25 seconds\u001b[0m\n",
      "\n",
      "[15:29:51] Model description:\n",
      "Final prediction for new objects (level 0) = \n",
      "\t 0.64659 * (2 averaged models Lvl_0_Pipe_0_Mod_0_LinearL2) +\n",
      "\t 0.23296 * (2 averaged models Lvl_0_Pipe_1_Mod_0_LightGBM) +\n",
      "\t 0.12045 * (3 averaged models Lvl_0_Pipe_1_Mod_2_CatBoost) \n",
      "\n",
      "[15:29:51] Uplift candidate #2 [XLearner__Custom] is fitted\n",
      "CPU times: user 2min 32s, sys: 15.9 s, total: 2min 48s\n",
      "Wall time: 47.8 s\n"
     ]
    }
   ],
   "source": [
    "%%time\n",
    "\n",
    "# Set uplift candidate for choosing best of them\n",
    "# !!!ATTENTION!!!\n",
    "#    This is a demonstration of the possibilities, \n",
    "#    You may use default set of candidates \n",
    "\n",
    "task = Task('binary')\n",
    "\n",
    "uplift_candidates = [\n",
    "    MetaLearnerWrapper(\n",
    "        name='TLearner__Default', \n",
    "        klass=metalearners.TLearner, \n",
    "        params={'base_task': task}\n",
    "    ),  \n",
    "    MetaLearnerWrapper(\n",
    "        name='TLearner__Custom', \n",
    "        klass=metalearners.TLearner, \n",
    "        params={\n",
    "            'treatment_learner': BaseLearnerWrapper(\n",
    "                name='__TabularAutoML__',\n",
    "                klass=TabularAutoML, \n",
    "                params={'task': task, 'timeout': 10}),\n",
    "            'control_learner': BaseLearnerWrapper(\n",
    "                name='__Linear__',\n",
    "                klass=create_linear_automl,\n",
    "                params={'task': Task('binary')})\n",
    "        }\n",
    "    ),\n",
    "    MetaLearnerWrapper(\n",
    "        name='XLearner__Custom',\n",
    "        klass=metalearners.XLearner,\n",
    "        params={\n",
    "            'outcome_learners': [\n",
    "                TabularAutoML(task=task, timeout=10), # [sec] , Only speed up example, don't change it!\n",
    "                create_linear_automl(task=Task('binary'))\n",
    "            ],\n",
    "            'effect_learners': [BaseLearnerWrapper(\n",
    "                name='__TabularAutoML__',\n",
    "                klass=TabularAutoML, \n",
    "                params={'task': Task('reg'), 'timeout': 5})],\n",
    "            'propensity_learner': create_linear_automl(task=Task('binary')),\n",
    "        }    \n",
    "    )\n",
    "]\n",
    "\n",
    "autouplift = AutoUplift(task,\n",
    "                        uplift_candidates=uplift_candidates, \n",
    "                        metric='adj_qini', \n",
    "                        test_size=0.2, \n",
    "                        threshold_imbalance_treatment=0.0,    # Doesn't affect, see warnings\n",
    "                        timeout=600)                          # Doesn't affect, see warnings\n",
    "\n",
    "autouplift.fit(train, roles, verbose=1)"
   ]
  },
  {
   "cell_type": "markdown",
   "metadata": {},
   "source": [
    "### Show rating of uplift methods (meta-learners)"
   ]
  },
  {
   "cell_type": "code",
   "execution_count": 17,
   "metadata": {},
   "outputs": [
    {
     "name": "stdout",
     "output_type": "stream",
     "text": [
      "CPU times: user 1.8 ms, sys: 280 µs, total: 2.08 ms\n",
      "Wall time: 1.87 ms\n"
     ]
    }
   ],
   "source": [
    "%%time\n",
    "\n",
    "rating_table = autouplift.get_metalearners_ranting()\n",
    "rating_table"
   ]
  },
  {
   "cell_type": "markdown",
   "metadata": {},
   "source": [
    "### Predict to test data and check metrics"
   ]
  },
  {
   "cell_type": "code",
   "execution_count": 18,
   "metadata": {},
   "outputs": [
    {
     "name": "stdout",
     "output_type": "stream",
     "text": [
      "--- Check scores ---\n",
      "OOF scores \"ROC_AUC\":\n",
      "\tTreatment = 0.68803\n",
      "\tControl   = 0.74497\n",
      "Uplift score of test group (default=\"adj_qini\"):\n",
      "\tBaseline      = 0.01340\n",
      "\tAlgo (Normed) = 0.02607 (0.15647)\n",
      "\tPerfect       = 0.09438\n",
      "CPU times: user 2.47 s, sys: 42 ms, total: 2.51 s\n",
      "Wall time: 1.3 s\n"
     ]
    }
   ],
   "source": [
    "%%time\n",
    "\n",
    "uplift_pred, treatment_pred, control_pred = autouplift.predict(test)\n",
    "uplift_pred = uplift_pred.ravel()\n",
    "\n",
    "roc_auc_treatment = roc_auc_score(test_target[test_treatment == 1], treatment_pred[test_treatment == 1])\n",
    "roc_auc_control = roc_auc_score(test_target[test_treatment == 0], control_pred[test_treatment == 0])\n",
    "\n",
    "uplift_auc_algo = calculate_uplift_auc(test_target, uplift_pred, test_treatment, normed=False)\n",
    "uplift_auc_algo_normed = calculate_uplift_auc(test_target, uplift_pred, test_treatment, normed=True)\n",
    "auc_base, auc_perfect = calculate_min_max_uplift_auc(test_target, test_treatment)\n",
    "\n",
    "print('--- Check scores ---')\n",
    "print('OOF scores \"ROC_AUC\":')\n",
    "print('\\tTreatment = {:.5f}'.format(roc_auc_treatment))\n",
    "print('\\tControl   = {:.5f}'.format(roc_auc_control))\n",
    "print('Uplift score of test group (default=\"adj_qini\"):')\n",
    "print('\\tBaseline      = {:.5f}'.format(auc_base))\n",
    "print('\\tAlgo (Normed) = {:.5f} ({:.5f})'.format(uplift_auc_algo, uplift_auc_algo_normed))\n",
    "print('\\tPerfect       = {:.5f}'.format(auc_perfect))"
   ]
  },
  {
   "cell_type": "markdown",
   "metadata": {},
   "source": [
    "## AutoUplift with custom metric"
   ]
  },
  {
   "cell_type": "markdown",
   "metadata": {},
   "source": [
    "### Fit autouplift"
   ]
  },
  {
   "cell_type": "code",
   "execution_count": 19,
   "metadata": {},
   "outputs": [
    {
     "name": "stderr",
     "output_type": "stream",
     "text": [
      "/home/sasha/workspace/sber_ai_lab/LightAutoML/.venv/lib/python3.7/site-packages/pandas/core/frame.py:4174: SettingWithCopyWarning: \n",
      "A value is trying to be set on a copy of a slice from a DataFrame\n",
      "\n",
      "See the caveats in the documentation: https://pandas.pydata.org/pandas-docs/stable/user_guide/indexing.html#returning-a-view-versus-a-copy\n",
      "  errors=errors,\n",
      "/home/sasha/workspace/sber_ai_lab/LightAutoML/.venv/lib/python3.7/site-packages/pandas/core/frame.py:4174: SettingWithCopyWarning: \n",
      "A value is trying to be set on a copy of a slice from a DataFrame\n",
      "\n",
      "See the caveats in the documentation: https://pandas.pydata.org/pandas-docs/stable/user_guide/indexing.html#returning-a-view-versus-a-copy\n",
      "  errors=errors,\n",
      "/home/sasha/workspace/sber_ai_lab/LightAutoML/lightautoml/addons/uplift/metalearners.py:566: SettingWithCopyWarning: \n",
      "A value is trying to be set on a copy of a slice from a DataFrame.\n",
      "Try using .loc[row_indexer,col_indexer] = value instead\n",
      "\n",
      "See the caveats in the documentation: https://pandas.pydata.org/pandas-docs/stable/user_guide/indexing.html#returning-a-view-versus-a-copy\n",
      "  dependent_train_data[self._other_group_pred_col] = sg_oof_pred\n",
      "/home/sasha/workspace/sber_ai_lab/LightAutoML/.venv/lib/python3.7/site-packages/pandas/core/frame.py:4174: SettingWithCopyWarning: \n",
      "A value is trying to be set on a copy of a slice from a DataFrame\n",
      "\n",
      "See the caveats in the documentation: https://pandas.pydata.org/pandas-docs/stable/user_guide/indexing.html#returning-a-view-versus-a-copy\n",
      "  errors=errors,\n",
      "/home/sasha/workspace/sber_ai_lab/LightAutoML/.venv/lib/python3.7/site-packages/pandas/core/frame.py:4174: SettingWithCopyWarning: \n",
      "A value is trying to be set on a copy of a slice from a DataFrame\n",
      "\n",
      "See the caveats in the documentation: https://pandas.pydata.org/pandas-docs/stable/user_guide/indexing.html#returning-a-view-versus-a-copy\n",
      "  errors=errors,\n",
      "/home/sasha/workspace/sber_ai_lab/LightAutoML/lightautoml/addons/uplift/metalearners.py:566: SettingWithCopyWarning: \n",
      "A value is trying to be set on a copy of a slice from a DataFrame.\n",
      "Try using .loc[row_indexer,col_indexer] = value instead\n",
      "\n",
      "See the caveats in the documentation: https://pandas.pydata.org/pandas-docs/stable/user_guide/indexing.html#returning-a-view-versus-a-copy\n",
      "  dependent_train_data[self._other_group_pred_col] = sg_oof_pred\n"
     ]
    },
    {
     "name": "stdout",
     "output_type": "stream",
     "text": [
      "CPU times: user 4min 36s, sys: 2.68 s, total: 4min 39s\n",
      "Wall time: 1min 41s\n"
     ]
    }
   ],
   "source": [
    "%%time\n",
    "\n",
    "# Using a custom metric\n",
    "# How to determine custom metric, see below\n",
    "\n",
    "task = Task('binary')\n",
    "\n",
    "\n",
    "class CustomUpliftMetric(TUpliftMetric):\n",
    "    def __call__(self, target: np.ndarray, uplift_pred: np.ndarray, treatment: np.ndarray) -> float:\n",
    "        up_10 = calculate_uplift_at_top(target, uplift_pred, treatment, 10)\n",
    "        up_20 = calculate_uplift_at_top(target, uplift_pred, treatment, 20)\n",
    "    \n",
    "        return 0.5 * (up_10 + up_20)\n",
    "\n",
    "autouplift = AutoUplift(task,\n",
    "                        add_dd_candidates=True,\n",
    "                        metric=CustomUpliftMetric(), \n",
    "                        test_size=0.2, \n",
    "                        threshold_imbalance_treatment=0.0,\n",
    "                        cpu_limit=10,\n",
    "                        timeout=100)\n",
    "\n",
    "autouplift.fit(train, roles)"
   ]
  },
  {
   "cell_type": "markdown",
   "metadata": {},
   "source": [
    "### Show rating of uplift methods (meta-learners)"
   ]
  },
  {
   "cell_type": "code",
   "execution_count": 20,
   "metadata": {},
   "outputs": [
    {
     "name": "stdout",
     "output_type": "stream",
     "text": [
      "CPU times: user 1.91 ms, sys: 234 µs, total: 2.15 ms\n",
      "Wall time: 1.88 ms\n"
     ]
    }
   ],
   "source": [
    "%%time\n",
    "\n",
    "rating_table = autouplift.get_metalearners_ranting()\n",
    "rating_table"
   ]
  },
  {
   "cell_type": "markdown",
   "metadata": {},
   "source": [
    "## MetaLearner"
   ]
  },
  {
   "cell_type": "markdown",
   "metadata": {},
   "source": [
    "### TLearner"
   ]
  },
  {
   "cell_type": "markdown",
   "metadata": {},
   "source": [
    "#### Fit on train data"
   ]
  },
  {
   "cell_type": "code",
   "execution_count": 21,
   "metadata": {
    "scrolled": true
   },
   "outputs": [
    {
     "name": "stderr",
     "output_type": "stream",
     "text": [
      "/home/sasha/workspace/sber_ai_lab/LightAutoML/.venv/lib/python3.7/site-packages/pandas/core/frame.py:4174: SettingWithCopyWarning: \n",
      "A value is trying to be set on a copy of a slice from a DataFrame\n",
      "\n",
      "See the caveats in the documentation: https://pandas.pydata.org/pandas-docs/stable/user_guide/indexing.html#returning-a-view-versus-a-copy\n",
      "  errors=errors,\n"
     ]
    },
    {
     "name": "stdout",
     "output_type": "stream",
     "text": [
      "CPU times: user 20.5 s, sys: 29.4 ms, total: 20.6 s\n",
      "Wall time: 7.71 s\n"
     ]
    }
   ],
   "source": [
    "%%time\n",
    "\n",
    "# Default setting\n",
    "tlearner = metalearners.TLearner(base_task=Task('binary'), cpu_limit=5)\n",
    "tlearner.fit(train, roles)"
   ]
  },
  {
   "cell_type": "markdown",
   "metadata": {},
   "source": [
    "#### Predict to test data and check metrics"
   ]
  },
  {
   "cell_type": "code",
   "execution_count": 22,
   "metadata": {},
   "outputs": [
    {
     "name": "stdout",
     "output_type": "stream",
     "text": [
      "--- Check scores ---\n",
      "OOF scores \"ROC_AUC\":\n",
      "\tTreatment = 0.68530\n",
      "\tControl   = 0.73299\n",
      "Uplift score of test group (default=\"adj_qini\"):\n",
      "\tBaseline      = 0.01340\n",
      "\tAlgo (Normed) = 0.01676 (0.04140)\n",
      "\tPerfect       = 0.09438\n",
      "CPU times: user 648 ms, sys: 10.8 ms, total: 659 ms\n",
      "Wall time: 529 ms\n"
     ]
    }
   ],
   "source": [
    "%%time\n",
    "\n",
    "uplift_pred, treatment_pred, control_pred = tlearner.predict(test)\n",
    "uplift_pred = uplift_pred.ravel()\n",
    "\n",
    "roc_auc_treatment = roc_auc_score(test_target[test_treatment == 1], treatment_pred[test_treatment == 1])\n",
    "roc_auc_control = roc_auc_score(test_target[test_treatment == 0], control_pred[test_treatment == 0])\n",
    "\n",
    "uplift_auc_algo = calculate_uplift_auc(test_target, uplift_pred, test_treatment, normed=False)\n",
    "uplift_auc_algo_normed = calculate_uplift_auc(test_target, uplift_pred, test_treatment, normed=True)\n",
    "auc_base, auc_perfect = calculate_min_max_uplift_auc(test_target, test_treatment)\n",
    "\n",
    "print('--- Check scores ---')\n",
    "print('OOF scores \"ROC_AUC\":')\n",
    "print('\\tTreatment = {:.5f}'.format(roc_auc_treatment))\n",
    "print('\\tControl   = {:.5f}'.format(roc_auc_control))\n",
    "print('Uplift score of test group (default=\"adj_qini\"):')\n",
    "print('\\tBaseline      = {:.5f}'.format(auc_base))\n",
    "print('\\tAlgo (Normed) = {:.5f} ({:.5f})'.format(uplift_auc_algo, uplift_auc_algo_normed))\n",
    "print('\\tPerfect       = {:.5f}'.format(auc_perfect))"
   ]
  },
  {
   "cell_type": "markdown",
   "metadata": {},
   "source": [
    "### XLearner"
   ]
  },
  {
   "cell_type": "markdown",
   "metadata": {},
   "source": [
    "#### Fit on train data"
   ]
  },
  {
   "cell_type": "code",
   "execution_count": 23,
   "metadata": {
    "scrolled": true
   },
   "outputs": [
    {
     "name": "stdout",
     "output_type": "stream",
     "text": [
      "CPU times: user 2min 50s, sys: 19.9 s, total: 3min 10s\n",
      "Wall time: 49.7 s\n"
     ]
    }
   ],
   "source": [
    "%%time\n",
    "\n",
    "# Custom base algorithm\n",
    "xlearner = metalearners.XLearner(\n",
    "    propensity_learner=TabularAutoML(task=Task('binary'), timeout=10),\n",
    "    outcome_learners=[\n",
    "        TabularAutoML(task=Task('binary'), timeout=10),\n",
    "        TabularAutoML(task=Task('binary'), timeout=10)\n",
    "    ],\n",
    "    effect_learners=[\n",
    "        TabularAutoML(task=Task('reg'), timeout=10),\n",
    "        TabularAutoML(task=Task('reg'), timeout=10)\n",
    "    ]\n",
    ")\n",
    "xlearner.fit(train, roles)"
   ]
  },
  {
   "cell_type": "markdown",
   "metadata": {},
   "source": [
    "#### Predict to test data and check metrics"
   ]
  },
  {
   "cell_type": "code",
   "execution_count": 24,
   "metadata": {},
   "outputs": [
    {
     "name": "stdout",
     "output_type": "stream",
     "text": [
      "--- Check scores ---\n",
      "OOF scores \"ROC_AUC\":\n",
      "\tTreatment = 0.68045\n",
      "\tControl   = 0.71389\n",
      "Uplift score of test group (default=\"adj_qini\"):\n",
      "\tBaseline      = 0.01340\n",
      "\tAlgo (Normed) = 0.02685 (0.16604)\n",
      "\tPerfect       = 0.09438\n",
      "CPU times: user 4.96 s, sys: 251 ms, total: 5.21 s\n",
      "Wall time: 1.92 s\n"
     ]
    }
   ],
   "source": [
    "%%time\n",
    "\n",
    "uplift_pred, treatment_pred, control_pred = xlearner.predict(test)\n",
    "uplift_pred = uplift_pred.ravel()\n",
    "\n",
    "roc_auc_treatment = roc_auc_score(test_target[test_treatment == 1], treatment_pred[test_treatment == 1])\n",
    "roc_auc_control = roc_auc_score(test_target[test_treatment == 0], control_pred[test_treatment == 0])\n",
    "\n",
    "uplift_auc_algo = calculate_uplift_auc(test_target, uplift_pred, test_treatment, normed=False)\n",
    "uplift_auc_algo_normed = calculate_uplift_auc(test_target, uplift_pred, test_treatment, normed=True)\n",
    "auc_base, auc_perfect = calculate_min_max_uplift_auc(test_target, test_treatment)\n",
    "\n",
    "print('--- Check scores ---')\n",
    "print('OOF scores \"ROC_AUC\":')\n",
    "print('\\tTreatment = {:.5f}'.format(roc_auc_treatment))\n",
    "print('\\tControl   = {:.5f}'.format(roc_auc_control))\n",
    "print('Uplift score of test group (default=\"adj_qini\"):')\n",
    "print('\\tBaseline      = {:.5f}'.format(auc_base))\n",
    "print('\\tAlgo (Normed) = {:.5f} ({:.5f})'.format(uplift_auc_algo, uplift_auc_algo_normed))\n",
    "print('\\tPerfect       = {:.5f}'.format(auc_perfect))"
   ]
  },
  {
   "cell_type": "markdown",
   "metadata": {},
   "source": [
    "## Uplift metrics and graphics (using xlearner predictions)"
   ]
  },
  {
   "cell_type": "code",
   "execution_count": 25,
   "metadata": {},
   "outputs": [
    {
     "name": "stdout",
     "output_type": "stream",
     "text": [
      "All available uplift metrics: ('qini', 'cum_gain', 'adj_qini')\n",
      "CPU times: user 469 µs, sys: 56 µs, total: 525 µs\n",
      "Wall time: 417 µs\n"
     ]
    }
   ],
   "source": [
    "%%time \n",
    "\n",
    "UPLIFT_METRIC = 'adj_qini'\n",
    "\n",
    "print(\"All available uplift metrics: {}\".format(_available_uplift_modes))"
   ]
  },
  {
   "cell_type": "markdown",
   "metadata": {},
   "source": [
    "### Algorithm uplift curve "
   ]
  },
  {
   "cell_type": "code",
   "execution_count": 26,
   "metadata": {},
   "outputs": [
    {
     "name": "stdout",
     "output_type": "stream",
     "text": [
      "CPU times: user 1.19 ms, sys: 143 µs, total: 1.34 ms\n",
      "Wall time: 887 µs\n"
     ]
    }
   ],
   "source": [
    "%%time\n",
    "\n",
    "# Algorithm curve\n",
    "xs_xlearner, ys_xlearner = calculate_graphic_uplift_curve(\n",
    "    test_target, uplift_pred, test_treatment, mode=UPLIFT_METRIC\n",
    ")"
   ]
  },
  {
   "cell_type": "markdown",
   "metadata": {},
   "source": [
    "### Baseline, perfect curve"
   ]
  },
  {
   "cell_type": "code",
   "execution_count": 27,
   "metadata": {},
   "outputs": [],
   "source": [
    "# Baseline curve\n",
    "xs_base, ys_base = xs_xlearner, xs_xlearner * ys_xlearner[-1]\n",
    "\n",
    "# Perfect curver\n",
    "perfect_uplift = perfect_uplift_curve(test_target, test_treatment)\n",
    "xs_perfect, ys_perfect = calculate_graphic_uplift_curve(\n",
    "    test_target, perfect_uplift, test_treatment, mode=UPLIFT_METRIC)"
   ]
  },
  {
   "cell_type": "code",
   "execution_count": 28,
   "metadata": {},
   "outputs": [
    {
     "data": {
      "image/png": "[encoded data removed]",
      "text/plain": [
       "<Figure size 720x504 with 1 Axes>"
      ]
     },
     "metadata": {
      "needs_background": "light"
     },
     "output_type": "display_data"
    }
   ],
   "source": [
    "plt.figure(figsize=(10, 7))\n",
    "\n",
    "plt.plot(xs_base, ys_base, 'black')\n",
    "plt.plot(xs_xlearner, ys_xlearner, 'red')\n",
    "plt.plot(xs_perfect, ys_perfect, 'green')\n",
    "\n",
    "plt.fill_between(xs_xlearner, ys_base, ys_xlearner, alpha=0.5, color='orange')\n",
    "\n",
    "plt.xlabel('Cumulative percentage of people in T/C groups')\n",
    "plt.ylabel('Uplift metric (%s)'.format(UPLIFT_METRIC))\n",
    "plt.grid()\n",
    "plt.legend(['Baseline', 'XLearner', 'Perfect']);"
   ]
  },
  {
   "cell_type": "markdown",
   "metadata": {},
   "source": [
    "### Uplift TOP-K"
   ]
  },
  {
   "cell_type": "code",
   "execution_count": 29,
   "metadata": {},
   "outputs": [
    {
     "data": {
      "image/png": "[encoded data removed]",
      "text/plain": [
       "<Figure size 720x504 with 1 Axes>"
      ]
     },
     "metadata": {
      "needs_background": "light"
     },
     "output_type": "display_data"
    }
   ],
   "source": [
    "tops = np.arange(5, 101, 5)\n",
    "\n",
    "uplift_at_tops = []\n",
    "for top in tops:\n",
    "    uat = calculate_uplift_at_top(test_target, uplift_pred, test_treatment, top=top)\n",
    "    uplift_at_tops.append(uat)\n",
    "\n",
    "plt.figure(figsize=(10, 7))\n",
    "\n",
    "plt.plot(tops, uplift_at_tops, marker='.')\n",
    "\n",
    "plt.legend(['Uplift_At_K'])\n",
    "plt.xticks(np.arange(0, 101, 10))\n",
    "plt.grid()"
   ]
  },
  {
   "cell_type": "markdown",
   "metadata": {},
   "source": [
    "### Custom metric"
   ]
  },
  {
   "cell_type": "code",
   "execution_count": 30,
   "metadata": {},
   "outputs": [
    {
     "name": "stdout",
     "output_type": "stream",
     "text": [
      "Metric = 0.05238574020765164\n"
     ]
    }
   ],
   "source": [
    "# Custom metric can be used in AutoUplift\n",
    "# There msut be a function's signature:\n",
    "# def custom_metric(target, uplift_pred, treatment) -> float:\n",
    "\n",
    "\n",
    "class CustomUpliftMetric(TUpliftMetric):\n",
    "    def __call__(self, target: np.ndarray, uplift_pred: np.ndarray, treatment: np.ndarray) -> float:\n",
    "        up_10 = calculate_uplift_at_top(target, uplift_pred, treatment, 10)\n",
    "        up_20 = calculate_uplift_at_top(target, uplift_pred, treatment, 20)\n",
    "    \n",
    "        return 0.5 * (up_10 + up_20)\n",
    "\n",
    "\n",
    "metric = CustomUpliftMetric()\n",
    "metric_value = metric(test_target, uplift_pred, test_treatment)\n",
    "\n",
    "print(\"Metric = {}\".format(metric_value))"
   ]
  },
  {
   "cell_type": "markdown",
   "metadata": {},
   "source": [
    "## Report"
   ]
  },
  {
   "cell_type": "code",
   "execution_count": 31,
   "metadata": {
    "scrolled": true
   },
   "outputs": [
    {
     "name": "stderr",
     "output_type": "stream",
     "text": [
      "/home/sasha/workspace/sber_ai_lab/LightAutoML/.venv/lib/python3.7/site-packages/pandas/core/frame.py:4174: SettingWithCopyWarning: \n",
      "A value is trying to be set on a copy of a slice from a DataFrame\n",
      "\n",
      "See the caveats in the documentation: https://pandas.pydata.org/pandas-docs/stable/user_guide/indexing.html#returning-a-view-versus-a-copy\n",
      "  errors=errors,\n",
      "/home/sasha/workspace/sber_ai_lab/LightAutoML/.venv/lib/python3.7/site-packages/pandas/core/frame.py:4174: SettingWithCopyWarning: \n",
      "A value is trying to be set on a copy of a slice from a DataFrame\n",
      "\n",
      "See the caveats in the documentation: https://pandas.pydata.org/pandas-docs/stable/user_guide/indexing.html#returning-a-view-versus-a-copy\n",
      "  errors=errors,\n"
     ]
    },
    {
     "name": "stdout",
     "output_type": "stream",
     "text": [
      "CPU times: user 28.1 s, sys: 288 ms, total: 28.4 s\n",
      "Wall time: 15.3 s\n"
     ]
    }
   ],
   "source": [
    "%%time\n",
    "\n",
    "RDU = ReportDecoUplift()\n",
    "tlearner_deco = RDU(metalearners.TLearner(base_task=Task('binary')))\n",
    "tlearner_deco.fit(train, roles)\n",
    "_ = tlearner_deco.predict(test)\n",
    "\n",
    "# Path to report: PATH_TO_CURRENT_NOTEBOOK/lama_report/lama_interactive_report.html"
   ]
  }
 ],
 "metadata": {
  "interpreter": {
   "hash": "bf9424b8e3052bddf6726e3cb8e5d28a2d26679b29382f5380215b73dc612d6f"
  },
  "kernelspec": {
   "display_name": "Python 3.7.5 64-bit ('lama_venv': venv)",
   "name": "python3"
  },
  "language_info": {
   "codemirror_mode": {
    "name": "ipython",
    "version": 3
   },
   "file_extension": ".py",
   "mimetype": "text/x-python",
   "name": "python",
   "nbconvert_exporter": "python",
   "pygments_lexer": "ipython3",
   "version": "3.7.12"
  },
  "toc": {
   "base_numbering": 1,
   "nav_menu": {},
   "number_sections": true,
   "sideBar": true,
   "skip_h1_title": false,
   "title_cell": "Table of Contents",
   "title_sidebar": "Contents",
   "toc_cell": false,
   "toc_position": {
    "height": "calc(100% - 180px)",
    "left": "10px",
    "top": "150px",
    "width": "349.091px"
   },
   "toc_section_display": true,
   "toc_window_display": true
  }
 },
 "nbformat": 4,
 "nbformat_minor": 4
}
